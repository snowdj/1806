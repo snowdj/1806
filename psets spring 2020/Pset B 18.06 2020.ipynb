{
 "cells": [
  {
   "cell_type": "markdown",
   "metadata": {},
   "source": [
    "Pset B (Requires More Substantial Pset, not droppable) Due Tuesday May 12. You may use all available materials. Some collaboration allowed but do your own work. Some of these problems may require real thought and investigation rather than being straightforward."
   ]
  },
  {
   "cell_type": "markdown",
   "metadata": {},
   "source": [
    "(1) An nxn Toeplitz matrix has the form  \n",
    "$$\n",
    "M=\n",
    "\\begin{pmatrix}\n",
    "a_1 &  a_2 & a_3 & a_4  &\\ldots & a_n \\\\\n",
    "b_1 & a_1 & a_2 & a_3 & \\ldots & a_{n-1} \\\\\n",
    "b_2 & b_1  & a_1 & a_2 & \\ldots & a_{n-2}\\\\\n",
    "\\vdots & \\vdots & \\vdots  & \\vdots & \\ddots & \\vdots \\\\\n",
    "b_{n-2} & b_{n-3} & b_{n-4} & b_{n-5} & \\ldots & a_2 \\\\\n",
    "b_{n-1} & b_{n-2} & b_{n-3} & b_{n-4} & \\ldots & a_1\n",
    "\\end{pmatrix}\n",
    "$$"
   ]
  },
  {
   "cell_type": "markdown",
   "metadata": {},
   "source": [
    "(a) Explain why the nxn Toeplitz matrices form a vector space."
   ]
  },
  {
   "cell_type": "markdown",
   "metadata": {},
   "source": [
    "(b) What is the dimension of this space?"
   ]
  },
  {
   "cell_type": "markdown",
   "metadata": {},
   "source": [
    "(c) Give an example of a  linear transformation  $T$ from nxn Toeplitz matrices to nxn Toeplitz Matrices, but not one of the form $T(M)=\\alpha M$."
   ]
  },
  {
   "cell_type": "markdown",
   "metadata": {},
   "source": [
    "(d) Is the square of a Toeplitz matrix necessarily Toeplitz?"
   ]
  },
  {
   "cell_type": "markdown",
   "metadata": {},
   "source": [
    "(e) Are the symmetric Toeplitz matrices a subspace of the Toeplitz matrices?  Why or why not?"
   ]
  },
  {
   "cell_type": "code",
   "execution_count": null,
   "metadata": {},
   "outputs": [],
   "source": []
  },
  {
   "cell_type": "markdown",
   "metadata": {},
   "source": [
    "(2) Consider the nonlinear transformation $f(A) = trace(A^{-1})$ defined on $n \\times n$ matrices $A$. Find the $n $ by $n$ Jacobian matrix of $f$."
   ]
  },
  {
   "cell_type": "code",
   "execution_count": null,
   "metadata": {},
   "outputs": [],
   "source": []
  },
  {
   "cell_type": "markdown",
   "metadata": {},
   "source": [
    "(3) Consider the matrix (not the elementwise) exponential $e^A$. (True or False with explanations or counterexample.)"
   ]
  },
  {
   "cell_type": "markdown",
   "metadata": {},
   "source": [
    "(a)  The matrix exponential of a square matrix is symmetric."
   ]
  },
  {
   "cell_type": "markdown",
   "metadata": {},
   "source": [
    "(b) The matrix exponential of a symmetric matrix is positive definite."
   ]
  },
  {
   "cell_type": "markdown",
   "metadata": {},
   "source": [
    "(c) The matrix exponential of an orthogonal matrix is orthogonal."
   ]
  },
  {
   "cell_type": "markdown",
   "metadata": {},
   "source": [
    "(d) The matrix exponential of a positive definite matrix is positive definite."
   ]
  },
  {
   "cell_type": "markdown",
   "metadata": {},
   "source": [
    "(e) The matrix exponential of a diagonal matrix is diagonal."
   ]
  },
  {
   "cell_type": "code",
   "execution_count": null,
   "metadata": {},
   "outputs": [],
   "source": []
  },
  {
   "cell_type": "markdown",
   "metadata": {},
   "source": [
    "(4) Prove that a symmetric matrix has all real eigenvalues."
   ]
  },
  {
   "cell_type": "code",
   "execution_count": null,
   "metadata": {},
   "outputs": [],
   "source": []
  },
  {
   "cell_type": "markdown",
   "metadata": {},
   "source": [
    "(5) Prove directly that if a symmetric matrix has $n$ positive eigenvalues, then  $x^TSx$ is positive unless $x=0$."
   ]
  },
  {
   "cell_type": "code",
   "execution_count": null,
   "metadata": {},
   "outputs": [],
   "source": []
  },
  {
   "cell_type": "markdown",
   "metadata": {},
   "source": [
    "(6) True or False with explanation or counterexample."
   ]
  },
  {
   "cell_type": "markdown",
   "metadata": {},
   "source": [
    "(a) The singular values of any square matrix is the absolute value of the eigenvalues.\n"
   ]
  },
  {
   "cell_type": "markdown",
   "metadata": {},
   "source": [
    "(b) The number of nonzero eigenvalues of a square matrix is equal to the number of (nonzero) singular values."
   ]
  },
  {
   "cell_type": "markdown",
   "metadata": {},
   "source": [
    "(c) The eigenvalues of $A^2$ are the squares of the eigenvalues of $A$ for $A$ square."
   ]
  },
  {
   "cell_type": "markdown",
   "metadata": {},
   "source": [
    "(d) The singular values of $A^2$ are the square of the singular values of $A$ for $A$ square."
   ]
  },
  {
   "cell_type": "markdown",
   "metadata": {},
   "source": [
    "(e) The singular values of $A^{-1}$ are the reciprocals of the singular values of $A$ for $A$ invertible."
   ]
  },
  {
   "cell_type": "markdown",
   "metadata": {},
   "source": [
    "(f) A Markov matrix has a singular value equal to $1$."
   ]
  },
  {
   "cell_type": "markdown",
   "metadata": {},
   "source": [
    "(g) Every 3x3 orthogonal matrix has an eigenvalue +1 or -1."
   ]
  },
  {
   "cell_type": "markdown",
   "metadata": {},
   "source": [
    "(h) The eigenvalues of a projection matrix must be 0 or 1."
   ]
  },
  {
   "cell_type": "markdown",
   "metadata": {},
   "source": [
    "(7) A 3x3 matrix $B$ is known to have eigenvalues $0,1,2$.  This information is enough to fin three of these (give the answers when possible):"
   ]
  },
  {
   "cell_type": "markdown",
   "metadata": {},
   "source": [
    "(a) the rank of $B$  \n",
    "(b) the determinant of $B^TB$  \n",
    "(c) the eigenvalues of $B^TB$  \n",
    "(d) the eigenvalues of $(B^2+I)^{-1}$"
   ]
  },
  {
   "cell_type": "markdown",
   "metadata": {},
   "source": [
    "(8) Let $A=QΛ Q^T$ by symmetric and positive definite.  If one considers the of all $x$ such that\n",
    "$x^TAx=1$, one obtains an ellipsoid.  What are the axes and semiaxis lengths?  (This is strangely similar\n",
    "and different from the singular value situation.) (Start you investigation with maybe the diagonal case, and/or $n=2$.)"
   ]
  },
  {
   "cell_type": "markdown",
   "metadata": {},
   "source": [
    "(9) If M is 2020 x 2020, what is the determinant of $2M$ in terms of the determinant of $M$?"
   ]
  },
  {
   "cell_type": "markdown",
   "metadata": {},
   "source": [
    "(10) If $P$ is a projection matrix, what is the relationship between the rank of the matrix and its trace?"
   ]
  },
  {
   "cell_type": "code",
   "execution_count": null,
   "metadata": {},
   "outputs": [],
   "source": []
  }
 ],
 "metadata": {
  "kernelspec": {
   "display_name": "Julia 1.4.0",
   "language": "julia",
   "name": "julia-1.4"
  },
  "language_info": {
   "file_extension": ".jl",
   "mimetype": "application/julia",
   "name": "julia",
   "version": "1.4.0"
  }
 },
 "nbformat": 4,
 "nbformat_minor": 2
}
