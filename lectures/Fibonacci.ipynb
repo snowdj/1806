{
 "cells": [
  {
   "cell_type": "markdown",
   "metadata": {},
   "source": [
    "# Fibonacci recurrence\n",
    "\n",
    "The [Fibonacci numbers](https://en.wikipedia.org/wiki/Fibonacci_number) are:\n",
    "\n",
    "$$\n",
    "1,1,2,3,5,8,13,21,34,\\ldots\n",
    "$$\n",
    "\n",
    "Each number $f_n$ in the sequence is the sum of the previous two, defining the [recurrence relation](https://en.wikipedia.org/wiki/Recurrence_relation):\n",
    "\n",
    "$$\n",
    "f_n = f_{n-1} + f_{n-2}\n",
    "$$\n",
    "\n",
    "Perhaps the most obvious way to implement this in a programming language is via [recursion](https://en.wikipedia.org/wiki/Recursion_(computer_science)):"
   ]
  },
  {
   "cell_type": "code",
   "execution_count": 1,
   "metadata": {},
   "outputs": [
    {
     "data": {
      "text/plain": [
       "slowfib (generic function with 1 method)"
      ]
     },
     "execution_count": 1,
     "metadata": {},
     "output_type": "execute_result"
    }
   ],
   "source": [
    "function slowfib(n)\n",
    "    if n < 2\n",
    "        return BigInt(1) # use bigint type to support huge integers\n",
    "    else\n",
    "        return slowfib(n-1) + slowfib(n-2)\n",
    "    end\n",
    "end"
   ]
  },
  {
   "cell_type": "markdown",
   "metadata": {},
   "source": [
    "Note that there is a slight catch: we have to make sure to do our computations with the `BigInt` integer type, which implements [arbitrary precision arithmetic](https://en.wikipedia.org/wiki/Arbitrary-precision_arithmetic).  The Fibonacci numbers quickly get so big that they [overflow](https://en.wikipedia.org/wiki/Integer_overflow) the maximum representable integer using the default (fast, fixed numbrer of binary digits) hardware integer type."
   ]
  },
  {
   "cell_type": "code",
   "execution_count": 2,
   "metadata": {},
   "outputs": [
    {
     "data": {
      "text/plain": [
       "10-element Array{BigInt,1}:\n",
       "  1\n",
       "  2\n",
       "  3\n",
       "  5\n",
       "  8\n",
       " 13\n",
       " 21\n",
       " 34\n",
       " 55\n",
       " 89"
      ]
     },
     "execution_count": 2,
     "metadata": {},
     "output_type": "execute_result"
    }
   ],
   "source": [
    "[slowfib(n) for n = 1:10]"
   ]
  },
  {
   "cell_type": "markdown",
   "metadata": {},
   "source": [
    "Not that it matters for toy calculations like this, but there are much faster ways to compute Fibonacci numbers than the [recursive](https://en.wikipedia.org/wiki/Recursion) function defined above.  The [GMP library](https://en.wikipedia.org/wiki/GNU_Multiple_Precision_Arithmetic_Library) used internally by Julia for `BigInt` arithmetic actually provides an [optimized Fibonacci-calculating function `mpz_fib_ui`](https://gmplib.org/manual/Number-Theoretic-Functions.html) that we can call if we want to using the low-level [`ccall` technique](https://docs.julialang.org/en/latest/manual/calling-c-and-fortran-code.html):"
   ]
  },
  {
   "cell_type": "code",
   "execution_count": 3,
   "metadata": {},
   "outputs": [
    {
     "data": {
      "text/plain": [
       "fastfib (generic function with 1 method)"
      ]
     },
     "execution_count": 3,
     "metadata": {},
     "output_type": "execute_result"
    }
   ],
   "source": [
    "function fastfib(n)\n",
    "    z = BigInt()\n",
    "    ccall((:__gmpz_fib_ui, :libgmp), Void, (Ptr{BigInt}, Culong), &z, n)\n",
    "    return z\n",
    "end"
   ]
  },
  {
   "cell_type": "code",
   "execution_count": 4,
   "metadata": {},
   "outputs": [
    {
     "data": {
      "text/plain": [
       "100-element Array{BigInt,1}:\n",
       "                     1\n",
       "                     1\n",
       "                     2\n",
       "                     3\n",
       "                     5\n",
       "                     8\n",
       "                    13\n",
       "                    21\n",
       "                    34\n",
       "                    55\n",
       "                    89\n",
       "                   144\n",
       "                   233\n",
       "                     ⋮\n",
       "   1779979416004714189\n",
       "   2880067194370816120\n",
       "   4660046610375530309\n",
       "   7540113804746346429\n",
       "  12200160415121876738\n",
       "  19740274219868223167\n",
       "  31940434634990099905\n",
       "  51680708854858323072\n",
       "  83621143489848422977\n",
       " 135301852344706746049\n",
       " 218922995834555169026\n",
       " 354224848179261915075"
      ]
     },
     "execution_count": 4,
     "metadata": {},
     "output_type": "execute_result"
    }
   ],
   "source": [
    "[fastfib(i) for i = 1:100]"
   ]
  },
  {
   "cell_type": "markdown",
   "metadata": {},
   "source": [
    "It's about 1000x faster even for the 20th Fibonacci number.  It turns out that the recursive algorithm is pretty terrible — the [time increases exponentially with `n`](https://www.youtube.com/watch?v=pqivnzmSbq4)."
   ]
  },
  {
   "cell_type": "code",
   "execution_count": 5,
   "metadata": {},
   "outputs": [
    {
     "name": "stdout",
     "output_type": "stream",
     "text": [
      "  0.002777 seconds (164 allocations: 9.711 KB)\n",
      "  0.010294 seconds (54.73 k allocations: 1.253 MB, 70.13% gc time)\n"
     ]
    },
    {
     "data": {
      "text/plain": [
       "10946"
      ]
     },
     "execution_count": 5,
     "metadata": {},
     "output_type": "execute_result"
    }
   ],
   "source": [
    "@time fastfib(20)\n",
    "@time slowfib(20)"
   ]
  },
  {
   "cell_type": "markdown",
   "metadata": {},
   "source": [
    "# Fibonacci as matrices"
   ]
  },
  {
   "cell_type": "markdown",
   "metadata": {},
   "source": [
    "We can represent the Fibonacci recurrence as repeated multiplication by a $2 \\times 2$ matrix, since:\n",
    "\n",
    "$$\n",
    "\\begin{pmatrix} f_{n+1} \\\\ f_n \\end{pmatrix} = \n",
    "\\underbrace{\\begin{pmatrix} 1 & 1 \\\\ 1 & 0 \\end{pmatrix}}_F\n",
    "\\begin{pmatrix} f_{n} \\\\ f_{n-1} \\end{pmatrix}\n",
    "$$"
   ]
  },
  {
   "cell_type": "code",
   "execution_count": 6,
   "metadata": {},
   "outputs": [
    {
     "data": {
      "text/plain": [
       "2×2 Array{Int64,2}:\n",
       " 1  1\n",
       " 1  0"
      ]
     },
     "execution_count": 6,
     "metadata": {},
     "output_type": "execute_result"
    }
   ],
   "source": [
    "F = [1 1\n",
    "     1 0]"
   ]
  },
  {
   "cell_type": "markdown",
   "metadata": {},
   "source": [
    "So, plugging in $f_1 = 1, f_2 = 1$, then\n",
    "\n",
    "$$\n",
    "\\begin{pmatrix} f_{n+2} \\\\ f_{n+1} \\end{pmatrix} = \n",
    "F^n\n",
    "\\begin{pmatrix} 1 \\\\ 1 \\end{pmatrix}\n",
    "$$\n",
    "\n",
    "and the key to understanding $F^n$ is the eigenvalues of $F$:"
   ]
  },
  {
   "cell_type": "code",
   "execution_count": 7,
   "metadata": {},
   "outputs": [
    {
     "data": {
      "text/plain": [
       "2-element Array{Float64,1}:\n",
       " -0.618034\n",
       "  1.61803 "
      ]
     },
     "execution_count": 7,
     "metadata": {},
     "output_type": "execute_result"
    }
   ],
   "source": [
    "eigvals(F)"
   ]
  },
  {
   "cell_type": "markdown",
   "metadata": {},
   "source": [
    "Analytically, we can easily solve this $2 \\times 2$ eigenproblem to show that the eigenvalues are $(1 \\pm \\sqrt{5})/2$ (just the roots of the quadratic characteristic polynomial $\\det (F-\\lambda I) = \\lambda^2 - \\lambda - 1$):"
   ]
  },
  {
   "cell_type": "code",
   "execution_count": 8,
   "metadata": {},
   "outputs": [
    {
     "data": {
      "text/plain": [
       "1.618033988749895"
      ]
     },
     "execution_count": 8,
     "metadata": {},
     "output_type": "execute_result"
    }
   ],
   "source": [
    "(1 + √5)/2"
   ]
  },
  {
   "cell_type": "code",
   "execution_count": 9,
   "metadata": {},
   "outputs": [
    {
     "data": {
      "text/plain": [
       "-0.6180339887498949"
      ]
     },
     "execution_count": 9,
     "metadata": {},
     "output_type": "execute_result"
    }
   ],
   "source": [
    "(1 - √5)/2"
   ]
  },
  {
   "cell_type": "markdown",
   "metadata": {},
   "source": [
    "For example, to compute $f_{100}$, we can multiply $F^{98}$ by $(1,1)$ (again converting to `BigInt` using `big` first to avoid overflow):"
   ]
  },
  {
   "cell_type": "code",
   "execution_count": 10,
   "metadata": {},
   "outputs": [
    {
     "data": {
      "text/plain": [
       "2-element Array{BigInt,1}:\n",
       " 354224848179261915075\n",
       " 218922995834555169026"
      ]
     },
     "execution_count": 10,
     "metadata": {},
     "output_type": "execute_result"
    }
   ],
   "source": [
    "big(F)^98 * [1, 1]"
   ]
  },
  {
   "cell_type": "markdown",
   "metadata": {},
   "source": [
    "This matches our `fastfib` function from above:"
   ]
  },
  {
   "cell_type": "code",
   "execution_count": 11,
   "metadata": {},
   "outputs": [
    {
     "data": {
      "text/plain": [
       "354224848179261915075"
      ]
     },
     "execution_count": 11,
     "metadata": {},
     "output_type": "execute_result"
    }
   ],
   "source": [
    "fastfib(100)"
   ]
  },
  {
   "cell_type": "markdown",
   "metadata": {},
   "source": [
    "An important thing about $F^n$ is that, for large $n$, the behavior is dominated by the biggest $|\\lambda|$.   That is, for large $n$, we must have $(f_{n}, f_{n-1})$ approximately parallel to the corresponding eigenvector, and hence:\n",
    "\n",
    "$$\n",
    "\\begin{pmatrix} f_{n+1} \\\\ f_{n} \\end{pmatrix} =\n",
    "F \\begin{pmatrix} f_{n} \\\\ f_{n-1} \\end{pmatrix}\n",
    "\\approx \n",
    "\\lambda_1\n",
    "\\begin{pmatrix} f_{n} \\\\ f_{n-1} \\end{pmatrix}\n",
    "$$\n",
    "\n",
    "where $\\lambda_1 = (1 + \\sqrt{5})/2$ is the so-called [golden ratio](https://en.wikipedia.org/wiki/Golden_ratio).\n",
    "\n",
    "Let's compute the ratios of $f_{n+1}/f_{n}$ and show that they approach the golden ratio:"
   ]
  },
  {
   "cell_type": "code",
   "execution_count": 12,
   "metadata": {},
   "outputs": [
    {
     "data": {
      "text/plain": [
       "1.61803398874989484820458683436563811772030917980576286213544862270526046281891"
      ]
     },
     "execution_count": 12,
     "metadata": {},
     "output_type": "execute_result"
    }
   ],
   "source": [
    "(1 + √big(5))/2 # golden ratio computed to many digits"
   ]
  },
  {
   "cell_type": "code",
   "execution_count": 31,
   "metadata": {},
   "outputs": [
    {
     "data": {
      "image/png": "[encoded data removed]",
      "text/plain": [
       "PyPlot.Figure(PyObject <matplotlib.figure.Figure object at 0x134fab810>)"
      ]
     },
     "metadata": {},
     "output_type": "display_data"
    },
    {
     "data": {
      "text/plain": [
       "1-element Array{PyCall.PyObject,1}:\n",
       " PyObject <matplotlib.lines.Line2D object at 0x121517490>"
      ]
     },
     "execution_count": 31,
     "metadata": {},
     "output_type": "execute_result"
    }
   ],
   "source": [
    "\n",
    "v = [  fastfib(i+1)/fastfib(i) for i=1:100]\n",
    "\n",
    "plot(Int.(round.(log10.(abs.(v .- (1 + √big(5))/2)))))"
   ]
  },
  {
   "cell_type": "markdown",
   "metadata": {},
   "source": [
    "We can also plot the ratio vs. $n$:"
   ]
  },
  {
   "cell_type": "code",
   "execution_count": 11,
   "metadata": {},
   "outputs": [
    {
     "data": {
      "image/png": "[encoded data removed]",
      "text/plain": [
       "PyPlot.Figure(PyObject <matplotlib.figure.Figure object at 0x132805290>)"
      ]
     },
     "metadata": {},
     "output_type": "display_data"
    },
    {
     "data": {
      "text/plain": [
       "PyObject Text(27.4,0.5,u'$f_{n+1}/f_n$')"
      ]
     },
     "execution_count": 11,
     "metadata": {},
     "output_type": "execute_result"
    }
   ],
   "source": [
    "using PyPlot\n",
    "plot(1:10, [fastfib(n+1)/fastfib(n) for n=1:10], \"ro-\")\n",
    "plot([0,10], (1+√5)/2 * [1,1], \"k--\")\n",
    "xlabel(L\"n\")\n",
    "ylabel(L\"f_{n+1}/f_n\")"
   ]
  },
  {
   "cell_type": "markdown",
   "metadata": {},
   "source": [
    "Clearly, it converges rapidly as expected!\n",
    "\n",
    "(In fact, it converges exponentially rapidly, with the error going exponentially to zero with $n$.  We will discuss this in more detail later when discussing the **power method**.)"
   ]
  }
 ],
 "metadata": {
  "anaconda-cloud": {},
  "kernelspec": {
   "display_name": "Julia 0.6.0",
   "language": "julia",
   "name": "julia-0.6"
  },
  "language_info": {
   "file_extension": ".jl",
   "mimetype": "application/julia",
   "name": "julia",
   "version": "0.6.0"
  },
  "widgets": {
   "state": {
    "8e329874-d1fc-4e80-ad8d-1dbbd5b2474b": {
     "views": [
      {
       "cell_index": 13
      }
     ]
    }
   },
   "version": "1.2.0"
  }
 },
 "nbformat": 4,
 "nbformat_minor": 2
}
