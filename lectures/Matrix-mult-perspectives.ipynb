{
 "cells": [
  {
   "cell_type": "markdown",
   "metadata": {},
   "source": [
    "# Perspectives on matrix multiplication\n",
    "\n",
    "\n",
    "Lots of you  seem to have learned how to multiply matrices ([matrix multiplication](https://en.wikipedia.org/wiki/Matrix_multiplication)) in high school.  \n",
    "We compute the product $C=AB$ of an $m \\times n$ matrix $A$ with an $n \\times p$ matrix $B$ to produce an $m \\times p$ matrix $C$.\n",
    "\n",
    "Did you ever wonder why \"matmul\" has such a fancy definition?\n",
    "\n",
    "When we add matrices we add elements.  Why coudn't matmul be just as easy?\n",
    "\n",
    "## Compare Elementwise Multiply\n",
    "\n",
    "Of course the elementwise multiply is doable but never seems to be quite as important:\n",
    "\n",
    "(I'll bet your high school teacher never mentioned elementwise multiply!)\n"
   ]
  },
  {
   "cell_type": "code",
   "execution_count": null,
   "metadata": {
    "collapsed": true
   },
   "outputs": [],
   "source": [
    "A=[1 2\n",
    "   3 4]\n",
    "B=[1 2\n",
    "   3 4]\n",
    "@show(A.*B)    # Elementwise times is the \"dot star\"\n",
    "@show(A*B);    # Matmul is just the \"star\""
   ]
  },
  {
   "cell_type": "markdown",
   "metadata": {},
   "source": [
    "For square n x n matrices, elementwise multiply requires $n^2$ operations, while matmul requires about $2n^3$. (Think $n^2$ dot products, each requiring $n$ mults and almost $n$ adds.)"
   ]
  },
  {
   "cell_type": "markdown",
   "metadata": {},
   "source": [
    "## Raising the Abstraction\n",
    "\n",
    "Why is matmul defined this way?  We will find out later in the course when we begin to understand that a matrix represents a linear transformation, and matmul is the natural representation of the composition of transformations.  It is only then you can understand the true nature of matrix multiplication.  (Bet your high school teacher never told you that!)\n",
    "\n",
    "One of our goals in 18.06 is to sometimes stop thinking of matrices as arrays of numbers, and more as wholistic objects.\n",
    "\n",
    "Abstractly, the rules for matrix multiplication are determined once you define how to multiply matrices by vectors $Ax$, the central [linear operation](https://en.wikipedia.org/wiki/Linear_map) of 18.06, by requiring that multiplication be [associative](https://en.wikipedia.org/wiki/Associative_property).  That is, we require:\n",
    "$$\n",
    "A(Bx)=(AB)x\n",
    "$$\n",
    "for all matrices $A$ and $B$ and all vectors $x$.  The expression $A(Bx)$ involves only matrix × vector (computing $y=Bx$ then $Ay$), and requiring this to equal $(AB)x$ actually uniquely defines the matrix–matrix product $AB$."
   ]
  },
  {
   "cell_type": "markdown",
   "metadata": {},
   "source": [
    "## Perspective 1 (high school!): rows × columns\n",
    "\n",
    "The  most familar definition is that you take **dot products of rows of A with columns of B** to get the product $C$.  For example:\n",
    "$$\n",
    "\\begin{pmatrix}\n",
    " -14 &   5 & 10 \\\\\n",
    "  \\color{red}{-5} & -20 & 10 \\\\\n",
    "  -6 &  10 &  6\n",
    "\\end{pmatrix} =\n",
    "\\begin{pmatrix}\n",
    " 2 & -1 & 5 \\\\\n",
    "  \\color{red}{3} &  \\color{red}{4} & \\color{red}{4} \\\\\n",
    " -4 & -2 & 0\n",
    "\\end{pmatrix}\n",
    "\\begin{pmatrix}\n",
    "\\color{red}{1}  & 0 & -2 \\\\\n",
    "  \\color{red}{1} & -5 &  1 \\\\\n",
    " \\color{red}{-3} &  0 &  3\n",
    "\\end{pmatrix}\n",
    "$$\n",
    "where we have highlighted the entry $\\color{red}{-5 = 3 \\times 1 + 4 \\times 1 + 4 \\times -3}$ (second row of $A$ ⋅ first column of $B$).\n",
    "\n",
    "This can be written out as the formula\n",
    "$$\n",
    "c_{ij} = \\sum_{k=1}^n a_{ik} b_{kj}\n",
    "$$\n",
    "in terms of the entries of the matrices, e.g. $c_{ij}$ is the entry in row $i$, column $j$ of $C$, assuming $A$ has $n$ columns and $B$ has $n$ rows.\n",
    "\n",
    "Essentially all matrix multiplications in practice are done with a version of this formula — at least, with the same operations, but often the *order* in which you multiply/add individual numbers is re-arranged.\n",
    "\n",
    "**In this notebook, we will explore several ways to *think* about these operations by re-arranging their order.**"
   ]
  },
  {
   "cell_type": "code",
   "execution_count": null,
   "metadata": {
    "collapsed": true
   },
   "outputs": [],
   "source": [
    "A = [ 2  -1  5\n",
    "      3   4  4\n",
    "     -4  -2  0]\n",
    "B = [ 1   0  -2\n",
    "      1  -5   1\n",
    "     -3   0   3]\n",
    "C = A * B"
   ]
  },
  {
   "cell_type": "code",
   "execution_count": null,
   "metadata": {
    "collapsed": true
   },
   "outputs": [],
   "source": [
    "## You can write your own little program if you want to be sure you understand the algorithm:\n",
    "\n",
    "function my_own_matmul(A,B)\n",
    "   m,n1 = size(A)\n",
    "   n2,p = size(B)\n",
    "   if n1 ≠ n2 error(\"No good, n1=$(n1) ≠ n2=$(n2)\") end\n",
    "    \n",
    "   C = [  A[i,:] ⋅ B[:,j] for i=1:m, j=1:p ]  # Matrix of dot products (explained below)\n",
    "       \n",
    "end\n",
    "        "
   ]
  },
  {
   "cell_type": "code",
   "execution_count": null,
   "metadata": {
    "collapsed": true
   },
   "outputs": [],
   "source": [
    "my_own_matmul(A,B)"
   ]
  },
  {
   "cell_type": "code",
   "execution_count": null,
   "metadata": {
    "collapsed": true
   },
   "outputs": [],
   "source": [
    "my_own_matmul( rand(3,3), rand(2,3))\n"
   ]
  },
  {
   "cell_type": "markdown",
   "metadata": {},
   "source": [
    "Because matrix multiplication is generally [not commutative](https://en.wikipedia.org/wiki/Commutative_property), $AB$ and $BA$ give *different* matrices:"
   ]
  },
  {
   "cell_type": "code",
   "execution_count": null,
   "metadata": {
    "collapsed": true
   },
   "outputs": [],
   "source": [
    "A*B - B*A"
   ]
  },
  {
   "cell_type": "markdown",
   "metadata": {},
   "source": [
    "Though sometimes it can happen to be commutative."
   ]
  },
  {
   "cell_type": "code",
   "execution_count": null,
   "metadata": {
    "collapsed": true
   },
   "outputs": [],
   "source": [
    "A*(A^2 + 2*A + inv(A)*10) "
   ]
  },
  {
   "cell_type": "code",
   "execution_count": null,
   "metadata": {
    "collapsed": true
   },
   "outputs": [],
   "source": [
    "(A^2 + 2*A + inv(A)*10)  * A"
   ]
  },
  {
   "cell_type": "markdown",
   "metadata": {},
   "source": [
    "If we want, we can compute the individual dot products in Julia too.   For example, let's compute $c_{2,1} = -5$ (the 2nd row and first column of $C$, or `C[2,1]` in Julia) by taking the dot product of the second row of $A$ with the first column of $B$.\n",
    "\n",
    "To extract rows and columns of a matrix, Julia supports a syntax for \"array slicing\" pioneered by APL.  The second row of $A$ is `A[2,:]`, and the first column of `B` is `B[:,1]`:"
   ]
  },
  {
   "cell_type": "code",
   "execution_count": null,
   "metadata": {
    "collapsed": true
   },
   "outputs": [],
   "source": [
    "A"
   ]
  },
  {
   "cell_type": "code",
   "execution_count": null,
   "metadata": {
    "collapsed": true
   },
   "outputs": [],
   "source": [
    "A[2,:] # 2nd row of A"
   ]
  },
  {
   "cell_type": "code",
   "execution_count": null,
   "metadata": {
    "collapsed": true
   },
   "outputs": [],
   "source": [
    "B"
   ]
  },
  {
   "cell_type": "code",
   "execution_count": null,
   "metadata": {
    "collapsed": true
   },
   "outputs": [],
   "source": [
    "B[:,1] # 1st column of B"
   ]
  },
  {
   "cell_type": "markdown",
   "metadata": {},
   "source": [
    "Now we can compute $c_{2,1}$ by their dot product via the `dot` function:"
   ]
  },
  {
   "cell_type": "code",
   "execution_count": null,
   "metadata": {
    "collapsed": true
   },
   "outputs": [],
   "source": [
    "dot(A[2,:], B[:,1])"
   ]
  },
  {
   "cell_type": "code",
   "execution_count": null,
   "metadata": {
    "collapsed": true
   },
   "outputs": [],
   "source": [
    "A[2,:] ⋅ B[:,1]   # type \\cdot + tab"
   ]
  },
  {
   "cell_type": "markdown",
   "metadata": {},
   "source": [
    "This matches $c_{2,1}$ from above, or `C[2,1]` in Julia:"
   ]
  },
  {
   "cell_type": "code",
   "execution_count": null,
   "metadata": {
    "collapsed": true
   },
   "outputs": [],
   "source": [
    "C[2,1]"
   ]
  },
  {
   "cell_type": "code",
   "execution_count": null,
   "metadata": {
    "collapsed": true
   },
   "outputs": [],
   "source": [
    "A[2,:]' * B[:,1]  # yet another way to get a dot product"
   ]
  },
  {
   "cell_type": "markdown",
   "metadata": {},
   "source": [
    "## The summation $$c_{ij} = \\sum_{k=1}^n a_{ik} b_{kj}$$ directly in a triple loop code"
   ]
  },
  {
   "cell_type": "code",
   "execution_count": null,
   "metadata": {
    "collapsed": true
   },
   "outputs": [],
   "source": [
    "function matmul_ijk0(A,B)\n",
    "   m,n = size(A)\n",
    "   n2,p = size(B)\n",
    "   if n≠n2 error(\"No good, n=$n ≠ n2=$(n2)\") end\n",
    "   \n",
    "   C = fill(0,m,p) # m x p \"zeros\" matrix\n",
    "    \n",
    "   for i=1:m\n",
    "     for j=1:p\n",
    "        for k=1:n\n",
    "          C[i,j] = C[i,j] + A[i,k]*B[k,j] \n",
    "            end\n",
    "        end\n",
    "    end\n",
    "    return C  \n",
    "end\n",
    "      "
   ]
  },
  {
   "cell_type": "code",
   "execution_count": null,
   "metadata": {
    "collapsed": true
   },
   "outputs": [],
   "source": [
    "matmul_ijk0(A,B)"
   ]
  },
  {
   "cell_type": "markdown",
   "metadata": {},
   "source": [
    "## You like all those indices i,j,k, (I don't always), but you hate those three \"for\" loops?"
   ]
  },
  {
   "cell_type": "code",
   "execution_count": null,
   "metadata": {
    "collapsed": true
   },
   "outputs": [],
   "source": [
    "function matmul_ijk(A,B)\n",
    "   m,n = size(A)\n",
    "   n2,p = size(B)\n",
    "   if n≠n2 error(\"No good, n=$n ≠ n2=$(n2)\") end\n",
    "   \n",
    "   C = fill(0,m,p) # m x p \"zeros\" matrix\n",
    "    \n",
    "   for i=1:m, j=1:p, k=1:n\n",
    "          C[i,j] += A[i,k]*B[k,j]   # shorthand for C[i,j] = C[i,j] + A[i,k]*B[k,j] \n",
    "   end\n",
    "    \n",
    "   return C  \n",
    "end"
   ]
  },
  {
   "cell_type": "code",
   "execution_count": null,
   "metadata": {
    "collapsed": true
   },
   "outputs": [],
   "source": [
    "matmul_ijk(A,B)"
   ]
  },
  {
   "cell_type": "markdown",
   "metadata": {},
   "source": [
    "## Perspective 2: matrix × columns\n",
    "\n",
    "$AB$ can be viewed as multiplying $A$ on the *left* by each *column* of $B$.\n",
    "\n",
    "For example, let's multiply $A$ by the first column of $B$:"
   ]
  },
  {
   "cell_type": "code",
   "execution_count": null,
   "metadata": {
    "collapsed": true
   },
   "outputs": [],
   "source": [
    "A*B"
   ]
  },
  {
   "cell_type": "code",
   "execution_count": null,
   "metadata": {
    "collapsed": true
   },
   "outputs": [],
   "source": [
    "using Interact"
   ]
  },
  {
   "cell_type": "code",
   "execution_count": null,
   "metadata": {
    "collapsed": true
   },
   "outputs": [],
   "source": [
    "@manipulate for j=1:3\n",
    "    A * B[:,j]\n",
    "end"
   ]
  },
  {
   "cell_type": "markdown",
   "metadata": {},
   "source": [
    "This is the first column of $C$!  If we do this to *all* the columns of $B$, we get $C$:"
   ]
  },
  {
   "cell_type": "code",
   "execution_count": null,
   "metadata": {
    "collapsed": true
   },
   "outputs": [],
   "source": [
    "[ A*B[:,1]  A*B[:,2]  A*B[:,3] ] == A*B"
   ]
  },
  {
   "cell_type": "code",
   "execution_count": null,
   "metadata": {
    "collapsed": true
   },
   "outputs": [],
   "source": [
    "## we could make a vector of vectors to emphasize the column view\n",
    "[A*B[:,j] for j=1:3]"
   ]
  },
  {
   "cell_type": "code",
   "execution_count": null,
   "metadata": {
    "collapsed": true
   },
   "outputs": [],
   "source": [
    "A*B"
   ]
  },
  {
   "cell_type": "code",
   "execution_count": null,
   "metadata": {
    "collapsed": true
   },
   "outputs": [],
   "source": [
    "hcat([A*B[:,j] for j=1:3]...)  # One can convert a vector of vectors to a matrix"
   ]
  },
  {
   "cell_type": "markdown",
   "metadata": {},
   "source": [
    "Equivalently, each column of $B$ specifies a [linear combination](https://en.wikipedia.org/wiki/Linear_combination) of *columns* of $A$ to produce the columns of $C$.   So, **if you want to rearrange the *columns* of a matrix, multiply it by another matrix on the *right***.\n",
    "\n",
    "For example, let's do the transformation that *flips the sign of the first column of $A$* and *swaps the second and third columns*."
   ]
  },
  {
   "cell_type": "code",
   "execution_count": null,
   "metadata": {
    "collapsed": true
   },
   "outputs": [],
   "source": [
    "A"
   ]
  },
  {
   "cell_type": "code",
   "execution_count": null,
   "metadata": {
    "collapsed": true
   },
   "outputs": [],
   "source": [
    "A * [ -1  0  0\n",
    "       0  0  1\n",
    "       0  1  0  ]"
   ]
  },
  {
   "cell_type": "markdown",
   "metadata": {},
   "source": [
    "As another example, let's swap the first two columns:"
   ]
  },
  {
   "cell_type": "code",
   "execution_count": null,
   "metadata": {
    "collapsed": true
   },
   "outputs": [],
   "source": [
    "A * [ 0 1 0\n",
    "      1 0 0\n",
    "      0 0 0 ]"
   ]
  },
  {
   "cell_type": "code",
   "execution_count": null,
   "metadata": {
    "collapsed": true
   },
   "outputs": [],
   "source": [
    "A"
   ]
  },
  {
   "cell_type": "code",
   "execution_count": null,
   "metadata": {
    "collapsed": true
   },
   "outputs": [],
   "source": [
    "function matmul_jik(A,B)\n",
    "   m,n = size(A)\n",
    "   n2,p = size(B)\n",
    "   if n≠n2 error(\"No good, n=$n ≠ n2=$(n2)\") end\n",
    "   \n",
    "   C = fill(0,m,p) # m x p \"zeros\" matrix\n",
    "    \n",
    "   for j=1:p, i=1:m, k=1:n\n",
    "          C[i,j] += A[i,k]*B[k,j]   # shorthand for C[i,j] = C[i,j] + A[i,k]*B[k,j] \n",
    "   end\n",
    "    \n",
    "  ## recognize that the i,k loop above is really just a matrix times vector\n",
    "  ## for j=1:p\n",
    "  ##   C[:,j] = A * B[:,j]\n",
    "  ## end\n",
    "    \n",
    "   return C  \n",
    "end"
   ]
  },
  {
   "cell_type": "markdown",
   "metadata": {},
   "source": [
    "A lot of students are perplexed.  They wonder how it could be legal to reorder in this way. \n",
    "It might take working through a few examples by hand to realize that from the perspective\n",
    "of C[i,j], the same sum is accumulated in the same order, but the order in which the different elements of C finish may vary. This little Julia demo may help with this understanding."
   ]
  },
  {
   "cell_type": "code",
   "execution_count": null,
   "metadata": {
    "collapsed": true
   },
   "outputs": [],
   "source": [
    "function matmul_ijk(a,b,stop)\n",
    "    step=0\n",
    "    n=size(a,1)\n",
    "    c=zeros(a)\n",
    "    for i=1:n, j=1:n, k=1:n  \n",
    "        if step==stop;  return(c); end\n",
    "        c[i,j] +=  a[i,k] * b[k,j]\n",
    "        step+=1\n",
    "    end\n",
    "    c\n",
    "end\n",
    "\n",
    "function matmul_jik(a,b,stop)\n",
    "    step=0\n",
    "    n=size(a,1)\n",
    "    c=zeros(a)\n",
    "    for j=1:n, i=1:n, k=1:n  \n",
    "        if step==stop;  return(c); end\n",
    "        c[i,j] +=  a[i,k] * b[k,j]\n",
    "        step+=1\n",
    "    end\n",
    "    c\n",
    "end\n",
    "\n",
    "function matmul_ikj(a,b,stop)\n",
    "    step=0\n",
    "    n=size(a,1)\n",
    "    c=zeros(a)\n",
    "    for i=1:n, k=1:n, j=1:n  \n",
    "        if step==stop;  return(c); end\n",
    "        c[i,j] +=  a[i,k] * b[k,j]\n",
    "        step+=1\n",
    "    end\n",
    "    c\n",
    "end\n",
    "\n",
    "function matmul_kij(a,b,stop)\n",
    "    step=0\n",
    "    n=size(a,1)\n",
    "    c=zeros(a)\n",
    "    for k=1:n, i=1:n, j=1:n  \n",
    "        if step==stop;  return(c); end\n",
    "        c[i,j] +=  a[i,k] * b[k,j]\n",
    "        step+=1\n",
    "    end\n",
    "    c\n",
    "end\n",
    "\n",
    "function matmul_jki(a,b,stop)\n",
    "    step=0\n",
    "    n=size(a,1)\n",
    "    c=zeros(a)\n",
    "    for j=1:n, k=1:n, i=1:n  \n",
    "        if step==stop;  return(c); end\n",
    "        c[i,j] +=  a[i,k] * b[k,j]\n",
    "        step+=1\n",
    "    end\n",
    "    c\n",
    "end\n",
    "\n",
    "function matmul_kji(a,b,stop)\n",
    "    step=0\n",
    "    n=size(a,1)\n",
    "    c=zeros(a)\n",
    "    for k=1:n, j=1:n, i=1:n  \n",
    "        if step==stop;  return(c); end\n",
    "        c[i,j] +=  a[i,k] * b[k,j]\n",
    "        step+=1\n",
    "    end\n",
    "    c\n",
    "end"
   ]
  },
  {
   "cell_type": "code",
   "execution_count": null,
   "metadata": {
    "collapsed": true
   },
   "outputs": [],
   "source": [
    "using Interact"
   ]
  },
  {
   "cell_type": "code",
   "execution_count": null,
   "metadata": {
    "collapsed": true
   },
   "outputs": [],
   "source": [
    "o * o"
   ]
  },
  {
   "cell_type": "code",
   "execution_count": null,
   "metadata": {
    "collapsed": true
   },
   "outputs": [],
   "source": [
    "n=5\n",
    "o=fill(1,n,n)\n",
    "@manipulate for stop=0:n^3\n",
    "    matmul_ijk(o,o,stop)\n",
    "end"
   ]
  },
  {
   "cell_type": "code",
   "execution_count": null,
   "metadata": {
    "collapsed": true
   },
   "outputs": [],
   "source": [
    "## Perhaps a more fair matmul???\n",
    "n=5\n",
    "o=fill(1,n,n)\n",
    "@manipulate for stop=0:n^3\n",
    "    matmul_kij(o,o,stop)\n",
    "end"
   ]
  },
  {
   "cell_type": "code",
   "execution_count": null,
   "metadata": {
    "collapsed": true
   },
   "outputs": [],
   "source": [
    "n=5\n",
    "o=fill(1,n,n)\n",
    "@manipulate for stop=0:n^3\n",
    "    matmul_jik(o,o,stop)\n",
    "end"
   ]
  },
  {
   "cell_type": "markdown",
   "metadata": {},
   "source": [
    "# more wholistic matrix times column view"
   ]
  },
  {
   "cell_type": "code",
   "execution_count": null,
   "metadata": {
    "collapsed": true
   },
   "outputs": [],
   "source": [
    "function matmul_jik_whole(A,B,stop)\n",
    "    step=0\n",
    "    n=size(A,1)\n",
    "    C=zeros(A)\n",
    "    for j=1:n\n",
    "        if step==stop;  return(C); end\n",
    "        C[:,j] +=  A * B[:,j]\n",
    "        step+=1\n",
    "    end\n",
    "    C\n",
    "end"
   ]
  },
  {
   "cell_type": "code",
   "execution_count": null,
   "metadata": {
    "collapsed": true
   },
   "outputs": [],
   "source": [
    "n=5\n",
    "o=fill(1,n,n)\n",
    "@manipulate for stop=0:n\n",
    "    matmul_jik_whole(o,o,stop)\n",
    "end"
   ]
  },
  {
   "cell_type": "markdown",
   "metadata": {},
   "source": [
    "## Perspective 3: rows × matrix\n",
    "\n",
    "$AB$ can be viewed as multiplying each *row* of $A$ by the matrix $B$ on the *right*.  Multiplying a [row vector](https://en.wikipedia.org/wiki/Row_and_column_vectors) by a matrix on the right produces another row vector.\n",
    "\n",
    "For example, here is the first row of $A$:"
   ]
  },
  {
   "cell_type": "code",
   "execution_count": null,
   "metadata": {
    "collapsed": true
   },
   "outputs": [],
   "source": [
    "A[1,:]"
   ]
  },
  {
   "cell_type": "markdown",
   "metadata": {},
   "source": [
    "Whoops, slicing a matrix in Julia produces a 1d array, which is interpreted as a column vector, no matter how you slice it.  We can't multiply a column vector by a matrix $B$ on the *right* — that operation is not defined in linear algebra (the dimensions don't match up).  Julia will give an error if we try it:"
   ]
  },
  {
   "cell_type": "code",
   "execution_count": null,
   "metadata": {
    "collapsed": true
   },
   "outputs": [],
   "source": [
    "A"
   ]
  },
  {
   "cell_type": "code",
   "execution_count": null,
   "metadata": {
    "collapsed": true
   },
   "outputs": [],
   "source": [
    "A[1,:] * B"
   ]
  },
  {
   "cell_type": "markdown",
   "metadata": {},
   "source": [
    "To get a row vector we must [transpose](https://en.wikipedia.org/wiki/Transpose) it.  In linear algebra, the transpose of a vector $x$ is usually denoted $x^T$.   In Julia, the transpose is `x.'`.\n",
    "\n",
    "If we omit the `.` and just write `x'` it is the [complex-conjugate of the transpose](https://en.wikipedia.org/wiki/Conjugate_transpose), sometimes called the *adjoint*, often denoted $x^H$ (in matrix textbooks), $x^*$ (in pure math), or $x^\\dagger$ (in physics).  For real-valued vectors (no complex numbers), the conjugate transpose is the same as the transpose, and correspondingly we usually just do `x'` for real vectors."
   ]
  },
  {
   "cell_type": "code",
   "execution_count": null,
   "metadata": {
    "collapsed": true
   },
   "outputs": [],
   "source": [
    "A[1,:]'"
   ]
  },
  {
   "cell_type": "markdown",
   "metadata": {},
   "source": [
    "Now, let's multiply this by $B$, which should give the first *row* of $C$:"
   ]
  },
  {
   "cell_type": "code",
   "execution_count": null,
   "metadata": {
    "collapsed": true
   },
   "outputs": [],
   "source": [
    "A[1,:]' * B"
   ]
  },
  {
   "cell_type": "markdown",
   "metadata": {},
   "source": [
    "Yup!\n",
    "\n",
    "Note that if we multiply a row vector by a matrix on the *left*, it doesn't really make sense.  Julia will give an error:"
   ]
  },
  {
   "cell_type": "code",
   "execution_count": null,
   "metadata": {
    "collapsed": true
   },
   "outputs": [],
   "source": [
    "B * A[1,:]'"
   ]
  },
  {
   "cell_type": "markdown",
   "metadata": {},
   "source": [
    "If we multiply $B$ on the right by *all* the rows of $A$, we get $C$ again:"
   ]
  },
  {
   "cell_type": "code",
   "execution_count": null,
   "metadata": {
    "collapsed": true
   },
   "outputs": [],
   "source": [
    "[ A[1,:]'*B \n",
    "  A[2,:]'*B\n",
    "  A[3,:]'*B ] == C"
   ]
  },
  {
   "cell_type": "markdown",
   "metadata": {},
   "source": [
    "Equivalently, each row of $A$ specifies a linear combination of *rows* of $B$ to produce the rows of $C$.   So, **if you want to rearrange the *rows* of a matrix, multiply it by another matrix on the *left***.\n",
    "\n",
    "For example, let's do the transformation that *adds two times the first row of $B$ to the third row, and leaves the other rows untouched*.  This is one of the steps of Gaussian elimination!"
   ]
  },
  {
   "cell_type": "code",
   "execution_count": null,
   "metadata": {
    "collapsed": true
   },
   "outputs": [],
   "source": [
    "[ 1 0 0\n",
    "  -1 1 0\n",
    "  3 0 1 ] * B"
   ]
  },
  {
   "cell_type": "code",
   "execution_count": null,
   "metadata": {
    "collapsed": true
   },
   "outputs": [],
   "source": []
  },
  {
   "cell_type": "markdown",
   "metadata": {},
   "source": [
    "## Perspective 4: columns × rows\n",
    "\n",
    "The key to this perspective is to observe:\n",
    "\n",
    "* elements in column $i$ of $A$ only multiply elements in row $j$ of $B$\n",
    "* a column times a row vector, sometimes denoted $xy^T$, is an [outer product](https://en.wikipedia.org/wiki/Outer_product) and produces a \"rank-1\" *matrix*\n",
    "\n",
    "(See [this excellent paper by Gil Strang](http://mth1007.mathappl.polymtl.ca/MultFactMatrStrang.pdf) for more on this perspective applied to linear algebra. You will be in a better position to understand this at the end of 18.06, however.)\n",
    "\n",
    "For example, here is column 1 of $A$ times row 1 of $B$:"
   ]
  },
  {
   "cell_type": "code",
   "execution_count": null,
   "metadata": {
    "collapsed": true
   },
   "outputs": [],
   "source": [
    "A[:,1] * B[1,:]'"
   ]
  },
  {
   "cell_type": "markdown",
   "metadata": {},
   "source": [
    "If we do this for all three rows and columns and add them up, we get $C$:"
   ]
  },
  {
   "cell_type": "code",
   "execution_count": null,
   "metadata": {
    "collapsed": true
   },
   "outputs": [],
   "source": [
    "A[:,1] * B[1,:]' + A[:,2] * B[2,:]' + A[:,3] * B[3,:]' == C"
   ]
  },
  {
   "cell_type": "markdown",
   "metadata": {},
   "source": [
    "So, from this perspective, we could write:\n",
    "\n",
    "$$\n",
    "AB = \\sum_{k=1}^3 (\\mbox{column } k \\mbox{ of } A) (\\mbox{row } k \\mbox{ of } B) = \\sum_{k=1}^3 A[:,k] \\, B[k,:]^T\n",
    "$$\n",
    "\n",
    "where in the last expression we have used Julia notation for slices."
   ]
  },
  {
   "cell_type": "markdown",
   "metadata": {},
   "source": [
    "## Perspective 5: submatrix blocks × blocks\n",
    "\n",
    "It turns out that all of the above are special cases of a more general rule, by which we can break up a matrix in to \"submatrix\" blocks and multiply the blocks.  Rows, columns, etc. are just blocks of different shapes."
   ]
  }
 ],
 "metadata": {
  "kernelspec": {
   "display_name": "Julia 0.6.0",
   "language": "julia",
   "name": "julia-0.6"
  },
  "language_info": {
   "file_extension": ".jl",
   "mimetype": "application/julia",
   "name": "julia",
   "version": "0.6.0"
  }
 },
 "nbformat": 4,
 "nbformat_minor": 2
}
