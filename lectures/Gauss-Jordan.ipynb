{
 "cells": [
  {
   "cell_type": "markdown",
   "metadata": {},
   "source": [
    "Gauss Jordan is an old \"hand\" algorithm for computing inverses of matrices.  It's biggest use is understanding theoretically why one can get the inverse."
   ]
  },
  {
   "cell_type": "code",
   "execution_count": 10,
   "metadata": {},
   "outputs": [
    {
     "data": {
      "text/plain": [
       "3×3 Array{Float64,2}:\n",
       " 9.0       7.0  71.0    \n",
       " 5.0       6.0  20.0    \n",
       " 2.71828  69.0   3.14159"
      ]
     },
     "execution_count": 10,
     "metadata": {},
     "output_type": "execute_result"
    }
   ],
   "source": [
    "A=[ 9 7 71\n",
    " 5 6 20\n",
    "e 69 π]"
   ]
  },
  {
   "cell_type": "code",
   "execution_count": 11,
   "metadata": {},
   "outputs": [
    {
     "data": {
      "text/plain": [
       "3×3 Array{Float64,2}:\n",
       " -0.119848     0.429418   -0.0251821 \n",
       "  0.00340378  -0.0145038   0.0154086 \n",
       "  0.028941    -0.0530033   0.00167294"
      ]
     },
     "execution_count": 11,
     "metadata": {},
     "output_type": "execute_result"
    }
   ],
   "source": [
    "inv(A)"
   ]
  },
  {
   "cell_type": "markdown",
   "metadata": {},
   "source": [
    "## step 1 : augment A with  I"
   ]
  },
  {
   "cell_type": "code",
   "execution_count": 12,
   "metadata": {},
   "outputs": [
    {
     "data": {
      "text/plain": [
       "3×6 Array{Float64,2}:\n",
       " 9.0       7.0  71.0      1.0  0.0  0.0\n",
       " 5.0       6.0  20.0      0.0  1.0  0.0\n",
       " 2.71828  69.0   3.14159  0.0  0.0  1.0"
      ]
     },
     "execution_count": 12,
     "metadata": {},
     "output_type": "execute_result"
    }
   ],
   "source": [
    "B = [ A I ]"
   ]
  },
  {
   "cell_type": "code",
   "execution_count": 13,
   "metadata": {},
   "outputs": [
    {
     "data": {
      "text/plain": [
       "3×6 Array{Float64,2}:\n",
       " 9.0       7.0       71.0       1.0       0.0  0.0\n",
       " 0.0       2.11111  -19.4444   -0.555556  1.0  0.0\n",
       " 2.71828  69.0        3.14159   0.0       0.0  1.0"
      ]
     },
     "execution_count": 13,
     "metadata": {},
     "output_type": "execute_result"
    }
   ],
   "source": [
    "# B[2,:] = B[2,:] - (5/9)*B[1,:]\n",
    "B[2,:] -=  (5/9)*B[1,:]\n",
    "B"
   ]
  },
  {
   "cell_type": "code",
   "execution_count": 14,
   "metadata": {},
   "outputs": [
    {
     "data": {
      "text/plain": [
       "3×6 Array{Float64,2}:\n",
       " 9.0   7.0       71.0      1.0       0.0  0.0\n",
       " 0.0   2.11111  -19.4444  -0.555556  1.0  0.0\n",
       " 0.0  66.8858   -18.3026  -0.302031  0.0  1.0"
      ]
     },
     "execution_count": 14,
     "metadata": {},
     "output_type": "execute_result"
    }
   ],
   "source": [
    "B[3,:] -= (e/9)*B[1,:]\n",
    "B"
   ]
  },
  {
   "cell_type": "code",
   "execution_count": 15,
   "metadata": {},
   "outputs": [
    {
     "data": {
      "text/plain": [
       "3×6 Array{Float64,2}:\n",
       " 9.0   0.0      135.474    2.84211   -3.31579  0.0\n",
       " 0.0   2.11111  -19.4444  -0.555556   1.0      0.0\n",
       " 0.0  66.8858   -18.3026  -0.302031   0.0      1.0"
      ]
     },
     "execution_count": 15,
     "metadata": {},
     "output_type": "execute_result"
    }
   ],
   "source": [
    "B[1,:] -=  (7/B[2,2]) * B[2,:]\n",
    "B"
   ]
  },
  {
   "cell_type": "code",
   "execution_count": 16,
   "metadata": {},
   "outputs": [
    {
     "data": {
      "text/plain": [
       "3×6 Array{Float64,2}:\n",
       " 9.0  0.0      135.474    2.84211    -3.31579  0.0\n",
       " 0.0  2.11111  -19.4444  -0.555556    1.0      0.0\n",
       " 0.0  0.0      597.751   17.2995    -31.6827   1.0"
      ]
     },
     "execution_count": 16,
     "metadata": {},
     "output_type": "execute_result"
    }
   ],
   "source": [
    "B[3,:] -= (B[3,2]/B[2,2])*B[2,:]\n",
    "B"
   ]
  },
  {
   "cell_type": "code",
   "execution_count": 17,
   "metadata": {},
   "outputs": [
    {
     "data": {
      "text/plain": [
       "3×6 Array{Float64,2}:\n",
       " 9.0  0.0        0.0    -1.07864       3.86476    -0.226639 \n",
       " 0.0  2.11111    0.0     0.00718577   -0.0306192   0.0325294\n",
       " 0.0  0.0      597.751  17.2995      -31.6827      1.0      "
      ]
     },
     "execution_count": 17,
     "metadata": {},
     "output_type": "execute_result"
    }
   ],
   "source": [
    "B[1,:] -= (B[1,3]/B[3,3])  * B[3,:]\n",
    "B[2,:] -= (B[2,3]/B[3,3])  * B[3,:]\n",
    "B"
   ]
  },
  {
   "cell_type": "code",
   "execution_count": 18,
   "metadata": {},
   "outputs": [
    {
     "data": {
      "text/plain": [
       "3×6 Array{Float64,2}:\n",
       " 1.0  0.0        0.0    -0.119848      0.429418   -0.0251821\n",
       " 0.0  2.11111    0.0     0.00718577   -0.0306192   0.0325294\n",
       " 0.0  0.0      597.751  17.2995      -31.6827      1.0      "
      ]
     },
     "execution_count": 18,
     "metadata": {},
     "output_type": "execute_result"
    }
   ],
   "source": [
    "B[1,:] /= B[1,1]\n",
    "B"
   ]
  },
  {
   "cell_type": "code",
   "execution_count": 19,
   "metadata": {},
   "outputs": [
    {
     "data": {
      "text/plain": [
       "6-element Array{Float64,1}:\n",
       "  0.0       \n",
       "  0.0       \n",
       "  1.0       \n",
       "  0.028941  \n",
       " -0.0530033 \n",
       "  0.00167294"
      ]
     },
     "execution_count": 19,
     "metadata": {},
     "output_type": "execute_result"
    }
   ],
   "source": [
    "B[2,:]/=B[2,2]\n",
    "B[3,:]/=B[3,3]"
   ]
  },
  {
   "cell_type": "code",
   "execution_count": 20,
   "metadata": {},
   "outputs": [
    {
     "data": {
      "text/plain": [
       "3×6 Array{Float64,2}:\n",
       " 1.0  0.0  0.0  -0.119848     0.429418   -0.0251821 \n",
       " 0.0  1.0  0.0   0.00340378  -0.0145038   0.0154086 \n",
       " 0.0  0.0  1.0   0.028941    -0.0530033   0.00167294"
      ]
     },
     "execution_count": 20,
     "metadata": {},
     "output_type": "execute_result"
    }
   ],
   "source": [
    "B"
   ]
  },
  {
   "cell_type": "code",
   "execution_count": 21,
   "metadata": {},
   "outputs": [
    {
     "data": {
      "text/plain": [
       "3×3 Array{Float64,2}:\n",
       " -0.119848     0.429418   -0.0251821 \n",
       "  0.00340378  -0.0145038   0.0154086 \n",
       "  0.028941    -0.0530033   0.00167294"
      ]
     },
     "execution_count": 21,
     "metadata": {},
     "output_type": "execute_result"
    }
   ],
   "source": [
    "inv(A)"
   ]
  },
  {
   "cell_type": "markdown",
   "metadata": {},
   "source": [
    "## Why does this work?"
   ]
  },
  {
   "cell_type": "markdown",
   "metadata": {},
   "source": [
    "    Here is what we did:\n",
    "    Diagonal*E23*E13*E32*E12*E31*E21 *[A I]\n",
    "    \n",
    "    We ended up with \n",
    "    [I SOMETHING]\n",
    "    \n",
    "    M * [A I] = [I Something]\n",
    "    [MA M] = [I Something]\n",
    "    \n",
    "    Something = M\n",
    "    MA = I  ==>\n",
    "    M must be inv(A)\n",
    "    M * [ A I] = [ I inv(A)]"
   ]
  },
  {
   "cell_type": "markdown",
   "metadata": {},
   "source": [
    "What happens in practice is we factor \n",
    "A into LU or perhaps PLU (if there are row permuations)\n",
    "        \n",
    "and then we solve Ax = (jth column of Identity) for j=1:n"
   ]
  },
  {
   "cell_type": "code",
   "execution_count": null,
   "metadata": {},
   "outputs": [],
   "source": []
  }
 ],
 "metadata": {
  "kernelspec": {
   "display_name": "Julia 0.6.0",
   "language": "julia",
   "name": "julia-0.6"
  },
  "language_info": {
   "file_extension": ".jl",
   "mimetype": "application/julia",
   "name": "julia",
   "version": "0.6.0"
  }
 },
 "nbformat": 4,
 "nbformat_minor": 2
}
