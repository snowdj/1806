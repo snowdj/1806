{
 "cells": [
  {
   "cell_type": "code",
   "execution_count": 2,
   "metadata": {},
   "outputs": [
    {
     "name": "stderr",
     "output_type": "stream",
     "text": [
      "\u001b[1m\u001b[36mINFO: \u001b[39m\u001b[22m\u001b[36mInstalling PyCall v1.16.0\n",
      "\u001b[39m\u001b[1m\u001b[36mINFO: \u001b[39m\u001b[22m\u001b[36mInstalling PyPlot v2.5.0\n",
      "\u001b[39m\u001b[1m\u001b[36mINFO: \u001b[39m\u001b[22m\u001b[36mInstalling VersionParsing v1.1.0\n",
      "\u001b[39m\u001b[1m\u001b[36mINFO: \u001b[39m\u001b[22m\u001b[36mBuilding Conda\n",
      "\u001b[39m\u001b[1m\u001b[36mINFO: \u001b[39m\u001b[22m\u001b[36mBuilding PyCall\n",
      "\u001b[39m\u001b[1m\u001b[36mInfo: \u001b[39m\u001b[22m\u001b[36mUsing the Python distribution in the Conda package by default.\n",
      "To use a different Python version, set ENV[\"PYTHON\"]=\"pythoncommand\" and re-run Pkg.build(\"PyCall\").\n",
      "\u001b[39m"
     ]
    },
    {
     "name": "stdout",
     "output_type": "stream",
     "text": [
      "Solving environment: ...working... done\n"
     ]
    },
    {
     "name": "stderr",
     "output_type": "stream",
     "text": [
      "mkl 2018.0.2########## | 100% \n",
      "mkl_random 1.0.1########## | 100% \n",
      "mkl_fft 1.0.1########## | 100% \n",
      "numpy 1.14.2########## | 100% \n",
      "libgfortran 3.0.1########## | 100% \n",
      "intel-openmp 2018.0.0#######5   |  75% "
     ]
    },
    {
     "name": "stdout",
     "output_type": "stream",
     "text": [
      "\n",
      "## Package Plan ##\n",
      "\n",
      "  environment location: /Users/edelman/.julia/v0.6/Conda/deps/usr\n",
      "\n",
      "  added / updated specs: \n",
      "    - numpy\n",
      "\n",
      "\n",
      "The following packages will be downloaded:\n",
      "\n",
      "    package                    |            build\n",
      "    ---------------------------|-----------------\n",
      "    mkl-2018.0.2               |                1       145.9 MB\n",
      "    mkl_random-1.0.1           |   py27h78cc56f_0         355 KB\n",
      "    mkl_fft-1.0.1              |   py27h917ab60_0         130 KB\n",
      "    numpy-1.14.2               |   py27ha9ae307_1         3.9 MB\n",
      "    libgfortran-3.0.1          |       h93005f0_2         495 KB\n",
      "    intel-openmp-2018.0.0      |                8         904 KB\n",
      "    ------------------------------------------------------------\n",
      "                                           Total:       151.7 MB\n",
      "\n",
      "The following NEW packages will be INSTALLED:\n",
      "\n",
      "    intel-openmp: 2018.0.0-8           \n",
      "    libgfortran:  3.0.1-h93005f0_2     \n",
      "    mkl:          2018.0.2-1           \n",
      "    mkl_fft:      1.0.1-py27h917ab60_0 \n",
      "    mkl_random:   1.0.1-py27h78cc56f_0 \n",
      "    numpy:        1.14.2-py27ha9ae307_1\n",
      "\n",
      "\n",
      "Downloading and Extracting Packages\n",
      "Preparing transaction: ...working... "
     ]
    },
    {
     "name": "stderr",
     "output_type": "stream",
     "text": [
      "\r",
      "intel-openmp 2018.0.0########## | 100% \n"
     ]
    },
    {
     "name": "stdout",
     "output_type": "stream",
     "text": [
      "done\n",
      "Verifying transaction: ...working... done\n",
      "Executing transaction: ...working... done\n"
     ]
    },
    {
     "name": "stderr",
     "output_type": "stream",
     "text": [
      "\u001b[1m\u001b[36mInfo: \u001b[39m\u001b[22m\u001b[36mPyCall is using /Users/edelman/.julia/v0.6/Conda/deps/usr/bin/python (Python 2.7.14) at /Users/edelman/.julia/v0.6/Conda/deps/usr/bin/python, libpython = /Users/edelman/.julia/v0.6/Conda/deps/usr/lib/libpython2.7\n",
      "\u001b[39m\u001b[1m\u001b[36mInfo: \u001b[39m\u001b[22m\u001b[36m/Users/edelman/.julia/v0.6/PyCall/deps/deps.jl has been updated\n",
      "\u001b[39m\u001b[1m\u001b[36mInfo: \u001b[39m\u001b[22m\u001b[36m/Users/edelman/.julia/v0.6/PyCall/deps/PYTHON has been updated\n",
      "\u001b[39m\u001b[1m\u001b[36mINFO: \u001b[39m\u001b[22m\u001b[36mPackage database updated\n",
      "\u001b[39m\u001b[1m\u001b[36mINFO: \u001b[39m\u001b[22m\u001b[36mRecompiling stale cache file /Users/edelman/.julia/lib/v0.6/PyPlot.ji for module PyPlot.\n",
      "\u001b[39m\u001b[1m\u001b[36mInfo: \u001b[39m\u001b[22m\u001b[36mInstalling matplotlib via the Conda matplotlib package...\n",
      "\u001b[39m"
     ]
    },
    {
     "name": "stdout",
     "output_type": "stream",
     "text": [
      "Solving environment: ...working... done\n"
     ]
    },
    {
     "name": "stderr",
     "output_type": "stream",
     "text": [
      "backports.functools_lru_cache 1.5########## | 100% \n",
      "matplotlib 2.2.2########## | 100% \n",
      "pyparsing 2.2.0########## | 100% \n",
      "pytz 2018.4########## | 100% \n",
      "cycler 0.10.0########## | 100% \n",
      "subprocess32 3.2.7########## | 100% \n",
      "kiwisolver 1.0.1########## | 100% \n",
      "freetype 2.8#######5   |  75% "
     ]
    },
    {
     "name": "stdout",
     "output_type": "stream",
     "text": [
      "\n",
      "## Package Plan ##\n",
      "\n",
      "  environment location: /Users/edelman/.julia/v0.6/Conda/deps/usr\n",
      "\n",
      "  added / updated specs: \n",
      "    - matplotlib\n",
      "\n",
      "\n",
      "The following packages will be downloaded:\n",
      "\n",
      "    package                    |            build\n",
      "    ---------------------------|-----------------\n",
      "    backports.functools_lru_cache-1.5|           py27_1           9 KB\n",
      "    matplotlib-2.2.2           |   py27ha7267d0_0         6.5 MB\n",
      "    pyparsing-2.2.0            |   py27h5bb6aaf_0          94 KB\n",
      "    pytz-2018.4                |           py27_0         211 KB\n",
      "    cycler-0.10.0              |   py27hfc73c78_0          13 KB\n",
      "    subprocess32-3.2.7         |   py27h24b2887_0          38 KB\n",
      "    kiwisolver-1.0.1           |   py27h9856860_0          57 KB\n",
      "    freetype-2.8               |       h12048fb_1         840 KB\n",
      "    ------------------------------------------------------------\n",
      "                                           Total:         7.7 MB\n",
      "\n",
      "The following NEW packages will be INSTALLED:\n",
      "\n",
      "    backports.functools_lru_cache: 1.5-py27_1           \n",
      "    cycler:                        0.10.0-py27hfc73c78_0\n",
      "    freetype:                      2.8-h12048fb_1       \n",
      "    kiwisolver:                    1.0.1-py27h9856860_0 \n",
      "    matplotlib:                    2.2.2-py27ha7267d0_0 \n",
      "    pyparsing:                     2.2.0-py27h5bb6aaf_0 \n",
      "    pytz:                          2018.4-py27_0        \n",
      "    subprocess32:                  3.2.7-py27h24b2887_0 \n",
      "\n",
      "\n",
      "Downloading and Extracting Packages\n",
      "Preparing transaction: ...working... "
     ]
    },
    {
     "name": "stderr",
     "output_type": "stream",
     "text": [
      "\r",
      "freetype 2.8########## | 100% \n"
     ]
    },
    {
     "name": "stdout",
     "output_type": "stream",
     "text": [
      "done\n",
      "Verifying transaction: ...working... done\n",
      "Executing transaction: ...working... done\n"
     ]
    }
   ],
   "source": [
    "Pkg.add(\"PyPlot\")\n",
    "using PyPlot"
   ]
  },
  {
   "cell_type": "markdown",
   "metadata": {},
   "source": [
    "# Mean and variance\n",
    "\n",
    "Suppose we have a black box (a **distribution**) that generates data points $x_k$ (**samples**) $k = 1,\\ldots,$.   If we have $n$ data points, the **sample mean m** is simply the average:\n",
    "\n",
    "$$\n",
    "m = \\frac{1}{n}\\sum_{k=1}^n x_k\n",
    "$$\n",
    "\n",
    "In the limit $n \\to \\infty$, we get the mean μ of the underlying distribution from which the samples are generated.\n",
    "\n",
    "The **sample variance S²** is the mean-square deviation from the mean:\n",
    "\n",
    "$$\n",
    "\\operatorname{Var}(x) = S^2 = \\frac{1}{n-1}\\sum_{k=1}^\\infty (x_k - m)^2\n",
    "$$\n",
    "\n",
    "where the denominator $n-1$ is [Bessel's correction](https://en.wikipedia.org/wiki/Bessel%27s_correction).  The limit $n\\to\\infty$ of the sample variance gives $\\sigma^2$, the variance of the underlying distribution, and by using $n-1$ instead of $n$ in the denominator it turns out that we get a better estimate of $\\sigma^2$ when $n$ is not huge.\n",
    "\n",
    "For example, the `randn()` function in Julia draws samples from a [normal distribution](https://en.wikipedia.org/wiki/Normal_distribution): a Gaussian or \"bell curve\" with mean zero and variance 1:"
   ]
  },
  {
   "cell_type": "code",
   "execution_count": 3,
   "metadata": {},
   "outputs": [
    {
     "data": {
      "image/png": "[encoded data removed]",
      "text/plain": [
       "PyPlot.Figure(PyObject <Figure size 640x480 with 1 Axes>)"
      ]
     },
     "metadata": {},
     "output_type": "display_data"
    }
   ],
   "source": [
    "x = randn(100) # 100 gaussian random numbers:\n",
    "plot(x, zeros(x),\"r.\")\n",
    "grid()"
   ]
  },
  {
   "cell_type": "markdown",
   "metadata": {},
   "source": [
    "It is more informative to plot a [histogram](https://en.wikipedia.org/wiki/Histogram):"
   ]
  },
  {
   "cell_type": "code",
   "execution_count": 4,
   "metadata": {},
   "outputs": [
    {
     "data": {
      "image/png": "[encoded data removed]",
      "text/plain": [
       "PyPlot.Figure(PyObject <Figure size 640x480 with 1 Axes>)"
      ]
     },
     "metadata": {},
     "output_type": "display_data"
    }
   ],
   "source": [
    "x = randn(10000)\n",
    "plt[:hist](x, bins=100);"
   ]
  },
  {
   "cell_type": "markdown",
   "metadata": {},
   "source": [
    "The mean is the **center** of this peak and the square root $S$ of the variance is a measure of the **width** of this peak.\n",
    "\n",
    "The mean of those 10000 samples is a pretty good estimate for the true mean (= 0) of the underlying normal distribution:"
   ]
  },
  {
   "cell_type": "code",
   "execution_count": 5,
   "metadata": {},
   "outputs": [
    {
     "data": {
      "text/plain": [
       "0.0008829594511173966"
      ]
     },
     "execution_count": 5,
     "metadata": {},
     "output_type": "execute_result"
    }
   ],
   "source": [
    "mean(x)"
   ]
  },
  {
   "cell_type": "markdown",
   "metadata": {},
   "source": [
    "The sample variance is:"
   ]
  },
  {
   "cell_type": "code",
   "execution_count": 6,
   "metadata": {},
   "outputs": [
    {
     "data": {
      "text/plain": [
       "1.019680195140749"
      ]
     },
     "execution_count": 6,
     "metadata": {},
     "output_type": "execute_result"
    }
   ],
   "source": [
    "sum((x.-mean(x)).^2)/(length(x)-1)"
   ]
  },
  {
   "cell_type": "markdown",
   "metadata": {},
   "source": [
    "Or (equivalently but more efficient) the built-in function `var`:"
   ]
  },
  {
   "cell_type": "code",
   "execution_count": 7,
   "metadata": {},
   "outputs": [
    {
     "data": {
      "text/plain": [
       "1.019680195140749"
      ]
     },
     "execution_count": 7,
     "metadata": {},
     "output_type": "execute_result"
    }
   ],
   "source": [
    "var(x)"
   ]
  },
  {
   "cell_type": "markdown",
   "metadata": {},
   "source": [
    "which is a pretty good estimate for the true variance (= 1).\n",
    "\n",
    "If we looked at more points, we would get better estimates:"
   ]
  },
  {
   "cell_type": "code",
   "execution_count": 8,
   "metadata": {},
   "outputs": [
    {
     "data": {
      "text/plain": [
       "(-0.00033130398151077914, 0.9996879670799244)"
      ]
     },
     "execution_count": 8,
     "metadata": {},
     "output_type": "execute_result"
    }
   ],
   "source": [
    "xbig = randn(10^7)\n",
    "mean(xbig), var(xbig)"
   ]
  },
  {
   "cell_type": "markdown",
   "metadata": {},
   "source": [
    "## Mean and variance in linear algebra\n",
    "\n",
    "If we define the vector $o = (1,1,\\ldots)$ to be the vector of $n$ 1's, with $o^T o = n$, then the mean of $x$ is:\n",
    "\n",
    "$$\n",
    "m = \\frac{o^T x}{o^T o}\n",
    "$$\n",
    "\n",
    "which is simply the coefficient in the **projection $o\\frac{o^Tx}{o^To} = om$ of x onto the line spanned by o**.   And the sample variance is\n",
    "\n",
    "$$\n",
    "\\operatorname{Var}(x) = \\frac{\\Vert x - m o \\Vert^2}{n-1} = \\frac{\\left\\Vert \\left(I - \\frac{o o^T}{o^T o} \\right) x \\right\\Vert^2}{n-1}\n",
    "$$\n",
    "\n",
    "is the **length² of the projection of x orthogonal to o** divided by $n-1$.\n",
    "\n",
    "In fact, the $n-1$ denominator is closely related to the fact that this orthogonal projection \"lives\" in an $n-1$ dimensional space: after you subtract off the mean, there are only $n-1$ degrees of freedom left.   (This is just a handwaving argument; for more careful derivations of this denominator, see e.g. [Bessel's correction](https://en.wikipedia.org/wiki/Bessel%27s_correction) on Wikipedia.)"
   ]
  },
  {
   "cell_type": "markdown",
   "metadata": {},
   "source": [
    "# More on Bessel's Correction"
   ]
  },
  {
   "cell_type": "code",
   "execution_count": 2,
   "metadata": {},
   "outputs": [
    {
     "data": {
      "text/plain": [
       "4×4 Array{Float64,2}:\n",
       "  0.75  -0.25  -0.25  -0.25\n",
       " -0.25   0.75  -0.25  -0.25\n",
       " -0.25  -0.25   0.75  -0.25\n",
       " -0.25  -0.25  -0.25   0.75"
      ]
     },
     "execution_count": 2,
     "metadata": {},
     "output_type": "execute_result"
    }
   ],
   "source": [
    "n=4\n",
    "P = eye(n).-1/n"
   ]
  },
  {
   "cell_type": "code",
   "execution_count": 5,
   "metadata": {},
   "outputs": [
    {
     "data": {
      "text/plain": [
       "4-element Array{Float64,1}:\n",
       " -0.0436791\n",
       "  0.441689 \n",
       " -0.143107 \n",
       " -0.254904 "
      ]
     },
     "execution_count": 5,
     "metadata": {},
     "output_type": "execute_result"
    }
   ],
   "source": [
    "x = randn(n)\n",
    "y = P * x"
   ]
  },
  {
   "cell_type": "markdown",
   "metadata": {},
   "source": [
    "is the same distribution as"
   ]
  },
  {
   "cell_type": "code",
   "execution_count": 12,
   "metadata": {},
   "outputs": [
    {
     "data": {
      "text/plain": [
       "4-element Array{Float64,1}:\n",
       " -1.8838  \n",
       "  0.964339\n",
       "  0.654739\n",
       "  0.264725"
      ]
     },
     "execution_count": 12,
     "metadata": {},
     "output_type": "execute_result"
    }
   ],
   "source": [
    "Q = qrfact(ones(n,1))[:Q]\n",
    "y = Q[:,2:end] * randn(n-1)"
   ]
  },
  {
   "cell_type": "markdown",
   "metadata": {},
   "source": [
    "from which we see E(||y||^2)=n-1"
   ]
  },
  {
   "cell_type": "markdown",
   "metadata": {},
   "source": [
    "# Covariance and Correlation\n",
    "\n",
    "A key question in statistics is whether/how two sets of data are **correlated**.   If you have two variables $x$ and $y$, do they tend to \"move together\"?\n",
    "\n",
    "An intuitive measure for this is: **when x is greater/less than its mean, is y *also* greater/less than its mean?**   Translated into math, this leads to the **covariance**:\n",
    "\n",
    "$$\n",
    "\\operatorname{Covar}(x,y) = \\frac{1}{n-1}\\sum_{k=1}^n (x_k - \\operatorname{mean}(x)) (y_k - \\operatorname{mean}(y)) = \\frac{(Px)^T (Py)}{n-1} = \\frac{x^T P y}{n-1}\n",
    "$$\n",
    "\n",
    "where $P = I - \\frac{oo^T}{o^T o}$ is the projection operator from above that subtracts the mean from a vector (i.e. it projects vectors onto the subspace of vectors with zero mean).  (In the last step we used the facts that $P^T = P$ and $P^2 = P$.)"
   ]
  },
  {
   "cell_type": "markdown",
   "metadata": {},
   "source": [
    "For example, here are plots of two very correlated vectors x and y of data and a third data set z that is just independent random numbrers"
   ]
  },
  {
   "cell_type": "code",
   "execution_count": 8,
   "metadata": {},
   "outputs": [
    {
     "data": {
      "image/png": "[encoded data removed]",
      "text/plain": [
       "PyPlot.Figure(PyObject <matplotlib.figure.Figure object at 0x1386bcb50>)"
      ]
     },
     "metadata": {},
     "output_type": "display_data"
    },
    {
     "data": {
      "text/plain": [
       "PyObject <matplotlib.legend.Legend object at 0x11a9cd390>"
      ]
     },
     "execution_count": 8,
     "metadata": {},
     "output_type": "execute_result"
    }
   ],
   "source": [
    "x = sin.(linspace(0,4π,100) .+ randn(100)*0.1) .* (1 .+ 0.3*randn(100))\n",
    "y = sin.(linspace(0,4π,100) .+ randn(100)*0.1) .* (1 .+ 0.3*randn(100))\n",
    "z = randn(100)\n",
    "plot(x, \"b.-\")\n",
    "plot(y, \"r.-\")\n",
    "plot(z, \"g.-\")\n",
    "legend([\"x\",\"y\",\"z\"])"
   ]
  },
  {
   "cell_type": "markdown",
   "metadata": {},
   "source": [
    "All three have mean nearly zero:"
   ]
  },
  {
   "cell_type": "code",
   "execution_count": 9,
   "metadata": {},
   "outputs": [
    {
     "data": {
      "text/plain": [
       "(0.013040111712870606, 0.023757834395212032, -0.00869840849076276)"
      ]
     },
     "execution_count": 9,
     "metadata": {},
     "output_type": "execute_result"
    }
   ],
   "source": [
    "mean(x),mean(y),mean(z)"
   ]
  },
  {
   "cell_type": "markdown",
   "metadata": {},
   "source": [
    "But the covariance of x and y is totally different from the covariance of x and z:"
   ]
  },
  {
   "cell_type": "code",
   "execution_count": 10,
   "metadata": {},
   "outputs": [
    {
     "data": {
      "text/plain": [
       "covar (generic function with 1 method)"
      ]
     },
     "execution_count": 10,
     "metadata": {},
     "output_type": "execute_result"
    }
   ],
   "source": [
    "# A simple covariance function.  See https://github.com/JuliaStats/StatsBase.jl for\n",
    "# better statistical functions in Julia.\n",
    "covar(x,y) = dot(x .- mean(x), y .- mean(y)) / (length(x) - 1)"
   ]
  },
  {
   "cell_type": "code",
   "execution_count": 11,
   "metadata": {},
   "outputs": [
    {
     "data": {
      "text/plain": [
       "(0.507129185295783, 0.08801417892608565)"
      ]
     },
     "execution_count": 11,
     "metadata": {},
     "output_type": "execute_result"
    }
   ],
   "source": [
    "covar(x,y), covar(x,z)"
   ]
  },
  {
   "cell_type": "markdown",
   "metadata": {},
   "source": [
    "The variance and covariance have the units of the data squared.  I can make the covariance of x and y smaller simply by dividing y by 10, which doesn't see like a good measure of how correlated they are.\n",
    "\n",
    "Often, it is nicer to work with a dimensionless quantity *independent* of the vector lengths, the **correlation**:\n",
    "\n",
    "$$\n",
    "\\operatorname{Cor}(x,y) = \\frac{\\operatorname{Covar}(x,y)}{\\sqrt{\\operatorname{Var}(x)  \\operatorname{Var}(y)}} = \\frac{(Px)^T (Py)}{\\Vert Px \\Vert \\; \\Vert Py \\Vert}\n",
    "$$\n",
    "\n",
    "This is just the dot product of the vectors (after subtracting their means) divided by their lengths.\n",
    "\n",
    "It turns out that Julia has a built-in function `cor` that compute precisely this:"
   ]
  },
  {
   "cell_type": "code",
   "execution_count": 12,
   "metadata": {},
   "outputs": [
    {
     "data": {
      "text/plain": [
       "0.9250303845252711"
      ]
     },
     "execution_count": 12,
     "metadata": {},
     "output_type": "execute_result"
    }
   ],
   "source": [
    "covar(x,y) / sqrt(covar(x,x) * covar(y,y)) # correlation, manually computed"
   ]
  },
  {
   "cell_type": "code",
   "execution_count": 13,
   "metadata": {},
   "outputs": [
    {
     "data": {
      "text/plain": [
       "0.9250303845252712"
      ]
     },
     "execution_count": 13,
     "metadata": {},
     "output_type": "execute_result"
    }
   ],
   "source": [
    "cor(x,y)"
   ]
  },
  {
   "cell_type": "code",
   "execution_count": 14,
   "metadata": {},
   "outputs": [
    {
     "data": {
      "text/plain": [
       "0.12279755330665447"
      ]
     },
     "execution_count": 14,
     "metadata": {},
     "output_type": "execute_result"
    }
   ],
   "source": [
    "cor(x,z)"
   ]
  },
  {
   "cell_type": "code",
   "execution_count": 15,
   "metadata": {},
   "outputs": [
    {
     "data": {
      "text/plain": [
       "7.532970809404093"
      ]
     },
     "execution_count": 15,
     "metadata": {},
     "output_type": "execute_result"
    }
   ],
   "source": [
    "abs(cor(x,y)/cor(x,z))"
   ]
  },
  {
   "cell_type": "markdown",
   "metadata": {},
   "source": [
    "Now that we've scaled out the overall length of the vectors, we can sensibly compare the correlation of x,y with the correlation of x,z, and we see that the former are more than 10x the correlation of the latter in this sample"
   ]
  },
  {
   "cell_type": "markdown",
   "metadata": {},
   "source": [
    "# The covariance and correlation matrices\n",
    "\n",
    "If we have a bunch of data sets, we might want the covariance or correlation of *every* pair of data sets.   Since these are basically dot products, asking for *all* of the dot products is the same as asking for a **matrix multiplication**.\n",
    "\n",
    "In particular, suppose that $X$ is the $m \\times n$ matrix whose **rows** are $n$ different datasets of length $n$.   First, we need to subtract off the means of each row to form a new matrix $A$:\n",
    "\n",
    "$$\n",
    "A = X P = X P^T = (PX^T)^T\n",
    "$$\n",
    "\n",
    "where $P$ is the projection matrix from above that subtracts the mean.  Multiplying by $P^T = P$ on the *right* corresponds to projecting each *row* of $X$.\n",
    "\n",
    "Given $A$, we can compute **all** of the covariances simply by computing the **covariance matrix S**\n",
    "\n",
    "$$\n",
    "S = \\frac{A A^T}{n-1}\n",
    "$$\n",
    "\n",
    "since $A A^T$ computes all of the dot products of all of the rows of $A$.  The diagonal entries of $S$ are the variances of each dataset, and the off-diagonal elements are the covariances.\n",
    "\n",
    "Alternatively, we can compute the **correlation matrix** $C = \\hat{A} \\hat{A}^T$, where $\\hat{A}$ is simply the matrix $A$ scaled so that each row has unit length.  i.e. $\\hat{A} = DA$, where $D$ is a diagonal matrix whose entries are the inverse of the length of each row, i.e. $D$ is the inverse of the diagonal entries of $AA^T$.\n",
    "\n",
    "Let's look in more detail at the two correlated vectors $x$ and $y$ from above:"
   ]
  },
  {
   "cell_type": "code",
   "execution_count": 16,
   "metadata": {},
   "outputs": [
    {
     "data": {
      "image/png": "[encoded data removed]",
      "text/plain": [
       "PyPlot.Figure(PyObject <matplotlib.figure.Figure object at 0x13bbbf750>)"
      ]
     },
     "metadata": {},
     "output_type": "display_data"
    },
    {
     "data": {
      "text/plain": [
       "PyObject <matplotlib.lines.Line2D object at 0x13bebcf50>"
      ]
     },
     "execution_count": 16,
     "metadata": {},
     "output_type": "execute_result"
    }
   ],
   "source": [
    "plot(x,y, \".\")\n",
    "xlabel(\"x\")\n",
    "ylabel(\"y\")\n",
    "axhline(0, linestyle=\"--\", color=\"k\", alpha=0.2)\n",
    "axvline(0, linestyle=\"--\", color=\"k\", alpha=0.2)"
   ]
  },
  {
   "cell_type": "markdown",
   "metadata": {},
   "source": [
    "The correlation matrix is:"
   ]
  },
  {
   "cell_type": "code",
   "execution_count": 17,
   "metadata": {},
   "outputs": [
    {
     "data": {
      "text/plain": [
       "2×100 Array{Float64,2}:\n",
       "  0.0588795  0.143958  0.622997  …  -0.312787  -0.0452121  -0.0332338\n",
       " -0.0176935  0.165568  0.233897     -0.223157  -0.202929   -0.0645328"
      ]
     },
     "execution_count": 17,
     "metadata": {},
     "output_type": "execute_result"
    }
   ],
   "source": [
    "A = [x' .- mean(x); y' .- mean(y)] # rows are x and y with means subtracted"
   ]
  },
  {
   "cell_type": "code",
   "execution_count": 18,
   "metadata": {},
   "outputs": [
    {
     "data": {
      "text/plain": [
       "2×2 Array{Float64,2}:\n",
       " 0.577009  0.507129\n",
       " 0.507129  0.520886"
      ]
     },
     "execution_count": 18,
     "metadata": {},
     "output_type": "execute_result"
    }
   ],
   "source": [
    "S = A * A' / (length(x)-1)"
   ]
  },
  {
   "cell_type": "markdown",
   "metadata": {},
   "source": [
    "In this case, since there are only two datasets, $S$ is just a $2 \\times 2$ matrix."
   ]
  },
  {
   "cell_type": "markdown",
   "metadata": {},
   "source": [
    "# PCA: diagonalizing the covariance matrix\n",
    "\n",
    "A key question in analyizing data analysis is to figure out **which variables are responsible for most of the variation in the data**.    These may not be the variables you measured, but may instead be some **linear combination of the measured variables**!\n",
    "\n",
    "Mathematically, this corresponds to **diagonalizing the covariance (or correlation) matrix**:\n",
    "\n",
    "* $S$ is real-symmetric and positive-definite (or at least semidefinite), so diagonalization $S=Q \\Lambda Q^T$ finds real, positive eigenvalues $\\lambda_k = \\sigma_k^2 \\ge 0$ and an **orthonormal basis Q of eigenvectors**.\n",
    "\n",
    "* The eigenvectors form a **coordinate system** in which the covariance matrix **S becomes diagonal**, i.e. a **coordinate system in which the variables are uncorrelated**.\n",
    "\n",
    "* The diagonal entries in this coordinate system, the eigenvalues, are the **variances of these uncorrelated components**.\n",
    "\n",
    "This process of diagonalizing the covariance matrix is called [principal component analysis](https://en.wikipedia.org/wiki/Principal_component_analysis), or **PCA**.\n",
    "\n",
    "Let's try it:"
   ]
  },
  {
   "cell_type": "code",
   "execution_count": 19,
   "metadata": {},
   "outputs": [
    {
     "data": {
      "text/plain": [
       "([0.0410425, 1.05685], [0.687296 -0.726378; -0.726378 -0.687296])"
      ]
     },
     "execution_count": 19,
     "metadata": {},
     "output_type": "execute_result"
    }
   ],
   "source": [
    "σ², Q = eig(S)"
   ]
  },
  {
   "cell_type": "markdown",
   "metadata": {},
   "source": [
    "We see that the second eigenvector is responsible for almost all of the variation in the data, because its eigenvalue (the variance $\\sigma^2$) is much larger:"
   ]
  },
  {
   "cell_type": "code",
   "execution_count": 20,
   "metadata": {},
   "outputs": [
    {
     "data": {
      "text/plain": [
       "2-element Array{Float64,1}:\n",
       " 0.0410425\n",
       " 1.05685  "
      ]
     },
     "execution_count": 20,
     "metadata": {},
     "output_type": "execute_result"
    }
   ],
   "source": [
    "σ²"
   ]
  },
  {
   "cell_type": "markdown",
   "metadata": {},
   "source": [
    "Let's plot these two eigenvectors on top of our data:"
   ]
  },
  {
   "cell_type": "code",
   "execution_count": 21,
   "metadata": {},
   "outputs": [
    {
     "data": {
      "image/png": "[encoded data removed]",
      "text/plain": [
       "PyPlot.Figure(PyObject <matplotlib.figure.Figure object at 0x13bed3110>)"
      ]
     },
     "metadata": {},
     "output_type": "display_data"
    },
    {
     "data": {
      "text/plain": [
       "(-1.5218295014216714, 1.8060824741790402, -1.6529723264011957, 1.4535587645302797)"
      ]
     },
     "execution_count": 21,
     "metadata": {},
     "output_type": "execute_result"
    }
   ],
   "source": [
    "plot(x.-mean(x),y.-mean(y), \".\")\n",
    "xlabel(\"x\")\n",
    "ylabel(\"y\")\n",
    "axhline(0, linestyle=\"--\", color=\"k\", alpha=0.2)\n",
    "axvline(0, linestyle=\"--\", color=\"k\", alpha=0.2)\n",
    "arrow(0,0, Q[:,1]..., head_width=0.1, color=\"r\")\n",
    "arrow(0,0, Q[:,2]..., head_width=0.1, color=\"r\")\n",
    "text(Q[1,1]+0.1,Q[2,1], \"q₁\", color=\"r\")\n",
    "text(Q[1,2]-0.2,Q[2,2], \"q₂\", color=\"r\")\n",
    "axis(\"equal\")"
   ]
  },
  {
   "cell_type": "markdown",
   "metadata": {},
   "source": [
    "The $q_2$ direction, corresponding to the biggest eigenvalue of the covariance matrix, is indeed the direction with the biggest variation in the data!\n",
    "\n",
    "In this case, it is along the (1,1) direction because $x$ and $y$ tend to move together.\n",
    "\n",
    "The other direction $q_1$ is the other uncorrelated (= orthogonal) direction of variation in the data.  Not much is going on in that direction.\n",
    "\n",
    "(In fact, this $q_2$ can be viewed as a kind of \"best fit\" line which the Strang book calls [perpendicular least squares](http://mathworld.wolfram.com/LeastSquaresFittingPerpendicularOffsets.html), and is also called [Deming regression](https://en.wikipedia.org/wiki/Deming_regression).)"
   ]
  },
  {
   "cell_type": "markdown",
   "metadata": {},
   "source": [
    "# PCA and the SVD\n",
    "\n",
    "Instead of forming $A A^T$ and diagonalizing that, we can equivalently (in the absence of roundoff errors) use the singular value decomposition (SVD) of $A/\\sqrt{n-1}$.  Recall the SVD\n",
    "\n",
    "$$\n",
    "\\frac{A}{\\sqrt{n-1}} = U \\Sigma V^T\n",
    "$$\n",
    "\n",
    "where $U$ and $V$ are orthogonal matrices and $\\Sigma = \\begin{pmatrix} \\sigma_1 & & \\\\ & \\sigma_2 & \\\\ & & \\ddots \\end{pmatrix}$ is a diagonal $m\\times n$ matrix of the singular values $\\sigma_k$.\n",
    "\n",
    "Then, if we compute the covariance matrix , we get:\n",
    "\n",
    "$$\n",
    "S = \\frac{A A^T}{n-1} = (U \\Sigma V^T) (U \\Sigma V^T)^T  = U \\Sigma V^T V \\Sigma^T U^T  = U \\Sigma \\Sigma^T U^T\n",
    "$$\n",
    "\n",
    "Since $\\Sigma \\Sigma^T$ is a diagonal matrix of the *squares* $\\sigma_k^2$ of the singular values $\\sigma_k$, we find:\n",
    "\n",
    "* The squares $\\sigma_k^2$ of the singular values are the variances of the uncorrelated components of the data (the eigenvalues of $S$).\n",
    "* The left singular vectors $U$ are **precisely** the orthonormal eigenvectors of $A A^T$, i.e. the uncorrelated components of the data.\n",
    "\n",
    "In practice, PCA typically uses the SVD directly rather than explicitly forming the covariance matrix $S$.  (It turns out that computing $A A^T$ explicitly exacerbates sensitivity to rounding errors and other errors in $A$.)"
   ]
  },
  {
   "cell_type": "code",
   "execution_count": 22,
   "metadata": {},
   "outputs": [
    {
     "data": {
      "text/plain": [
       "([-0.726378 -0.687296; -0.687296 0.726378], [1.02803, 0.202589], [-0.00299234 -0.0264517; -0.0213478 0.010578; … ; 0.0168459 -0.0577103; 0.00669613 -0.011923])"
      ]
     },
     "execution_count": 22,
     "metadata": {},
     "output_type": "execute_result"
    }
   ],
   "source": [
    "U, σ, V = svd(A / sqrt(length(x)-1))"
   ]
  },
  {
   "cell_type": "code",
   "execution_count": 23,
   "metadata": {},
   "outputs": [
    {
     "data": {
      "text/plain": [
       "2-element Array{Float64,1}:\n",
       " 1.05685  \n",
       " 0.0410425"
      ]
     },
     "execution_count": 23,
     "metadata": {},
     "output_type": "execute_result"
    }
   ],
   "source": [
    "σ.^2"
   ]
  },
  {
   "cell_type": "markdown",
   "metadata": {},
   "source": [
    "As promised, this is the same as the eigenvalues of $S$ from above.\n",
    "\n",
    "Conveniently, the convention for the SVD is to sort the singular values in descending order $\\sigma_1 \\ge \\sigma_2 \\ge \\cdots$.    So, the **first** singular value/vector represents *most* of the variation in the data, and so on."
   ]
  },
  {
   "cell_type": "code",
   "execution_count": 24,
   "metadata": {},
   "outputs": [
    {
     "data": {
      "text/plain": [
       "2×2 Array{Float64,2}:\n",
       " -0.726378  -0.687296\n",
       " -0.687296   0.726378"
      ]
     },
     "execution_count": 24,
     "metadata": {},
     "output_type": "execute_result"
    }
   ],
   "source": [
    "U"
   ]
  },
  {
   "cell_type": "code",
   "execution_count": 25,
   "metadata": {},
   "outputs": [
    {
     "data": {
      "image/png": "[encoded data removed]",
      "text/plain": [
       "PyPlot.Figure(PyObject <matplotlib.figure.Figure object at 0x13bedd650>)"
      ]
     },
     "metadata": {},
     "output_type": "display_data"
    },
    {
     "data": {
      "text/plain": [
       "(-1.5218295014216714, 1.8060824741790402, -1.6529723264011957, 1.4535587645302797)"
      ]
     },
     "execution_count": 25,
     "metadata": {},
     "output_type": "execute_result"
    }
   ],
   "source": [
    "plot(x.-mean(x),y.-mean(y), \".\")\n",
    "xlabel(\"x\")\n",
    "ylabel(\"y\")\n",
    "axhline(0, linestyle=\"--\", color=\"k\", alpha=0.2)\n",
    "axvline(0, linestyle=\"--\", color=\"k\", alpha=0.2)\n",
    "arrow(0,0, U[:,1]..., head_width=0.1, color=\"r\")\n",
    "arrow(0,0, U[:,2]..., head_width=0.1, color=\"r\")\n",
    "text(U[1,2]+0.1,U[2,1], \"u₁\", color=\"r\")\n",
    "text(U[1,2]+0.2,U[2,2], \"u₂\", color=\"r\")\n",
    "axis(\"equal\")"
   ]
  },
  {
   "cell_type": "code",
   "execution_count": null,
   "metadata": {},
   "outputs": [],
   "source": []
  },
  {
   "cell_type": "markdown",
   "metadata": {},
   "source": [
    "There may be an irrelevant sign flip from before (the signs of the eigenvectors and singular vectors are arbitrary), but otherwise it is the same."
   ]
  },
  {
   "cell_type": "code",
   "execution_count": 4,
   "metadata": {},
   "outputs": [
    {
     "data": {
      "text/plain": [
       "4×4 Array{Float64,2}:\n",
       " 0.5   0.5        0.5        0.5     \n",
       " 0.5  -0.833333   0.166667   0.166667\n",
       " 0.5   0.166667  -0.833333   0.166667\n",
       " 0.5   0.166667   0.166667  -0.833333"
      ]
     },
     "execution_count": 4,
     "metadata": {},
     "output_type": "execute_result"
    }
   ],
   "source": [
    "n = 4\n",
    "Q = -qrfact(ones(n,1))[:Q]"
   ]
  },
  {
   "cell_type": "code",
   "execution_count": 5,
   "metadata": {},
   "outputs": [
    {
     "data": {
      "text/plain": [
       "-0.02768044890175067"
      ]
     },
     "execution_count": 5,
     "metadata": {},
     "output_type": "execute_result"
    }
   ],
   "source": [
    "mean( randn(1000))"
   ]
  },
  {
   "cell_type": "code",
   "execution_count": 6,
   "metadata": {},
   "outputs": [
    {
     "data": {
      "text/plain": [
       "-0.01795970764891706"
      ]
     },
     "execution_count": 6,
     "metadata": {},
     "output_type": "execute_result"
    }
   ],
   "source": [
    "mean( randn(7583))"
   ]
  },
  {
   "cell_type": "code",
   "execution_count": 10,
   "metadata": {},
   "outputs": [
    {
     "name": "stdout",
     "output_type": "stream",
     "text": [
      " 12.623474 seconds (7 allocations: 7.451 GiB, 1.07% gc time)\n"
     ]
    },
    {
     "data": {
      "text/plain": [
       "4.50216960572078e-5"
      ]
     },
     "execution_count": 10,
     "metadata": {},
     "output_type": "execute_result"
    }
   ],
   "source": [
    "@time mean( randn(1_000_000_000))"
   ]
  },
  {
   "cell_type": "code",
   "execution_count": 14,
   "metadata": {},
   "outputs": [
    {
     "name": "stdout",
     "output_type": "stream",
     "text": [
      " 98.838299 seconds (4.27 k allocations: 14.901 GiB, 0.28% gc time)\n"
     ]
    },
    {
     "data": {
      "text/plain": [
       "0.9999854379129874"
      ]
     },
     "execution_count": 14,
     "metadata": {},
     "output_type": "execute_result"
    }
   ],
   "source": [
    "@time mean( randn(1_000_000_000).^2)"
   ]
  },
  {
   "cell_type": "code",
   "execution_count": 15,
   "metadata": {},
   "outputs": [
    {
     "data": {
      "text/plain": [
       "5×5 Array{Float64,2}:\n",
       "  0.8  -0.2  -0.2  -0.2  -0.2\n",
       " -0.2   0.8  -0.2  -0.2  -0.2\n",
       " -0.2  -0.2   0.8  -0.2  -0.2\n",
       " -0.2  -0.2  -0.2   0.8  -0.2\n",
       " -0.2  -0.2  -0.2  -0.2   0.8"
      ]
     },
     "execution_count": 15,
     "metadata": {},
     "output_type": "execute_result"
    }
   ],
   "source": [
    "n = 5\n",
    "P = eye(n).-1/n"
   ]
  },
  {
   "cell_type": "code",
   "execution_count": 16,
   "metadata": {},
   "outputs": [
    {
     "data": {
      "text/plain": [
       "5-element Array{Float64,1}:\n",
       " -2.0\n",
       " -1.0\n",
       "  0.0\n",
       "  1.0\n",
       "  2.0"
      ]
     },
     "execution_count": 16,
     "metadata": {},
     "output_type": "execute_result"
    }
   ],
   "source": [
    "P*[1,2,3,4,5]"
   ]
  },
  {
   "cell_type": "code",
   "execution_count": 30,
   "metadata": {},
   "outputs": [],
   "source": [
    "\n",
    "n=40\n",
    "P = eye(n) .- 1/n\n",
    "v = [  norm(P*randn(n))^2 for i=1:100000];"
   ]
  },
  {
   "cell_type": "code",
   "execution_count": 31,
   "metadata": {},
   "outputs": [
    {
     "data": {
      "text/plain": [
       "38.978599997520334"
      ]
     },
     "execution_count": 31,
     "metadata": {},
     "output_type": "execute_result"
    }
   ],
   "source": [
    "mean(v)"
   ]
  },
  {
   "cell_type": "code",
   "execution_count": null,
   "metadata": {},
   "outputs": [],
   "source": []
  }
 ],
 "metadata": {
  "anaconda-cloud": {},
  "kernelspec": {
   "display_name": "Julia 0.6.0",
   "language": "julia",
   "name": "julia-0.6"
  },
  "language_info": {
   "file_extension": ".jl",
   "mimetype": "application/julia",
   "name": "julia",
   "version": "0.6.0"
  }
 },
 "nbformat": 4,
 "nbformat_minor": 2
}
