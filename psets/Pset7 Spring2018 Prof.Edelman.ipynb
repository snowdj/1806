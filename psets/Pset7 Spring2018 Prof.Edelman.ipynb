{
 "cells": [
  {
   "cell_type": "markdown",
   "metadata": {},
   "source": [
    "Problem 1.  Suppose Q is n x n  orthogonal (meaning square with orthonormal columns) and A is n x n. What are the possible determinants |QA| in terms of |A|?"
   ]
  },
  {
   "cell_type": "markdown",
   "metadata": {},
   "source": [
    "Problem 2. Suppose Q is n x n orthgonal  and A is rectangular with n rows.  What are the possible sum of squares of all elements of QA in terms of the sum of squares of all elements in A."
   ]
  },
  {
   "cell_type": "markdown",
   "metadata": {},
   "source": [
    "Problem 3. Let A=UΣVᵀ be an SVD of a square matrix A.  What is the product of the diagonal elements of Σ in terms of A?"
   ]
  },
  {
   "cell_type": "markdown",
   "metadata": {},
   "source": [
    "Problem 4.  Let A be as in Problem 3, what is the sum of squares of the singular values in terms of A?"
   ]
  },
  {
   "cell_type": "markdown",
   "metadata": {},
   "source": [
    "Problem 5. Let A be m x n (need not be square).  What is the sum of the diagonal elements of AᵀA in terms of the singular values?  What about the sum of the diagonal elements of AAᵀ?"
   ]
  },
  {
   "cell_type": "markdown",
   "metadata": {},
   "source": [
    "Problem 6.  A Hadamard matrix H is a matrix with entries ±1 and orthogonal columns. What is the determinant of H as a function of n?"
   ]
  },
  {
   "cell_type": "markdown",
   "metadata": {},
   "source": [
    "Problem 7.  Consider the vectors x such that w ⋅ x = 0.  These vectors are in the left nullspace of w thought of as an n x 1 matrix.  Describe all vectors perpendicular to such x.  Let b be any scalar, find the distance from the hyperplane (not throught the origin)  w ⋅ x = b to the hyperplane (not through the origin) w ⋅ x = - b. (This distance is used in the terribly named and I believe hardly used machine learning approach known as Support Vector Machines.)"
   ]
  },
  {
   "cell_type": "markdown",
   "metadata": {},
   "source": [
    "Problem 8. If P is a projection matrix.  What are the possible values of |P|?"
   ]
  },
  {
   "cell_type": "markdown",
   "metadata": {},
   "source": [
    "Problem 9. Find a 3x3 matrix with entries 0 and 1 with determinant  -2,-1,0, and 1,2. (Okay to use rand(0:1,3,3) if it helps)"
   ]
  },
  {
   "cell_type": "markdown",
   "metadata": {},
   "source": [
    "Problem 10. If A is 3x3 with entries 0 and 1, if A is nonsingular, and you perform row eliminations what are the possible entries of U in PA=LU? Why can't |A| be greater than 2?"
   ]
  },
  {
   "cell_type": "markdown",
   "metadata": {},
   "source": [
    "Problem 11.  What is the pattern in the formula for the determinant of S(n) given by the Julia code below? You may see it by inspecting, but ultimately you should figure it out by math. (Based on GS Problem 21 on p. 269.)"
   ]
  },
  {
   "cell_type": "code",
   "execution_count": 42,
   "metadata": {},
   "outputs": [
    {
     "data": {
      "text/plain": [
       "S (generic function with 1 method)"
      ]
     },
     "execution_count": 42,
     "metadata": {},
     "output_type": "execute_result"
    }
   ],
   "source": [
    "S(n) = SymTridiagonal( 3*ones(Int,n), ones(Int,n-1))"
   ]
  },
  {
   "cell_type": "code",
   "execution_count": 43,
   "metadata": {},
   "outputs": [
    {
     "data": {
      "text/plain": [
       "5×5 SymTridiagonal{Int64}:\n",
       " 3  1  ⋅  ⋅  ⋅\n",
       " 1  3  1  ⋅  ⋅\n",
       " ⋅  1  3  1  ⋅\n",
       " ⋅  ⋅  1  3  1\n",
       " ⋅  ⋅  ⋅  1  3"
      ]
     },
     "execution_count": 43,
     "metadata": {},
     "output_type": "execute_result"
    }
   ],
   "source": [
    "S(5)"
   ]
  },
  {
   "cell_type": "code",
   "execution_count": 44,
   "metadata": {},
   "outputs": [
    {
     "data": {
      "text/plain": [
       "6-element Array{Int64,1}:\n",
       "   3\n",
       "   8\n",
       "  21\n",
       "  55\n",
       " 144\n",
       " 377"
      ]
     },
     "execution_count": 44,
     "metadata": {},
     "output_type": "execute_result"
    }
   ],
   "source": [
    "[det(S(n)) for n=1:6]"
   ]
  },
  {
   "cell_type": "markdown",
   "metadata": {},
   "source": [
    "GS p287, Challenge Problem 39. <br>\n",
    "Problem 12. If you know all 16 cofactors of a 4x4 invertible matrix A, how would you find A?"
   ]
  },
  {
   "cell_type": "markdown",
   "metadata": {},
   "source": [
    "Problem 13.  Explain the pattern for det(M(n)) (the determinant of a cycle) given by the Julia Code Below.\n",
    "What is M(n)^n?"
   ]
  },
  {
   "cell_type": "code",
   "execution_count": 102,
   "metadata": {},
   "outputs": [
    {
     "data": {
      "text/plain": [
       "M (generic function with 1 method)"
      ]
     },
     "execution_count": 102,
     "metadata": {},
     "output_type": "execute_result"
    }
   ],
   "source": [
    "M(n) = eye(Int,n)[:,[2:n;1]]"
   ]
  },
  {
   "cell_type": "code",
   "execution_count": 104,
   "metadata": {},
   "outputs": [
    {
     "data": {
      "text/plain": [
       "3×3 Array{Int64,2}:\n",
       " 0  0  1\n",
       " 1  0  0\n",
       " 0  1  0"
      ]
     },
     "execution_count": 104,
     "metadata": {},
     "output_type": "execute_result"
    }
   ],
   "source": [
    "M(3)"
   ]
  },
  {
   "cell_type": "code",
   "execution_count": 105,
   "metadata": {},
   "outputs": [
    {
     "data": {
      "text/plain": [
       "4×4 Array{Int64,2}:\n",
       " 0  0  0  1\n",
       " 1  0  0  0\n",
       " 0  1  0  0\n",
       " 0  0  1  0"
      ]
     },
     "execution_count": 105,
     "metadata": {},
     "output_type": "execute_result"
    }
   ],
   "source": [
    "M(4)"
   ]
  },
  {
   "cell_type": "code",
   "execution_count": 106,
   "metadata": {},
   "outputs": [
    {
     "data": {
      "text/plain": [
       "5-element Array{Float64,1}:\n",
       "  1.0\n",
       " -1.0\n",
       "  1.0\n",
       " -1.0\n",
       "  1.0"
      ]
     },
     "execution_count": 106,
     "metadata": {},
     "output_type": "execute_result"
    }
   ],
   "source": [
    "[det(M(n)) for n=1:5]"
   ]
  }
 ],
 "metadata": {
  "kernelspec": {
   "display_name": "Julia 0.6.0",
   "language": "julia",
   "name": "julia-0.6"
  },
  "language_info": {
   "file_extension": ".jl",
   "mimetype": "application/julia",
   "name": "julia",
   "version": "0.6.0"
  }
 },
 "nbformat": 4,
 "nbformat_minor": 2
}
