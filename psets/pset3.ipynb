{
 "cells": [
  {
   "cell_type": "markdown",
   "metadata": {},
   "source": [
    "# 18.06 pset 3\n",
    "\n",
    "Due 10:55am on Wed. 9/26.  Exam 1 (Friday 9/28) covers material from pset 1–pset 3; see the [course website](https://github.com/stevengj/1806/blob/master/summaries.md#exam-1-friday-sep-28-11am-in-54-100) for more information and practice problems."
   ]
  },
  {
   "cell_type": "markdown",
   "metadata": {},
   "source": [
    "## Problem 1 (12 points)\n",
    "\n",
    "Which of the following sets are vectors spaces (with the usual definition of $\\pm$ and multiplication by real scalars), and why?\n",
    "\n",
    "1. The set of all functions $f(x)$ whose integral $\\int_{-\\infty}^\\infty f(x) dx$ is zero\n",
    "2. Given a subspace $V$ of $\\mathbb{R}^n$ and an $m\\times n$ matrix $A$, the set of all vectors $Ax$ for all $x\\in V$.\n",
    "3. The set of 3-component vectors whose components sum to 1.\n",
    "4. The set of 2-component vectors whose components have product 0.\n",
    "5. The union of two subspaces $S$ and $T$: all vectors that are in *either* $S$ or $T$.\n",
    "6. The intersection of two subspaces $S$ and $T$: all vectors that are in *both* $S$ and $T$."
   ]
  },
  {
   "cell_type": "markdown",
   "metadata": {},
   "source": [
    "## Problem 2 (5 points)\n",
    "\n",
    "If $C(B)$ is a subspace of $N(A)$ for $3\\times 3$ matrices $A$ and $B$, then $AB$ must be what?"
   ]
  },
  {
   "cell_type": "markdown",
   "metadata": {},
   "source": [
    "## ~~Problem 3 (10 points)~~\n",
    "\n",
    "~~Come up with a matrix $A$ and a vector $b \\ne 0$ such that the solutions of $Ax=b$ form a line in $\\mathbb{R}^3$, and all of the entries of $A$ are nonzero.  Find all solutions $x$.~~"
   ]
  },
  {
   "cell_type": "markdown",
   "metadata": {},
   "source": [
    "## Problem 4 (6+4 points)\n",
    "\n",
    "Consider the vector space $V$ of infinitely differentiable real-valued functions $f(x)$ on the real line $x\\in \\mathbb{R}$ (this vector space is commonly called \"$C^\\infty$\").   The analogue of a \"matrix\" acting on such a space is a *linear operator* $\\hat{A}$, which satisfies $\\hat{A}(\\alpha f + \\beta g) = \\alpha \\hat{A} f + \\beta \\hat{A} g$ for any functions $f$ and $g$ in $V$ and any scalars $\\alpha$ and $\\beta$.\n",
    "\n",
    "One example of such a linear operator on functions is a derivative.  For example $\\hat{A} = \\frac{d^2}{dx^2}$.\n",
    "\n",
    "**(a)** What is the null space $N(\\hat{A})$ foi $\\hat{A} = \\frac{d^2}{dx^2}$, defined the same way as we did for matrices?\n",
    "\n",
    "**(b)** If the differential equation $\\hat{A} u = \\frac{d^2 u}{dx^2} = b$ has a particular solution $u(x)$ for a right-hand-side $b(x)$, what does your answer from (a) tell you about the *uniqueness* (or lack thereof) of this solution?  What are the other solutions, if any?"
   ]
  },
  {
   "cell_type": "markdown",
   "metadata": {},
   "source": [
    "## Problem 5 (3+3+3+1 points)\n",
    "\n",
    "$$\n",
    "A = \\begin{pmatrix} 0 & 1 & 2 & 3 & 4 \\\\ 0 & 1 & 2 & 4 & 6 \\\\ 0 & 0 & 0 & 1 & 2 \\end{pmatrix}\n",
    "$$\n",
    "\n",
    "**(a)** Find the rref form of A.\n",
    "\n",
    "**(b)** Find the special solutions (a basis) for $N(A)$.\n",
    "\n",
    "**(c)** ~~Find a particular solution to $Ax=b$ for $b = \\begin{pmatrix} 2 \\\\ 3 \\\\ 1\\end{pmatrix}$.~~\n",
    "\n",
    "**(d)** ~~Find the *complete* solution (i.e. all solutions) to $Ax=b$ from (b).~~"
   ]
  },
  {
   "cell_type": "markdown",
   "metadata": {},
   "source": [
    "## Problem 6 (10 points)\n",
    "\n",
    "(From Strang, section 3.2, problem 30.)\n",
    "\n",
    "How is the nullspace $N(C)$ related to $N(A)$ and $N(B)$ if $C = \\begin{pmatrix} A \\\\ B \\end{pmatrix}$?  ($A$ is $m \\times n$ and $B$ is $p \\times n$.)"
   ]
  },
  {
   "cell_type": "markdown",
   "metadata": {},
   "source": [
    "## Problem 7 (4+3+3 points)\n",
    "\n",
    "**(a)** Explain why $N(B)$ must be a subspace of $N(AB)$ for any $m \\times n$ matrix $A$ and any $n \\times p$ matrix $B$.\n",
    "\n",
    "**(b)** What must be true of $A$ to have $N(AB) = N(B)$ for all $B$?\n",
    "\n",
    "**(c)** We know from class that the *dimension* of the nullspace (the number of special solutions) = #columns – rank.   What does your answer from (a) tell you about the relationship between the rank of $AB$ and the rank of $B$?  (For example, is one bigger than the other?)"
   ]
  }
 ],
 "metadata": {
  "kernelspec": {
   "display_name": "Julia 0.6.2",
   "language": "julia",
   "name": "julia-0.6"
  },
  "language_info": {
   "file_extension": ".jl",
   "mimetype": "application/julia",
   "name": "julia",
   "version": "0.6.2"
  }
 },
 "nbformat": 4,
 "nbformat_minor": 2
}
