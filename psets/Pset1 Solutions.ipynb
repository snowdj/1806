{
 "cells": [
  {
   "cell_type": "markdown",
   "metadata": {},
   "source": [
    "# 18.06 Fall 2018 pset 1 Solutions\n",
    "\n",
    "\n",
    "# Search for the word \"solution\" at the end of each problem"
   ]
  },
  {
   "cell_type": "markdown",
   "metadata": {},
   "source": [
    "## Problem 1\n",
    "\n",
    "Which of these matrix functions  make sense (assume $m \\ne n$)?\n",
    "1. f(x) = W * x      (where W is an m x n matrix, x is a length n vector)\n",
    "1. f(x) = W * x + b   (where W is an m x n matrix, x is a length n vector, b is a length n vector)\n",
    "1. f(x) = W \\* W * x (where W is an m x n matrix, x is a length n vector)\n",
    "1. f(x) = W * x  + b (where W is an m x n matrix, x is a length n vector, b is a length m vector)\n",
    "1. f(x) = x * W     (where W is an m x n matrix, x is a length n vector)\n",
    "1. f(x) = sin.(W \\* x) (where W is an m x n matrix, x is a length n vector and the \".\" means take the sine of element of the vector W*x)\n",
    "1. f(x) = sin.(W) \\* x  (where W is an m x n matrix, x is a length n vector)\n",
    "1. f(x) = σ.(x) where (where σ is the [sigmoid](https://en.wikipedia.org/wiki/Sigmoid_function) function σ(t) = 1/(1+e^(-t)))\n",
    "\n",
    "<br>\n",
    "The \".\" is usually pronounced \"dot\" but if one thinks \"point\" one might remember it is a \"pointwise\" operation, i.e. applies seperately to every element.\n",
    "<br><br><br><br><br><br><br>\n",
    "Execute the commands in Julia to check your work.  While there will not be any computers on the exams, in the real world people check themselves all the time with a computer. (Shift + **enter** executes and moves to the next cell.)\n",
    "\n"
   ]
  },
  {
   "cell_type": "code",
   "execution_count": 1,
   "metadata": {
    "collapsed": true
   },
   "outputs": [],
   "source": [
    "m = 2\n",
    "n = 4\n",
    "W = rand(m,n)\n",
    "x = rand(n)\n",
    "bm = rand(m)\n",
    "bn = rand(n); # final semicolon suppresses printing of output"
   ]
  },
  {
   "cell_type": "code",
   "execution_count": 2,
   "metadata": {},
   "outputs": [
    {
     "data": {
      "text/plain": [
       "2×4 Array{Float64,2}:\n",
       " 0.57466   0.92845   0.366734  0.953269\n",
       " 0.887694  0.121509  0.175309  0.519305"
      ]
     },
     "execution_count": 2,
     "metadata": {},
     "output_type": "execute_result"
    }
   ],
   "source": [
    "W"
   ]
  },
  {
   "cell_type": "markdown",
   "metadata": {},
   "source": [
    "Notice W is a 2x4 arrray whose elements are Float64 (they have decimals) and it is a \"2\" dimensional **matrix**."
   ]
  },
  {
   "cell_type": "code",
   "execution_count": 3,
   "metadata": {},
   "outputs": [
    {
     "data": {
      "text/plain": [
       "4-element Array{Float64,1}:\n",
       " 0.647675 \n",
       " 0.286339 \n",
       " 0.0227731\n",
       " 0.649898 "
      ]
     },
     "execution_count": 3,
     "metadata": {},
     "output_type": "execute_result"
    }
   ],
   "source": [
    "x"
   ]
  },
  {
   "cell_type": "markdown",
   "metadata": {},
   "source": [
    "Notice x is a length 4 vector of Float64's and it is a \"1\" dimensional matrix. Humans often conflate a 4 vector with a 4x1 matrix.  Sometimes this is highly productive.  Julia usually makes the distinction between a 4 vector and a 4x1 matrix."
   ]
  },
  {
   "cell_type": "code",
   "execution_count": 4,
   "metadata": {},
   "outputs": [
    {
     "data": {
      "text/plain": [
       "2-element Array{Float64,1}:\n",
       " 1.26592 \n",
       " 0.951218"
      ]
     },
     "execution_count": 4,
     "metadata": {},
     "output_type": "execute_result"
    }
   ],
   "source": [
    "W*x"
   ]
  },
  {
   "cell_type": "code",
   "execution_count": 5,
   "metadata": {},
   "outputs": [
    {
     "ename": "LoadError",
     "evalue": "\u001b[91mDimensionMismatch(\"dimensions must match\")\u001b[39m",
     "output_type": "error",
     "traceback": [
      "\u001b[91mDimensionMismatch(\"dimensions must match\")\u001b[39m",
      "",
      "Stacktrace:",
      " [1] \u001b[1mpromote_shape\u001b[22m\u001b[22m\u001b[1m(\u001b[22m\u001b[22m::Tuple{Base.OneTo{Int64}}, ::Tuple{Base.OneTo{Int64}}\u001b[1m)\u001b[22m\u001b[22m at \u001b[1m./indices.jl:79\u001b[22m\u001b[22m",
      " [2] \u001b[1m+\u001b[22m\u001b[22m\u001b[1m(\u001b[22m\u001b[22m::Array{Float64,1}, ::Array{Float64,1}\u001b[1m)\u001b[22m\u001b[22m at \u001b[1m./arraymath.jl:38\u001b[22m\u001b[22m",
      " [3] \u001b[1minclude_string\u001b[22m\u001b[22m\u001b[1m(\u001b[22m\u001b[22m::String, ::String\u001b[1m)\u001b[22m\u001b[22m at \u001b[1m./loading.jl:522\u001b[22m\u001b[22m"
     ]
    }
   ],
   "source": [
    "W*x + bn"
   ]
  },
  {
   "cell_type": "code",
   "execution_count": 6,
   "metadata": {},
   "outputs": [
    {
     "ename": "LoadError",
     "evalue": "\u001b[91mDimensionMismatch(\"A has dimensions (2,4) but B has dimensions (2,4)\")\u001b[39m",
     "output_type": "error",
     "traceback": [
      "\u001b[91mDimensionMismatch(\"A has dimensions (2,4) but B has dimensions (2,4)\")\u001b[39m",
      "",
      "Stacktrace:",
      " [1] \u001b[1mgemm_wrapper!\u001b[22m\u001b[22m\u001b[1m(\u001b[22m\u001b[22m::Array{Float64,2}, ::Char, ::Char, ::Array{Float64,2}, ::Array{Float64,2}\u001b[1m)\u001b[22m\u001b[22m at \u001b[1m./linalg/matmul.jl:345\u001b[22m\u001b[22m",
      " [2] \u001b[1m*\u001b[22m\u001b[22m\u001b[1m(\u001b[22m\u001b[22m::Array{Float64,2}, ::Array{Float64,2}, ::Array{Float64,1}\u001b[1m)\u001b[22m\u001b[22m at \u001b[1m./operators.jl:424\u001b[22m\u001b[22m",
      " [3] \u001b[1minclude_string\u001b[22m\u001b[22m\u001b[1m(\u001b[22m\u001b[22m::String, ::String\u001b[1m)\u001b[22m\u001b[22m at \u001b[1m./loading.jl:522\u001b[22m\u001b[22m"
     ]
    }
   ],
   "source": [
    "W*W*x"
   ]
  },
  {
   "cell_type": "code",
   "execution_count": 7,
   "metadata": {},
   "outputs": [
    {
     "data": {
      "text/plain": [
       "2-element Array{Float64,1}:\n",
       " 1.65548\n",
       " 1.75199"
      ]
     },
     "execution_count": 7,
     "metadata": {},
     "output_type": "execute_result"
    }
   ],
   "source": [
    "W*x + bm"
   ]
  },
  {
   "cell_type": "code",
   "execution_count": 8,
   "metadata": {},
   "outputs": [
    {
     "ename": "LoadError",
     "evalue": "\u001b[91mDimensionMismatch(\"A has dimensions (4,1) but B has dimensions (2,4)\")\u001b[39m",
     "output_type": "error",
     "traceback": [
      "\u001b[91mDimensionMismatch(\"A has dimensions (4,1) but B has dimensions (2,4)\")\u001b[39m",
      "",
      "Stacktrace:",
      " [1] \u001b[1mgemm_wrapper!\u001b[22m\u001b[22m\u001b[1m(\u001b[22m\u001b[22m::Array{Float64,2}, ::Char, ::Char, ::Array{Float64,2}, ::Array{Float64,2}\u001b[1m)\u001b[22m\u001b[22m at \u001b[1m./linalg/matmul.jl:345\u001b[22m\u001b[22m",
      " [2] \u001b[1m*\u001b[22m\u001b[22m\u001b[1m(\u001b[22m\u001b[22m::Array{Float64,1}, ::Array{Float64,2}\u001b[1m)\u001b[22m\u001b[22m at \u001b[1m./linalg/matmul.jl:87\u001b[22m\u001b[22m",
      " [3] \u001b[1minclude_string\u001b[22m\u001b[22m\u001b[1m(\u001b[22m\u001b[22m::String, ::String\u001b[1m)\u001b[22m\u001b[22m at \u001b[1m./loading.jl:522\u001b[22m\u001b[22m"
     ]
    }
   ],
   "source": [
    "x * W  "
   ]
  },
  {
   "cell_type": "code",
   "execution_count": 9,
   "metadata": {},
   "outputs": [
    {
     "data": {
      "text/plain": [
       "2-element Array{Float64,1}:\n",
       " 0.953885\n",
       " 0.814124"
      ]
     },
     "execution_count": 9,
     "metadata": {},
     "output_type": "execute_result"
    }
   ],
   "source": [
    "sin.(W*x)"
   ]
  },
  {
   "cell_type": "code",
   "execution_count": 10,
   "metadata": {},
   "outputs": [
    {
     "data": {
      "text/plain": [
       "2-element Array{Float64,1}:\n",
       " 1.11935 \n",
       " 0.863558"
      ]
     },
     "execution_count": 10,
     "metadata": {},
     "output_type": "execute_result"
    }
   ],
   "source": [
    "sin.(W) * x"
   ]
  },
  {
   "cell_type": "markdown",
   "metadata": {},
   "source": [
    "Packages are software libraries that one tends to add on an \"as-needed\" basis so not to take up too much room on your computer.\n",
    "\n",
    "Very likely you will need the Flux package for σ to be defined.\n",
    "\n",
    "On your own computer you should uncomment out the Pkg.add line once.  It will load Flux on your computer.\n",
    "You will still need the using line for each session.\n",
    "\n",
    "If you are using Juliabox, press the packages-->yours button on top of the first screen add flux as described\n",
    "[here](http://docs.juliabox.com/#Installing-packages-1)"
   ]
  },
  {
   "cell_type": "code",
   "execution_count": 11,
   "metadata": {
    "collapsed": true
   },
   "outputs": [],
   "source": [
    "# Pkg.add(\"Flux\")\n",
    "using Flux   ### Let's load the Flux package which contains σ, "
   ]
  },
  {
   "cell_type": "code",
   "execution_count": 12,
   "metadata": {},
   "outputs": [
    {
     "data": {
      "text/plain": [
       "σ (generic function with 1 method)"
      ]
     },
     "execution_count": 12,
     "metadata": {},
     "output_type": "execute_result"
    }
   ],
   "source": [
    "## if the above Using Flux command takes you more than 2 minutes\n",
    "## forget about it and just uncomment out the line below\n",
    "## to define the sigmoid\n",
    "\n",
    "σ(x) = 1/(1+e^(-x))"
   ]
  },
  {
   "cell_type": "code",
   "execution_count": 13,
   "metadata": {},
   "outputs": [
    {
     "data": {
      "text/plain": [
       "2-element Array{Float64,1}:\n",
       " 0.780044\n",
       " 0.72136 "
      ]
     },
     "execution_count": 13,
     "metadata": {},
     "output_type": "execute_result"
    }
   ],
   "source": [
    "σ.(W*x) # You can type \\sigma+<tab> to get the greek letter sigma"
   ]
  },
  {
   "cell_type": "markdown",
   "metadata": {},
   "source": [
    "σ goes from 0 to 1.  It is known as an activation function in machine learning.\n",
    "You can get help by typing question mark and a function name"
   ]
  },
  {
   "cell_type": "code",
   "execution_count": 14,
   "metadata": {},
   "outputs": [
    {
     "name": "stdout",
     "output_type": "stream",
     "text": [
      "\"\u001b[36mσ\u001b[39m\" can be typed by \u001b[36m\\sigma<tab>\u001b[39m\n",
      "\n",
      "search: \u001b[1mσ\u001b[22m\n",
      "\n"
     ]
    },
    {
     "data": {
      "text/markdown": [
       "No documentation found.\n",
       "\n",
       "`σ` is a `Function`.\n",
       "\n",
       "```\n",
       "# 1 method for generic function \"σ\":\n",
       "σ(x) in Main at In[12]:5\n",
       "```\n"
      ],
      "text/plain": [
       "No documentation found.\n",
       "\n",
       "`σ` is a `Function`.\n",
       "\n",
       "```\n",
       "# 1 method for generic function \"σ\":\n",
       "σ(x) in Main at In[12]:5\n",
       "```\n"
      ]
     },
     "execution_count": 14,
     "metadata": {},
     "output_type": "execute_result"
    }
   ],
   "source": [
    "? σ"
   ]
  },
  {
   "cell_type": "markdown",
   "metadata": {},
   "source": [
    "## Solution\n",
    "\n",
    "1. Yes, the dimensions are mxn * nx1, which makes sense since the middle dimensions match\n",
    "2. No, W*x is mx1 dimensional, which can't be added to b which is nx1 dimensional\n",
    "3. No, W*x is mxn * mxn dimensional, which doesn't make sense since the middle dimensions don't match\n",
    "4. Yes, W*x is mx1 dimensional, which can be added to b which is also mx1 dimensional\n",
    "5. No, the dimensions are nx1 * mxn, which doesn't make sense since the middle dimensions don't match\n",
    "6. Yes, W*x makes sense and then we can apply sine to each element\n",
    "7. Yes, sin.(W) is mxn dimensional, which can multiply the nx1 dimensional x\n",
    "8. Yes, we can apply the sigmoid function to each element of x"
   ]
  },
  {
   "cell_type": "markdown",
   "metadata": {},
   "source": [
    "## Problem 2 ( A little complexity)"
   ]
  },
  {
   "cell_type": "markdown",
   "metadata": {},
   "source": [
    "Suppose W is nxn,  x is a vector of length n, b is a vector of length n.\n",
    "\n",
    "1. What do you expect is the comparison between the time spent computing W*x when n is 10000 vs n is 20000?\n",
    "1. What do you expect is the comparison between the time spent computing W*x+b when n is 10000 vs n is 20000?\n",
    "1. What do you expect is the comparison between the time spent computing σ.(W*x+b) when n is 10000 vs n is 20000?\n",
    "    \n",
    "    <br><br><br><br><br><br><br>\n",
    "    \n",
    "    You can use the code in Julia below to verify or help with your answer."
   ]
  },
  {
   "cell_type": "code",
   "execution_count": 15,
   "metadata": {
    "collapsed": true
   },
   "outputs": [],
   "source": [
    "#add BenchmarkTools\n",
    "using BenchmarkTools"
   ]
  },
  {
   "cell_type": "code",
   "execution_count": 16,
   "metadata": {},
   "outputs": [
    {
     "data": {
      "text/plain": [
       "BenchmarkTools.Trial: \n",
       "  memory estimate:  78.20 KiB\n",
       "  allocs estimate:  2\n",
       "  --------------\n",
       "  minimum time:     324.893 ms (0.00% GC)\n",
       "  median time:      486.257 ms (0.00% GC)\n",
       "  mean time:        452.210 ms (0.00% GC)\n",
       "  maximum time:     501.649 ms (0.00% GC)\n",
       "  --------------\n",
       "  samples:          12\n",
       "  evals/sample:     1"
      ]
     },
     "execution_count": 16,
     "metadata": {},
     "output_type": "execute_result"
    }
   ],
   "source": [
    "n1=10000\n",
    "n2=20000\n",
    "W1 = rand(n1,n1); x1=rand(n1); b1 = rand(n1)\n",
    "W2 = rand(n2,n2); x2=rand(n2); b2 = rand(n2)\n",
    "f1(x) = W1*x\n",
    "f2(x) = W2*x\n",
    "@benchmark f1(x1)"
   ]
  },
  {
   "cell_type": "code",
   "execution_count": 17,
   "metadata": {},
   "outputs": [
    {
     "data": {
      "text/plain": [
       "BenchmarkTools.Trial: \n",
       "  memory estimate:  156.33 KiB\n",
       "  allocs estimate:  2\n",
       "  --------------\n",
       "  minimum time:     1.456 s (0.00% GC)\n",
       "  median time:      1.502 s (0.00% GC)\n",
       "  mean time:        1.515 s (0.00% GC)\n",
       "  maximum time:     1.599 s (0.00% GC)\n",
       "  --------------\n",
       "  samples:          4\n",
       "  evals/sample:     1"
      ]
     },
     "execution_count": 17,
     "metadata": {},
     "output_type": "execute_result"
    }
   ],
   "source": [
    "@benchmark f2(x2)"
   ]
  },
  {
   "cell_type": "code",
   "execution_count": 18,
   "metadata": {},
   "outputs": [
    {
     "data": {
      "text/plain": [
       "BenchmarkTools.Trial: \n",
       "  memory estimate:  156.41 KiB\n",
       "  allocs estimate:  4\n",
       "  --------------\n",
       "  minimum time:     397.900 ms (0.00% GC)\n",
       "  median time:      403.735 ms (0.00% GC)\n",
       "  mean time:        429.576 ms (0.00% GC)\n",
       "  maximum time:     497.508 ms (0.00% GC)\n",
       "  --------------\n",
       "  samples:          12\n",
       "  evals/sample:     1"
      ]
     },
     "execution_count": 18,
     "metadata": {},
     "output_type": "execute_result"
    }
   ],
   "source": [
    "f3(x) = W1*x + b1\n",
    "f4(x) = W2*x + b2\n",
    "@benchmark f3(x1)"
   ]
  },
  {
   "cell_type": "code",
   "execution_count": 19,
   "metadata": {},
   "outputs": [
    {
     "data": {
      "text/plain": [
       "BenchmarkTools.Trial: \n",
       "  memory estimate:  312.66 KiB\n",
       "  allocs estimate:  4\n",
       "  --------------\n",
       "  minimum time:     1.379 s (0.00% GC)\n",
       "  median time:      1.398 s (0.00% GC)\n",
       "  mean time:        1.395 s (0.00% GC)\n",
       "  maximum time:     1.404 s (0.00% GC)\n",
       "  --------------\n",
       "  samples:          4\n",
       "  evals/sample:     1"
      ]
     },
     "execution_count": 19,
     "metadata": {},
     "output_type": "execute_result"
    }
   ],
   "source": [
    "@benchmark f4(x2)"
   ]
  },
  {
   "cell_type": "code",
   "execution_count": 20,
   "metadata": {},
   "outputs": [
    {
     "data": {
      "text/plain": [
       "BenchmarkTools.Trial: \n",
       "  memory estimate:  235.64 KiB\n",
       "  allocs estimate:  30\n",
       "  --------------\n",
       "  minimum time:     306.583 ms (0.00% GC)\n",
       "  median time:      402.435 ms (0.00% GC)\n",
       "  mean time:        419.296 ms (0.00% GC)\n",
       "  maximum time:     546.828 ms (0.00% GC)\n",
       "  --------------\n",
       "  samples:          12\n",
       "  evals/sample:     1"
      ]
     },
     "execution_count": 20,
     "metadata": {},
     "output_type": "execute_result"
    }
   ],
   "source": [
    "f3(x) = σ.(W1*x + b1)\n",
    "f4(x) = σ.(W2*x + b2)\n",
    "@benchmark f3(x1)"
   ]
  },
  {
   "cell_type": "code",
   "execution_count": 21,
   "metadata": {},
   "outputs": [
    {
     "data": {
      "text/plain": [
       "BenchmarkTools.Trial: \n",
       "  memory estimate:  470.02 KiB\n",
       "  allocs estimate:  30\n",
       "  --------------\n",
       "  minimum time:     1.397 s (0.00% GC)\n",
       "  median time:      1.403 s (0.00% GC)\n",
       "  mean time:        1.404 s (0.00% GC)\n",
       "  maximum time:     1.413 s (0.00% GC)\n",
       "  --------------\n",
       "  samples:          4\n",
       "  evals/sample:     1"
      ]
     },
     "execution_count": 21,
     "metadata": {},
     "output_type": "execute_result"
    }
   ],
   "source": [
    "@benchmark f4(x2)"
   ]
  },
  {
   "cell_type": "markdown",
   "metadata": {},
   "source": [
    "## Solution\n",
    "\n",
    "1. W*x is an nx1 matrix. There are n entries, and to compute each entry, we do n scalar multiplications and (n-1) scalar additions. Thus, we have to do n(n + (n-1)) = 2n^2 - n computations to compute W*x. Since the number of computations grows as n^2, and 20000 is double that of 10000, we expect the n=20000 computation to take roughly 2^2 = 4 times as long as the n=10000 computation. \n",
    "\n",
    "2. To compute W*x, we need 2n^2 - n computations. To then add this to b, we need another n scalar additions, for a total of 2n^2 computations. The order of growth is still n^2, so again we expect the n=20000 computation to take roughly 4 times as long as the n=10000 computation. \n",
    "\n",
    "3. We calculated that W*x+b required 2n^2 scalar computations. W*x+b is an nx1 matrix, so to apply sigma to the computation time a term that grows as n. The n^2 still dominates, so the order of growth is still n^2 and we expect the n=20000 computation to take roughly 4 times as long as the n=10000 computation. "
   ]
  },
  {
   "cell_type": "markdown",
   "metadata": {},
   "source": [
    "## Problem 3 Vectors\n",
    "\n",
    "\n",
    "(a)  SUM OF VECTORS: What is the sum V of the twelve unit vectors that go from the center of a clock to the hours 1:00, 2:00, ..., 12:00?\n",
    "\n",
    "<br><br><br><br><br><br>\n",
    "<img src=\"http://2.bp.blogspot.com/-Y5mnXTd33z0/VDGXB-3qE3I/AAAAAAAASl0/mD1sb0gaLtU/s1600/clock-face-time4.jpg\" size=10>\n",
    "(b)  (SUBTRACTING VECTORS) In the sum of vectors above, if the 2:00 vector is removed, you can show that the remaining vectors add to 8:00. This is because subtracting a vector is the same as adding \n",
    "<span style=\"border-bottom: 1px solid black; padding-left: 200px\">&nbsp;</span> ? <br>\n",
    "Write your answer as a number from 1 through 4 below:<br>\n",
    "1. An Opposite Vector\n",
    "2. An Orthogonal Vector\n",
    "3. A Parallel Vector\n",
    "4. Zero"
   ]
  },
  {
   "cell_type": "markdown",
   "metadata": {},
   "source": [
    "## Solution \n",
    "\n",
    "1. The vectors come in pairs v and -v. For example, the vector for 1:00 is minus that for 7:00. Therefore, since each pair v + (-v) sums to 0, the sum of all the vectors is also 0. \n",
    "\n",
    "2. An opposite vector "
   ]
  },
  {
   "cell_type": "markdown",
   "metadata": {},
   "source": [
    "## Problem 4  Elimination sometimes breaks down\n",
    "We would like you to use elimination to solve the following linear system of two equations:\n",
    "\n",
    "$ax + 3y = −3$\n",
    "\n",
    "$4x + 6y = 6$\n"
   ]
  },
  {
   "cell_type": "markdown",
   "metadata": {},
   "source": [
    "For which number $a$ does elimination break down permanently? <br><br><br>"
   ]
  },
  {
   "cell_type": "markdown",
   "metadata": {},
   "source": [
    "For which number $a$ does elimination break down temporarily?<br><br><br>"
   ]
  },
  {
   "cell_type": "markdown",
   "metadata": {},
   "source": [
    "SOLVING THE NON-SINGULAR SYSTEM"
   ]
  },
  {
   "cell_type": "markdown",
   "metadata": {},
   "source": [
    "Fix the temporary breakdown above by a row exchange and then solve.\n",
    "\n",
    "Enter the value of $x$: <br>"
   ]
  },
  {
   "cell_type": "markdown",
   "metadata": {},
   "source": [
    "Enter the value of  y:"
   ]
  },
  {
   "cell_type": "markdown",
   "metadata": {},
   "source": [
    "## Solution \n",
    "\n",
    "If $a=2$, then we get a permanant failure, since our first elimination step with $a$ as the pivot turns the second equation into $0x + 0y = 12$, and there is no second pivot. \n",
    "\n",
    "If $a=0$, then we get a temporary failure. $a=0$ cannot be used as our first pivot, but if we permute the two equations, the system of linear equations is then upper triangular and we can perform back substitution from here. "
   ]
  },
  {
   "cell_type": "markdown",
   "metadata": {},
   "source": [
    "## Problem 5  Plot Solutions of Linear Systems"
   ]
  },
  {
   "cell_type": "markdown",
   "metadata": {},
   "source": [
    " Consider the linear system for various values of p and q that you can manipulate\n",
    "\n",
    "\n",
    "$x + y = p$\n",
    "\n",
    "$-x + 3y = q$\n",
    "    "
   ]
  },
  {
   "cell_type": "markdown",
   "metadata": {},
   "source": [
    "Where is the solution when $p=7$ and $q=1$?  Draw the graph and give the solution. <br><br>"
   ]
  },
  {
   "cell_type": "code",
   "execution_count": 1,
   "metadata": {},
   "outputs": [
    {
     "data": {
      "text/html": [
       "<div id=\"interact-js-shim\">\n",
       "    <script charset=\"utf-8\">\n",
       "(function (IPython, $, _, MathJax) {\n",
       "    $.event.special.destroyed = {\n",
       "\tremove: function(o) {\n",
       "\t    if (o.handler) {\n",
       "\t\to.handler.apply(this, arguments)\n",
       "\t    }\n",
       "\t}\n",
       "    }\n",
       "\n",
       "    var OutputArea = IPython.version >= \"4.0.0\" ? require(\"notebook/js/outputarea\").OutputArea : IPython.OutputArea;\n",
       "\n",
       "    var redrawValue = function (container, type, val) {\n",
       "\tvar selector = $(\"<div/>\");\n",
       "\tvar oa = new OutputArea(_.extend(selector, {\n",
       "\t    selector: selector,\n",
       "\t    prompt_area: true,\n",
       "\t    events: IPython.events,\n",
       "\t    keyboard_manager: IPython.keyboard_manager\n",
       "\t})); // Hack to work with IPython 2.1.0\n",
       "\n",
       "\tswitch (type) {\n",
       "\tcase \"image/png\":\n",
       "            var _src = 'data:' + type + ';base64,' + val;\n",
       "\t    $(container).find(\"img\").attr('src', _src);\n",
       "\t    break;\n",
       "\tcase \"text/latex\":\n",
       "\t\tif (MathJax){\n",
       "\t\t\tvar math = MathJax.Hub.getAllJax(container)[0];\n",
       "\t\t\tMathJax.Hub.Queue([\"Text\", math, val.replace(/^\\${1,2}|\\${1,2}$/g, '')]);\n",
       "\t\t\tbreak;\n",
       "\t\t}\n",
       "\tdefault:\n",
       "\t    var toinsert = OutputArea.append_map[type].apply(\n",
       "\t\toa, [val, {}, selector]\n",
       "\t    );\n",
       "\t    $(container).empty().append(toinsert.contents());\n",
       "\t    selector.remove();\n",
       "\t}\n",
       "    }\n",
       "\n",
       "\n",
       "    $(document).ready(function() {\n",
       "\tfunction initComm(evt, data) {\n",
       "\t    var comm_manager = data.kernel.comm_manager;\n",
       "        //_.extend(comm_manager.targets, require(\"widgets/js/widget\"))\n",
       "\t    comm_manager.register_target(\"Signal\", function (comm) {\n",
       "            comm.on_msg(function (msg) {\n",
       "                var val = msg.content.data.value;\n",
       "                $(\".signal-\" + comm.comm_id).each(function() {\n",
       "                var type = $(this).data(\"type\");\n",
       "                if (typeof(val[type]) !== \"undefined\" && val[type] !== null) {\n",
       "                    redrawValue(this, type, val[type], type);\n",
       "                }\n",
       "                });\n",
       "                delete val;\n",
       "                delete msg.content.data.value;\n",
       "            });\n",
       "\t    });\n",
       "\n",
       "\t    // coordingate with Comm and redraw Signals\n",
       "\t    // XXX: Test using Reactive here to improve performance\n",
       "\t    $([IPython.events]).on(\n",
       "\t\t'output_appended.OutputArea', function (event, type, value, md, toinsert) {\n",
       "\t\t    if (md && md.reactive) {\n",
       "                // console.log(md.comm_id);\n",
       "                toinsert.addClass(\"signal-\" + md.comm_id);\n",
       "                toinsert.data(\"type\", type);\n",
       "                // Signal back indicating the mimetype required\n",
       "                var comm_manager = IPython.notebook.kernel.comm_manager;\n",
       "                var comm = comm_manager.comms[md.comm_id];\n",
       "                comm.then(function (c) {\n",
       "                    c.send({action: \"subscribe_mime\",\n",
       "                       mime: type});\n",
       "                    toinsert.bind(\"destroyed\", function() {\n",
       "                        c.send({action: \"unsubscribe_mime\",\n",
       "                               mime: type});\n",
       "                    });\n",
       "                })\n",
       "\t\t    }\n",
       "\t    });\n",
       "\t}\n",
       "\n",
       "\ttry {\n",
       "\t    // try to initialize right away. otherwise, wait on the status_started event.\n",
       "\t    initComm(undefined, IPython.notebook);\n",
       "\t} catch (e) {\n",
       "\t    $([IPython.events]).on('kernel_created.Kernel kernel_created.Session', initComm);\n",
       "\t}\n",
       "    });\n",
       "})(IPython, jQuery, _, MathJax);\n",
       "</script>\n",
       "    <script>\n",
       "        window.interactLoadedFlag = true\n",
       "       $(\"#interact-js-shim\").bind(\"destroyed\", function () {\n",
       "           if (window.interactLoadedFlag) {\n",
       "               console.warn(\"JavaScript required by Interact will be removed if you remove this cell or run using Interact more than once.\")\n",
       "           }\n",
       "       })\n",
       "       $([IPython.events]).on(\"kernel_starting.Kernel kernel_restarting.Kernel\", function () { window.interactLoadedFlag = false })\n",
       "   </script>\n",
       "</div>"
      ]
     },
     "metadata": {},
     "output_type": "display_data"
    }
   ],
   "source": [
    "# Pkg.add PyPlot\n",
    "# Pkg.add Interact\n",
    "using PyPlot, Interact"
   ]
  },
  {
   "cell_type": "code",
   "execution_count": 2,
   "metadata": {
    "scrolled": true
   },
   "outputs": [
    {
     "data": {
      "application/vnd.jupyter.widget-view+json": {
       "model_id": "74b6b485-f79f-4dcc-bfe1-9a2df031c510",
       "version_major": 2,
       "version_minor": 0
      }
     },
     "metadata": {},
     "output_type": "display_data"
    },
    {
     "data": {
      "text/html": [],
      "text/plain": [
       "Interact.Options{:SelectionSlider,Any}(1: \"input\" = 7.0 Any , \"p\", 7.0, \"7.0\", 15, Interact.OptionDict(DataStructures.OrderedDict{Any,Any}(\"0.0\"=>0.0,\"0.5\"=>0.5,\"1.0\"=>1.0,\"1.5\"=>1.5,\"2.0\"=>2.0,\"2.5\"=>2.5,\"3.0\"=>3.0,\"3.5\"=>3.5,\"4.0\"=>4.0,\"4.5\"=>4.5…), Dict{Any,Any}(Pair{Any,Any}(5.5, \"5.5\"),Pair{Any,Any}(6.5, \"6.5\"),Pair{Any,Any}(2.0, \"2.0\"),Pair{Any,Any}(1.5, \"1.5\"),Pair{Any,Any}(10.5, \"10.5\"),Pair{Any,Any}(4.5, \"4.5\"),Pair{Any,Any}(11.0, \"11.0\"),Pair{Any,Any}(0.0, \"0.0\"),Pair{Any,Any}(7.0, \"7.0\"),Pair{Any,Any}(8.5, \"8.5\")…)), Any[], Any[], true, \"horizontal\")"
      ]
     },
     "metadata": {},
     "output_type": "display_data"
    },
    {
     "data": {
      "application/vnd.jupyter.widget-view+json": {
       "model_id": "a20c07d1-c85e-4cb7-baf5-25f15383670c",
       "version_major": 2,
       "version_minor": 0
      }
     },
     "metadata": {},
     "output_type": "display_data"
    },
    {
     "data": {
      "text/html": [],
      "text/plain": [
       "Interact.Options{:SelectionSlider,Any}(3: \"input-2\" = 7.0 Any , \"q\", 7.0, \"7.0\", 15, Interact.OptionDict(DataStructures.OrderedDict{Any,Any}(\"0.0\"=>0.0,\"0.5\"=>0.5,\"1.0\"=>1.0,\"1.5\"=>1.5,\"2.0\"=>2.0,\"2.5\"=>2.5,\"3.0\"=>3.0,\"3.5\"=>3.5,\"4.0\"=>4.0,\"4.5\"=>4.5…), Dict{Any,Any}(Pair{Any,Any}(5.5, \"5.5\"),Pair{Any,Any}(6.5, \"6.5\"),Pair{Any,Any}(2.0, \"2.0\"),Pair{Any,Any}(1.5, \"1.5\"),Pair{Any,Any}(10.5, \"10.5\"),Pair{Any,Any}(4.5, \"4.5\"),Pair{Any,Any}(11.0, \"11.0\"),Pair{Any,Any}(0.0, \"0.0\"),Pair{Any,Any}(7.0, \"7.0\"),Pair{Any,Any}(8.5, \"8.5\")…)), Any[], Any[], true, \"horizontal\")"
      ]
     },
     "metadata": {},
     "output_type": "display_data"
    },
    {
     "data": {
      "image/png": "[encoded data removed]",
      "text/plain": [
       "PyPlot.Figure(PyObject <matplotlib.figure.Figure object at 0x7f0f41a7e390>)"
      ]
     },
     "execution_count": 2,
     "metadata": {
      "comm_id": "5d831695-c194-4a9d-a7f8-e4357d70a934",
      "reactive": true
     },
     "output_type": "execute_result"
    }
   ],
   "source": [
    "# Execute the code below\n",
    "f=figure()\n",
    "x=-3:7:20\n",
    "@manipulate for p=0:.5:14,q=0:.5:14; withfig(f) do\n",
    "        plot(x,p-x)\n",
    "        plot(x,(q+x)/3)\n",
    "        plot((3*p-q)/4,  (p+q)/4, \"o\")\n",
    "        title(\"p=$p q=$q\")\n",
    "   end\n",
    "end"
   ]
  },
  {
   "cell_type": "markdown",
   "metadata": {},
   "source": [
    "## Solution \n",
    "\n",
    "The graph shows the solution at x=5, y=2, and we can substitute these values back into the original equations to confirm that they are correct. "
   ]
  },
  {
   "cell_type": "markdown",
   "metadata": {},
   "source": [
    "## Problem 6  (GS problem 11 on p. 54)\n",
    "\n",
    "A system of linear equations can't have exactly two solutions. Why?\n",
    "\n",
    "(a) If (x,y,z) and (X,Y,Z) are two solutions, what is another solution?\n",
    "\n",
    "(b) If 25 planes meet at two points, where else do they meet?"
   ]
  },
  {
   "cell_type": "markdown",
   "metadata": {},
   "source": [
    "## Solution \n",
    "\n",
    "A system of linear equations cannot have exactly two solutions. If the vector v is a solution, and the vector w is another solution, then any linear combination av + bw, where a and b are scalars adding up to 1 satisfies the system of linear equations. \n",
    "\n",
    "(a) Another solution is ((x+X)/2, (y+Y)/2, (z+Z)/2). \n",
    "\n",
    "(b) If the 25 planes meet at two points, they also meet on the entire line through these two points. "
   ]
  },
  {
   "cell_type": "markdown",
   "metadata": {},
   "source": [
    "## Problem 7 (GS Problem 18 on p. 55)"
   ]
  },
  {
   "cell_type": "markdown",
   "metadata": {},
   "source": [
    "Construct a 3 by 3 example that has 9 different coefficients on the left side, but rows 2 and 3 become zero in elimination.  How many solutions to your system with b=(1,10,100) and how many with b=(0,0,0)?\n"
   ]
  },
  {
   "cell_type": "markdown",
   "metadata": {},
   "source": [
    "## Solution \n",
    "\n",
    "An example of such a matrix is $$\\begin{bmatrix} 1 & 2 & 3 \\\\ 4 & 8 & 12 \\\\ 5 & 10 & 15 \\end{bmatrix}.$$ After eliminating, we go from the system of linear equations $$\\begin{bmatrix} 1 & 2 & 3 \\\\ 4 & 8 & 12 \\\\ 5 & 10 & 15 \\end{bmatrix} \\begin{bmatrix} x \\\\ y \\\\ z \\end{bmatrix} = \\begin{bmatrix} b_1 \\\\ b_2 \\\\ b_3 \\end{bmatrix}$$ to $$\\begin{bmatrix} 1 & 2 & 3 \\\\ 0 & 0 & 0 \\\\ 0 & 0 & 0 \\end{bmatrix} \\begin{bmatrix} x \\\\ y \\\\ z \\end{bmatrix} = \\begin{bmatrix} b_1 \\\\ b_2 - 4b_1 \\\\ b_3 - 5b_1 \\end{bmatrix}.$$\n",
    "\n",
    "For $b = (1,10,100)$, the right hand side is $(1, 6, 95)$, which has no solutions since there is no $(x,y,z)$ for which the second equation $0x + 0y + 0z = 6$. For $b=(0,0,0)$, the right hand side is $(0,0,0)$, which has infinitely many solutions, since the second and third equations are always true and $x + 2y + 3z = 0$ has a line of solutions. "
   ]
  },
  {
   "cell_type": "markdown",
   "metadata": {},
   "source": [
    "## Problem 8 (GS Problem 27 on p. 56)\n",
    "\n",
    "Elimination in the usual order gives what matrix U and what\n",
    "solution to this \"lower triangular\" system? We are really solving by\n",
    "*forward* substitution:\n",
    "\n",
    "$$\\begin{matrix}\n",
    "3x &  &   &   &   & = & 3 \\\\\n",
    "6x & + & 2y &   &   & = & 8 \\\\\n",
    "9x & - & 2y & + & z & = & 9\n",
    "\\end{matrix}\n",
    "$$"
   ]
  },
  {
   "cell_type": "markdown",
   "metadata": {},
   "source": [
    "## Solution \n",
    "\n",
    "Pivoting around the first $3$, gives us \n",
    "$$\\begin{matrix}\n",
    "3x &  &   &   &   & = & 3 \\\\\n",
    " &  & 2y &   &   & = & 2 \\\\\n",
    " &  & -2y & + & z & = & 0\n",
    "\\end{matrix}\n",
    "$$\n",
    "\n",
    "Now pivoting around the middle $2$ gives us \n",
    "$$\\begin{matrix}\n",
    "3x &  &   &   &   & = & 3 \\\\\n",
    " &  & 2y &   &   & = & 2 \\\\\n",
    " &  &  & + & z & = & 2\n",
    "\\end{matrix}\n",
    "$$\n",
    "Solving each of these equations gives us the solution $x=1, y = 1, z = 2$. "
   ]
  },
  {
   "cell_type": "markdown",
   "metadata": {},
   "source": [
    "## Problem 9 (GS Problem 1 on p. 66)\n",
    "\n",
    "Write down the 3x3 matrices that produce these elimination steps:\n",
    "\n",
    "(a) $E_{21}$ subtracts 5 times row 1 from row 2\n",
    "\n",
    "(b) $E_{32}$ subtracts -7 times row 2 from row 3\n",
    "\n",
    "(c) $P$ exchanges rows 1 and 2, then rows 2 and 3."
   ]
  },
  {
   "cell_type": "markdown",
   "metadata": {},
   "source": [
    "## Solution \n",
    "\n",
    "(a) $E_{21} = \\begin{bmatrix} 1 & 0 & 0 \\\\ -5 & 1 & 0 \\\\ 0 & 0 & 1 \\end{bmatrix}$\n",
    "\n",
    "(b) $E_{32} = \\begin{bmatrix} 1 & 0 & 0 \\\\ 0 & 1 & 0 \\\\ 0 & 7 & 1 \\end{bmatrix}$ \n",
    "\n",
    "(c) $P = \\begin{bmatrix} 1 & 0 & 0 \\\\ 0 & 0 & 1 \\\\ 0 & 1 & 0 \\end{bmatrix} \\begin{bmatrix} 0 & 1 & 0 \\\\ 1 & 0 & 0 \\\\ 0 & 0 & 1 \\end{bmatrix}  = \\begin{bmatrix} 0 & 1 & 0 \\\\ 0 & 0 & 1 \\\\ 1 & 0 & 0 \\end{bmatrix}$"
   ]
  },
  {
   "cell_type": "markdown",
   "metadata": {},
   "source": [
    "## Problem 10: (GS Problem 35 on p. 45)\n",
    "\n",
    "A 9x9 **Sudoku** matrix $S$ has the numbers 1,...,9 in every row and every column, and in every 3x3 block.  For the all=ones vector $x=(1,\\ldots,1)$, what is $Sx$?\n",
    "\n",
    "A better question is: **Which row exchanges will produce another Sudoku matrix?** Also, which exchanges of block rows give another Sudoku matrix?"
   ]
  },
  {
   "cell_type": "markdown",
   "metadata": {},
   "source": [
    "## Solution\n",
    "\n",
    "The values of $Sx$ are the row sums of the Sudoku matrix $S$. Since each row must have the numbers $1,2,\\ldots,9$ in it, and these numbers sum to $45$, $Sx$ is the 9x1 matrix with all entries $45$. \n",
    "\n",
    "To maintain the property of being a Sudoku matrix, the the matrix must contain the numbers $1,2,\\ldots,9$ in each row, column, and $3\\times3$ block. Performing a row exchange does not change the set of numbers in each row and column, so the condition we have to worry about is the block condition. A row exchange between two rows in the same set of 3 rows preserves the block property (i.e. exchanging two rows out of the rows $1,2,3$, exchanging two rows out of the rows $4,5,6$, or exchanging two rows out the the rows $7,8,9$). \n",
    "\n",
    "In addition, if we consider three blocks of rows $\\{1,2,3\\}, \\{4,5,6\\}, \\{7,8,9\\}$ and exchange any one of these blocks "
   ]
  },
  {
   "cell_type": "code",
   "execution_count": null,
   "metadata": {
    "collapsed": true
   },
   "outputs": [],
   "source": []
  },
  {
   "cell_type": "code",
   "execution_count": null,
   "metadata": {
    "collapsed": true
   },
   "outputs": [],
   "source": []
  },
  {
   "cell_type": "code",
   "execution_count": null,
   "metadata": {
    "collapsed": true
   },
   "outputs": [],
   "source": []
  }
 ],
 "metadata": {
  "kernelspec": {
   "display_name": "Julia 0.6.0",
   "language": "julia",
   "name": "julia-0.6"
  },
  "language_info": {
   "file_extension": ".jl",
   "mimetype": "application/julia",
   "name": "julia",
   "version": "0.6.0"
  }
 },
 "nbformat": 4,
 "nbformat_minor": 2
}
