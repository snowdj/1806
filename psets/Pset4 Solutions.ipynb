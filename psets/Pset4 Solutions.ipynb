{
 "cells": [
  {
   "cell_type": "markdown",
   "metadata": {},
   "source": [
    "## Problem 1. The Singular Value Decomposition\n",
    "\n",
    "The \"SVD\" comes too late in this course.  It is the most valuable of all the matrix decompositions.  In mathematics courses, it is the tradition to not introduce something before you prove it exists.  The SVD is too important.\n",
    "\n",
    "One version of the SVD produces \n",
    "    $$ A = U * Diagonal(\\Sigma) * V',$$\n",
    "        where  $U'U=I$, $V'V=I$, $\\Sigma=(\\sigma_1,\\sigma_2,...)$ with $\\sigma_1 \\ge \\sigma_2 \\ge ... \\ge 0$. <br>\n",
    "    $U$ is $m \\times n$ and $V$ is $n \\times n$ if $ m \\ge n$, and <br>\n",
    "    $U$ is $m \\times m$ and $V$ is $n \\times m$ if $ m < n$."
   ]
  },
  {
   "cell_type": "code",
   "execution_count": 3,
   "metadata": {},
   "outputs": [
    {
     "data": {
      "text/plain": [
       "10×5 Array{Float64,2}:\n",
       " -0.32646   -0.517529   -0.165206   -0.443738    0.235894  \n",
       " -0.351029  -0.330528   -0.089409    0.706509   -0.110413  \n",
       " -0.226775  -0.0212746  -0.32661    -0.215963   -0.60503   \n",
       " -0.343977   0.353664   -0.220522   -0.130908    0.00215409\n",
       " -0.339341   0.296342    0.117421   -0.380266    0.134269  \n",
       " -0.248303   0.450772    0.195541    0.160689   -0.261548  \n",
       " -0.343533   0.24844     0.127849    0.140431    0.0331046 \n",
       " -0.340495  -0.139018    0.626564    0.02322     0.309032  \n",
       " -0.40353   -0.2878     -0.0342925  -0.0303885  -0.230776  \n",
       " -0.163893   0.206138   -0.589306    0.220359    0.574289  "
      ]
     },
     "metadata": {},
     "output_type": "display_data"
    },
    {
     "data": {
      "text/plain": [
       "5-element Array{Float64,1}:\n",
       " 3.97924 \n",
       " 1.36954 \n",
       " 0.873814\n",
       " 0.635436\n",
       " 0.508405"
      ]
     },
     "metadata": {},
     "output_type": "display_data"
    },
    {
     "data": {
      "text/plain": [
       "5×5 Array{Float64,2}:\n",
       " -0.478369   0.538566   -0.431014   0.427057   0.336094\n",
       " -0.39122   -0.361135   -0.663037  -0.47687   -0.222498\n",
       " -0.512873  -0.0388269   0.310821   0.352659  -0.717269\n",
       " -0.418316  -0.642644    0.276425   0.190205   0.547203\n",
       " -0.424361   0.406238    0.448986  -0.655493   0.153721"
      ]
     },
     "metadata": {},
     "output_type": "display_data"
    },
    {
     "data": {
      "text/plain": [
       "10×5 Array{Float64,2}:\n",
       "  0.0           2.22045e-16  -5.55112e-17   3.33067e-16   3.33067e-16\n",
       "  0.0          -1.11022e-16  -1.11022e-16  -5.55112e-16  -6.66134e-16\n",
       " -2.22045e-16  -1.11022e-16   0.0           5.55112e-17   5.55112e-17\n",
       " -2.22045e-16  -2.22045e-16  -3.33067e-16  -3.05311e-16  -3.33067e-16\n",
       "  1.11022e-16   1.66533e-16   0.0          -1.11022e-16  -1.11022e-16\n",
       " -1.11022e-16  -2.04697e-16   0.0          -1.96024e-16  -5.55112e-16\n",
       " -1.11022e-16  -1.11022e-16  -1.11022e-16  -1.11022e-16  -3.33067e-16\n",
       " -5.55112e-17   2.77556e-17  -2.22045e-16   0.0          -4.44089e-16\n",
       " -1.11022e-16  -1.11022e-16  -1.11022e-16   1.11022e-16  -3.33067e-16\n",
       "  1.11022e-16  -2.22045e-16  -9.41087e-17  -2.498e-16     5.55112e-17"
      ]
     },
     "metadata": {},
     "output_type": "display_data"
    }
   ],
   "source": [
    "# Try computing an SVD of a tall skinny matrix:\n",
    "\n",
    "A = rand(10,5)\n",
    "U,Σ,V = svd(A)\n",
    "display(U),display(Σ),display(V),display(A-U*diagm(Σ)*V');"
   ]
  },
  {
   "cell_type": "code",
   "execution_count": 2,
   "metadata": {},
   "outputs": [
    {
     "data": {
      "text/plain": [
       "5×5 Array{Float64,2}:\n",
       " -0.444095   0.446948   0.49953    0.0883289  -0.58795 \n",
       " -0.532186   0.350316  -0.186615   0.471382    0.580544\n",
       " -0.359598   0.24724   -0.206352  -0.861995    0.154743\n",
       " -0.537473  -0.549284  -0.482821   0.109484   -0.405349\n",
       " -0.318387  -0.56096    0.663286  -0.122374    0.359208"
      ]
     },
     "metadata": {},
     "output_type": "display_data"
    },
    {
     "data": {
      "text/plain": [
       "5-element Array{Float64,1}:\n",
       " 3.62239 \n",
       " 1.06968 \n",
       " 0.896456\n",
       " 0.602733\n",
       " 0.333567"
      ]
     },
     "metadata": {},
     "output_type": "display_data"
    },
    {
     "data": {
      "text/plain": [
       "10×5 Array{Float64,2}:\n",
       " -0.412827   0.0118736   -0.505429   -0.387665    0.501023  \n",
       " -0.349008  -0.52344      0.429022   -0.434951   -0.222963  \n",
       " -0.123402  -0.152375     0.204052   -0.169537    0.48766   \n",
       " -0.329853   0.453126     0.602363    0.210508    0.322669  \n",
       " -0.373523   0.516898    -0.125383   -0.238583   -0.277509  \n",
       " -0.293116  -0.346552     0.0137738   0.0958782  -0.173515  \n",
       " -0.446071  -0.104964    -0.0431474   0.52258     0.00533607\n",
       " -0.112339  -0.00753521   0.116026    0.189819   -0.134635  \n",
       " -0.212884   0.266214    -0.0169108  -0.250204   -0.473935  \n",
       " -0.318406  -0.167637    -0.352821    0.386833   -0.0862972 "
      ]
     },
     "metadata": {},
     "output_type": "display_data"
    },
    {
     "data": {
      "text/plain": [
       "5×10 Array{Float64,2}:\n",
       " -4.996e-16    -1.11022e-16  -6.93889e-17  …   0.0          -5.55112e-17\n",
       "  8.88178e-16  -5.55112e-17   0.0              5.55112e-17   3.33067e-16\n",
       "  0.0          -5.55112e-17   0.0             -5.55112e-17  -1.94289e-16\n",
       " -1.11022e-16  -4.44089e-16   1.38778e-16     -2.77556e-16   0.0        \n",
       " -3.33067e-16   1.11022e-16   1.11022e-16     -3.46945e-17   2.77556e-17"
      ]
     },
     "metadata": {},
     "output_type": "display_data"
    }
   ],
   "source": [
    "##Try computing an SVD of a short fat matrix:\n",
    "\n",
    "A = rand(5,10)\n",
    "U,Σ,V = svd(A)\n",
    "display(U),display(Σ),display(V),display(A-U*diagm(Σ)*V');"
   ]
  },
  {
   "cell_type": "markdown",
   "metadata": {},
   "source": [
    "We are asking you to execute this at least once and turn it in, but of course you can\n",
    "try to play with the svd a lot more."
   ]
  },
  {
   "cell_type": "markdown",
   "metadata": {},
   "source": [
    "## Problem 2.  Show that if $\\Sigma$ has all positive entries, then every column in $U$ is in the column space of $A$."
   ]
  },
  {
   "cell_type": "markdown",
   "metadata": {},
   "source": [
    "We can multiply both sides of the decompositon $ A = U * Diagonal(\\Sigma) * V'$ on the right by $V$ to get $$A * V = U * Diagonal(\\Sigma).$$\n",
    "Now, if $\\Sigma$ has all positive entries, we have that $Diagonal(\\Sigma)$ is invertible and multiplying both sides on the right by its inverse gives us that $$A * V * Diagonal(\\Sigma)^{-1}= U.$$\n",
    "\n",
    "The $i$th column of $U$ is then $U * \\mathbf{e}_i$, where $\\mathbf{e}_i$ is the vector of all zeros, except for a $1$ in the $i$th spot. We have then that $$U*\\mathbf{e}_i = A * V * Diagonal(\\Sigma)^{-1} * \\mathbf{e}_i.$$\n",
    "But $V * Diagonal(\\Sigma)^{-1} * \\mathbf{e}_i$ is a vector, and so $A * (V * Diagonal(\\Sigma)^{-1} * \\mathbf{e}_i)$ is a linear combination of the columns of $A$ (through the column viewpoint of matrix multiplication). This shows that the $i$th column, and therefore every column since $i$ was arbitrary, of $U$ is in the column space of $A$. \n",
    "\n",
    "\n"
   ]
  },
  {
   "cell_type": "markdown",
   "metadata": {},
   "source": [
    "## Problem 3. Show that if $\\Sigma$ has all positive entries, then every column in $A$ is in the column space of $U$."
   ]
  },
  {
   "cell_type": "markdown",
   "metadata": {},
   "source": [
    "In the decomposition $$A = U * Diagonal(\\Sigma) * V^\\prime,$$ we can multiply both sides by $\\mathbf{e}_i$ to get $$A * \\mathbf{e}_i= U * Diagonal(\\Sigma) * V^\\prime * \\mathbf{e}_i.$$\n",
    "The left hand side is the $i$th column of $A$ and the right hand side is $U$ times a vector, and is therefore a linear combination of the columns of $U$. Thus, since $i$ was arbitrary, every column of $A$ is in the column space of $U$. \n"
   ]
  },
  {
   "cell_type": "markdown",
   "metadata": {},
   "source": [
    "## Problem 4. Find a relationship between the nullspace of $A$ and one of the four fundamental subspaces of $V$."
   ]
  },
  {
   "cell_type": "markdown",
   "metadata": {},
   "source": [
    "This solution assumes that all entries of $\\Sigma$ are positive. \n",
    "\n",
    "Suppose that $\\mathbf{v}$ is in the nullspace of $A$. Then, $$0 = A*\\mathbf{v} = U*Diagonal(\\Sigma) * V^\\prime *\\mathbf{v}.$$\n",
    "We can multiply both sides on the left by $U^\\prime$ to get $U^\\prime * A *\\mathbf{v} = Diagonal(\\Sigma) * V^\\prime * \\mathbf{v}$. If every entry in $\\Sigma$ is positive, then we can multiply both sides on the left by the inverse of $Diagonal(\\Sigma)$ to get that $$Diagonal(\\Sigma)^{-1} * U^\\prime * A * \\mathbf{v} = V^\\prime * \\mathbf{v}.$$\n",
    "But the left hand side equals $0$, since $A * \\mathbf{v} = 0$ and any matrix multiplied by a zero matrix is a zero matrix. Therefore, $\\mathbf{v}$ is in the nullspace of $V^\\prime$ and therefore in the left nullspace of $V$. Conversely, if a vector $\\mathbf{w}$ is in the left nullspace of $V$, then we have that $$A*\\mathbf{w} = U*Diagonal(\\Sigma) * (V^\\prime *\\mathbf{w}) = U * Diagonal(\\Sigma) * 0 = 0,$$ and $\\mathbf{w}$ would also be in the nullspace of $A$.  Therefore, the nullspace of $A$ is equal to the left nullspace of $V$.  "
   ]
  },
  {
   "cell_type": "markdown",
   "metadata": {},
   "source": [
    "## Problem 5. Strang Chapter 4.1. Problem 24.\n",
    "\n",
    "Suppose an $n$ by $n$ matrix is invertible: $AA^{-1}=I$.  Then the first column of $A^{-1}$ is orthogonal to the space spanned by which rows of $A$?"
   ]
  },
  {
   "cell_type": "markdown",
   "metadata": {
    "collapsed": true
   },
   "source": [
    "The dot product of the $i$th row of $A$ by the first column of $A^{-1}$ is equal to $I_{i,1}$. We know that $$I_{i,1} = \\begin{cases} 1, & \\text{if } i = 1 \\\\ 0, & \\text{if } i \\neq 1.\\end{cases}$$\n",
    "\n",
    "Thus, the first column of $A^{-1}$ is orthogonal to rows $2$ through $n$ of $A$ and is therefore orthogonal to the space spanned by these $n-1$ rows, which is an $n-1$-dimensional space. Since the first column of $A^{-1}$ is nonzero, the orthogonal complement of this column is an $n-1$-dimensional space and is exactly the space spanned by rows $2$ through $n$ of $A$. "
   ]
  }
 ],
 "metadata": {
  "kernelspec": {
   "display_name": "Julia 0.6.0",
   "language": "julia",
   "name": "julia-0.6"
  },
  "language_info": {
   "file_extension": ".jl",
   "mimetype": "application/julia",
   "name": "julia",
   "version": "0.6.0"
  }
 },
 "nbformat": 4,
 "nbformat_minor": 2
}
