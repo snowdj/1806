{
 "cells": [
  {
   "cell_type": "markdown",
   "metadata": {},
   "source": [
    "Problem 1. Suppose $U$ is nxm with n≥m and $U^TU=I$. Let $b$ be any vector in $\\Re^n$ and we compute the projection $Pb=U\\hat{x}$. What is $\\hat{x}$ in terms of $U$ and $b$?"
   ]
  },
  {
   "cell_type": "markdown",
   "metadata": {},
   "source": [
    "<br><span style=\"color:green\">\n",
    "    <b>Answer:</b>\n",
    "<br>\n",
    "$P$ is the projection to the column space of $U$, and using the formula given in lecture, $P = U(U^TU)^{-1}U^T = UU^T$ so $\\hat{x} = U^TU\\hat{x} = U^TPb = U^TUU^Tb = U^Tb$.\n",
    "</span>"
   ]
  },
  {
   "cell_type": "markdown",
   "metadata": {},
   "source": [
    "Problem 2.  Show that $\\|\\hat{x}\\| = \\|U\\hat{x}\\|$ in the problem above, where $\\|a\\|$ is defined as $\\sqrt{a^Ta}$."
   ]
  },
  {
   "cell_type": "markdown",
   "metadata": {},
   "source": [
    "<br><span style=\"color:green\">\n",
    "    <b>Answer:</b>\n",
    "<br>$(U\\hat{x})^T(U\\hat{x}) = \\hat{x}^TU^TU\\hat{x} = \\hat{x}^T\\hat{x}$ where the second equality is using the given fact that $U^TU=I$.\n",
    "</span>"
   ]
  },
  {
   "cell_type": "markdown",
   "metadata": {},
   "source": [
    "Problem 3. (Extension of GS p. 216 Problem 11a)"
   ]
  },
  {
   "cell_type": "markdown",
   "metadata": {},
   "source": [
    "Let $A = \\begin{pmatrix} 1 & 1\\\\ 0 & 1\\\\ 0 & 0 \\end{pmatrix}$ and $b =\\begin{pmatrix} 2 \\\\ 3 \\\\ 4 \\end{pmatrix}$."
   ]
  },
  {
   "cell_type": "markdown",
   "metadata": {},
   "source": [
    "3a) Compute the projection of b onto the column space of $A$ by hand calculation:"
   ]
  },
  {
   "cell_type": "markdown",
   "metadata": {},
   "source": [
    "<br><span style=\"color:green\">\n",
    "    <b>Answer:</b>\n",
    "    <br>The projection is $A(A^TA)^{-1}A^Tb = \\begin{bmatrix} 2\\\\3 \\end{bmatrix}$. Equivalently, one could notice that the column space of $A$ is just the $xy$ plane contained in $\\mathbb{R}^3$, and the projection of a vector $\\begin{bmatrix} x\\\\y\\\\z\\end{bmatrix}$ to the $xy$ plane is just $\\begin{bmatrix} x\\\\y\\\\0\\end{bmatrix}$.\n",
    "</span>\n"
   ]
  },
  {
   "cell_type": "markdown",
   "metadata": {},
   "source": [
    "3b) Check your answer by using Julia to compute $(A^T A)^{-1}(A^Tb)$. What do you observe?"
   ]
  },
  {
   "cell_type": "code",
   "execution_count": 39,
   "metadata": {},
   "outputs": [
    {
     "data": {
      "text/plain": [
       "2-element Array{Float64,1}:\n",
       " -1.0\n",
       "  3.0"
      ]
     },
     "execution_count": 39,
     "metadata": {},
     "output_type": "execute_result"
    }
   ],
   "source": [
    "A = [1 1 ;0 1; 0 0]\n",
    "b = [2, 3, 4]\n",
    "(A'A)\\(A'b)"
   ]
  },
  {
   "cell_type": "markdown",
   "metadata": {},
   "source": [
    "<br><span style=\"color:green\">\n",
    "    <b>Answer:</b>\n",
    "<br>The projection of $b$ to the space spanned by the columns of $A$ is, by definition, a vector in the span $C(A)$, i.e. a vector of the form $Ax$. The expression above finds $x$. The projection (found in part (a)) is $Ax = A\\begin{bmatrix}-1\\\\3\\end{bmatrix} = \\begin{bmatrix} 2\\\\3\\\\0\\end{bmatrix}$.\n",
    "</span>"
   ]
  },
  {
   "cell_type": "markdown",
   "metadata": {},
   "source": [
    "3c) Check your answer by typing $A\\b$. What do you observe?"
   ]
  },
  {
   "cell_type": "code",
   "execution_count": 40,
   "metadata": {},
   "outputs": [
    {
     "data": {
      "text/plain": [
       "2-element Array{Float64,1}:\n",
       " -1.0\n",
       "  3.0"
      ]
     },
     "execution_count": 40,
     "metadata": {},
     "output_type": "execute_result"
    }
   ],
   "source": [
    "A\\b"
   ]
  },
  {
   "cell_type": "markdown",
   "metadata": {},
   "source": [
    "<br><span style=\"color:green\">\n",
    "    <b>Answer:</b>\n",
    "<br>This is the same as the previous part. Backslash solves the least squares problem.\n",
    "</span>"
   ]
  },
  {
   "cell_type": "markdown",
   "metadata": {},
   "source": [
    "3d) Find $A \\hat{x}=p$ using the svd and compare with the standard approach. What do you observe?"
   ]
  },
  {
   "cell_type": "code",
   "execution_count": 5,
   "metadata": {},
   "outputs": [
    {
     "data": {
      "text/plain": [
       "3×2 Array{Float64,2}:\n",
       " 2.0  2.0\n",
       " 3.0  3.0\n",
       " 0.0  0.0"
      ]
     },
     "execution_count": 5,
     "metadata": {},
     "output_type": "execute_result"
    }
   ],
   "source": [
    "U,s,V = svd(A)\n",
    "[U*U'b A*inv(A'A)*A'b]"
   ]
  },
  {
   "cell_type": "markdown",
   "metadata": {},
   "source": [
    "<br><span style=\"color:green\">\n",
    "    <b>Answer:</b>\n",
    "    <br>You should notice that $UU^Tb = A(A^T)^{-1}A^Tb$ in this case. Note that $\\hat{x}$ is what was computed in parts (b) and (c), and the answers here are $A\\hat{x}$, the actual projection.\n",
    "<br><br>(Why the equality? In the case (such as here) where $A$ is comprised of linearly independent columns, for rank reasons we have that $\\Sigma$ also has full rank, i.e. it is invertible. In this case, I claim that $UU^T$ is a projection matrix onto the column space of $A$. First note that $A = U\\Sigma V^T \\implies U^TA = U^TU\\Sigma V^T = \\Sigma V^T\\implies UU^TA = U\\Sigma V^T = A$. So $UU^T$ acts as the identity on $C(A)$.\n",
    "    Next we have to show that $UU^T$ is zero on the orthogonal complement of $C(A)$, i.e. on $N(A^T)$. Let $x$ be in $N(A^T)$, so that $A^Tx=0$. We need to show that $UU^Tx=0$. From $A = U\\Sigma V^T$ we have $AV = U\\Sigma\\implies AV\\Sigma^{-1} = U$. So $U^Tx = \\Sigma^{-1}V^TA^Tx = 0$.)\n",
    "</span>\n"
   ]
  },
  {
   "cell_type": "markdown",
   "metadata": {},
   "source": [
    "3e) Also compare the values in problem 2 above.  What do you observe?"
   ]
  },
  {
   "cell_type": "code",
   "execution_count": 18,
   "metadata": {},
   "outputs": [
    {
     "data": {
      "text/plain": [
       "(3.162277660168378, 3.1622776601683777)"
      ]
     },
     "execution_count": 18,
     "metadata": {},
     "output_type": "execute_result"
    }
   ],
   "source": [
    "x̂ = A\\b\n",
    "norm(x̂),norm(U*x̂)"
   ]
  },
  {
   "cell_type": "markdown",
   "metadata": {},
   "source": [
    "<br><span style=\"color:green\">\n",
    "    <b>Answer:</b>\n",
    "<br>They are the same. `A\\b` finds the vector $\\hat{x}$ such that $A\\hat{x}$ is the projection of $b$ to the column space of $A$.\n",
    "</span>"
   ]
  },
  {
   "cell_type": "markdown",
   "metadata": {},
   "source": [
    "4)  Using Julia, find the best fit parabola through four random points:"
   ]
  },
  {
   "cell_type": "code",
   "execution_count": 6,
   "metadata": {},
   "outputs": [
    {
     "data": {
      "text/plain": [
       "4-element Array{Float64,1}:\n",
       " 0.0367565\n",
       " 0.34282  \n",
       " 0.365556 \n",
       " 0.889116 "
      ]
     },
     "execution_count": 6,
     "metadata": {},
     "output_type": "execute_result"
    }
   ],
   "source": [
    "x = sort(rand(4))\n",
    "y = sort(rand(4))"
   ]
  },
  {
   "cell_type": "code",
   "execution_count": 31,
   "metadata": {
    "collapsed": true
   },
   "outputs": [],
   "source": [
    "A = [ones(x) x x.^2]\n",
    "? \\ ?  # Fill in the question marks and interpret briefly the answer"
   ]
  },
  {
   "cell_type": "code",
   "execution_count": 32,
   "metadata": {},
   "outputs": [
    {
     "data": {
      "text/plain": [
       "3-element Array{Float64,1}:\n",
       " 0.0860273\n",
       " 0.233275 \n",
       " 0.422032 "
      ]
     },
     "execution_count": 32,
     "metadata": {},
     "output_type": "execute_result"
    }
   ],
   "source": [
    "A\\y"
   ]
  },
  {
   "cell_type": "markdown",
   "metadata": {},
   "source": [
    "<br><span style=\"color:green\">\n",
    "    <b>Answer:</b>\n",
    "<br>You're supposed to compute `A\\y`. This is a vector $\\hat{q}$ that is the \"closest to being a solution\" for $Aq = y$. An actual solution $q$ to $Aq = y$ is a vector $q = \\begin{bmatrix}a\\\\b\\\\c\\end{bmatrix}$ such that all of the points $(x_i, y_i)$ fall on the parabola $a + bx + cx^2 = y$. In general, there is no such exact solution, and instead $\\hat{q} = \\begin{bmatrix}\\hat{a}\\\\\\hat{b}\\\\\\hat{c}\\end{bmatrix}$ contains the coefficients such that $\\hat{a} + \\hat{b}x + \\hat{c}x^2 = y$ is the <i>best fit</i> quadratic through those points.\n",
    "</span>"
   ]
  },
  {
   "cell_type": "markdown",
   "metadata": {},
   "source": [
    "5) Using Julia and the same points as in problem 4, find the best fit curve of the form\n",
    "$y = C*sin(x) + D*e^x + E*x$ through the four points.\n",
    "\n",
    "Note: If x is a vector, sin.(x) and e.^x may be useful constructs for the elementwise evaluation of the functions."
   ]
  },
  {
   "cell_type": "markdown",
   "metadata": {},
   "source": [
    "<br><span style=\"color:green\">\n",
    "    <b>Answer:</b>\n",
    "<br>Just as in the previous problem, we want to compute `A\\y` where the rows of $A$ are $[\\sin x_i, e^{x_i}, x_i]$. In Julia notation, this is:\n",
    "</span>\n"
   ]
  },
  {
   "cell_type": "code",
   "execution_count": 37,
   "metadata": {},
   "outputs": [
    {
     "data": {
      "text/plain": [
       "4×3 Array{Float64,2}:\n",
       " 0.128975  1.13807  0.129335\n",
       " 0.303099  1.36062  0.307943\n",
       " 0.764774  2.38856  0.870691\n",
       " 0.821985  2.62449  0.964888"
      ]
     },
     "execution_count": 37,
     "metadata": {},
     "output_type": "execute_result"
    }
   ],
   "source": [
    "A = [sin.(x) e.^x x]"
   ]
  },
  {
   "cell_type": "code",
   "execution_count": 38,
   "metadata": {},
   "outputs": [
    {
     "data": {
      "text/plain": [
       "3-element Array{Float64,1}:\n",
       " -3.46915 \n",
       "  0.145183\n",
       "  3.31982 "
      ]
     },
     "execution_count": 38,
     "metadata": {},
     "output_type": "execute_result"
    }
   ],
   "source": [
    "A\\y"
   ]
  },
  {
   "cell_type": "markdown",
   "metadata": {},
   "source": [
    "<span style=\"color:green\">\n",
    "An exact solution would be a vector $q=\\begin{bmatrix}C\\\\D\\\\E\\end{bmatrix}$ such that $Aq = y$, i.e. $C\\sin x_i + De^{x_i} + Ex_i = y_i$, and the output of $A\\backslash y$ is a vector of coefficients $\\hat{C},\\hat{D},\\hat{E}$ such that $\\hat{C}\\sin(x) + \\hat{D}e^x + \\hat{E}x = y$ is the <i>best fit</i> equation of that form through these points.\n",
    "</span>"
   ]
  },
  {
   "cell_type": "markdown",
   "metadata": {},
   "source": [
    "6) In this problem we explore how to let data define the subspace using the SVD. We will use an often used data set known as the [MNIST data base](https://en.wikipedia.org/wiki/MNIST_database) for character recognition. \n",
    "\n",
    "Some of you are good coders and may want to understand the code below.  That is not required of 18.06.  Those of you who prefer not to look at code, there is no need.  What we want most is for you to see the idea below.  We will in very few lines of code, completely from scratch write a character recognition machine learning code.  We'd like you to understand the idea of how it works, not the code.\n",
    "\n",
    "(Credit to Raj Rao, University of Michigan.)"
   ]
  },
  {
   "cell_type": "code",
   "execution_count": 14,
   "metadata": {
    "collapsed": true
   },
   "outputs": [],
   "source": [
    "using Flux, Flux.Data.MNIST, Images"
   ]
  },
  {
   "cell_type": "markdown",
   "metadata": {},
   "source": [
    "Grab 60000 images of handwritten digits"
   ]
  },
  {
   "cell_type": "code",
   "execution_count": 15,
   "metadata": {},
   "outputs": [
    {
     "data": {
      "text/plain": [
       "(60000,)"
      ]
     },
     "execution_count": 15,
     "metadata": {},
     "output_type": "execute_result"
    }
   ],
   "source": [
    "imgs = MNIST.images()\n",
    "labels = MNIST.labels()\n",
    "size(imgs)"
   ]
  },
  {
   "cell_type": "markdown",
   "metadata": {},
   "source": [
    "Let's look at the first 24 (you can look at more if you like)"
   ]
  },
  {
   "cell_type": "code",
   "execution_count": 16,
   "metadata": {},
   "outputs": [
    {
     "data": {
      "text/html": [
       "<table><tbody><tr><td style='text-align:center;vertical-align:middle; margin: 0.5em;border:1px #90999f solid;border-collapse:collapse'><img style='max-width: 100px; max-height:100px;display:inline' src=\"data:image/png;base64,iVBORw0KGgoAAAANSUhEUgAAAHAAAABwCAAAAADji6uXAAAABGdBTUEAALGPC/xhBQAAAAJiS0dEAP+Hj8y/AAACCklEQVRo3u3aT4iNURjH8c8gC/Kn2ZhSEotRIhYoKUmSYjGxoWywQ1Y2dhaksEAWs1IWssWK8nehbk3+bMjenx2DNMhg8byT697bvXNninNP51tvb+c973t//d6nc97nOedSKBQKhUKh0Pv0dfvATCyoax/BHAziMM5hL77iDE42PD/jXzvMX3BWpxuWYDY2YhMWYneL+17jIobwGc/xMAWH+Qu2HYdrcdff464VP3EAX6r2W3zAqxQc5i/YNob9qGFZi74aRrEF33WO839zmL9g27n0PY5jJ56KuRKeYZsYdytxLGWH+QtOKqeZL75xwziI/bjWKw7zF+yY08Cn6vyxOh/CdfEdTN5h/oJd1RZzcQubsQN3esFh/oJd14fL8UTkM/cxgsv4larD/AW7jiFRA17BvKp9AlfxLkWH+QtOKYawCuextWoP4xTepOYwf8Epx5BYs9klxmQf7omaIymH+QtOK4YTfBMJ7g9sx4OUHOYvOKnaohWrsQfr6n7kBR6l5jB/wa5jOIijIq8ZqLs+LnKaTjVj/q803bl0APvE/tLShr4Rkc/cTNFh/oIdY7hIrIlewoqGvhrO4obJr9nk/0rTiWG/qBfWaN63eCzqitsYS91h/oJNMdwg9irWY3FD3xgu4LQ/e4XJO8xfsCmnGaqOCV6KNdJx8T+L0V5zmL9goVAoFKbPbwxNTGDM4nx8AAAAAElFTkSuQmCC\"></td><td style='text-align:center;vertical-align:middle; margin: 0.5em;border:1px #90999f solid;border-collapse:collapse'><img style='max-width: 100px; max-height:100px;display:inline' src=\"data:image/png;base64,iVBORw0KGgoAAAANSUhEUgAAAHAAAABwCAAAAADji6uXAAAABGdBTUEAALGPC/xhBQAAAAJiS0dEAP+Hj8y/AAACFklEQVRo3u3ZT4hNURwH8M8MeY1kFjbUZMcOrzcRK7JEURaSzFZJTZGyQFYW/ixQoqSIIlkQyWbqrWz829tJKUzCpChzLc6VR3PffW+UzpzOt07dd8793W/f8+33O797HxkZGRkZGRkD/xI8igMYw3VcwPOamMH/rTB9wll72MQEFnfMfcKS2BSmTzh/NkHrcBfDKPAF3wX/NuBZ+TsKhekT9pWHC9HCDYyUwYVQP0/hVjl3DCdjUZg+YV95eBm7Z5hvYRHa2IRVMSlMn7BnD0ex1e/EbeMBTuMtXuAjNuue3OlvaZy1tOnP/uWRkI8bsRpX8L5c+4Gv5dpMPWr6WxpfHq7EYaF/+SDk3DVM4WE5/sYQDmFPDArTJ+zqYQNnsEXoPcfwVPCoDstjUZg+YVcPW4J/sF04A+ecwvQJu3p4Vjgw23r3bxDTqg/a9Lc0Hg+3Cb1Mgft9PHC6jHkZi8L0CSs9HMICvMPtHh7UwInyegJHYlGYPmFtX/pN6EW7oYGjQv/6RqjBU7EoTJ+w1sO6OtoUvNuFe9gZm8L0CSs9HCjHDoxX3HNQyL9h3BTePaJTmD5hpYdFOZbiPK5iEuuxF2uE796v8RgXY1WYPmFtLZ2H/UKN/IwVHWtPhP7leMwK0yes/F46gjtY23FjUV5PCv8zjesf6W9pPB7CMuwTzrxfHp7DJbyaKwrTJ8zIyMjIyMjgJ0POU6VTCZYSAAAAAElFTkSuQmCC\"></td><td style='text-align:center;vertical-align:middle; margin: 0.5em;border:1px #90999f solid;border-collapse:collapse'><img style='max-width: 100px; max-height:100px;display:inline' src=\"data:image/png;base64,iVBORw0KGgoAAAANSUhEUgAAAHAAAABwCAAAAADji6uXAAAABGdBTUEAALGPC/xhBQAAAAJiS0dEAP+Hj8y/AAABpUlEQVRo3u3YsUuVURzG8Y9yCVoSCxEhggZps6khBwsuRLQ3KW4a9G80Bc5NDg41Rjo1NDlZpKORCUFSQ1sgJIFQw3vA3nuvJO+95Lk/zrMc7rnvfb7nOQ/nfbkvRUVFRUVFRUXDr5FBG7bxAnew1+P70f+dMD6w1Tkxhyt41dDwFrZzShgf2NXhXUxr1uEoruOa0w94/C09/w4XsdXQbApLeI6PuSSMD+zqsJ8VrKZxP6eE8YG1Dmcw2YfZWBrf5JQwPrDW4QNcbGg0qXoWwrecEsYH1jq8kcbdBkYrqh4/4TCnhPGBrV6T78/440u4jwXcS3NP8COnhPGBPTu83PH5ZlpZG1dxAfNp7gjv8CuZ7eSWMD6w9jfuGR6pztHBX/Mz6cJj/MQHVW/b2MR3fMW4qt+sEsYH1s7hY3zBbMdFB9hQdfe2h8kyJvA5x4TxgV330qcNTNppfJljwvjAVv8WJ1rPMWEBFmD+wIGdwxHVu/J/vWuNv6XD2+HvM64+/pYOb4dwG2u5JYwPHOi9NMuE8YED6fA1HuaaMD6wqKioqKh//QE3ki5sgi691wAAAABJRU5ErkJg\"></td><td style='text-align:center;vertical-align:middle; margin: 0.5em;border:1px #90999f solid;border-collapse:collapse'><img style='max-width: 100px; max-height:100px;display:inline' src=\"data:image/png;base64,iVBORw0KGgoAAAANSUhEUgAAAHAAAABwCAAAAADji6uXAAAABGdBTUEAALGPC/xhBQAAAAJiS0dEAP+Hj8y/AAABf0lEQVRo3u3YsUocURiG4cclYGGhIYJYZa9AvIAtUiRikcLKlOYG0glapLELpBJJHbFP4QUo2ix4B9oIKVLEysLKwqSYgV2FZGd2F+fMz/mqc2CYd18+/jOHJScnJycnJyen/ZmZ1os+Yw8dvMH5P57rPLdhfOCLabzkI3bxUO7/pGQYHziVDl9jNlXD+MCJO3yLT+X6Eu/xOyXD+MCJOuzhEPPl/it+pmYYHzhRh1tYLtdnOErRMD5w7HvpouLMfMAtPuA0RcP4wLHmsIsfQ/sD1fprxDA+cKwO17FSrk+wn7JhfGDts3RDcY+ZQx+b/n8PbdwwPrDWHHY9PkOv1euvEcP4wFod7hj8FwNf2mAYH1i5w1WsDe2PcdUGw/jAyt/DG7ws1xeKe81dGwzjAyvP4SuDc/Sb8fprxDA+sFKH35/8sn6bDOMDR3a4ineKGbxXzGDdu2ijhvGBIztcwFK5/oXtthlmYAamDxw5h5eK71+vrYbxgTk5OTk5k+cvQ+8sXnIFcoMAAAAASUVORK5C\"></td><td style='text-align:center;vertical-align:middle; margin: 0.5em;border:1px #90999f solid;border-collapse:collapse'><img style='max-width: 100px; max-height:100px;display:inline' src=\"data:image/png;base64,iVBORw0KGgoAAAANSUhEUgAAAHAAAABwCAAAAADji6uXAAAABGdBTUEAALGPC/xhBQAAAAJiS0dEAP+Hj8y/AAAB8ElEQVRo3u3Zz4uNURzH8ddI+ZEkoWwsDBtkI1kZG7GTWIwFhZ2FnZKSjfEH2NiwIKlpRMlsZOPXZspOGSVWmo2SlEiZa/E9t5mm5s69j5p77ul8Nvf5dZ73/dzP/T7nx0NVVVVVVVVVVVVVVdX/a6jXBgdwBiPYnY5dwgwO4j6mOrRfsdwOywf2lOEobmJTavgCm7Fr3s0e4lRODssHruz2ov24jbV4het4g1WYwJF07dvcHJYP7CrD07iTtp+LevyR9kfN5fcF93JzWD5wyWfpGK6ghVu4ai4/mMbOtH0ST3JzWD6wYx1eE/n9wTNcxq90brWov23ijzBm6fz64rB84KJ1uAEfxPhlEsfnnduBB9iX9h/hPH7m6LB84KIZbhHzBdiO3ziHY9iDdeL52sIJPM3VYfnAjnU4LeYOQyKrtmbSsa34mj6zdVg+cNH+8Lt4fk5iIz6J/u4uvmFcZDeeu8PygR3HNFOiDhdqBIcwi8+5Oywf2NX8cKHWiPxaah1mAOx5vbStvyLDdp+YrcPygY3q8OggOSwf2CjD4UFyWD6wUYav0zedHQSH5QMbZfgOH8Xcf1jtD/sMbDymOSveZbzERbzP1WH5wMYZrhfvDQ/jsViHq+ulfQE2zpDI8QYuYK/uarH8n3TZgVWDr38TiEiompzh9AAAAABJRU5ErkJg\"></td><td style='text-align:center;vertical-align:middle; margin: 0.5em;border:1px #90999f solid;border-collapse:collapse'><img style='max-width: 100px; max-height:100px;display:inline' src=\"data:image/png;base64,iVBORw0KGgoAAAANSUhEUgAAAHAAAABwCAAAAADji6uXAAAABGdBTUEAALGPC/xhBQAAAAJiS0dEAP+Hj8y/AAACHklEQVRo3u3YTYiNYRgG4Isx02QMJb/LKYqMBZHGho2I8leS2CjUbCbKTzYaSqIsZM/SiqwmSZQyFhazpFBTytSkKKGZ/C2ebzqn6Zj5jDLfvL13ffX+nOfc333unvc8z0tGRkZGRkZGxszHrH8Jbsc87MISXMfIJDGz/7fC9AnnTCWoA2fRhc669WXoqZrC9An/Kg9X4SSOoLUIfofPWI0P2IpXVVKYPmGpPFyAqzgozs8xvMZ2tOAlFhVPpRSmT1jKw304Nm7tLbaJPFxZZYXpE5by8EDdeBAvcE74R5yxlVWYPmEpD4/jBB7iDYbH7S+tssL0CUt5+B69E+x3VVlh+oRT6i160Cbq0l9YW6z343nVFKZPWLq3mIs1uICddW/7sxgPYYuodSqlMH3CSfOwGetwF8vxTfjVjx3CW2jCftzAaJUUpk84YR62CJ/uFfOLeIxnWFiMO8fFHMZ9f75zS/8nrY6HzbiEM8X8gbif+YTF6MN6kXPXhJd7is8+KtY+FvOB6VSYPmFDD5twGafxBedxR3iyETexQfQZ3XiC+dgs8nC3qHmIHrJjOhWmT9jQw27h01e1vnATjop6plXk6G21Pr8eh4SXcErcyU2bwvQJG3o4JM7LEXF/3YYVdfu9uIIfM0Fh+oQNPRxQ6/nG0Ienol4ZxPeZojB9woYetmOvqFmGcUv8F46W/toKKUyfMCMjIyMjIyMjBfwGZqBSo4gEOM8AAAAASUVORK5C\"></td><td style='text-align:center;vertical-align:middle; margin: 0.5em;border:1px #90999f solid;border-collapse:collapse'><img style='max-width: 100px; max-height:100px;display:inline' src=\"data:image/png;base64,iVBORw0KGgoAAAANSUhEUgAAAHAAAABwCAAAAADji6uXAAAABGdBTUEAALGPC/xhBQAAAAJiS0dEAP+Hj8y/AAABMUlEQVRo3u3ZMUoEQRCF4U8xMvIEImqgiUbeQg2NjDUTLyB4BcFAvMNewjPouggGxsaGzhrswk7aLa49Rb1oGqb5+/WjeqoZUqlUKpVKrZROuMMVnnGMj8L5q8t2GB+4VvLyFs7RYR97MsMGgEUZfuIJp0NyGB9YlOGX8rr7d4fxgUUZbuBwaA7jA4syXMdmb3yEibLajL+lSwcW96U3uMV0Pr7GfcsO4wOLM4RvmWFDwKKztL/KbigO4wOrMuws6rB5hwlMYAIT+Peq6mmmFt/DEc5adhgf+Ou+FA4wbtVhfGBVT/OAy974wuyO0aTD+MCqDCdDchgfWHWWwht2eqvexXuLDuMDq+oQXrA9fy6578ff0uFk+IiTITiMD6zOcIxXs//5TTuMD0ylUqlUKsUP6Zok4bh2w2UAAAAASUVORK5C\"></td><td style='text-align:center;vertical-align:middle; margin: 0.5em;border:1px #90999f solid;border-collapse:collapse'><img style='max-width: 100px; max-height:100px;display:inline' src=\"data:image/png;base64,iVBORw0KGgoAAAANSUhEUgAAAHAAAABwCAAAAADji6uXAAAABGdBTUEAALGPC/xhBQAAAAJiS0dEAP+Hj8y/AAAB/UlEQVRo3u3ZPWhUQRQF4C8hQbBQTKeFKIKNWmgn+FeYBES0EgJRIoqdoqVa2wpWWggW9kKiGBBBBLEPaGulhQo2CRj/MBbzJPszb/eFgDsOc6rZd+/s2cPhzt77hoKCgoKCgoKC/x9Da0nejVEcwV38juTMYQo/ar5j+F8rzJ+wkYd7cB5nql+4rdq4UpP/ENewmILC/AkbefgYJyIbV3rsOYrXKSjMn3CkSdJzqx5+xgPtHh4UPEtSYf6EjepwBFur9U987IhvwlvhjIVZTON7CgrzJ2xUh7/wvkd8EltaPn8Q928gCvMnXFNfGsMULmk/S8fE+5mBKMyfsFEdxjCNG9glzBt/sSCct8kozJ+wkYc7cA7HW54d0t6XLuI65rGcksL8CfuepfuEuX17ZGOrh09xOkWF+RM2qsMh3WYPa39Pc1KYP+ZTU5g/YV8P3+AYzuIZvnXEL+JKygrzJ1x3X7oZX6r1KaUOU6zDfphMXWH+hLUejmICL9T3mRdwJ3WF+RNGPTyMmxjHTt3vaMaE/uU2NlbPlvWeKQamMH/C6P/hAvZW63tY6oiP44DV2eJllfcoRYX5E/b1sNfGT3iCq7r71WQU5k8Y9XA/LmMmEnuHr3iF+8LskbTC/AlrZ4sNwt39LeFOYla4R5zTffeUtML8CQsKCgoK1o8/0wNI8/f1PCQAAAAASUVORK5C\"></td></tr><tr><td style='text-align:center;vertical-align:middle; margin: 0.5em;border:1px #90999f solid;border-collapse:collapse'><img style='max-width: 100px; max-height:100px;display:inline' src=\"data:image/png;base64,iVBORw0KGgoAAAANSUhEUgAAAHAAAABwCAAAAADji6uXAAAABGdBTUEAALGPC/xhBQAAAAJiS0dEAP+Hj8y/AAABIUlEQVRo3u3YsUkEURRG4W/FRUwU0UAwMDDRUM20BRHrMLQIa7AKCzARNLADMdVAxEgjQRbWZBqYN+DeudwDy4uGw+FneMNSFEVRFEUxfiZ9H5jiBNc4bRAu/XdhfmHvDbfwiQ8cdWfowvzC5dYHt7tfbbhwYfOGvV/gRRXmFzZvOMfqGArzC5s3hGM8RS/ML+y94QzfWMfeGArzC3tv+IVHnI2lsIQljC8cdB9ujqEwv3DQhudjKMwvbNrwXt2HgYRNG7515xS7eI1cmF/YtOGsOydYiV6YX9j6l5ln7OMGl5EL8wubv2nusIOr6IX5hYO+S+f4jV6YXzhowzVc4DZyYX5h8334jg0c4iVyYX5h83v4gAP8RC/MLyyKoiiG8we6whp5hPrO7wAAAABJRU5ErkJg\"></td><td style='text-align:center;vertical-align:middle; margin: 0.5em;border:1px #90999f solid;border-collapse:collapse'><img style='max-width: 100px; max-height:100px;display:inline' src=\"data:image/png;base64,iVBORw0KGgoAAAANSUhEUgAAAHAAAABwCAAAAADji6uXAAAABGdBTUEAALGPC/xhBQAAAAJiS0dEAP+Hj8y/AAAB7klEQVRo3u3ZPWgUQRjG8Z8SQbQISBoRDShaqAHtxMKIlbVNiAQJaqHWAQs7RbARCysDShCxEPEjfQKChaCNkEJEK0VEQa1slMRiVlhPL+xC4s29zAPH7c3czf8eXp7ZmVmKioqKioqK1qzWwHPV4Ec62tf+b4fxgQOrMeg1HMTtHBzGB654Da/gDH5IWey5w/jAFa/hAazDU9zLwWF8YOsaHsIFjONLR9849uItpnJxGB/Yek3zCjsxKmWtrgXswTE8zMVhfGDrHH7HEtZ3tO/DNiz+o6+nDuMDW9XwEkakLL6stW/EeWzAM9zPyWF8YOO5dCueYxBH8aTWdwOn8EHKYlYO4wMb5XAEDzCE6/6s3xQmq+vLOTqMD1w2hwOYwM3qny1KWZzFVWzCI+zHHZzM0WF84LI1nMBM7YtvsKP6/AJbsBmfq/csHcYHdq3hmJStn/iG4/gq5W+09uOl6vURh6W9YVYO4wO71nAew9I97latfTempfOY3zWEuziRo8P4wK5rmsfSOuZdR/uQtI8nncssVNfvc3UYH9jqnGZQyuVZac7c1Q8O4wNb7fHPSc8kPvn7uWC2DuMDG9dwGKel+9+05nNnzx3GBzaeS19ju7RWnewnh/GBjXM4g4vS/r6vHMYHFhUVFRUVFfELnpNF7E6QgmcAAAAASUVORK5C\"></td><td style='text-align:center;vertical-align:middle; margin: 0.5em;border:1px #90999f solid;border-collapse:collapse'><img style='max-width: 100px; max-height:100px;display:inline' src=\"data:image/png;base64,iVBORw0KGgoAAAANSUhEUgAAAHAAAABwCAAAAADji6uXAAAABGdBTUEAALGPC/xhBQAAAAJiS0dEAP+Hj8y/AAAB1klEQVRo3u3ZT4hNYRjH8c9ISEhIZmMSicmfqSk1CzuxmVkqstbsZEHKQlNSyihGtrNUFliKhZ2VBYsJ5U+IWU4sZjMSi3Nuc+jc2zkp9/X0/urWe5/nnPvt19Nzn/Oel6ysrKysrKyBNhcPYxyn8QwvyvgNLDX8jRX/2mF8YOMaTuIa1tXkjuBJqg7jAxvXcBNeYmtN7itO4HGKDuMDVza9cAFTmMZafML2MrcRx+Qa9gnYah7CcxzEHPZV4rvwPkWH8YGN+7CjK7iIkT/iq1N1GB/Yug9hGx5hfyV2D8dTdBgf2LoPT+GA3/9H4WmqDuMDG/fhHtxXzL26wud52Ddg4z7cix09bjiLMyk6jA9sXMMHuICrWFOTH0zVYXxgq3k4gzeK/WDn5lvYkLLD+MDWzzQPK+sB7MQlxV5jCB9Tcxgf2LqGVa1S1A++40eKDuMD/6qGlyvrWXxO0WF8YNe9xWZFXe7iTk1+EK8sz8K8t+gbsGsf3sQEduNL+XmL0TJ23nL9rmM+VYfxgV37cExxRjFWfv+gOHs6jPVl7Cde4xAWU3UYH9jzPc003uF2l/wCtqTuMD6w5zPNOcV5ROfsfgQny/U3HP0fHMYHZmVlZWVlZfELc8Y42jDS0zUAAAAASUVORK5C\"></td><td style='text-align:center;vertical-align:middle; margin: 0.5em;border:1px #90999f solid;border-collapse:collapse'><img style='max-width: 100px; max-height:100px;display:inline' src=\"data:image/png;base64,iVBORw0KGgoAAAANSUhEUgAAAHAAAABwCAAAAADji6uXAAAABGdBTUEAALGPC/xhBQAAAAJiS0dEAP+Hj8y/AAABeElEQVRo3u3Yv0sdQRTF8U+CjSkiqE2aWKVMISixsfMPEFNZWAhpUhgUBRG11tLCMqWxsAyx8EedQkLSCBYKop2NTQRFEFPMCs/iKauPvH3D/cKyw93dORwOd3Z2CYIgCIIgCIIgeD4vGj1hD9oxis9FbRPjxfjl/3aYv2BboyYawoiUXQdua64NNNNh/oLP7sOveI/+mtpffMMvrOOqmQ7zF3xyhl1Ywiec4xjL2MclTqviMH/BJ2e4ggmsYh4XVXWYv2CpDF9hFmOYLB7ecn+trJzD/AVL7WkWpAw3sK1cdk1zmL9gqT68LY5hfG8Vh/kLlurDPfRJ78BL7LSCw/wFH+3DD/iDa3TiCxalPcwADqruMH/Buhm+wQ+8xRTWino3zorxIH5W3WH+gnXX0t94Le1h1mrqk8V5V/oWrLzD/AXr9uGctA9tr6kd4h1O8FHKufIO8xd88H04g17pX+jdzXuYxhFuWsFh/oJBEARBEARBEASN4B+VKzQuLuuwBwAAAABJRU5ErkJg\"></td><td style='text-align:center;vertical-align:middle; margin: 0.5em;border:1px #90999f solid;border-collapse:collapse'><img style='max-width: 100px; max-height:100px;display:inline' src=\"data:image/png;base64,iVBORw0KGgoAAAANSUhEUgAAAHAAAABwCAAAAADji6uXAAAABGdBTUEAALGPC/xhBQAAAAJiS0dEAP+Hj8y/AAACIElEQVRo3u3ZT4iNURzG8c81Eyk3lBo2U2NjJUksZmExFlYzxQI1khQ7FpKUtY3VZD17UsqEohBZKX+KMjMiC4mUhZQ/uYbFeSfve5t7596m3ON0nrrdfqdz3qenb+97zu99ycrKysrKysr6/1UrF6uwH9+xDXWM4x7eNS38gCk86tJw2b9OmL5hheF5nOpi8Rxe4BIu4k2MCdM3rDB8hY2l+hOeNS2YxSaswdbS+ChuxJgwfcP+crFb4DNb1F/xvsXCOp5jsKjHZIY9MqwwfF38OtGov/x+YDLWhOkb9ne7YDku4FBpbBhPY02YvmFXDEdwEIeL+idOYDrmhOkbdsxwB26hrzT2G2/xK+aE6Rt2zHCfKj/Cc/W60CNew1XhnBNVwvQNa51OHMZZbMe6FnPmMCH0mR9jSZi+YccM5zUoMBzAXhxZ4CL3sUtg2vOE6Rt2zbBZ4zgu7JdlnRHux54nTN9wyQwJm+pt7CyNTeJYDAnTN+y6P1xIDTxWZfgyloTpGy7KcAOOYgaXW8zpw5ZS3cDDWBKmb9iW4XrcxGasbTFnACeF/n9e03gQS8L0DdsynBD4wZDwLvxbUa/EaYFfvRir4Yvw7iaahOkbtmV4R+jt4YnwTvRzUa9W/fZE4LdH6C2iSZi+Ydtz6RDO4cAiF2kI9+wVrffBniVM33DR3mKFcG+NCGfNsWJ8pvi/Kzxj83eLnhlmZWVlZS1dfwCiQE/vsRx1DQAAAABJRU5ErkJg\"></td><td style='text-align:center;vertical-align:middle; margin: 0.5em;border:1px #90999f solid;border-collapse:collapse'><img style='max-width: 100px; max-height:100px;display:inline' src=\"data:image/png;base64,iVBORw0KGgoAAAANSUhEUgAAAHAAAABwCAAAAADji6uXAAAABGdBTUEAALGPC/xhBQAAAAJiS0dEAP+Hj8y/AAACG0lEQVRo3u3YO4hTQRgF4M9HIeJj0cLGZ2Hs1oCFCrsoWKnggo02FnY2IhgtbLeyWFGwEbtFrJQFQUQQVnxgJVhoZyGKj2ZFRFQQTCzmLvcKepO4YCbDHAiZmeTm5NzDf+fMT0ZGxqCxaKE/0MBdLMGmHr6/+H8rTJ9w6UIuvowjWIPbsSpMn/Cf6nAdZrALHbzAPnyMUWH6hH3XYQNT2FnMz+Gp3vwbiML0Cfv2cC0OVOZvcT9mhekT9uVhA9eVD+DDuBW7wvQJ+/LwGDbiDk7g3TAoTJ+w50zzBE28x368HBaF6RP2VIcTQobp4Aa+D5PC9Am7ejiC8cr8k5BjqjiFDcX4TGwK0yfs6uFP7Cj+WRsPK5+dFmrzpLJH08J6f98r07+l8Xm4R6jDNt4oz4FNjOFQMf8q1Oc23MRRvI5BYfqEtR6uxJZi/AHXhCzTwFlhn5zDPVzAKsxidUwK0yes9XAMF4vxVUwKfbYp4Zz/Rcg4LWzFlWJt1p9rcCAK0yes9XC0Mp4s3meUfbYJPMBuPCrWLqnPNenf0rg8HBEOkPO9mCY2F2stwb9q76YleBiVwvQJu2aaTvGaR7uYjwoZZxleCbnnc4wK0yes7dNUn5Hj2I7zWFG5eA7Hhf5blArTJ6ytwx/4huV47Pd6pMw0vfo3EIXpE3btlx4UzvJ7lR5O4zmeCXti1ArTJ8zIyMjIyMjIyMiIAb8AtedWEEixcaoAAAAASUVORK5C\"></td><td style='text-align:center;vertical-align:middle; margin: 0.5em;border:1px #90999f solid;border-collapse:collapse'><img style='max-width: 100px; max-height:100px;display:inline' src=\"data:image/png;base64,iVBORw0KGgoAAAANSUhEUgAAAHAAAABwCAAAAADji6uXAAAABGdBTUEAALGPC/xhBQAAAAJiS0dEAP+Hj8y/AAABFElEQVRo3u3ZoUpEQRhH8Z8iK4LZIBhsIjarwSLIBt/KJxCDYBd8GjEYBIMgiC+gsGUNd32AmUGd+fhO2Q13ORz+zE64JEmSJEmSjM9a6cN3mOMQbxXC9b8ujC/cKHl4CyfYxjluRyiMLyza8BPP2MXOKIXxhUUbwjVOcTBKYXxh0X0Ie3jFAvt4770wvrD4HDINP8MFbnovjC+s2nC5+pyNUJjCFKYwhb9P9X24rPnhfxTGFzbdh0MUxhdWbfjD4wiF8YVNG76MUJjCFPYvbDqHmyMUxhc2bTjHVe+F8YXFG37gyfT+cIjC+MLiDRf4Wn0/k+ewA2HVf+kDjk3vgrsvjC+s2vASR7gfoTC+MEmSJGnnG3shF5BldjwaAAAAAElFTkSuQmCC\"></td><td style='text-align:center;vertical-align:middle; margin: 0.5em;border:1px #90999f solid;border-collapse:collapse'><img style='max-width: 100px; max-height:100px;display:inline' src=\"data:image/png;base64,iVBORw0KGgoAAAANSUhEUgAAAHAAAABwCAAAAADji6uXAAAABGdBTUEAALGPC/xhBQAAAAJiS0dEAP+Hj8y/AAAB5klEQVRo3u3ZPWgUURTF8Z+iKRJUBBslNjaaxEYrKy38AAsLURT8qsVGNKCVhQj2QrCIhVUI2NkIFhYWChZWovgJxspCC0tBE4v3YFec3dlNwMxc3mn23pk3e/bP4e3O3aGoqKioqKioqKioqGjlWrOSi6cxggmczcfeYqrPNWv/N2F8w6EzPIDd+fV4xRss4iMmm0IY33Bd3YKtmMeO3G/CmJTdS+ytIBhrEmF8w74ZHsI9bK84N4lv2IJtuI/xfO5NkwjjG/bN8Jq/8/uJ63iBd/nYd1zWye8zzjeJML5hzwyPYF9X/0XK5lnF2vGu+qG0PxtDGN+wZ4bTGM31c9z0b36bcRT7u9Y9ahphfMOeGc5Kv3U/cAZfK9ZcxK1cv8apHutWlTC+4bLnw2N4gPX4hau420TC+IbLzvA3lnJ9Sdq3jSSMb1g7H1bpdv6ki7l/2mTC+IZDZziCPVJ+S9Jc8aHJhPENh8pwFOdwOPfzmNPZj40kjG84cIYbpP9sTub+CmYMl9+qEMY3HPieZgKvcv0JO9tCGN9woH24S5od4L0017eGML7hQBnewOlcz2ChTYTxDWsznMLGXM/iSdsI4xvWZnhB+u5cwB2d5xWtIYxvWHtPcxCPcUJ6JtE6wviGRe3XHznUPuP3THUiAAAAAElFTkSuQmCC\"></td></tr><tr><td style='text-align:center;vertical-align:middle; margin: 0.5em;border:1px #90999f solid;border-collapse:collapse'><img style='max-width: 100px; max-height:100px;display:inline' src=\"data:image/png;base64,iVBORw0KGgoAAAANSUhEUgAAAHAAAABwCAAAAADji6uXAAAABGdBTUEAALGPC/xhBQAAAAJiS0dEAP+Hj8y/AAAB/ElEQVRo3u3Zz4tOYRQH8A/RzFAWTFbUKMxkQywkC6WwkJUSC2Vtzc5CYyX/wJRRsxQ2o9Qoe/JrkmKU/CgrRQyJEItz5fU2132Zch9Pz7du3XvOfe/3fvt2zvs851JQUFBQUFBQ8P9jwZ/cfBh7sBHDVewG9uFtj89Y+K8V5k/Yk4eDGBdevcH1Kr4DSzGDDakqzJ+wJw9vYwhncQavq/gIbmIJRqsjOYX5EzZ6uAtTuIBDc+RHcQLPsSZFhfkTLmq6YTEe43xN/pLwsB/LMJuawvwJG+uwv3qrDzX5YTyszo9iLDWF+RM21uHHhvwTPBBrmnUpKsyfsNHDJnyujmQV5k84bw/7RL+FdykqzJ9w3h4O+bnfn+qID4pZwDZcxKO2FOZP+Nce9mEVtnfExnAHm7Ecq0VtrsWRthTmT9i4Lh3ASmzBVuzsiHfPZr7iRXU+gSt4hadtKsyfsLYOB3BSzNdGunKzeI8vHQ8YF3V4NzWF+RPW1uFVMaP5hGuiliar62ei3mawXuwvNglfk1OYP2FtHe4Wvu3H9Bw/Oi3+D1/igN78a0Vh/oS1Hn4T3yjud8X7xTpzr6jJg5r7Z6sK8yes7aU/+uQEVuCe6JnHxV7ilpitTTdStKwwf8LfrktP4VjXW13GOb/uBZNWmD9hQUFBQUFBQUEO+A6+B03JuzfYxQAAAABJRU5ErkJg\"></td><td style='text-align:center;vertical-align:middle; margin: 0.5em;border:1px #90999f solid;border-collapse:collapse'><img style='max-width: 100px; max-height:100px;display:inline' src=\"data:image/png;base64,iVBORw0KGgoAAAANSUhEUgAAAHAAAABwCAAAAADji6uXAAAABGdBTUEAALGPC/xhBQAAAAJiS0dEAP+Hj8y/AAACBklEQVRo3u3Zu2sVQRQG8F/UiJLCRkVvoY0ICoJgYSGC4ZLKB6L+A2InWAriCyMIFoL4xELBgIWNIL5AtNDKRkQbxS5BxCI+wEJMdS1mLkSIe/cSSWaH+WDZs4ed/fj4OHNmZikoKCgoKCgoaD4G/ufHhvACLWzD+AzvLJhrhfkTLprN4BZWxPgHhrEFH/EtFYX5E/bl4SYcwdr4vB5rYnweG4XC/ozFqSjMn7AvD4dxaNrzFO6gjWMx18FtpQ7nELX74RkcxRKMYRIX4n0znmI5vgp1+jsVhfkT1q7DISzFBE7gS8yvw3GhL/7CqH/7Ny8K8yesXYdbcQsbhPnzMJbhBnYKa5pzuJiawvwJa9fhW7wSPGxjRPCru6YZxZUUFeZPWNvDKfyM8WrcE4q4I9Tn/VQV5k/Y17p0YobcE2Ft8ylVhfkT1vZwIbb7u4E+xu7UFeZPWNvDu9gnzJ1ddOoOnk+F+RP29LCFg9gvePYG72JuZRMU5k/Y08M2zsb4JK5ir+Dh+yYozJ+w0sMduBzjPXiOVTgdc+NNUJg/YaWHI8I+/iUeYRC7Ym5AOFdLXmH+hJUedqZdg8Icekk4k7mJ601QmD9hpYfdf4OTeCbsLQi98GFTFOZPWOnhh3g/IMyd33FN6IuNUZg/YaWHY8K/3FN4jQd6n2knpzB/woKCgoKC2eMPfpRNT0UW6cUAAAAASUVORK5C\"></td><td style='text-align:center;vertical-align:middle; margin: 0.5em;border:1px #90999f solid;border-collapse:collapse'><img style='max-width: 100px; max-height:100px;display:inline' src=\"data:image/png;base64,iVBORw0KGgoAAAANSUhEUgAAAHAAAABwCAAAAADji6uXAAAABGdBTUEAALGPC/xhBQAAAAJiS0dEAP+Hj8y/AAABxklEQVRo3u3ZMWvWUBgF4KdqtYMO/gNRuig4uChSURCk2qmOKugouKqgHRUdxEUQ3RxKh0J/gOLYPyBIrS7SoVBEXSwVFVGHN0Mp2ib9wN7v5R4I4SY3ORwO5yYnoaKioqKiVwz0eoP9uI9xHMbbDeZv+98K8xPu6OXi43iOj3iMDyUqzE+46RyOYQZPMYGvpSrMT7gpD4fxCrM4h18lK8xP2NnDIbF+DuEMvpSuMD9h5+fhHRwVWezq35YozE/YKYe7sCDW0bP9ojA/Yacc3sRu8Q7TNwrzE3bK4SxWMNpPCvMTts7hCRwTPX41Tol+OFeqwvyErT28iHm8b8ZX8BB78R3XRc8vTmF+wtZr6Q9cEL1+J97hBl6IjvgM50XvKEphfsJWOTzUTPzZjI8Ir2aa8TRGcEv1sNQcnsZL4eU89ogsfl415yBeY3tpCvMTduoWi81+eZ1zxSnMT9jKwwEbB/akv3u75QrzE7by8Hez/QuDuIrJEhXmJ2zl4Rss4RKerDk32Bzbh8slKsxP2MrDJdwTfRCmcED0/dv4Jv5hfCpRYX7CTt/aruGB+PZNPP8e4a7oj0UqzE9YUVFRUVFRUZEBfwCcRD+9nxrZrQAAAABJRU5ErkJg\"></td><td style='text-align:center;vertical-align:middle; margin: 0.5em;border:1px #90999f solid;border-collapse:collapse'><img style='max-width: 100px; max-height:100px;display:inline' src=\"data:image/png;base64,iVBORw0KGgoAAAANSUhEUgAAAHAAAABwCAAAAADji6uXAAAABGdBTUEAALGPC/xhBQAAAAJiS0dEAP+Hj8y/AAABuElEQVRo3u3YP0iVURzG8Y/RkEMI0VQNQTRYioNhCW01tUcSGUWbcxAErQ1BLQ0N0eRi9IfcoiUXczHQpSGXhgIhI2hIatCG8wYRpPdcoXveH+eBy4Xz3sP3fnn43cO51NTU1NTU1NTU1NTU7Dx93Wzahwu4iQPN2i3c7mDvrv9tGB+Y3eE47mEMm389m8bV0gzjA7M63I/XGMQaXmAWl3EeKxjBz5IM4wOzOpzHSbzCuT/Wj+IN9uA0lksyjA/cnfPh9eZ99h/Pv0nzWZRhfGBWh33N66s0c0dwBaNYxUV8Ks0wPjDrt3RVOhMXm42jzfoEnpZqGB+YNYdfsBcnpA438R3vSjaMD8zq8DhO4RAeN2vP1Q57DOzqjj+MJWkOj+F9yYbxgVlz+DtDzTfdaINhfGBXHa5L/c3Z+j5fhGF8YHaHg7iGz3iAD6UbxgdmdTiAlziIGzq/T/TUMD4wq8M7Un8zuNsWw/jAjjs8i0vSWfikTYbxgR3dLQ7jrfT/2qR0J2yNYXzgtnPYj+vSWfjMzvrriWF84LZzOIX7WMAZ/GibYXzglh2OSXP3CA/xsY2G8YE17c8vrWk7gVBxzdMAAAAASUVORK5C\"></td><td style='text-align:center;vertical-align:middle; margin: 0.5em;border:1px #90999f solid;border-collapse:collapse'><img style='max-width: 100px; max-height:100px;display:inline' src=\"data:image/png;base64,iVBORw0KGgoAAAANSUhEUgAAAHAAAABwCAAAAADji6uXAAAABGdBTUEAALGPC/xhBQAAAAJiS0dEAP+Hj8y/AAAB9UlEQVRo3u3ZT4hNURwH8A9eVo9JKTLZCNlYzAJRbGgW9pQoJf/WoiSR0ljJThajKU3ZKckaC0ljoSxYDMqGjT+jWAmLcyf3Tve+N++Z5p1O51u3zu/cd37f+z3f3v2dcw8ZGRkZGRkZSxYiyWbcwmF87PLbpYutMH3CVjlYgTZm8LOHJPuxB8dxDb9iUpg+YeV/eBXncQ43ekiyG4+K9hZMx6QwfcJWXedlvMP9eSZZE7PC9AlrPWxjAqN40SVBG2dK8UGMxaQwfcKKh+9L7ZW4giP42iHBJmyPWWH6hJV6uAwXhHfpLE5jvEOCdXiMDUWc6+FgPYQhPMfGIn6FffjckGAEU6U4ezj4ejiDp/55uBXrVT1cjlNF+0DsCtMnrF3TPMPRUrwTL7GruNq4WDPujc61cyAK0yds/E4ziUMdnvJ3w72TuB2TwvQJGz2cW+fmDvrTcG8CJ2JSmD5hq59B04KHD4X6eSlmhekTztvDL/iA67hb6h+RPRwwYaOHb3FH2Pe9xk1hn9ENo1ileW2T/pTG4+F3HOsj4bCw94hGYfqEfdXDMr7hE9aW+saE/WPdGVT6UxrPurQX7MA91fOLIfyIQWH6hAviIWzDA6wu4r14EoPC9An/+106iynhDOqssOdoOrNKf0oXnTAjIyMjIyODv59mRI5Y6pi+AAAAAElFTkSuQmCC\"></td><td style='text-align:center;vertical-align:middle; margin: 0.5em;border:1px #90999f solid;border-collapse:collapse'><img style='max-width: 100px; max-height:100px;display:inline' src=\"data:image/png;base64,iVBORw0KGgoAAAANSUhEUgAAAHAAAABwCAAAAADji6uXAAAABGdBTUEAALGPC/xhBQAAAAJiS0dEAP+Hj8y/AAACF0lEQVRo3u3ZO2hUQRgF4G9X0cJHfGAlWImmEEmVUgXFSjCFZcRt1Eo7LUTbCKYRQSwsxHQBFaysRIKxSKedCypaJmAhWkQQtZhZ3JDdezdGzDjOqeZxZ86cOfwz/72XgoKCgoKCgsafmOQInqIZyzMVzzb/tsL8CVftYQsXcDCu/iWmcBvfUlCYP+GqPGzhNA51rf57LO/FhxQU5k+4fqUDtmEE97ALG2P767j6fakpzJ9wRR6O4SyOWxpzMBnb7qamMH/CgT0cx/2KlTb6tK+5wvwJB/JwHDeFuFvEPLZgR+xfxGdstTQ2k1CYP2Gth2NC/HW8mcMxIZ/pnJtX8Ci2Jacwf8JKD1tC/BFibQ4Xu/pfCf7eifUHwn05mpLC/AkrPbyGTbE8getdfbN4IpyrHXzB19QU5k/Y18MR4c5rYl2P/jd9xjVqVOS/pWl4eAAPsV19jtKNzdhQMyb/LU3Dw1vY8xuTnVJ9F66JwvwJa/PSywNONIwbsfxeyIGSUJg/Ya2HHweYZBiPsRMLQjzO93k2/y1N45v3M7++Y9M7pyHcf1M4GevvcALtlBTmT9jTw6OYxlCsz+KHEGtt4XxtCPnLqHBuTgjv+e1qvv9gS9PwEA4LuemQ5d+3dbXNCLE4larC/Akr/x/uxjlctdzDBTzHeXxKWWH+hAP9Az6DS9gv/CecxFu8+BcU5k9YUFBQUFBQwE+HRE7ZavYdNgAAAABJRU5ErkJg\"></td><td style='text-align:center;vertical-align:middle; margin: 0.5em;border:1px #90999f solid;border-collapse:collapse'><img style='max-width: 100px; max-height:100px;display:inline' src=\"data:image/png;base64,iVBORw0KGgoAAAANSUhEUgAAAHAAAABwCAAAAADji6uXAAAABGdBTUEAALGPC/xhBQAAAAJiS0dEAP+Hj8y/AAAB00lEQVRo3u3Yz4tPURjH8ddM36REmSgWTFkoUSTKQinKLGytZopmbIYksrOgxEJ+FlPsFRYW/gBZzWxmL5rZzpRZTIgilMX5lq8N536n3OPpfDa3+9Tp3adPz73neaiqqqqqqqqqqqpqXwMrOTyMCziDDp5i9C9nBv+1w/jAvjOcwF3MYQpbcAU78aYkh/GBjTNchYu4jDu4iffYi1lsxUJJDuMDO00PjOMazuN+T/0olvw5v1Ycxgc26sMh6Tv5CmP43q0P4yXWYHNpDuMDs/uwg2mp1077lR88xjbcLtFhfGB2hsexHYex3FMfxQF8wq0SHcYHZmd4Em8x01PbJN1NB6V/47sSHcYHZmc4It1Fv3Xf1+E5NuAhbpTqMD4wK8Mj3eeL7nMEj6Q5Yh6X8LFUh/GBWRku4QueYS024qt0qZ3Ch5IdxgdmzxYncAqLeIIH0o7mmJRvsQ7jAxvvaQZwD5M4KO1minYYH9h4T3MIZ3Fd8/xacRgf2LgPF/EDO6SZsHiH8YGN+nCfNEuc019+rTiMD8zuw9XSfL8eu/D5f3EYH5jdh+PYjT36z68Vh/GB2X34WpoJ9/t93128w/jA7D4cwlUry68Vh/GBVVVV7esnIdNC9vVPRP8AAAAASUVORK5C\"></td><td style='text-align:center;vertical-align:middle; margin: 0.5em;border:1px #90999f solid;border-collapse:collapse'><img style='max-width: 100px; max-height:100px;display:inline' src=\"data:image/png;base64,iVBORw0KGgoAAAANSUhEUgAAAHAAAABwCAAAAADji6uXAAAABGdBTUEAALGPC/xhBQAAAAJiS0dEAP+Hj8y/AAABjElEQVRo3u3ZoUtdYRjH8Y9iclhWpkFYEARvlxWrTTDNYBsWWVnTxSEWB5MFDRP/Aw0zWES0LQoKjrVZBmJbcsjQcA54k/dcz0Xf8/D+0vPC5XzPlx/PuYd7ycnJycnJyclpfvp6daGPWMUalh/4XP9TG8YH9qTDIfzCK9zgPbZTMYwPHOjFBRYV/cElfqRkGB9Yew+ncNx2nsF+SobxgbX28DW+tp0PcZSaYXxgrT08w0Q5/8VbHKRmGB9Yaw9buC3nTZ37exbD+MBHd/hFscS3imfoSqqG8YGP6nADs4r+TjGP61QN4wO77nBS0d9wef6Gq5QN4wO77vAdRsr5J76nbhgf2NV76Qd8brvLUfxJ3TA+sPIejmKhvMP/2NJ9f89iGB9YqcMx7GG8PK9jqSmG8YGVOhx33x9Fn40xjA+s1OHLtvkY500yjA+s9E7zW/F9CHPYaZJhfGDHPWzhRTl/wm7TDOMDO3b4RvEfL/xz//toYwzjAys9Sy8wiGmcNM0wPjAnJycnp37uAD8OLdpEbU4AAAAAAElFTkSuQmCC\"></td></tr></tbody></table>"
      ],
      "text/plain": [
       "8×3 Array{Array{ColorTypes.Gray{FixedPointNumbers.Normed{UInt8,8}},2},2}:\n",
       " ColorTypes.Gray{FixedPointNumbers.Normed{UInt8,8}}[Gray{N0f8}(0.0) Gray{N0f8}(0.0) … Gray{N0f8}(0.0) Gray{N0f8}(0.0); Gray{N0f8}(0.0) Gray{N0f8}(0.0) … Gray{N0f8}(0.0) Gray{N0f8}(0.0); … ; Gray{N0f8}(0.0) Gray{N0f8}(0.0) … Gray{N0f8}(0.0) Gray{N0f8}(0.0); Gray{N0f8}(0.0) Gray{N0f8}(0.0) … Gray{N0f8}(0.0) Gray{N0f8}(0.0)]  …  ColorTypes.Gray{FixedPointNumbers.Normed{UInt8,8}}[Gray{N0f8}(0.0) Gray{N0f8}(0.0) … Gray{N0f8}(0.0) Gray{N0f8}(0.0); Gray{N0f8}(0.0) Gray{N0f8}(0.0) … Gray{N0f8}(0.0) Gray{N0f8}(0.0); … ; Gray{N0f8}(0.0) Gray{N0f8}(0.0) … Gray{N0f8}(0.0) Gray{N0f8}(0.0); Gray{N0f8}(0.0) Gray{N0f8}(0.0) … Gray{N0f8}(0.0) Gray{N0f8}(0.0)]\n",
       " ColorTypes.Gray{FixedPointNumbers.Normed{UInt8,8}}[Gray{N0f8}(0.0) Gray{N0f8}(0.0) … Gray{N0f8}(0.0) Gray{N0f8}(0.0); Gray{N0f8}(0.0) Gray{N0f8}(0.0) … Gray{N0f8}(0.0) Gray{N0f8}(0.0); … ; Gray{N0f8}(0.0) Gray{N0f8}(0.0) … Gray{N0f8}(0.0) Gray{N0f8}(0.0); Gray{N0f8}(0.0) Gray{N0f8}(0.0) … Gray{N0f8}(0.0) Gray{N0f8}(0.0)]     ColorTypes.Gray{FixedPointNumbers.Normed{UInt8,8}}[Gray{N0f8}(0.0) Gray{N0f8}(0.0) … Gray{N0f8}(0.0) Gray{N0f8}(0.0); Gray{N0f8}(0.0) Gray{N0f8}(0.0) … Gray{N0f8}(0.0) Gray{N0f8}(0.0); … ; Gray{N0f8}(0.0) Gray{N0f8}(0.0) … Gray{N0f8}(0.0) Gray{N0f8}(0.0); Gray{N0f8}(0.0) Gray{N0f8}(0.0) … Gray{N0f8}(0.0) Gray{N0f8}(0.0)]\n",
       " ColorTypes.Gray{FixedPointNumbers.Normed{UInt8,8}}[Gray{N0f8}(0.0) Gray{N0f8}(0.0) … Gray{N0f8}(0.0) Gray{N0f8}(0.0); Gray{N0f8}(0.0) Gray{N0f8}(0.0) … Gray{N0f8}(0.0) Gray{N0f8}(0.0); … ; Gray{N0f8}(0.0) Gray{N0f8}(0.0) … Gray{N0f8}(0.0) Gray{N0f8}(0.0); Gray{N0f8}(0.0) Gray{N0f8}(0.0) … Gray{N0f8}(0.0) Gray{N0f8}(0.0)]     ColorTypes.Gray{FixedPointNumbers.Normed{UInt8,8}}[Gray{N0f8}(0.0) Gray{N0f8}(0.0) … Gray{N0f8}(0.0) Gray{N0f8}(0.0); Gray{N0f8}(0.0) Gray{N0f8}(0.0) … Gray{N0f8}(0.0) Gray{N0f8}(0.0); … ; Gray{N0f8}(0.0) Gray{N0f8}(0.0) … Gray{N0f8}(0.0) Gray{N0f8}(0.0); Gray{N0f8}(0.0) Gray{N0f8}(0.0) … Gray{N0f8}(0.0) Gray{N0f8}(0.0)]\n",
       " ColorTypes.Gray{FixedPointNumbers.Normed{UInt8,8}}[Gray{N0f8}(0.0) Gray{N0f8}(0.0) … Gray{N0f8}(0.0) Gray{N0f8}(0.0); Gray{N0f8}(0.0) Gray{N0f8}(0.0) … Gray{N0f8}(0.0) Gray{N0f8}(0.0); … ; Gray{N0f8}(0.0) Gray{N0f8}(0.0) … Gray{N0f8}(0.0) Gray{N0f8}(0.0); Gray{N0f8}(0.0) Gray{N0f8}(0.0) … Gray{N0f8}(0.0) Gray{N0f8}(0.0)]     ColorTypes.Gray{FixedPointNumbers.Normed{UInt8,8}}[Gray{N0f8}(0.0) Gray{N0f8}(0.0) … Gray{N0f8}(0.0) Gray{N0f8}(0.0); Gray{N0f8}(0.0) Gray{N0f8}(0.0) … Gray{N0f8}(0.0) Gray{N0f8}(0.0); … ; Gray{N0f8}(0.0) Gray{N0f8}(0.0) … Gray{N0f8}(0.0) Gray{N0f8}(0.0); Gray{N0f8}(0.0) Gray{N0f8}(0.0) … Gray{N0f8}(0.0) Gray{N0f8}(0.0)]\n",
       " ColorTypes.Gray{FixedPointNumbers.Normed{UInt8,8}}[Gray{N0f8}(0.0) Gray{N0f8}(0.0) … Gray{N0f8}(0.0) Gray{N0f8}(0.0); Gray{N0f8}(0.0) Gray{N0f8}(0.0) … Gray{N0f8}(0.0) Gray{N0f8}(0.0); … ; Gray{N0f8}(0.0) Gray{N0f8}(0.0) … Gray{N0f8}(0.0) Gray{N0f8}(0.0); Gray{N0f8}(0.0) Gray{N0f8}(0.0) … Gray{N0f8}(0.0) Gray{N0f8}(0.0)]     ColorTypes.Gray{FixedPointNumbers.Normed{UInt8,8}}[Gray{N0f8}(0.0) Gray{N0f8}(0.0) … Gray{N0f8}(0.0) Gray{N0f8}(0.0); Gray{N0f8}(0.0) Gray{N0f8}(0.0) … Gray{N0f8}(0.0) Gray{N0f8}(0.0); … ; Gray{N0f8}(0.0) Gray{N0f8}(0.0) … Gray{N0f8}(0.0) Gray{N0f8}(0.0); Gray{N0f8}(0.0) Gray{N0f8}(0.0) … Gray{N0f8}(0.0) Gray{N0f8}(0.0)]\n",
       " ColorTypes.Gray{FixedPointNumbers.Normed{UInt8,8}}[Gray{N0f8}(0.0) Gray{N0f8}(0.0) … Gray{N0f8}(0.0) Gray{N0f8}(0.0); Gray{N0f8}(0.0) Gray{N0f8}(0.0) … Gray{N0f8}(0.0) Gray{N0f8}(0.0); … ; Gray{N0f8}(0.0) Gray{N0f8}(0.0) … Gray{N0f8}(0.0) Gray{N0f8}(0.0); Gray{N0f8}(0.0) Gray{N0f8}(0.0) … Gray{N0f8}(0.0) Gray{N0f8}(0.0)]  …  ColorTypes.Gray{FixedPointNumbers.Normed{UInt8,8}}[Gray{N0f8}(0.0) Gray{N0f8}(0.0) … Gray{N0f8}(0.0) Gray{N0f8}(0.0); Gray{N0f8}(0.0) Gray{N0f8}(0.0) … Gray{N0f8}(0.0) Gray{N0f8}(0.0); … ; Gray{N0f8}(0.0) Gray{N0f8}(0.0) … Gray{N0f8}(0.0) Gray{N0f8}(0.0); Gray{N0f8}(0.0) Gray{N0f8}(0.0) … Gray{N0f8}(0.0) Gray{N0f8}(0.0)]\n",
       " ColorTypes.Gray{FixedPointNumbers.Normed{UInt8,8}}[Gray{N0f8}(0.0) Gray{N0f8}(0.0) … Gray{N0f8}(0.0) Gray{N0f8}(0.0); Gray{N0f8}(0.0) Gray{N0f8}(0.0) … Gray{N0f8}(0.0) Gray{N0f8}(0.0); … ; Gray{N0f8}(0.0) Gray{N0f8}(0.0) … Gray{N0f8}(0.0) Gray{N0f8}(0.0); Gray{N0f8}(0.0) Gray{N0f8}(0.0) … Gray{N0f8}(0.0) Gray{N0f8}(0.0)]     ColorTypes.Gray{FixedPointNumbers.Normed{UInt8,8}}[Gray{N0f8}(0.0) Gray{N0f8}(0.0) … Gray{N0f8}(0.0) Gray{N0f8}(0.0); Gray{N0f8}(0.0) Gray{N0f8}(0.0) … Gray{N0f8}(0.0) Gray{N0f8}(0.0); … ; Gray{N0f8}(0.0) Gray{N0f8}(0.0) … Gray{N0f8}(0.0) Gray{N0f8}(0.0); Gray{N0f8}(0.0) Gray{N0f8}(0.0) … Gray{N0f8}(0.0) Gray{N0f8}(0.0)]\n",
       " ColorTypes.Gray{FixedPointNumbers.Normed{UInt8,8}}[Gray{N0f8}(0.0) Gray{N0f8}(0.0) … Gray{N0f8}(0.0) Gray{N0f8}(0.0); Gray{N0f8}(0.0) Gray{N0f8}(0.0) … Gray{N0f8}(0.0) Gray{N0f8}(0.0); … ; Gray{N0f8}(0.0) Gray{N0f8}(0.0) … Gray{N0f8}(0.0) Gray{N0f8}(0.0); Gray{N0f8}(0.0) Gray{N0f8}(0.0) … Gray{N0f8}(0.0) Gray{N0f8}(0.0)]     ColorTypes.Gray{FixedPointNumbers.Normed{UInt8,8}}[Gray{N0f8}(0.0) Gray{N0f8}(0.0) … Gray{N0f8}(0.0) Gray{N0f8}(0.0); Gray{N0f8}(0.0) Gray{N0f8}(0.0) … Gray{N0f8}(0.0) Gray{N0f8}(0.0); … ; Gray{N0f8}(0.0) Gray{N0f8}(0.0) … Gray{N0f8}(0.0) Gray{N0f8}(0.0); Gray{N0f8}(0.0) Gray{N0f8}(0.0) … Gray{N0f8}(0.0) Gray{N0f8}(0.0)]"
      ]
     },
     "execution_count": 16,
     "metadata": {},
     "output_type": "execute_result"
    }
   ],
   "source": [
    "reshape(imgs[1:24],8,3)  # Not sure why this is 8x3 and not 3x8, but whatever"
   ]
  },
  {
   "cell_type": "markdown",
   "metadata": {},
   "source": [
    "Here are the numerical labels of the same data"
   ]
  },
  {
   "cell_type": "code",
   "execution_count": 17,
   "metadata": {},
   "outputs": [
    {
     "data": {
      "text/plain": [
       "1×24 RowVector{Int64,Array{Int64,1}}:\n",
       " 5  0  4  1  9  2  1  3  1  4  3  5  3  6  1  7  2  8  6  9  4  0  9  1"
      ]
     },
     "execution_count": 17,
     "metadata": {},
     "output_type": "execute_result"
    }
   ],
   "source": [
    "labels[1:24]'"
   ]
  },
  {
   "cell_type": "code",
   "execution_count": 18,
   "metadata": {},
   "outputs": [
    {
     "data": {
      "text/plain": [
       "(28, 28)"
      ]
     },
     "execution_count": 18,
     "metadata": {},
     "output_type": "execute_result"
    }
   ],
   "source": [
    "size(imgs[1]) # Each image is a 28x28=784  matrix of \"gray scale\" numbers from 0 to 1"
   ]
  },
  {
   "cell_type": "markdown",
   "metadata": {},
   "source": [
    "Reorganize the data as one big 784x60000 matrix labeled D.\n",
    "Each column is a 28x28 image flattened, and we have 60000 images."
   ]
  },
  {
   "cell_type": "code",
   "execution_count": 39,
   "metadata": {},
   "outputs": [
    {
     "data": {
      "text/plain": [
       "(784, 60000)"
      ]
     },
     "execution_count": 39,
     "metadata": {},
     "output_type": "execute_result"
    }
   ],
   "source": [
    "D =  hcat([vec(Float64.(i)) for i in imgs]...) \n",
    "size(D)"
   ]
  },
  {
   "cell_type": "markdown",
   "metadata": {},
   "source": [
    "For each of the digits 1,2,...,9,0 we find 500 images to train with.  (500 is arbitrary)\n",
    "<br>Each training set becomes a 784x500 matrix.  training_data is a vector of ten such matrices."
   ]
  },
  {
   "cell_type": "code",
   "execution_count": 113,
   "metadata": {},
   "outputs": [
    {
     "data": {
      "text/plain": [
       "(784, 500)"
      ]
     },
     "execution_count": 113,
     "metadata": {},
     "output_type": "execute_result"
    }
   ],
   "source": [
    "training_size = 500\n",
    "training_data = [ D[:,find(labels.== (i%10))[1:training_size]] for i=1:10]; # Find training images for each digit\n",
    "size(training_data[1])"
   ]
  },
  {
   "cell_type": "markdown",
   "metadata": {},
   "source": [
    "We compute the $U$ in the SVD of each of the above ten matrices of size 784 x 500, and\n",
    "take the first 50 columns as the basis of a subspace to project onto. u is a vector of ten matrices $U$\n",
    "one for each digit. (50 is arbitrary).  (This could have been a 784x500x3 array, but a 10 vector of 784x500\\n\",\n",
    "    \"matrices seemed more convenient.)"
   ]
  },
  {
   "cell_type": "code",
   "execution_count": 41,
   "metadata": {
    "collapsed": true
   },
   "outputs": [],
   "source": [
    "singular_vec_size  =  50\n",
    "u = [svdfact(training_data[i])[:U][:,1:singular_vec_size] for i=1:10];"
   ]
  },
  {
   "cell_type": "markdown",
   "metadata": {},
   "source": [
    "Now we use each of the 10 U's to get 10 xhats, and see which has the greatest norm.  That is how we will recognize digits.  Note that having the largest xhat means, the smallest error. (Think ‖b‖² = ‖p‖² + ‖e‖² )"
   ]
  },
  {
   "cell_type": "code",
   "execution_count": 44,
   "metadata": {
    "collapsed": true
   },
   "outputs": [],
   "source": [
    "results = zeros(60000)\n",
    "for j = 1:60000\n",
    "   xhats = [ norm(u[i]'D[:,j]) for i=1:10]\n",
    "   results[j] = rem(findmax(xhats)[2],10)\n",
    "end"
   ]
  },
  {
   "cell_type": "markdown",
   "metadata": {},
   "source": [
    "How well does this work?  nearly a 95% success rate!  Pretty cool huh?  "
   ]
  },
  {
   "cell_type": "code",
   "execution_count": 43,
   "metadata": {},
   "outputs": [
    {
     "data": {
      "text/plain": [
       "0.9463166666666667"
      ]
     },
     "execution_count": 43,
     "metadata": {},
     "output_type": "execute_result"
    }
   ],
   "source": [
    "mean( results .== labels)"
   ]
  },
  {
   "cell_type": "markdown",
   "metadata": {},
   "source": [
    "Write in your own words an explanation of what we just did in terms of projecting onto ten data defined subspaces."
   ]
  },
  {
   "cell_type": "markdown",
   "metadata": {
    "collapsed": true
   },
   "source": [
    "<br><span style=\"color:green\">\n",
    "    <b>Answer:</b>\n",
    "<br>Each $24\\times 24$ pixel image can be thought of as a vector in $\\mathbb{R}^{784}$. For each digit, we want to find a subspace of $\\mathbb{R}^{784}$ corresponding to images that are likely to represent that digit. The training stage consists of defining these subspaces. The assumption is that the subspaces can be reasonably modeled by 50-dimensional subspaces. For each digit, we take 500 images (vectors); we hope that they all lie in a 50-dimensional subspace, but there's noise, so instead we try to project to the \"closest\" 50-dimensional subspace. \n",
    "    <br><br>Fix a particular digit whose subspace we are trying to find, and let $A$ be the $784 \\times 500$ matrix whose columns are the 500 chosen images of that digit. Compute the SVD $A = U\\Sigma V^T$, and assume we're in the \"generic\" case where $\\Sigma$ is invertible. As we saw in the last pset, this means that $C(A) = C(U)$. So we're trying to find a smaller approximation to $C(A)$, so we may as well try to find a smaller approximation to $C(U)$... and the point is that $C(U)$ is designed to tell us <i>which</i> parts of $C(A)$ are more relevant. \n",
    "    <br><br>Recall that, by convention, the $\\sigma_i$'s in $\\Sigma$ are decreasing. The idea is that the first columns of $U$ (the ones corresponding to larger $\\sigma_i$'s) \"matter more\" than the later ones, and the columns of $U$ corresponding to very small $\\sigma_i$'s don't matter very much and can be safely discarded as noise. More precisely, the claim is that the columns of $A$ (which, recall, corresponded to actual images) have small projections to columns corresponding to small $\\sigma_i$'s. So the first 50 columns of $U$ form a basis of the \"closest\" 50-dimensional subspace to $C(A)$.\n",
    "    <br><br>The last step is to take an image `D[:,j]` not in the training set and guess which digit it represents by checking which digit subspace it has the largest projection in. This amounts to checking that. We showed in problem 1 that the projection of a vector $b$ to $C(U)$ (where $U$ satisfies $U^TU=I$) is given by $U\\hat{x} = UU^Tb$. So actually we are checking the norm of $\\hat{x} = U^Tb$, not the norm of the projection $U\\hat{x}$, but we showed in problem 2 that it doesn't matter because these have the same norm.\n",
    "</span>\n"
   ]
  },
  {
   "cell_type": "markdown",
   "metadata": {},
   "source": [
    "Problem 7. In the above the columns of u[1] is a basis for the the ones digit, and the columns of u[2] is a basis for the twos digit.  Are the column spaces of u[1] and u[2] orthogonal subspaces? You can use Julia to test."
   ]
  },
  {
   "cell_type": "markdown",
   "metadata": {},
   "source": [
    "<br><span style=\"color:green\">\n",
    "    <b>Answer:</b>\n",
    "<br>If the starting data was horrible, in theory there's not even anything to stop these subspaces from overlapping -- maybe everything labelled as a 2 actually looked like a 1, and so the two subspaces are roughly the same. Even if the starting data is reasonable, images of different digits actually have lots of similarities; imagine trying to take the dot product of a \"1\" and a \"2\" image above, where black = 0 and white = 1: any place the two images had white in the same place would contribute to the dot product, which would certainly not be zero. One can observe this with Julia: if the columns of `u[1]` were orthogonal to the columns of `u[2]`, then `u[1]'*u[2]` would be the zero matrix, but instead we get:\n",
    "</span>\n"
   ]
  },
  {
   "cell_type": "code",
   "execution_count": 111,
   "metadata": {},
   "outputs": [
    {
     "data": {
      "text/plain": [
       "50×50 Array{Float64,2}:\n",
       "  0.684282     0.316322     0.0823226   …   0.0384383   -0.0525074 \n",
       "  0.0233211   -0.0999189   -0.127974       -0.0211146    0.0124693 \n",
       " -0.216043     0.0725833    0.0217695       0.00429097   0.153336  \n",
       "  0.00198653   0.132966    -0.0140977       0.0407351   -0.12602   \n",
       " -0.136065    -0.0390635    0.194529        0.0780451   -0.119692  \n",
       " -0.338652     0.0236509    0.00318601  …   0.0680376    0.0245933 \n",
       "  0.0138575    0.110445     0.0749107      -0.147619     0.0610449 \n",
       "  0.0683933    0.0296923   -0.14587        -0.0483423   -0.0928341 \n",
       "  0.0879142    0.095486     0.0532868       0.0672751    0.162873  \n",
       " -0.143373    -0.141363     0.13083        -0.0106668   -0.0561302 \n",
       "  0.119529    -0.152697    -0.24872     …   0.0714331   -0.0812563 \n",
       " -0.0721322    0.107925     0.139427        0.187336     0.0649331 \n",
       "  0.0514667    0.0304977   -0.101355       -0.0858727    0.0396023 \n",
       "  ⋮                                     ⋱                          \n",
       " -0.0721643    0.0969516   -0.0362629       0.108077    -0.0630208 \n",
       "  0.13305     -0.118443    -0.0535697       0.0520086    0.0545873 \n",
       "  0.0351169   -0.0229796    0.0198388   …  -0.0678233   -0.00687551\n",
       "  0.0316955    0.00596843   0.0234976       0.0334216    0.0653717 \n",
       "  0.011513    -0.0820022    0.0112006       0.0217173   -0.0747093 \n",
       " -0.00346644   0.116102     0.159232       -0.11251     -0.03183   \n",
       "  0.0601834   -0.110468     0.14606        -0.023913     0.0450067 \n",
       "  0.0188938    0.041913    -0.0661433   …   0.0663216   -0.0318205 \n",
       "  0.0567021   -0.0232758   -0.0813464       0.09476     -0.0236161 \n",
       " -0.0628654    0.141437    -0.0493395      -0.0122979   -0.081302  \n",
       " -0.0494537   -0.0339239    0.0132605      -0.015121     0.0375094 \n",
       " -0.070706     0.0074856   -0.0504496       0.0168433   -0.0776894 "
      ]
     },
     "execution_count": 111,
     "metadata": {},
     "output_type": "execute_result"
    }
   ],
   "source": [
    "u[1]'*u[2]"
   ]
  },
  {
   "cell_type": "markdown",
   "metadata": {},
   "source": [
    "Problem 8.  GS p. 231.\n",
    "\n",
    "What condition on ($t_1,b_1$),($t_2,b_2$),($t_3,b_3$) puts three points on  a straight line?  A column space answer has $(b_1,b_2,b_3)$ being a linear combination of $(1,1,1)$ and $(t_1,t_2,t_3)$.  How simple an answer can you get?"
   ]
  },
  {
   "cell_type": "markdown",
   "metadata": {
    "collapsed": true
   },
   "source": [
    "<br><span style=\"color:green\">\n",
    "    <b>Answer:</b>\n",
    "<br>If the line is vertical, then $t_1 = t_2 = t_3$. Otherwise we can assume we don't have both $t_1 = t_2$ and $t_1 = t_3$. Suppose the points are on the line $y = mx + b$. If the line is not vertical, this means\n",
    "    \\begin{align*}\\begin{bmatrix}1 & t_1 \\\\ 1 & t_2 \\\\ 1& t_3\\end{bmatrix}\\begin{bmatrix} b\\\\m\\end{bmatrix} = \\begin{bmatrix} b_1\\\\b_2\\\\b_3\\end{bmatrix}\\end{align*}\n",
    "    has a solution.\n",
    "    If we try to solve this system by elimination we get\n",
    "    \\begin{align*} \\begin{bmatrix} 1 & t_1 & b_1 \\\\ 1& t_2 & b_2 \\\\ 1& t_3 & b_3 \\end{bmatrix}\\implies \\begin{bmatrix} 1 & t_1 & b_1 \\\\ 0& t_2-t_1 & b_2-b_1 \\\\ 0& t_3-t_1 & b_3-b_1 \\end{bmatrix}\n",
    "    \\end{align*}\n",
    "    This has a solution if and only if: either the second or third row is entirely zero, or the third row is a multiple of the second. These conditions, together with the possibility that the line is vertical, are encapsulated in the single condition\n",
    "    $$ (t_2-t_1)(b_3-b_1) = (t_3-t_1)(b_2-b_1). $$\n",
    "    (Note this is the same as requiring the determinant of the matrix on the left to be zero.)\n",
    "</span>\n"
   ]
  },
  {
   "cell_type": "code",
   "execution_count": null,
   "metadata": {
    "collapsed": true
   },
   "outputs": [],
   "source": []
  }
 ],
 "metadata": {
  "kernelspec": {
   "display_name": "Julia 0.6.0",
   "language": "julia",
   "name": "julia-0.6"
  },
  "language_info": {
   "file_extension": ".jl",
   "mimetype": "application/julia",
   "name": "julia",
   "version": "0.6.0"
  }
 },
 "nbformat": 4,
 "nbformat_minor": 2
}
