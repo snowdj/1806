{
 "cells": [
  {
   "cell_type": "markdown",
   "metadata": {},
   "source": [
    "## Solutions for Problem Set 2 "
   ]
  },
  {
   "cell_type": "markdown",
   "metadata": {},
   "source": [
    "## Problem 1 \n",
    "\n",
    "(invented by your professor as he was trying to make sense of autodifferentiation algorithms.)"
   ]
  },
  {
   "cell_type": "code",
   "execution_count": 13,
   "metadata": {},
   "outputs": [
    {
     "data": {
      "text/plain": [
       "f (generic function with 1 method)"
      ]
     },
     "execution_count": 13,
     "metadata": {},
     "output_type": "execute_result"
    }
   ],
   "source": [
    "function f(x₁, x₂, x₃)\n",
    "    y₁ = B₁₁*x₁  + B₁₂*x₂ + B₁₃*x₃\n",
    "    y₂ = B₂₁*x₁  + B₂₂*x₂ + B₂₃*x₃ + M₂₁*y₁\n",
    "    y₃ = B₃₁*x₁  + B₃₂*x₂ + B₃₃*x₃ + M₃₁*y₁ + M₃₂*y₂\n",
    "    return(y₃)\n",
    "end "
   ]
  },
  {
   "cell_type": "markdown",
   "metadata": {},
   "source": [
    "A very good 18.06 student sees the above computation of the number y₃ in terms of the three numbers x₁, x₂, x₃ and says excitedly, I can turn this into linear algebra notation!\n",
    "\n",
    "Letting B be the obvious 3x3 matrix, and M the fairly obvious [strictly lower triangular matrix](https://en.wikipedia.org/wiki/Triangular_matrix#Strictly_triangular_matrix), and x and y being 3-vectors,  write down an\n",
    "equation with y on the left, and B,x,M, and y on the right.\n",
    "<br><br>\n",
    "<span style=\"color:green\"><b> Answer: </b>\n",
    "<br>$\\mathbf{y} = B\\mathbf{x} + M \\mathbf{y}$\n",
    "</span>\n",
    "<br><br><br><br>"
   ]
  },
  {
   "cell_type": "markdown",
   "metadata": {},
   "source": [
    "Solve for y in the equation above using I and inverse as appropriate.\n",
    "\n",
    "<br><br>\n",
    "    <span style=\"color:green\"><b>Answer:</b>\n",
    "    <br> $(I-M)\\mathbf{y} = B\\mathbf{x}$ so $\\mathbf{y} = (I-M)^{-1}B\\mathbf{x}$\n",
    "    </span>\n",
    "        <br><br><br><br><br><br><br>"
   ]
  },
  {
   "cell_type": "markdown",
   "metadata": {},
   "source": [
    "If one focuses on the y variables, we recognize that the computational steps above are really\n",
    "computing __________________ substitution using the matrix ______________. \n",
    "<br><br>\n",
    "<span style=\"color:green\"><b>Answer:</b>\n",
    "<br><i>forward</i> substitution using the matrix $I-M$\n",
    "</span>\n",
    "<br><br><br><br>"
   ]
  },
  {
   "cell_type": "markdown",
   "metadata": {},
   "source": [
    "Write y₃ as w⋅x (dot product), where w is in terms of M,B and e=[0,0,1].\n",
    "<br><br>\n",
    "<span style=\"color:green\"><b>Answer:</b>\n",
    "<br>$y_3 = w\\cdot x$ where $w = e(I-M)^{-1}B$\n",
    "</span>\n",
    "<br><br><br><br><br><br>"
   ]
  },
  {
   "cell_type": "markdown",
   "metadata": {},
   "source": [
    "There is nothing special about 3 here, we could have had 3 million.  Consider two ways to compute w and figure out which is more efficient if you wish to find the y₃ that would be computed for each of x=(1,0,0), (0,1,0), and (0,0,1).\n",
    "\n",
    "<br> <br>\n",
    "<span style=\"color:green\"><b>Answer:</b>\n",
    "<br>\n",
    "<i>\n",
    "The two approaches involve associating\n",
    "    $w = e(I-M)^{-1}B$ as   <br> \n",
    "Method #1:</i>     $w=(e(I-M)^{-1})B$ or <tt> w = e/(I-M)*B </tt> in Julia\n",
    "    and <br>\n",
    "<i>Method #2:</i>    $w= e ((I-M)^{-1}B)$ or   <tt> w = e*(I-M)\\ B </tt> in Julia.\n",
    "\n",
    "\n",
    "<span style=\"color:green\">\n",
    "In Method #1, we perform forward substitution $n$ times,\n",
    "each time having order $(n^2)$ complexity, thereby giving\n",
    "$n^3$.\n",
    "    \n",
    "<span style=\"color:green\">\n",
    "In Method #2, we perform back substiution once\n",
    "which has order $n^2$ complexity, and then perform\n",
    "a row vector times matrix product which is also ordr $n^2$,\n",
    "so Method #2 has much less complexity.\n",
    "\n",
    "\n",
    "\n",
    "\n",
    "\n",
    "\n",
    "In the less efficient method, are we doing forward substitution for a triangular system or back substitution for a triangular system? \n",
    "\n",
    "<br> <br>\n",
    "<span style=\"color:green\"><b>Answer:</b>\n",
    "<br> The first method is, by definition, forward substitution using the lower triangular matrix $I-M$.\n",
    "</span>\n",
    "<br><br><br>\n",
    "\n",
    "Same question but for the more efficient method?\n",
    "\n",
    "<br>\n",
    "<br> <br>\n",
    "<span style=\"color:green\"><b>Answer:</b>\n",
    "<br> The second method is back substitution which can be thought of as  using the upper triangular matrix $(I-M)^T$.\n",
    "</span>\n",
    "<br><br><br>\n",
    "\n",
    "\n",
    "\n",
    "<br>\n",
    "Comment for those interested:  The slower way is known as forward mode automatic differentiation in machine learning, and the faster way is reverse mode.  We are in disguise (because the problem never mentions derivatives at all) computing the gradient of the scalar $y_3$ as a function of the vector $x$, and even if the steps in the function were nonlinear, the derivatives would be linear."
   ]
  },
  {
   "cell_type": "markdown",
   "metadata": {},
   "source": [
    "## Problem 2"
   ]
  },
  {
   "cell_type": "markdown",
   "metadata": {},
   "source": [
    "Consider the 6 formulations of matrix multiply as discussed in [Lecture 2](http://nbviewer.jupyter.org/github/stevengj/1806/blob/master/lectures/Matrix-mult-perspectives.ipynb),\n",
    "where we wrote 6 functions with names like `matmul_kij` .\n",
    "\n",
    "In that formulation i and j are the indices of the answer `C[i,j]` and k is how many products have been accumulated so far into `C[i,j]`\n",
    "\n",
    "Circle the two that correspond to the outer product perspective of matmul:\n",
    "\n",
    "## ijk ikj jik jki kij kji\n",
    "<br> <br>\n",
    "<span style=\"color:green\"><b>Answer:</b>\n",
    "<br> This corresponds to \"kij\" and \"kji\": for every iteration of the outer-most loop, k is fixed, and on the right hand side of <tt>c[i,j] +=  a[i,k] * b[k,j]</tt> we are multiplying the column vector <tt>a[:,k]</tt> by the row vector <tt>b[k,:]</tt>.\n",
    "</span>\n",
    "<br><br><br>\n"
   ]
  },
  {
   "cell_type": "markdown",
   "metadata": {},
   "source": [
    "## Problem 3"
   ]
  },
  {
   "cell_type": "markdown",
   "metadata": {},
   "source": [
    " We would like to find the LU decomposition of A=\n",
    "$\\left( \\begin{matrix}\n",
    "a & r  & r & r \\\\\n",
    "a & b  & s & s \\\\\n",
    "a & b  & c & t \\\\\n",
    "a & b  & c &  d\n",
    "\\end{matrix} \\right) $.\n",
    "\n",
    "Find the four conditions on a,b,c,d,r,s,t so that A=LU above has four pivots.\n",
    "\n",
    "Your expressions can involve any of the variables: `a`,`b`,`c`,`d`,`r`,`s`,`t`.  "
   ]
  },
  {
   "cell_type": "markdown",
   "metadata": {},
   "source": [
    "<br> <br>\n",
    "<span style=\"color:green\"><b>Answer:</b>\n",
    "<br> We doing row operations to the matrix to make it upper triangular. Subtract the first row from the others to obtain:\n",
    "$\\left( \\begin{matrix}\n",
    "a & r  & r & r \\\\\n",
    "0 & b - r  & s - r & s - r\\\\\n",
    "0 & b - r & c - r & t - r \\\\\n",
    "0 & b - r & c - r &  d - r\n",
    "\\end{matrix} \\right)$. This involves doing the row operation $E_1 = \\left( \\begin{matrix}\n",
    "1 & 0 & 0 & 0 \\\\\n",
    "-1 & 1  & 0 & 0\\\\\n",
    "-1 & 0 & 1 & 0 \\\\\n",
    "-1 & 0 & 0 &  1\n",
    "\\end{matrix} \\right)$. In order to have a second pivot at this point, we need $b -r \\neq 0$. Continue row-reducing by subtracting the second row from the third and fourth:\n",
    "$\\left( \\begin{matrix}\n",
    "a & r  & r & r \\\\\n",
    "0 & b - r  & s - r & s - r\\\\\n",
    "0 & 0 & c - s & t - s \\\\\n",
    "0 & 0 & c - s &  d - s\n",
    "\\end{matrix} \\right) $. This is accomplished by the row operation $E_2 = \\left( \\begin{matrix}\n",
    "1 & 0 & 0 & 0 \\\\\n",
    "0 & 1  & 0 & 0\\\\\n",
    "0 & -1 & 1 & 0 \\\\\n",
    "0 & -1 & 0 &  1\n",
    "\\end{matrix} \\right)$.\n",
    "In order to have a third pivot, we need $c - s \\neq 0$. For the final row operation, subtract the third row from the fourth to obtain: $\\left( \\begin{matrix}\n",
    "a & r  & r & r \\\\\n",
    "0 & b - r  & s - r & s - r\\\\\n",
    "0 & 0 & c - s & t - s \\\\\n",
    "0 & 0 & 0 &  d - t\n",
    "\\end{matrix} \\right) $ using the row operation $E_3 = \\left( \\begin{matrix}\n",
    "1 & 0 & 0 & 0 \\\\\n",
    "0 & 1  & 0 & 0\\\\\n",
    "0 & 0 & 1 & 0 \\\\\n",
    "0 & 0 & -1 &  1\n",
    "\\end{matrix} \\right)$. In order to have the last pivot, we need $d \\neq t$. That is, the conditions we've needed to get four pivots are:\n",
    "\\begin{align*}\n",
    "a &\\neq 0 & b&\\neq r & c &\\neq s & d &\\neq t.\n",
    "\\end{align*}\n",
    "</span>\n",
    "<br><br><br>\n",
    "\n"
   ]
  },
  {
   "cell_type": "markdown",
   "metadata": {},
   "source": [
    "For the same problem above, write down L. <br>\n",
    "<br> <br>\n",
    "<span style=\"color:green\"><b>Answer:</b>\n",
    "<br> \n",
    "We've already found that $U = \\left( \\begin{matrix}\n",
    "a & r  & r & r \\\\\n",
    "0 & b - r  & s - r & s - r\\\\\n",
    "0 & 0 & c - s & t - s \\\\\n",
    "0 & 0 & 0 &  d - t\n",
    "\\end{matrix} \\right) $ and $L = (E_3 E_2 E_1)^{-1} = E_1^{-1} E_2^{-1} E_3^{-1} = \\left( \\begin{matrix}\n",
    "1 & 0 & 0 & 0 \\\\\n",
    "1 & 1  & 0 & 0\\\\\n",
    "1 & 1 & 1 & 0 \\\\\n",
    "1 & 1 & 1 &  1\n",
    "\\end{matrix} \\right)$.\n",
    "</span>\n",
    "<br><br><br>"
   ]
  },
  {
   "cell_type": "markdown",
   "metadata": {},
   "source": [
    "## Problem 4"
   ]
  },
  {
   "cell_type": "markdown",
   "metadata": {},
   "source": [
    "Find $A^T$ and $A^{-1}$ and $(A^{-1})^T$ and $(A^T)^{-1}$  for\n",
    "\n",
    "$A=\\left( \\begin{matrix} 1 & 0 \\\\ 9 & 3 \\end{matrix}\\right)$\n",
    "\n",
    "<br> <br>\n",
    "<span style=\"color:green\"><b>Answer:</b>\n",
    "<br> $$A^T = \\left( \\begin{matrix} 1 & 9\\\\ 0 & 3 \\end{matrix}\\right)$$\n",
    "$$ A^{-1} = \\left( \\begin{matrix} 1 & 0\\\\ -3 & {1\\over 3}\\end{matrix}\\right) $$\n",
    "$$ (A^{-1})^T = \\left( \\begin{matrix} 1 & -3\\\\ 0 & {1\\over 3}\\end{matrix}\\right) $$\n",
    "$$ (A^T)^{-1} = \\left( \\begin{matrix} 1 & -3\\\\ 0 & {1\\over 3}\\end{matrix}\\right) $$\n",
    "</span>"
   ]
  },
  {
   "cell_type": "markdown",
   "metadata": {},
   "source": [
    "<br><br><br><br><br><br><br>"
   ]
  },
  {
   "cell_type": "markdown",
   "metadata": {},
   "source": [
    "## Problem 5\n",
    "Which of these are true? <br>\n",
    "\n",
    "1. The block matrix\n",
    "$\\begin{pmatrix} 0 & A\\\\ A & 0 \\end{pmatrix}$\n",
    "is automatically symmetric.  <br>\n",
    "\n",
    "2. If A and B are symmetric then their product AB is symmetric.  <br>\n",
    "\n",
    "3. If A is not symmetric then A^{−1} is not symmetric.  <br>\n",
    "\n",
    "4. When A,B,C are symmetric, the transpose of ABC is CBA <br>\n",
    "\n",
    "<br> <br>\n",
    "<span style=\"color:green\"><b>Answer:</b>\n",
    "<br> Only 3 and 4 are true.\n",
    "<br>1 is false if $A$ is not symmetric. \n",
    "<br>2 is false: a counterexample is $A = \\begin{pmatrix} 0 & 0 \\\\ 0 & 1 \\end{pmatrix}$ and $B = \\begin{pmatrix} 0 & 1 \\\\ 1 & 0 \\end{pmatrix}$. Then $AB = \\begin{pmatrix} 0 & 0\\\\ 1 & 0\\end{pmatrix}$, which is not symmetric.\n",
    "<br>3 is equivalent to the statement \"If $A^{-1}$ is symmetric, then $A$ is symmetric.\" To show this, first recall that $(A^T)^{-1} = (A^{-1})^T$. So we have $A^{-1} = (A^{-1})^T$ by assumption, and then $(A^{-1})^T = (A^T)^{-1}$ by the aforementioned fact. This implies $A^{-1} = (A^T)^{-1}$, and after taking inverses, we have $A = A^T$.\n",
    "<br> In 4, $(ABC)^T = C^T B^T A^T = CBA$ where the second equality is using the fact that $A$, $B$, and $C$ are symmetric.\n",
    "</span>\n",
    "\n"
   ]
  },
  {
   "cell_type": "markdown",
   "metadata": {},
   "source": [
    "If $A=A^T$ and $B=B^T$, which of these matrices are certainly symmetric?"
   ]
  },
  {
   "cell_type": "markdown",
   "metadata": {},
   "source": [
    "1.$A^2−B^2$ <br> 2. $(A+B)(A−B)$<br>  3. $ABA$<br> 4.  $ABAB$\n",
    "\n",
    "<br> <br>\n",
    "<span style=\"color:green\"><b>Answer:</b>\n",
    "<br> 1 and 3 are necessarily symmetric.\n",
    "<br><br> For 1: the square of a symmetric matrix is symmetric. This is because\n",
    "\\begin{align*} (A^2)_{ij} &= \\text{($i$th row of $A$)}\\cdot \\text{($j$th column of $A$)}\n",
    "\\\\ &= \\text{($i$th column of $A$)}\\cdot \\text{($j$th row of $A$)}\n",
    "\\\\ &= \\text{($j$th row of $A$)}\\cdot \\text{($i$th column of $A$)}\n",
    "\\\\ &= (A^2)_{ji}\n",
    "\\end{align*}\n",
    "Also the sum of symmetric matrices is symmetric.\n",
    "<br><br>\n",
    "2 is not necessarily symmetric. Consider $A = \\begin{pmatrix} 0 & 1\\\\ 1 & 1\\end{pmatrix}$ and $B = \\begin{pmatrix} 0 & -1 \\\\ -1 & 1\\end{pmatrix}$. Then $AB = \\begin{pmatrix} 0 & 0\\\\ 4 & 0\\end{pmatrix}$ is not symmetric.\n",
    "<br>Note that this is different from part 1: $(A+B)(A-B) = A^2 -AB + BA - B^2$, and the middle two terms probably don't cancel out. \n",
    "<br><br> For 3, $(ABA)^T = A^TB^TA^T = ABA$.\n",
    "<br><br> 4 is not necessarily symmetric: use the same $A$ and $B$ as in 2.\n",
    "</span>"
   ]
  },
  {
   "cell_type": "markdown",
   "metadata": {},
   "source": [
    "## Problem 6\n",
    "Which of the following subsets of $R^3$ are actually subspaces?\n",
    "\n",
    "1. The plane of vectors $(b_1,b_2,b_3)$ with $b_1=b_2$\n",
    "2. The plane of vectors with $b_1=1$\n",
    "3. The vectors with $b_1 b_2 b_3 = 0$\n",
    "4. All linear combinations of $v=(1,4,0)$ and $w=(2,2,2)$\n",
    "5. All vectors that satisfy $b_1+b_2+b_3=0$\n",
    "6. All vectors with $b_1≤b_2≤b_3$.\n",
    "\n",
    "<br> \n",
    "<span style=\"color:green\"><b>Answer:</b>\n",
    "<br> 1. Yes\n",
    "<br> 2. No, because the zero vector is not in the space\n",
    "<br> 3. No, because it's not linear: (0, 1, 1) and (1, 0, 1) are both in the space but their sum isn't\n",
    "<br> 4. Yes\n",
    "<br> 5. Yes\n",
    "<br> 6. No, because it's not preserved by scalar multiplication: $v = (0, 1, 2)$ is in the space but $-v = (0, -1, -2)$ is not.\n",
    "<br><br></span>"
   ]
  },
  {
   "cell_type": "markdown",
   "metadata": {},
   "source": [
    "## Problem 7 (GS p.106 13)"
   ]
  },
  {
   "cell_type": "markdown",
   "metadata": {},
   "source": [
    "Compute U and L for the symmetric matrix A: <br>\n",
    "$\\left( \\begin{matrix}\n",
    "a & a  & a & a \\\\\n",
    "a & b  & b & b \\\\\n",
    "a & b  & c & c \\\\\n",
    "a & b  & c &  d\n",
    "\\end{matrix} \\right) $.\n",
    "\n",
    "Find four conditions on a,b,c,d to get A=LU with four pivots.\n",
    "\n",
    "<br> <br>\n",
    "<span style=\"color:green\"><b>Answer:</b>\n",
    "<br> Gaussian elimination yields:\n",
    "$$ \\begin{pmatrix}a&a&a&a\\\\ a&b&b&b\\\\a&b&c&c\\\\ a&b&c&d\\end{pmatrix} \\implies \\begin{pmatrix}a&a&a&a\\\\ 0&b-a&b-a&b-a\\\\0&b-a&c-a&c-a\\\\ 0&b-a&c-a&d-a\\end{pmatrix}\\implies \\begin{pmatrix}a&a&a&a\\\\ 0&b-a&b-a&b-a\\\\0&0&c-b&c-b\\\\ 0&0&c-b&d-b\\end{pmatrix}\\implies \\begin{pmatrix} a&a&a&a\\\\ 0&b-a&b-a&b-a\\\\0&0&c-b&c-b\\\\ 0&0&0 & d-c\\end{pmatrix}=U $$\n",
    "where the elimination matrices are\n",
    "\\begin{align*}\n",
    "E_1&=\\begin{pmatrix}1&0&0&0\\\\-1&1&0&0 \\\\ -1 & 0 &1 & 0\\\\ -1 & 0&0&1\\end{pmatrix} & E_2&=\\begin{pmatrix}1&0&0&0\\\\0&1&0&0 \\\\ 0 & -1 &1 & 0\\\\ 0 & -1&0&1\\end{pmatrix} & E_3&=\\begin{pmatrix}1&0&0&0\\\\0&1&0&0 \\\\ 0 & 0 &1 & 0\\\\ 0 & 0&-1&1\\end{pmatrix}.\n",
    "\\end{align*}\n",
    "Then we have\n",
    "$$ L=(E_3E_2E_1)^{-1} =  \\begin{pmatrix} 1 & 0& 0&0\\\\ 1 & 1& 0 & 0 \\\\ 1&1&1&0\\\\ 1&1&1&1\\end{pmatrix} $$\n",
    "If $a\\neq 0$, $b\\neq a$, $c\\neq b$, and $d\\neq c$, then we have four pivots.\n",
    "</span>\n",
    "<br><br><br>"
   ]
  },
  {
   "cell_type": "markdown",
   "metadata": {},
   "source": [
    "## Problem 8 (GS p.120 22)\n",
    "\n",
    "Find PA=LU factorization (and check by hand or with Julia) for <br>\n",
    "\n",
    "$A = \\left( \\begin{matrix}\n",
    "0 & 1  & 1  \\\\\n",
    "1 & 0  & 1  \\\\\n",
    "2 & 3  & 4  \\\\\n",
    "\\end{matrix} \\right) $ and\n",
    "$A = \\left( \\begin{matrix}\n",
    "1 & 2  & 0  \\\\\n",
    "2 & 4  & 1  \\\\\n",
    "1 & 1  & 1  \\\\\n",
    "\\end{matrix} \\right) $ .\n",
    "\n",
    "<br> <br>\n",
    "<span style=\"color:green\"><b>Answer:</b>\n",
    "<br> For the first part:\n",
    "\\begin{align*} P &= \\begin{pmatrix} 0 & 0 & 1 \\\\ 0 & 1 & 0 \\\\ 1 & 0 & 0 \\end{pmatrix} & U &= \\begin{pmatrix} 2 & 3 & 4 \\\\ 0 & -{3\\over 2} & -1 \\\\ 0 & 0 & 1\\over 3 \\end{pmatrix} & L & = \\begin{pmatrix}1 & 0 & 0\\\\ 1\\over 2 & 1 & 0 \\\\ 0 & -{2\\over 3} & 1 \\end{pmatrix}\n",
    "\\end{align*}\n",
    "<br> For the second part:\n",
    "\\begin{align*} P &= \\begin{pmatrix} 0 & 1 & 0 \\\\ 0 & 0 & 1 \\\\ 1 & 0 & 0 \\end{pmatrix} & U &= \\begin{pmatrix} 2 & 4 & 1 \\\\ 0 & -1 & 1\\over 2 \\\\ 0 & 0 & -{1\\over 2} \\end{pmatrix} & L & = \\begin{pmatrix}1 & 0 & 0\\\\ 1\\over 2 & 1 & 0 \\\\ {1\\over 2} & 0 & 1 \\end{pmatrix}\n",
    "\\end{align*}\n",
    "</span>"
   ]
  },
  {
   "cell_type": "markdown",
   "metadata": {},
   "source": [
    "## Problem 9\n",
    "We explore whether it is sensible to add and subtract functions.\n",
    "\n",
    "In Julia we can define the addition and subtraction of functions. The code\n",
    "below says that <br> (f ± g)(x) = f(x) ± g(x)"
   ]
  },
  {
   "cell_type": "code",
   "execution_count": 14,
   "metadata": {},
   "outputs": [
    {
     "data": {
      "text/plain": [
       "- (generic function with 195 methods)"
      ]
     },
     "execution_count": 14,
     "metadata": {},
     "output_type": "execute_result"
    }
   ],
   "source": [
    "import Base.+,Base.-\n",
    "+(f::Function, g::Function) = x -> f(x) + g(x)\n",
    "-(f::Function, g::Function) = x -> f(x) - g(x)"
   ]
  },
  {
   "cell_type": "code",
   "execution_count": 15,
   "metadata": {},
   "outputs": [
    {
     "data": {
      "text/plain": [
       "0.4931505902785393"
      ]
     },
     "execution_count": 15,
     "metadata": {},
     "output_type": "execute_result"
    }
   ],
   "source": [
    "(sin+cos)(2)"
   ]
  },
  {
   "cell_type": "code",
   "execution_count": 16,
   "metadata": {},
   "outputs": [
    {
     "data": {
      "text/plain": [
       "0.4931505902785393"
      ]
     },
     "execution_count": 16,
     "metadata": {},
     "output_type": "execute_result"
    }
   ],
   "source": [
    "sin(2) + cos(2)"
   ]
  },
  {
   "cell_type": "markdown",
   "metadata": {},
   "source": [
    "We can also define a function times a number:"
   ]
  },
  {
   "cell_type": "code",
   "execution_count": 17,
   "metadata": {
    "collapsed": true
   },
   "outputs": [],
   "source": [
    "import Base.*"
   ]
  },
  {
   "cell_type": "code",
   "execution_count": 18,
   "metadata": {},
   "outputs": [
    {
     "data": {
      "text/plain": [
       "* (generic function with 184 methods)"
      ]
     },
     "execution_count": 18,
     "metadata": {},
     "output_type": "execute_result"
    }
   ],
   "source": [
    "*(f::Function, c::Number) = x -> c * f(x)\n",
    "*(c::Number, f::Function) = x -> c * f(x)"
   ]
  },
  {
   "cell_type": "code",
   "execution_count": 19,
   "metadata": {},
   "outputs": [
    {
     "data": {
      "text/plain": [
       "-1.0880422217787395"
      ]
     },
     "execution_count": 19,
     "metadata": {},
     "output_type": "execute_result"
    }
   ],
   "source": [
    "(2*sin)(10)"
   ]
  },
  {
   "cell_type": "code",
   "execution_count": 20,
   "metadata": {},
   "outputs": [
    {
     "data": {
      "text/plain": [
       "-1.0880422217787395"
      ]
     },
     "execution_count": 20,
     "metadata": {},
     "output_type": "execute_result"
    }
   ],
   "source": [
    "(sin*2)(10)"
   ]
  },
  {
   "cell_type": "markdown",
   "metadata": {},
   "source": [
    "Decide, whether functions form a vector space.  Okay to read the wikipedia article on [vector space](https://en.wikipedia.org/wiki/Vector_space) .\n",
    "\n",
    "<br> <br>\n",
    "<span style=\"color:green\"><b>Answer:</b>\n",
    "<br> They do form a vector space: the function $f(x) = 0$ is the zero \"vector\", and we have seen above that we can define the sum of two functions to be a function, and a scalar times a function to be a function. \n",
    "</span>\n",
    "<br><br><br>"
   ]
  }
 ],
 "metadata": {
  "kernelspec": {
   "display_name": "Julia 0.6.0",
   "language": "julia",
   "name": "julia-0.6"
  },
  "language_info": {
   "file_extension": ".jl",
   "mimetype": "application/julia",
   "name": "julia",
   "version": "0.6.0"
  }
 },
 "nbformat": 4,
 "nbformat_minor": 2
}
