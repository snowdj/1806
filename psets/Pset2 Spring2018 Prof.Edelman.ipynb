{
 "cells": [
  {
   "cell_type": "markdown",
   "metadata": {},
   "source": [
    "## Problem Set 2 \n",
    "is due 10:55am Wednesday February 21.\n",
    "Any kind of pdf, handwritten or typed is acceptable."
   ]
  },
  {
   "cell_type": "markdown",
   "metadata": {},
   "source": [
    "## Problem 1 \n",
    "\n",
    "(invented by your professor as he was trying to make sense of autodifferentiation algorithms.)"
   ]
  },
  {
   "cell_type": "code",
   "execution_count": 13,
   "metadata": {},
   "outputs": [
    {
     "data": {
      "text/plain": [
       "f (generic function with 1 method)"
      ]
     },
     "execution_count": 13,
     "metadata": {},
     "output_type": "execute_result"
    }
   ],
   "source": [
    "function f(x₁, x₂, x₃)\n",
    "    y₁ = B₁₁*x₁  + B₁₂*x₂ + B₁₃*x₃\n",
    "    y₂ = B₂₁*x₁  + B₂₂*x₂ + B₂₃*x₃ + M₂₁*y₁\n",
    "    y₃ = B₃₁*x₁  + B₃₂*x₂ + B₃₃*x₃ + M₃₁*y₁ + M₃₂*y₂\n",
    "    return(y₃)\n",
    "end "
   ]
  },
  {
   "cell_type": "markdown",
   "metadata": {},
   "source": [
    "A very good 18.06 student sees the above computation of the number y₃ in terms of the three numbers x₁, x₂, x₃ and says excitedly, I can turn this into linear algebra notation!\n",
    "\n",
    "Letting B be the obvious 3x3 matrix, and M the fairly obvious [strictly lower triangular matrix](https://en.wikipedia.org/wiki/Triangular_matrix#Strictly_triangular_matrix), and x and y being 3-vectors,  write down an\n",
    "equation with y on the left, and B,x,M, and y on the right.\n",
    "<br><br><br><br><br><br><br><br><br>"
   ]
  },
  {
   "cell_type": "markdown",
   "metadata": {},
   "source": [
    "Solve for y in the equation above using I and inverse as appropriate.\n",
    "    <br><br><br><br><br><br><br><br><br>"
   ]
  },
  {
   "cell_type": "markdown",
   "metadata": {},
   "source": [
    "If one focuses on the y variables, we recognize that the computational steps above are really\n",
    "computing __________________ substitution using the matrix ______________. "
   ]
  },
  {
   "cell_type": "markdown",
   "metadata": {},
   "source": [
    "Write y₃ as w⋅x (dot product), where w is in terms of M,B and e=[0,0,1].\n",
    "<br><br><br><br><br><br><br><br>"
   ]
  },
  {
   "cell_type": "markdown",
   "metadata": {},
   "source": [
    "There is nothing special about 3 here, we could have had 3 million.  Consider two ways to compute w and figure out which is more efficient if you wish to find the y₃ that would be computed for each of x=(1,0,0), (0,1,0), and (0,0,1).\n",
    "\n",
    "\n",
    "<br> <br>\n",
    "\n",
    "In the less efficient method, are we doing forward substitution for a triangular system or back substitution for a triangular system? \n",
    "\n",
    "<br> <br>\n",
    "\n",
    "Same question but for the more efficient method?\n",
    "\n",
    "<br>\n",
    "\n",
    "\n",
    "\n",
    "<br>\n",
    "Comment for those interested:  The slower way is known as forward mode automatic differentiation in machine learning, and the faster way is reverse mode.  We are in disguise (because the problem never mentions derivatives at all) computing the gradient of the scalar $y_3$ as a function of the vector $x$, and even if the steps in the function were nonlinear, the derivatives would be linear."
   ]
  },
  {
   "cell_type": "markdown",
   "metadata": {},
   "source": [
    "## Problem 2"
   ]
  },
  {
   "cell_type": "markdown",
   "metadata": {},
   "source": [
    "Consider the 6 formulations of matrix multiply as discussed in [Lecture 2](http://nbviewer.jupyter.org/github/stevengj/1806/blob/master/lectures/Matrix-mult-perspectives.ipynb),\n",
    "where we wrote 6 functions with names like `matmul_kij` .\n",
    "\n",
    "In that formulation i and j are the indices of the answer `C[i,j]` and k is how many products have been accumulated so far into `C[i,j]`\n",
    "\n",
    "Circle the two that correspond to the outer product perspective of matmul:\n",
    "\n",
    "## ijk ikj jik jki kij kji"
   ]
  },
  {
   "cell_type": "markdown",
   "metadata": {},
   "source": [
    "## Problem 3"
   ]
  },
  {
   "cell_type": "markdown",
   "metadata": {},
   "source": [
    " We would like to find the LU decomposition of A=\n",
    "$\\left( \\begin{matrix}\n",
    "a & r  & r & r \\\\\n",
    "a & b  & s & s \\\\\n",
    "a & b  & c & t \\\\\n",
    "a & b  & c &  d\n",
    "\\end{matrix} \\right) $.\n",
    "\n",
    "Find the four conditions on a,b,c,d,r,s,t so that A=LU above has four pivots.\n",
    "\n",
    "Your expressions can involve any of the variables: `a`,`b`,`c`,`d`,`r`,`s`,`t`.  "
   ]
  },
  {
   "cell_type": "markdown",
   "metadata": {},
   "source": [
    "a ≠"
   ]
  },
  {
   "cell_type": "markdown",
   "metadata": {},
   "source": [
    "b≠"
   ]
  },
  {
   "cell_type": "markdown",
   "metadata": {},
   "source": [
    "c≠"
   ]
  },
  {
   "cell_type": "markdown",
   "metadata": {},
   "source": [
    "d≠"
   ]
  },
  {
   "cell_type": "markdown",
   "metadata": {},
   "source": [
    "For the same problem above, write down L. <br>"
   ]
  },
  {
   "cell_type": "markdown",
   "metadata": {},
   "source": [
    "## Problem 4"
   ]
  },
  {
   "cell_type": "markdown",
   "metadata": {},
   "source": [
    "Find $A^T$ and $A^{-1}$ and $(A^{-1})^T$ and $(A^T)^{-1}$  for\n",
    "\n",
    "$A=\\left( \\begin{matrix} 1 & 0 \\\\ 9 & 3 \\end{matrix}\\right)$"
   ]
  },
  {
   "cell_type": "markdown",
   "metadata": {},
   "source": [
    "<br><br><br><br><br><br><br>"
   ]
  },
  {
   "cell_type": "markdown",
   "metadata": {},
   "source": [
    "## Problem 5\n",
    "Which of these are true? <br>\n",
    "\n",
    "1. The block matrix\n",
    "$\\begin{pmatrix} 0 & A\\\\ A & 0 \\end{pmatrix}$\n",
    "is automatically symmetric.  <br>\n",
    "\n",
    "2. If A and B are symmetric then their product AB is symmetric.  <br>\n",
    "\n",
    "3. If A is not symmetric then A^{−1} is not symmetric.  <br>\n",
    "\n",
    "4. When A,B,C are symmetric, the transpose of ABC is CBA <br>\n",
    "\n",
    "\n",
    "\n"
   ]
  },
  {
   "cell_type": "markdown",
   "metadata": {},
   "source": [
    "If $A=A^T$ and $B=B^T$, which of these matrices are certainly symmetric?"
   ]
  },
  {
   "cell_type": "markdown",
   "metadata": {},
   "source": [
    "1.$A^2−B^2$ <br> 2. $(A+B)(A−B)$<br>  3. $ABA$<br> 4.  $ABAB$\n"
   ]
  },
  {
   "cell_type": "markdown",
   "metadata": {},
   "source": [
    "## Problem 6\n",
    "Which of the following subsets of $R^3$ are actually subspaces?\n",
    "\n",
    "1. The plane of vectors $(b_1,b_2,b_3)$ with $b_1=b_2$\n",
    "2. The plane of vectors with $b_1=1$\n",
    "3. The vectors with $b_1 b_2 b_3 = 0$\n",
    "4. All linear combinations of $v=(1,4,0)$ and $w=(2,2,2)$\n",
    "5. All vectors that satisfy $b_1+b_2+b_3=0$\n",
    "6. All vectors with $b_1≤b_2≤b_3$."
   ]
  },
  {
   "cell_type": "markdown",
   "metadata": {},
   "source": [
    "## Problem 7 (GS p.106 13)"
   ]
  },
  {
   "cell_type": "markdown",
   "metadata": {},
   "source": [
    "Compute U and L for the symmetric matrix A: <br>\n",
    "$\\left( \\begin{matrix}\n",
    "a & a  & a & a \\\\\n",
    "a & b  & b & b \\\\\n",
    "a & b  & c & c \\\\\n",
    "a & b  & c &  d\n",
    "\\end{matrix} \\right) $.\n",
    "\n",
    "Find four conditions on a,b,c,d to get A=LU with four pivots."
   ]
  },
  {
   "cell_type": "markdown",
   "metadata": {},
   "source": [
    "## Problem 8 (GS p.120 22)\n",
    "\n",
    "Find PA=LU factorization (and check by hand or with Julia) for <br>\n",
    "\n",
    "$A = \\left( \\begin{matrix}\n",
    "0 & 1  & 1  \\\\\n",
    "1 & 0  & 1  \\\\\n",
    "2 & 3  & 4  \\\\\n",
    "\\end{matrix} \\right) $ and\n",
    "$A = \\left( \\begin{matrix}\n",
    "1 & 2  & 0  \\\\\n",
    "2 & 4  & 1  \\\\\n",
    "1 & 1  & 1  \\\\\n",
    "\\end{matrix} \\right) $ ."
   ]
  },
  {
   "cell_type": "markdown",
   "metadata": {},
   "source": [
    "## Problem 9\n",
    "We explore whether it is sensible to add and subtract functions.\n",
    "\n",
    "In Julia we can define the addition and subtraction of functions. The code\n",
    "below says that <br> (f ± g)(x) = f(x) ± g(x)"
   ]
  },
  {
   "cell_type": "code",
   "execution_count": 14,
   "metadata": {},
   "outputs": [
    {
     "data": {
      "text/plain": [
       "- (generic function with 195 methods)"
      ]
     },
     "execution_count": 14,
     "metadata": {},
     "output_type": "execute_result"
    }
   ],
   "source": [
    "import Base.+,Base.-\n",
    "+(f::Function, g::Function) = x -> f(x) + g(x)\n",
    "-(f::Function, g::Function) = x -> f(x) - g(x)"
   ]
  },
  {
   "cell_type": "code",
   "execution_count": 15,
   "metadata": {},
   "outputs": [
    {
     "data": {
      "text/plain": [
       "0.4931505902785393"
      ]
     },
     "execution_count": 15,
     "metadata": {},
     "output_type": "execute_result"
    }
   ],
   "source": [
    "(sin+cos)(2)"
   ]
  },
  {
   "cell_type": "code",
   "execution_count": 16,
   "metadata": {},
   "outputs": [
    {
     "data": {
      "text/plain": [
       "0.4931505902785393"
      ]
     },
     "execution_count": 16,
     "metadata": {},
     "output_type": "execute_result"
    }
   ],
   "source": [
    "sin(2) + cos(2)"
   ]
  },
  {
   "cell_type": "markdown",
   "metadata": {},
   "source": [
    "We can also define a function times a number:"
   ]
  },
  {
   "cell_type": "code",
   "execution_count": 17,
   "metadata": {
    "collapsed": true
   },
   "outputs": [],
   "source": [
    "import Base.*"
   ]
  },
  {
   "cell_type": "code",
   "execution_count": 18,
   "metadata": {},
   "outputs": [
    {
     "data": {
      "text/plain": [
       "* (generic function with 184 methods)"
      ]
     },
     "execution_count": 18,
     "metadata": {},
     "output_type": "execute_result"
    }
   ],
   "source": [
    "*(f::Function, c::Number) = x -> c * f(x)\n",
    "*(c::Number, f::Function) = x -> c * f(x)"
   ]
  },
  {
   "cell_type": "code",
   "execution_count": 19,
   "metadata": {},
   "outputs": [
    {
     "data": {
      "text/plain": [
       "-1.0880422217787395"
      ]
     },
     "execution_count": 19,
     "metadata": {},
     "output_type": "execute_result"
    }
   ],
   "source": [
    "(2*sin)(10)"
   ]
  },
  {
   "cell_type": "code",
   "execution_count": 20,
   "metadata": {},
   "outputs": [
    {
     "data": {
      "text/plain": [
       "-1.0880422217787395"
      ]
     },
     "execution_count": 20,
     "metadata": {},
     "output_type": "execute_result"
    }
   ],
   "source": [
    "(sin*2)(10)"
   ]
  },
  {
   "cell_type": "markdown",
   "metadata": {},
   "source": [
    "Decide, whether functions form a vector space.  Okay to read the wikipedia article on [vector space](https://en.wikipedia.org/wiki/Vector_space) .  "
   ]
  },
  {
   "cell_type": "code",
   "execution_count": null,
   "metadata": {
    "collapsed": true
   },
   "outputs": [],
   "source": []
  },
  {
   "cell_type": "code",
   "execution_count": null,
   "metadata": {
    "collapsed": true
   },
   "outputs": [],
   "source": []
  }
 ],
 "metadata": {
  "kernelspec": {
   "display_name": "Julia 0.6.0",
   "language": "julia",
   "name": "julia-0.6"
  },
  "language_info": {
   "file_extension": ".jl",
   "mimetype": "application/julia",
   "name": "julia",
   "version": "0.6.0"
  }
 },
 "nbformat": 4,
 "nbformat_minor": 2
}
