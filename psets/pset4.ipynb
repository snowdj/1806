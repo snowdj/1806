{
 "cells": [
  {
   "cell_type": "markdown",
   "metadata": {},
   "source": [
    "# 18.06 pset 4\n",
    "\n",
    "Due Wednesday October 3rd at 10:55am via Stellar."
   ]
  },
  {
   "cell_type": "markdown",
   "metadata": {},
   "source": [
    "## Problem 1 (5 points)\n",
    "\n",
    "Can a set of linearly independent vectors contain the $\\vec{0}$ vector?  Under what circumstances, if any?"
   ]
  },
  {
   "cell_type": "markdown",
   "metadata": {},
   "source": [
    "## Problem 2 (12 points)\n",
    "\n",
    "Give a **basis** and state the **dimensionality** for the following vector spaces and subspaces (for multiplication by real scalars and the ordinary ± operations):\n",
    "\n",
    "1. Functions $p(x)$ that are polynomials of degree ≤ 3 (cubic or less).\n",
    "\n",
    "2. 3-component vectors $x \\in \\mathbb{R}^3$ whose components average to zero.\n",
    "\n",
    "3. $3\\times 3$ matrices $A$ that are *anti-symmetric*: $A = -A^T$."
   ]
  },
  {
   "cell_type": "markdown",
   "metadata": {},
   "source": [
    "## Problem 3 (10 points)\n",
    "\n",
    "Come up with a matrix $A$ and a vector $b \\ne 0$ such that the solutions of $Ax=b$ form a line in $\\mathbb{R}^3$, and all of the entries of $A$ are nonzero.  Find the complete solution (i.e., all solutions) $x$."
   ]
  },
  {
   "cell_type": "markdown",
   "metadata": {},
   "source": [
    "## Problem 4 (12 points)\n",
    "\n",
    "The following matrix is from **problem 5 of pset 3**:\n",
    "$$\n",
    "A = \\begin{pmatrix} 0 & 1 & 2 & 3 & 4 \\\\ 0 & 1 & 2 & 4 & 6 \\\\ 0 & 0 & 0 & 1 & 2 \\end{pmatrix}\n",
    "$$\n",
    "\n",
    "**(a)** Give a basis for $C(A)$ and the dimension of this subspace.\n",
    "\n",
    "**(b)** If $b = \\begin{pmatrix} 3 \\\\ 6 \\\\ \\beta \\end{pmatrix}$, for what values of the scalar $\\beta$ will $Ax=b$ have a solution?\n",
    "\n",
    "**(c)** For the $\\beta$ from (b), find the **complete** solution to $Ax=b$."
   ]
  }
 ],
 "metadata": {
  "kernelspec": {
   "display_name": "Julia 0.6.3",
   "language": "julia",
   "name": "julia-0.6"
  },
  "language_info": {
   "file_extension": ".jl",
   "mimetype": "application/julia",
   "name": "julia",
   "version": "0.6.3"
  }
 },
 "nbformat": 4,
 "nbformat_minor": 2
}
