{
 "cells": [
  {
   "cell_type": "markdown",
   "metadata": {},
   "source": [
    "# 18.06 pset 12\n",
    "\n",
    "Due Wednesday, November 28 at 10:55am."
   ]
  },
  {
   "cell_type": "markdown",
   "metadata": {},
   "source": [
    "## Problem 1\n",
    "\n",
    "Suppose that $A$ is a real $3\\times 2$ matrix.\n",
    "\n",
    "**(a)** If you solve the ODE $\\frac{dx}{dt} = -A^T A x$ for some initial condition $x(0)$, then which of the following are *possible* behaviors for $x(t)$?\n",
    "\n",
    "* $x(t)$ is a nonzero constant vector.\n",
    "* $x(t)$ monotonically approaches a nonzero constant vector as $t \\to \\infty$.\n",
    "* $x(t)$ monononically decays to the zero vector.\n",
    "* $\\Vert x(t) \\Vert$ diverges as $t \\to \\infty$.\n",
    "* $x(t)$ oscillates.\n",
    "* $x(t)$ has decaying oscillations that approach a nonzero constant vector (like problem 1 of pset 11).\n",
    "* $x(t)$ jumps around discontinuously and eventually eats all of your turkey.\n",
    "\n",
    "**(b)** For each of the *possible* behaviors you indicated in part (a), give a matrix $A$ and a corresponding initial condition $x(0)$ which will lead to that behavior.\n",
    "\n",
    "**(c)** For each of the matrices you gave in part (b), compute the singular value decomposition: give the singular values $\\sigma$ and the corresponding left and right singular vectors."
   ]
  },
  {
   "cell_type": "markdown",
   "metadata": {},
   "source": [
    "## Problem 2\n",
    "\n",
    "In class and in the textbook, positive-definiteness was defined only for Hermitian matrices. However, it can be extended to arbitrary square matrices as follows:\n",
    "\n",
    "* The matrix $A$ is positive-definite if $A + A^H$ is positive-definite (in the sense defined in class and in the book: $A + A^H$ has positive eigenvalues, or equivalently $x^H(A+A^H)x >0$ for all $x \\ne 0$, or equivalently $A^H + A = B^H B$ where $B$ has full column rank).\n",
    "\n",
    "Show that if $A + A^H$ is positive definite, then the eigenvalues of $A$ have **positive real parts**.\n",
    "\n",
    "(Hint: consider an eigenvector $Ax = \\lambda x$.  How can you use this in one of the positive-definite conditions for $A+A^H$ above?)"
   ]
  }
 ],
 "metadata": {
  "kernelspec": {
   "display_name": "Julia 0.6.3",
   "language": "julia",
   "name": "julia-0.6"
  },
  "language_info": {
   "file_extension": ".jl",
   "mimetype": "application/julia",
   "name": "julia",
   "version": "0.6.3"
  }
 },
 "nbformat": 4,
 "nbformat_minor": 2
}
