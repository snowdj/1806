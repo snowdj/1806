{
 "cells": [
  {
   "cell_type": "markdown",
   "metadata": {},
   "source": [
    "BROADCASTING\n",
    "\n",
    "An operation that has become extremely useful is the use of the \"period\" or \"dot\" operation pronounced \"broadcast.\"  We will mention one use here but full details, if interested, may be found in the [documentation on broadcast](https://docs.julialang.org/en/stable/manual/functions/#man-vectorized-1).  In its full generality it is one way that makes Julia faster than languages such as Python. (If interested in such performance\n",
    "issues see [Steven Johnson's blog on broadcast](https://julialang.org/blog/2017/01/moredots)).\n",
    "\n",
    "If there is one argument, the dot just applies the operation\n",
    "to every element.  Thus <br>\n",
    "sqrt.(v)  <br>\n",
    "computes the sqrt of element of v.\n",
    "\n",
    "\n",
    "Another case is  where $A$ is an mxn matrix and $v$ is an m vector :\n",
    "$$ (A.*v)_{ij} = A_{ij}*v_i $$ and\n",
    "$$ (A./v)_{ij} = A_{ij}/v_i$$\n",
    " in general $f.(A,v)$ is the matrix whose (i,j) entry is $f(A_{ij},v_i)$.  Many people like to imagine that v is replaced\n",
    "with $V=[v \\ v \\ v \\ \\ldots \\ v]$ (copy v as many times to match the size of $A$) and then everything is elementwise.\n",
    "\n",
    "For example:"
   ]
  },
  {
   "cell_type": "code",
   "execution_count": 8,
   "metadata": {},
   "outputs": [
    {
     "data": {
      "text/plain": [
       "4×4 Array{Int64,2}:\n",
       "  1   2   3   4\n",
       "  5   6   7   8\n",
       "  9  10  11  12\n",
       " 13  14  15  16"
      ]
     },
     "execution_count": 8,
     "metadata": {},
     "output_type": "execute_result"
    }
   ],
   "source": [
    "A = [1 2 3 4;5 6 7 8;9 10 11 12;13 14 15 16]"
   ]
  },
  {
   "cell_type": "code",
   "execution_count": 9,
   "metadata": {},
   "outputs": [
    {
     "data": {
      "text/plain": [
       "4×4 Array{Int64,2}:\n",
       "     1      2      3      4\n",
       "    50     60     70     80\n",
       "   900   1000   1100   1200\n",
       " 13000  14000  15000  16000"
      ]
     },
     "execution_count": 9,
     "metadata": {},
     "output_type": "execute_result"
    }
   ],
   "source": [
    "A.*[1, 10, 100, 1000]"
   ]
  },
  {
   "cell_type": "code",
   "execution_count": 10,
   "metadata": {},
   "outputs": [
    {
     "data": {
      "text/plain": [
       "4×4 Array{Float64,2}:\n",
       " 1.0    2.0    3.0    4.0  \n",
       " 0.5    0.6    0.7    0.8  \n",
       " 0.09   0.1    0.11   0.12 \n",
       " 0.013  0.014  0.015  0.016"
      ]
     },
     "execution_count": 10,
     "metadata": {},
     "output_type": "execute_result"
    }
   ],
   "source": [
    "A./[1, 10, 100, 1000]"
   ]
  },
  {
   "cell_type": "markdown",
   "metadata": {},
   "source": [
    "Finally there is a row vector version where\n",
    "f.(A,v')\n",
    "has (i,j) element  $f(A_ij,v_j)$, which may\n",
    "be thought of creating a matrix $V$ whose rows are v, and then\n",
    "applying f elementwise."
   ]
  },
  {
   "cell_type": "markdown",
   "metadata": {},
   "source": [
    "1. The Markov matrix"
   ]
  },
  {
   "cell_type": "code",
   "execution_count": 2,
   "metadata": {},
   "outputs": [
    {
     "data": {
      "text/plain": [
       "2×2 Array{Float64,2}:\n",
       " 0.8  0.3\n",
       " 0.2  0.7"
      ]
     },
     "execution_count": 2,
     "metadata": {},
     "output_type": "execute_result"
    }
   ],
   "source": [
    "A=[.8 .3;.2 .7]"
   ]
  },
  {
   "cell_type": "markdown",
   "metadata": {},
   "source": [
    "has steady state"
   ]
  },
  {
   "cell_type": "code",
   "execution_count": 3,
   "metadata": {},
   "outputs": [
    {
     "data": {
      "text/plain": [
       "2-element Array{Float64,1}:\n",
       " 0.6\n",
       " 0.4"
      ]
     },
     "execution_count": 3,
     "metadata": {},
     "output_type": "execute_result"
    }
   ],
   "source": [
    "v = [.6,.4]"
   ]
  },
  {
   "cell_type": "code",
   "execution_count": 4,
   "metadata": {},
   "outputs": [
    {
     "data": {
      "text/plain": [
       "2-element Array{Float64,1}:\n",
       " 0.6\n",
       " 0.4"
      ]
     },
     "execution_count": 4,
     "metadata": {},
     "output_type": "execute_result"
    }
   ],
   "source": [
    "A*v # checking the steady state with Julia"
   ]
  },
  {
   "cell_type": "code",
   "execution_count": 57,
   "metadata": {},
   "outputs": [
    {
     "data": {
      "text/plain": [
       "2×2 Array{Float64,2}:\n",
       " 1.33333  0.5 \n",
       " 0.5      1.75"
      ]
     },
     "execution_count": 57,
     "metadata": {},
     "output_type": "execute_result"
    }
   ],
   "source": [
    "A./v"
   ]
  },
  {
   "cell_type": "code",
   "execution_count": 56,
   "metadata": {},
   "outputs": [
    {
     "data": {
      "text/plain": [
       "2×2 Array{Float64,2}:\n",
       " 1.33333  0.5 \n",
       " 0.5      1.75"
      ]
     },
     "execution_count": 56,
     "metadata": {},
     "output_type": "execute_result"
    }
   ],
   "source": [
    "A'./v'"
   ]
  },
  {
   "cell_type": "markdown",
   "metadata": {},
   "source": [
    "1a) Verify that if v is the steady state eigenvector for any 2 x 2  Markov matrix \n",
    "A./v  <br> and <br> A'./v' <br>\n",
    "are equal.\n",
    "\n",
    "Below is an example:"
   ]
  },
  {
   "cell_type": "code",
   "execution_count": 18,
   "metadata": {},
   "outputs": [
    {
     "data": {
      "text/plain": [
       "2×2 Array{Float64,2}:\n",
       " 0.619677  0.232379\n",
       " 0.126491  0.442719"
      ]
     },
     "execution_count": 18,
     "metadata": {},
     "output_type": "execute_result"
    }
   ],
   "source": [
    "A"
   ]
  },
  {
   "cell_type": "code",
   "execution_count": 44,
   "metadata": {},
   "outputs": [
    {
     "data": {
      "text/plain": [
       "2×2 Array{Float64,2}:\n",
       " 1.33333  0.5 \n",
       " 0.5      1.75"
      ]
     },
     "execution_count": 44,
     "metadata": {},
     "output_type": "execute_result"
    }
   ],
   "source": [
    "A./v"
   ]
  },
  {
   "cell_type": "code",
   "execution_count": 45,
   "metadata": {},
   "outputs": [
    {
     "data": {
      "text/plain": [
       "2×2 Array{Float64,2}:\n",
       " 1.33333  0.5 \n",
       " 0.5      1.75"
      ]
     },
     "execution_count": 45,
     "metadata": {},
     "output_type": "execute_result"
    }
   ],
   "source": [
    "A'./v'"
   ]
  },
  {
   "cell_type": "markdown",
   "metadata": {},
   "source": [
    "2)  It is not the case that all Markov matrices for n>2 have the property that  A./v  =  A'./v' known as \"detailed balance.\"  When a Markov Matrix satisfies detailed balance it is known as [reversible](https://en.wikipedia.org/wiki/Detailed_balance#Reversible_Markov_chains).\n",
    "Markov matrices show up in many many fields, most recently in the machine learning area of MCMC. [One blog on the subject](https://deeplearning4j.org/markovchainmontecarlo)\n",
    "\n",
    "2a) Show that if A is an nxn reversible Markov matrix, then it is diagonally similar to its transpose.  (This means that the similarity matrix may be chosen diagonal.)  The example below gives a hint when n=2. "
   ]
  },
  {
   "cell_type": "code",
   "execution_count": 49,
   "metadata": {},
   "outputs": [
    {
     "data": {
      "text/plain": [
       "2×2 Array{Float64,2}:\n",
       " 0.8  0.2\n",
       " 0.3  0.7"
      ]
     },
     "execution_count": 49,
     "metadata": {},
     "output_type": "execute_result"
    }
   ],
   "source": [
    "w = sqrt.(v)\n",
    "Diagonal(v)\\A*Diagonal(v)"
   ]
  },
  {
   "cell_type": "code",
   "execution_count": 51,
   "metadata": {},
   "outputs": [
    {
     "data": {
      "text/plain": [
       "2×2 Array{Float64,2}:\n",
       " 0.8  0.2\n",
       " 0.3  0.7"
      ]
     },
     "execution_count": 51,
     "metadata": {},
     "output_type": "execute_result"
    }
   ],
   "source": [
    "A'"
   ]
  },
  {
   "cell_type": "markdown",
   "metadata": {},
   "source": [
    "3a) Show that if a matrix is diagonally similar to its transpose, where the diagonal is positive, then this matrix has real eigenvalues. (Hint: use w = sqrt.(v)) to show that the\n",
    "matrix is similar to a symmetric matrix. See the example below)"
   ]
  },
  {
   "cell_type": "code",
   "execution_count": 55,
   "metadata": {},
   "outputs": [
    {
     "data": {
      "text/plain": [
       "2×2 Array{Float64,2}:\n",
       " 0.8       0.244949\n",
       " 0.244949  0.7     "
      ]
     },
     "execution_count": 55,
     "metadata": {},
     "output_type": "execute_result"
    }
   ],
   "source": [
    "w = sqrt.(v) # elementwise sqrt\n",
    "Diagonal(w)\\A*Diagonal(w)"
   ]
  },
  {
   "cell_type": "markdown",
   "metadata": {},
   "source": [
    "We will not discuss here but the famous Metropolis algorithm, starts with the vector v, First finds a non-Markov matrix that is diagonally similar to its transpose, and then iterates until the matrix is Markov with steady state v. Thus the Metropolis algorithm is an \"inverse problem\", as it begins with the eigenvector of a Markov matrix and constructs the Markov matrix with that eigenvector."
   ]
  },
  {
   "cell_type": "markdown",
   "metadata": {},
   "source": [
    "4) GS p346 problem 11\n",
    "\n",
    "This matrix M is antisymmetric and also _______. Then all its eigenvalues are pure imaginary and they also have |λ|=1.  (||Mx||=||x|| for every x.)\n",
    "Find all four eigenvalues from the trace of M:\n",
    "\n",
    "$$ M = \\frac{1}{\\sqrt 3}\n",
    "\\begin{pmatrix}\n",
    "0 & 1 & 1 & 1 \\\\\n",
    "-1 & 0 & -1 & 1 \\\\\n",
    "-1 & 1 & 0 & -1 \\\\\n",
    "-1 & -1 & 1 & 0 \\end{pmatrix}\n",
    "$$\n",
    "can only have eigenvalues i or -i."
   ]
  },
  {
   "cell_type": "markdown",
   "metadata": {},
   "source": [
    "5) GS p358 problem 3\n",
    "\n",
    "For which numbers b and c are these matrices positive definite?\n",
    "\n",
    "$$\n",
    "S = \\begin{pmatrix}\n",
    "1 & b \\\\ b & 9\n",
    "\\end{pmatrix} \\ \\ \n",
    "S = \\begin{pmatrix}\n",
    "2 & 4 \\\\ 4 & c\n",
    "\\end{pmatrix} \\ \\ \n",
    "S = \\begin{pmatrix}\n",
    "c & b \\\\ b & c\n",
    "\\end{pmatrix} .$$\n"
   ]
  },
  {
   "cell_type": "markdown",
   "metadata": {},
   "source": [
    "6) GS p360 problem 21\n",
    "\n",
    "For which s and t do S and T have all λ>0 (therefore positive definite)?\n",
    "\n",
    "$$\n",
    "S = \\begin{pmatrix}\n",
    "s & -4 & -4 \\\\ -4 & s & -4 \\\\ -4 & -4 & s\n",
    "\\end{pmatrix} \\ \\ \n",
    "T = \\begin{pmatrix}\n",
    "t & 3 & 0 \\\\ 3 & t & 4 \\\\ 0 & 4 & t\n",
    "\\end{pmatrix} \n",
    "$$"
   ]
  },
  {
   "cell_type": "markdown",
   "metadata": {},
   "source": [
    "7) Inspired by GS p 370\n",
    "\n",
    "Find the nonzero singular values of $A$ and $B$ without forming any matrices times their transpose.\n",
    "You can use the fact that hte sum of the squares of the singular values equals the sum of the squares\n",
    "of the elements of a matrix.\n",
    "\n",
    "$$\n",
    "A =\n",
    "\\begin{pmatrix}\n",
    "1 & 2 & 3 & 4 \\\\\n",
    "2 & 4 & 6 & 8 \\\\\n",
    "3 & 6 & 9 & 12 \\\\\n",
    "4 & 8 & 12 & 16\n",
    "\\end{pmatrix} \\ \n",
    "and \\\n",
    "B=\n",
    "\\begin{pmatrix}\n",
    "2 & 3 & 4 & 5 \\\\\n",
    "3 & 4 & 5 & 6 \\\\\n",
    "4 & 5 & 6 & 7 \\\\\n",
    "5 & 6 & 7 & 8\n",
    "\\end{pmatrix} .\n",
    "$$\n",
    "\n",
    "Hint for B: How many singular values are non-zero?  What is the sum of the eigenvalues of B?\n",
    "What is the sum of the squares of the eigenvalues of B?  Can you use these last two questions\n",
    "to get the product of the eigenvalues, hence the eigenvalues themselves?  Can you then figure\n",
    "out the singular values of B?\n"
   ]
  },
  {
   "cell_type": "code",
   "execution_count": null,
   "metadata": {},
   "outputs": [],
   "source": []
  }
 ],
 "metadata": {
  "kernelspec": {
   "display_name": "Julia 0.6.2",
   "language": "julia",
   "name": "julia-0.6"
  },
  "language_info": {
   "file_extension": ".jl",
   "mimetype": "application/julia",
   "name": "julia",
   "version": "0.6.2"
  }
 },
 "nbformat": 4,
 "nbformat_minor": 2
}
