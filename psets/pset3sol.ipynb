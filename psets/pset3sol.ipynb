{
 "cells": [
  {
   "cell_type": "markdown",
   "metadata": {},
   "source": [
    "# 18.06 pset 3 solutions"
   ]
  },
  {
   "cell_type": "markdown",
   "metadata": {},
   "source": [
    "## Problem 1 (12 points)\n",
    "\n",
    "Which of the following sets are vectors spaces (with the usual definition of $\\pm$ and multiplication by real scalars), and why?\n",
    "\n",
    "1. The set of all functions $f(x)$ whose integral $\\int_{-\\infty}^\\infty f(x) dx$ is zero\n",
    "2. Given a subspace $V$ of $\\mathbb{R}^n$ and an $m\\times n$ matrix $A$, the set of all vectors $Ax$ for all $x\\in V$.\n",
    "3. The set of 3-component vectors whose components sum to 1.\n",
    "4. The set of 2-component vectors whose components have product 0.\n",
    "5. The union of two subspaces $S$ and $T$: all vectors that are in *either* $S$ or $T$.\n",
    "6. The intersection of two subspaces $S$ and $T$: all vectors that are in *both* $S$ and $T$."
   ]
  },
  {
   "cell_type": "markdown",
   "metadata": {},
   "source": [
    "## Solution\n",
    "\n",
    "1. We know that the set of all real-valued functions $f(x)$ is a vector space. To show that the subset of all functions $f(x)$ whose integral $\\int_{-\\infty}^{\\infty} f(x) \\, dx = 0$ is a subspace, we need to show that $af(x)+bg(x)$ is in this subset, for any real numbers $a,b\\in\\mathbb{R}$ and functions $f(x), g(x)$ for which $\\int_{-\\infty}^{\\infty} f(x) \\, dx = \\int_{-\\infty}^{\\infty} g(x) \\, dx = 0$. Now using standard properties of integration\n",
    "\\begin{align}\n",
    "&\\int_{-\\infty}^{\\infty} \\left[af(x) + bg(x)\\right] \\\\\n",
    "&= a \\int_{-\\infty}^{\\infty} f(x) \\, dx + b \\int_{-\\infty}^{\\infty} g(x) \\, dx \\\\\n",
    "&= 0 \n",
    "\\end{align}\n",
    "Hence this set is a *subspace* of the vector space of real-valued function.\n",
    "\n",
    "\n",
    "2. Let $X = \\{Ax : x\\in V\\}$, where $V$ is a subspace of $\\mathbb{R}^n$. Suppose we have two vectors $u_1, u_2 \\in X$. Then there exist two vectors $v_1, v_2\\in V$, such that $u_1 = Av_1$ and $u_2 = Av_2$. Let's consider the linear combination $au_1 + bu_2$ for arbitrary scalars $a,b\\in \\mathbb{R}$. Then\n",
    "$$\n",
    "au_1 + bu_2 = a Av_1 + bAv_2 = A\\left(av_1 + bv_2\\right).\n",
    "$$\n",
    "But since $V$ is a vector space, $av_1 + bv_2 \\in V$ and so $au_1 + bu_2 \\in X$. And so $X$ is a subspace of $\\mathbb{R}^m$.\n",
    "\n",
    "\n",
    "3. This is not a vector space. This set does not contain the zero vector $\\begin{pmatrix} 0 \\\\ 0 \\\\ 0\\end{pmatrix}$.\n",
    "\n",
    "\n",
    "4. This is not a vector space. This set contains the vectors $\\begin{pmatrix} 1 \\\\ 0 \\end{pmatrix}$ and $\\begin{pmatrix} 0 \\\\ 1 \\end{pmatrix}$, but it does not contain their sum $\\begin{pmatrix} 1 \\\\ 1 \\end{pmatrix}$.\n",
    "\n",
    "\n",
    "5. The union of two vector spaces, $S\\cup T$, is in general not a vector space. Suppose $S$ is the set of all vectors of the form $\\begin{pmatrix} a \\\\ 0 \\end{pmatrix}$ and $T$ is the set of all vectors of the form $\\begin{pmatrix} 0 \\\\ b \\end{pmatrix}$. These are both (one-dimensional) subspaces of $\\mathbb{R}^2$. However, if $a,b\\neq0$, then $\\begin{pmatrix} a \\\\ 0 \\end{pmatrix}$ and  $\\begin{pmatrix} 0 \\\\ b \\end{pmatrix}$ are both in $S \\cup T$, but their sum  $v = \\begin{pmatrix} a \\\\ b \\end{pmatrix}$ is in neither $S$ nor $T$, and so $v$ is not in $S \\cup T$.\n",
    "\n",
    "\n",
    "6. The intersection of two vector spaces, $S\\cap T$, *is* a vector space. Consider two vectors $u,v\\in S \\cap T$. Then $u,v\\in S$ and $u, v \\in T$. Consider a linear combination $au + bv$, where $a,b \\in \\mathbb{R}$. Then $au+bv \\in S$, since $S$ is a vector space, and similarly $au+bv \\in T$ since $T$ is a vector space. Therefore $au + bv \\in S \\cap T$, and so $S\\cap T $ is a vector space. "
   ]
  },
  {
   "cell_type": "markdown",
   "metadata": {},
   "source": [
    "## Problem 2 (5 points)\n",
    "\n",
    "If $C(B)$ is a subspace of $N(A)$ for $3\\times 3$ matrices $A$ and $B$, then $AB$ must be what?"
   ]
  },
  {
   "cell_type": "markdown",
   "metadata": {},
   "source": [
    "## Solution\n",
    "\n",
    "$AB$ is the $3\\times 3$ zero matrix:\n",
    "$$\n",
    "AB = \\begin{pmatrix} 0 & 0 & 0 \\\\ 0 & 0 & 0 \\\\ 0 & 0 & 0 \\end{pmatrix} \\; .\n",
    "$$\n",
    "There are multiple ways to see this.\n",
    "\n",
    "Suppose that $C(B)$ is a subspace of $N(A)$ for $3\\times 3$ matrices $A$ and $B$. This means that if $b\\in C(B)$ then $b\\in N(A)$, or equivalently $Ab = 0$.\n",
    "\n",
    "The vectors in $C(B)$ are $b=Bx$ for all $x \\in \\mathbb{R}^3$.  This means that $Ab = ABx = 0$ for *all* $x$, which is only possible if $AB$ is zero.\n",
    "\n",
    "Another way of thinging about it is that $C(B)$ is what comes \"out\" of multiplying vectors by $B$, and $N(A)$ is what goes \"in\" to multiplying by A that gives zero.  If $C(B)$ is in $N(A)$, then $AB$ is zero because everything that comes \"out\" of $B$ goes \"into\" the nullspace of $A$ and and gives zero.\n",
    "\n",
    "Equivalently, the columns of $B$ span the column space $C(B)$, and so the columns of $B$ are in the null space of $A$, i.e. in $N(A)$. If $B$ has three columns given by the column vectors $b_1, b_2$ and $b_3$, then $AB$ has columns given by $Ab_1, Ab_2$ and $Ab_3$. But since $b_1, b_2$ and $b_3$ are in the null space $N(A)$, we know that $Ab_1 = Ab_2 = Ab_3 = 0$. Hence $AB$ is the $3\\times 3$ zero matrix."
   ]
  },
  {
   "cell_type": "markdown",
   "metadata": {},
   "source": [
    "## Problem 4 (6+4 points)\n",
    "\n",
    "Consider the vector space $V$ of infinitely differentiable real-valued functions $f(x)$ on the real line $x\\in \\mathbb{R}$ (this vector space is commonly called \"$C^\\infty$\").   The analogue of a \"matrix\" acting on such a space is a *linear operator* $\\hat{A}$, which satisfies $\\hat{A}(\\alpha f + \\beta g) = \\alpha \\hat{A} f + \\beta \\hat{A} g$ for any functions $f$ and $g$ in $V$ and any scalars $\\alpha$ and $\\beta$.\n",
    "\n",
    "One example of such a linear operator on functions is a derivative.  For example $\\hat{A} = \\frac{d^2}{dx^2}$.\n",
    "\n",
    "**(a)** What is the null space $N(\\hat{A})$ for $\\hat{A} = \\frac{d^2}{dx^2}$, defined the same way as we did for matrices?\n",
    "\n",
    "**(b)** If the differential equation $\\hat{A} u = \\frac{d^2 u}{dx^2} = b$ has a particular solution $u(x)$ for a right-hand-side $b(x)$, what does your answer from (a) tell you about the *uniqueness* (or lack thereof) of this solution?  What are the other solutions, if any?"
   ]
  },
  {
   "cell_type": "markdown",
   "metadata": {},
   "source": [
    "## Solution \n",
    "\n",
    "**(a)** The null space $N(\\hat{A})$ is the space of all functions $f(x)$ for which $\\hat{A}f = 0$. For $\\hat{A} = \\frac{d^2}{dx^2}$, this means we have to find all functions for which $\\frac{d^2 f}{dx^2} = 0$, i.e. the functions with zero curvature.  This is, of course, just the straight lines $f(x) = ax+b$ for any $a, b \\in \\mathbb{R}$.\n",
    "\n",
    "More explicitly, integrating once gives $\\frac{df}{dx} = a$, and integrating another time yields $f(x) = ax+b$, where $a,b$ are the constants of integration.\n",
    "\n",
    "So the null space $N(\\hat{A})$ is the set of all polynomials of degree $\\leq 1$.  These are also called \"affine\" functions.\n",
    "\n",
    "In the language of 18.06, we might say that the functions $f_1(x) = x$ and $f_2(x) = 1$ are a *basis* for $N(\\hat{A})$, much like the special solutions.\n",
    "\n",
    "**(b)** Since the null space of $\\hat{A}$ is nontrivial (i.e. doesn't just contain the zero function), this means that if $\\hat{A} u = b$ has a particular solution $u_p(x)$ for which $\\hat{A} u_p = b$, then this solution is non unique. This is because we can always add to $u_p(x)$ a linear function of the form $ax + b$ and still a function which satisfies $\\hat{A} u = b$.  Or, in the language of 18.06, the \"complete\" solution is\n",
    "$$\n",
    "u(x) = u_p(x) + ax + b\n",
    "$$\n",
    "for any $a, b \\in \\mathbb{R}$."
   ]
  },
  {
   "cell_type": "markdown",
   "metadata": {},
   "source": [
    "## Problem 5 (3+3 points)\n",
    "\n",
    "$$\n",
    "A = \\begin{pmatrix} 0 & 1 & 2 & 3 & 4 \\\\ 0 & 1 & 2 & 4 & 6 \\\\ 0 & 0 & 0 & 1 & 2 \\end{pmatrix}\n",
    "$$\n",
    "\n",
    "**(a)** Find the rref form of A.\n",
    "\n",
    "**(b)** Find the special solutions (a basis) for $N(A)$."
   ]
  },
  {
   "cell_type": "markdown",
   "metadata": {},
   "source": [
    "## Solution\n",
    "\n",
    "**(a)** Suppose we have a matrix $$ A = \\begin{pmatrix} 0 & 1 & 2 & 3 & 4 \\\\ 0 & 1 & 2 & 4 & 6 \\\\ 0 & 0 & 0 & 1 & 2 \\end{pmatrix}.$$ We can subtract the first row from the second row:\n",
    "\\begin{align}\n",
    "\\rightarrow \\begin{pmatrix} 0 & 1 & 2 & 3 & 4 \\\\ 0 & 0 & 0 & 1 & 2 \\\\ 0 & 0 & 0 & 1 & 2 \\end{pmatrix}\n",
    "\\end{align}\n",
    "We can then subtract the second row from the third row:\n",
    "\\begin{align}\n",
    "\\rightarrow \\begin{pmatrix} 0 & 1 & 2 & 3 & 4 \\\\ 0 & 0 & 0 & 1 & 2 \\\\ 0 & 0 & 0 & 0 & 0 \\end{pmatrix}\n",
    "\\end{align}\n",
    "We can then subtract 3 times the second row from the first row:\n",
    "\\begin{align}\n",
    "\\rightarrow \\begin{pmatrix} 0 & \\boxed{1} & 2 & 0 & -2 \\\\ 0 & 0 & 0 & \\boxed{1} & 2 \\\\ 0 & 0 & 0 & 0 & 0 \\end{pmatrix}\n",
    "\\end{align}\n",
    "This matrix is now in reduced row echelon form (rref), where the second and fourth columns are the pivot columns.\n",
    "\n",
    "\n",
    "**(b)** There are then three special solutions $Rs_1=0$, $Rs_2 = 0$ and $Rs_3 = 0$, with\n",
    "\\begin{align}\n",
    "s_1 = \\begin{pmatrix} 1 \\\\ 0 \\\\ 0 \\\\ 0 \\\\ 0 \\end{pmatrix}, \\;\\;\n",
    "s_2 = \\begin{pmatrix} 0 \\\\ -2 \\\\ 1 \\\\ 0 \\\\ 0 \\end{pmatrix}, \\;\\;\n",
    "s_3 = \\begin{pmatrix} 0 \\\\ 2 \\\\ 0 \\\\ -2 \\\\ 1 \\end{pmatrix}.\n",
    "\\end{align}\n",
    "These form a basis for $N(A)$. \n",
    "\n",
    "Although you can just read these off of $R$ once you get used to it, we can also go through it manually: to get the three special solutions, we are just setting the free variables (1st, 3rd, and 5th) to (1,0,0), (0,1,0), and (0,0,1) (the columns of $I$) and solving for the pivot variables (2nd and 4th)."
   ]
  },
  {
   "cell_type": "markdown",
   "metadata": {},
   "source": [
    "## Problem 6 (10 points)\n",
    "\n",
    "(From Strang, section 3.2, problem 30.)\n",
    "\n",
    "How is the nullspace $N(C)$ related to $N(A)$ and $N(B)$ if $C = \\begin{pmatrix} A \\\\ B \\end{pmatrix}$?  ($A$ is $m \\times n$ and $B$ is $p \\times n$.)"
   ]
  },
  {
   "cell_type": "markdown",
   "metadata": {},
   "source": [
    "## Solution\n",
    "\n",
    "Consider the $(m+p)\\times n$ matrix $C = \\begin{pmatrix} A \\\\ B \\end{pmatrix}$, where $A$ is $m\\times n$ and $B$ is $p\\times n$. The null space of $C$ is the space $N(C)$ of $n\\times 1$ column vectors $x$ for which $Cx = 0$. \n",
    "\n",
    "Using the properties of matrix multiplication, we can see that $Cx = \\begin{pmatrix} Ax \\\\ Bx \\end{pmatrix}$, and so $Cx = 0$ if, and only if, $Ax= 0$ *and* $Bx = 0$. Equivalenetly, $x\\in N(C)$ if, and only if, $x\\in N(A)$ and $x\\in N(B)$. This means that $N(C)$ must be the intersection of $N(A)$ and $N(B)$, i.e. $N(C) = N(A) \\cap N(B)$. "
   ]
  },
  {
   "cell_type": "markdown",
   "metadata": {},
   "source": [
    "## Problem 7 (4+3+3 points)\n",
    "\n",
    "**(a)** Explain why $N(B)$ must be a subspace of $N(AB)$ for any $m \\times n$ matrix $A$ and any $n \\times p$ matrix $B$.\n",
    "\n",
    "**(b)** What must be true of $A$ to have $N(AB) = N(B)$ for all $B$?\n",
    "\n",
    "**(c)** We know from class that the *dimension* of the nullspace (the number of special solutions) = #columns – rank.   What does your answer from (a) tell you about the relationship between the rank of $AB$ and the rank of $B$?  (For example, is one bigger than the other?)"
   ]
  },
  {
   "cell_type": "markdown",
   "metadata": {},
   "source": [
    "## Solution\n",
    "\n",
    "**(a)** We know that the null space is always a vector space, so $N(B)$ and $N(AB)$ are both vector spaces. We therefore just need to show that $N(B)$ is a subset of $N(AB)$, i.e. that if $x\\in N(B)$, then $x\\in N(AB)$.\n",
    "\n",
    "Suppose $x\\in N(B)$. This means that $Bx = 0$. But then $(AB)x = A(Bx) = A 0 = 0$, and so $(AB)x = 0$. This means that $x\\in N(AB)$, and so $N(B)$ is a subspace of $N(AB)$. \n",
    "\n",
    "**(b)** Suppose $N(AB) = N(B)$ for all $n\\times p$ matrices $B$. This means that the two sets $N(AB) = \\{x : AB x = 0\\}$ and $N(B) = \\{x : Bx = 0\\}$ are identical. In order for this to be the case, we need to be certain that $ABx = 0$ *only* for $x$ for which $Bx = 0$, i.e. the only solution of $Ay = 0$ is the zero vector $y=0$. This means that $N(A) = \\{0\\}$, or equivalently the rref of $A$ has no free columns. This is the same as saying the number of pivots in the rref of $A$ is the same as the number of columns of $A$, so that $A$ has full column rank.\n",
    "\n",
    "**(c)** $AB$ and $B$ both have the same number of columns. Since $N(B)$ is always a subspace of $N(AB)$, the dimension of $N(B)$ must be less than or equal to the dimension of $N(AB)$. This means that the rank of $B$ must be greater than or equal to the rank of $AB$. "
   ]
  }
 ],
 "metadata": {
  "kernelspec": {
   "display_name": "Julia 0.6.2",
   "language": "julia",
   "name": "julia-0.6"
  },
  "language_info": {
   "file_extension": ".jl",
   "mimetype": "application/julia",
   "name": "julia",
   "version": "0.6.2"
  }
 },
 "nbformat": 4,
 "nbformat_minor": 2
}
