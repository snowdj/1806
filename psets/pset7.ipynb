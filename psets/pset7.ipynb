{
 "cells": [
  {
   "cell_type": "markdown",
   "metadata": {},
   "source": [
    "# 18.06 pset 7\n",
    "\n",
    "Due Wednesday, October 24 at 10:55am via Stellar.   Related material *will* be on exam 2."
   ]
  },
  {
   "cell_type": "markdown",
   "metadata": {},
   "source": [
    "## Problem 1 (10 points)\n",
    "\n",
    "Find an orthonormal basis for $N(A)$, where $A$ is the matrix\n",
    "$A = \\begin{pmatrix} 1 & 1 & -1 & 1\\end{pmatrix}$."
   ]
  },
  {
   "cell_type": "markdown",
   "metadata": {},
   "source": [
    "## Problem 2 (8+2 points)\n",
    "\n",
    "The ordinary Gram–Schmidt algorithm only works for linearly independent vectors, i.e. you can only apply it to the columns of $A$ if $A$ has full column rank.\n",
    "\n",
    "**(a)** If $A$ does *not* have full column rank, what goes wrong when you apply Gram–Schmidt to its columns?  Construct an example matrix $A$ that illustrates this problem.\n",
    "\n",
    "**(b)** If you have a matrix $A$ that does *not* have full column rank, you could get an orthonormal basis for $C(A)$ by applying Gram–Schmidt to the ............... columns of $A$."
   ]
  },
  {
   "cell_type": "markdown",
   "metadata": {},
   "source": [
    "## Problem 3 (10 points)\n",
    "\n",
    "If $A$ is an $m \\times n$ real matrix with full column rank, then we learned that Gram–Schmidt gives us the factorization $A=\\hat{Q} \\hat{R}$, where $\\hat{Q}$ is an $m \\times n$ matrix with orthonormal columns ($\\hat{Q}^T \\hat{Q} = I$) and $\\hat{R}$ is an $n \\times n$ invertible upper-triangular matrix.  (This is sometimes called the \"thin\" QR factorization.)\n",
    "\n",
    "Suppose that, instead, we want a factorization $A = QR$ where $Q$ is a *square* $m \\times m$ matrix that is orthogonal (unitary): $Q^T = Q^{-1}$.\n",
    "\n",
    "**(a)** We can find such a $Q$ in the form $Q = \\begin{pmatrix} \\hat{Q} & V \\end{pmatrix}$ by adding $m-n$ columns $V$ to $\\hat{Q}$, if the columns of $V$ are an orthonormal basis for the ............. space of $A$.\n",
    "\n",
    "**(b)** Given $Q = \\begin{pmatrix} \\hat{Q} & V \\end{pmatrix}$ from (a), then $A = QR$ where $R$ is the $? \\, \\times \\, ?$ matrix formed by taking $\\hat{R}$ and .......... (write $R$ in terms of $\\hat{R}$)."
   ]
  },
  {
   "cell_type": "markdown",
   "metadata": {},
   "source": [
    "## Problem 4 (15 points)\n",
    "\n",
    "Suppose that we apply the Gram–Schmidt process to the columns of an $m \\times n$ matrix $A$ (of rank $n$), but in *reverse order*: we start with the *rightmost* column of $A$ and work from right to left.  We will still obtain a matrix $Q_r$ with orthonormal columns and $C(Q_r)=C(A)$.\n",
    "\n",
    "**(a)** If we compute the matrix $M = Q_r^T A$ for this $Q_r$ from \"reversed\" Gram–Schmidt, which entries of $M$ *must* be zero?  (Is $M$ some type of \"triangular\" matrix, and what shape if so?)\n",
    "\n",
    "**(b)** The function `flipdim(A, 2)` in Julia reverses the order of the columns of a matrix `A`.   The function `Q, R = qr(A)` computes the ordinary QR factorization (equivalent to Gram–Schmidt up to sign flips).\n",
    "Combine `flipdim` and `qr` to obtain the \"reverse-order\" $Q_r$ matrix from above for the following $6\\times 4$ matrix $A$, and check that $Q_r^T A$ (computed via Julia) has the pattern of zero entries you predicted in (a)."
   ]
  },
  {
   "cell_type": "code",
   "execution_count": null,
   "metadata": {},
   "outputs": [],
   "source": [
    "A = [ 7  2  6   9\n",
    "      2  4  3   2\n",
    "      8  6  4  10\n",
    "      4  9  2   5\n",
    "      7  1  5   9\n",
    "      7  8  4   6 ]"
   ]
  },
  {
   "cell_type": "code",
   "execution_count": null,
   "metadata": {},
   "outputs": [],
   "source": [
    "flipdim(A, 2) # this is A with columns reversed"
   ]
  },
  {
   "cell_type": "code",
   "execution_count": null,
   "metadata": {},
   "outputs": [],
   "source": [
    "Q, R = qr(A) # this is the ordinary QR factorization of A\n",
    "Q"
   ]
  },
  {
   "cell_type": "code",
   "execution_count": null,
   "metadata": {},
   "outputs": [],
   "source": [
    "# how would you get Qᵣ (equivalent to reversed-order Gram-Schmidt,\n",
    "# up to sign flips) by combining flipdim and qr?\n",
    "Qᵣ = ???????"
   ]
  },
  {
   "cell_type": "code",
   "execution_count": null,
   "metadata": {},
   "outputs": [],
   "source": [
    "# check that QᵣᵀA has the predicted pattern of zeros:\n",
    "\n",
    "round.(Qᵣ'A, 5) # round to 5 decimal places to make it easier to read"
   ]
  },
  {
   "cell_type": "markdown",
   "metadata": {},
   "source": [
    "## Problem 5 (15 points)\n",
    "\n",
    "**(a)** Apply Gram-Schmidt to the polynomials ${1, x, x^2}$ to find an orthonormal basis ${q_1,q_2,q_3}$ of polynomials under the inner (\"dot\") product (*different* from the one used in class):\n",
    "$$\n",
    "f \\cdot g = \\int_0^\\infty f(x) g(x) e^{-x} dx\n",
    "$$\n",
    "(Unlike the Legendre polynomials in class, normalize your polynomials $q_k$ to have $\\Vert q_k \\Vert = \\sqrt {q_k \\cdot q_k} = 1$ under this inner product, i.e. to be really ortho*normal*.)\n",
    "\n",
    "* The [following integral](https://en.wikipedia.org/wiki/Gamma_function) will be useful: $\\int_0^\\infty x^n e^{-x} dx = n!$ ($n$ [factorial](https://en.wikipedia.org/wiki/Factorial)) for any integer $n \\ge 0$.\n",
    "\n",
    "**(b)** Consider the function $f(x) = \\begin{cases} x & x < 1 \\\\ 0 & x \\ge 1 \\end{cases}$.   Find the slope $\\alpha$ of the straight line $\\alpha x$ that is the \"best fit\" to $f(x)$ in the sense of minimizing\n",
    "$$\n",
    "\\Vert f - \\alpha x \\Vert^2 = \\int_0^\\infty \\left[ f(x) - \\alpha x \\right]^2 e^{-x} dx\n",
    "$$\n",
    "In particular, find $\\alpha$ by performing the orthogonal projection (with this dot product) of $f(x)$ onto .........?"
   ]
  }
 ],
 "metadata": {
  "kernelspec": {
   "display_name": "Julia 0.6.2",
   "language": "julia",
   "name": "julia-0.6"
  },
  "language_info": {
   "file_extension": ".jl",
   "mimetype": "application/julia",
   "name": "julia",
   "version": "0.6.2"
  }
 },
 "nbformat": 4,
 "nbformat_minor": 2
}
