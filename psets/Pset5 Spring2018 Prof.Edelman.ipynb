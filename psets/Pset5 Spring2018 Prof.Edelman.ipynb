{
 "cells": [
  {
   "cell_type": "markdown",
   "metadata": {},
   "source": [
    "Problem 1. Suppose $U$ is nxm with n≥m and $U^TU=I$. Let $b$ be any vector in $\\Re^n$ and we compute the projection $Pb=U\\hat{x}$. What is $\\hat{x}$ in terms of $U$ and $b$?"
   ]
  },
  {
   "cell_type": "raw",
   "metadata": {},
   "source": []
  },
  {
   "cell_type": "markdown",
   "metadata": {},
   "source": [
    "Problem 2.  Show that $\\|\\hat{x}\\| = \\|U\\hat{x}\\|$ in the problem above, where $\\|a\\|$ is defined as $\\sqrt{a^Ta}$."
   ]
  },
  {
   "cell_type": "markdown",
   "metadata": {},
   "source": []
  },
  {
   "cell_type": "markdown",
   "metadata": {},
   "source": [
    "Problem 3. (Extension of GS p. 216 Problem 11a)"
   ]
  },
  {
   "cell_type": "markdown",
   "metadata": {},
   "source": [
    "Let $A = \\begin{pmatrix} 1 & 1\\\\ 0 & 1\\\\ 0 & 0 \\end{pmatrix}$ and $b =\\begin{pmatrix} 2 \\\\ 3 \\\\ 4 \\end{pmatrix}$."
   ]
  },
  {
   "cell_type": "markdown",
   "metadata": {},
   "source": [
    "3a) Compute the projection of b onto the column space of $A$ by hand calculation:"
   ]
  },
  {
   "cell_type": "markdown",
   "metadata": {},
   "source": []
  },
  {
   "cell_type": "markdown",
   "metadata": {},
   "source": [
    "3b) Check your answer by using Julia to compute $(A^T A)^{-1}(A^Tb)$. What do you observe?"
   ]
  },
  {
   "cell_type": "code",
   "execution_count": null,
   "metadata": {
    "collapsed": true
   },
   "outputs": [],
   "source": [
    "A = [1 1 ;0 1; 0 0]\n",
    "b = [2, 3, 4]\n",
    "(A'A)\\(A'b)"
   ]
  },
  {
   "cell_type": "markdown",
   "metadata": {},
   "source": [
    "3c) Check your answer by typing $A\\b$. What do you observe?"
   ]
  },
  {
   "cell_type": "code",
   "execution_count": null,
   "metadata": {
    "collapsed": true
   },
   "outputs": [],
   "source": [
    "A\\b"
   ]
  },
  {
   "cell_type": "markdown",
   "metadata": {},
   "source": [
    "3d) Find $A \\hat{x}=p$ using the svd and compare with the standard approach. What do you observe?"
   ]
  },
  {
   "cell_type": "code",
   "execution_count": null,
   "metadata": {
    "collapsed": true
   },
   "outputs": [],
   "source": [
    "U,s,V = svd(A)\n",
    "[U*U'b A*inv(A'A)*A'b]"
   ]
  },
  {
   "cell_type": "markdown",
   "metadata": {},
   "source": [
    "3e) Also compare the values in problem 2 above.  What do you observe?"
   ]
  },
  {
   "cell_type": "code",
   "execution_count": null,
   "metadata": {
    "collapsed": true
   },
   "outputs": [],
   "source": [
    "x̂ = A\\b\n",
    "norm(x̂),norm(U*x̂)"
   ]
  },
  {
   "cell_type": "markdown",
   "metadata": {},
   "source": [
    "4)  Using Julia, find the best fit parabola through four random points:"
   ]
  },
  {
   "cell_type": "code",
   "execution_count": null,
   "metadata": {
    "collapsed": true
   },
   "outputs": [],
   "source": [
    "x = sort(rand(4))\n",
    "y = sort(rand(4))"
   ]
  },
  {
   "cell_type": "code",
   "execution_count": null,
   "metadata": {
    "collapsed": true
   },
   "outputs": [],
   "source": [
    "A = [ones(x) x x.^2]\n",
    "? \\ ?  # Fill in the question marks and interpret briefly the answer)"
   ]
  },
  {
   "cell_type": "markdown",
   "metadata": {},
   "source": [
    "5) Using Julia and the same points as in problem 4, find the best fit curve of the form\n",
    "$y = C*sin(x) + D*e^x + E*x$ through the four points.\n",
    "\n",
    "Note: If x is a vector, sin.(x) and e.^x may be useful constructs for the elementwise evaluation of the functions."
   ]
  },
  {
   "cell_type": "markdown",
   "metadata": {},
   "source": []
  },
  {
   "cell_type": "markdown",
   "metadata": {},
   "source": [
    "6) In this problem we explore how to let data define the subspace using the SVD. We will use an often used data set known as the [MNIST data base](https://en.wikipedia.org/wiki/MNIST_database) for character recognition. \n",
    "\n",
    "Some of you are good coders and may want to understand the code below.  That is not required of 18.06.  Those of you who prefer not to look at code, there is no need.  What we want most is for you to see the idea below.  We will in very few lines of code, completely from scratch write a character recognition machine learning code.  We'd like you to understand the idea of how it works, not the code.\n",
    "\n",
    "(Credit to Raj Rao, University of Michigan.)"
   ]
  },
  {
   "cell_type": "code",
   "execution_count": null,
   "metadata": {
    "collapsed": true
   },
   "outputs": [],
   "source": [
    "using Flux, Flux.Data.MNIST, Images"
   ]
  },
  {
   "cell_type": "markdown",
   "metadata": {},
   "source": [
    "Grab 60000 images of handwritten digits"
   ]
  },
  {
   "cell_type": "code",
   "execution_count": null,
   "metadata": {
    "collapsed": true
   },
   "outputs": [],
   "source": [
    "imgs = MNIST.images()\n",
    "labels = MNIST.labels()\n",
    "size(imgs)"
   ]
  },
  {
   "cell_type": "markdown",
   "metadata": {},
   "source": [
    "Let's look at the first 24 (you can look at more if you like)"
   ]
  },
  {
   "cell_type": "code",
   "execution_count": 13,
   "metadata": {},
   "outputs": [
    {
     "data": {
      "text/html": [
       "<table><tbody><tr><td style='text-align:center;vertical-align:middle; margin: 0.5em;border:1px #90999f solid;border-collapse:collapse'><img style='max-width: 100px; max-height:100px;display:inline' src=\"data:image/png;base64,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\"></td><td style='text-align:center;vertical-align:middle; margin: 0.5em;border:1px #90999f solid;border-collapse:collapse'><img style='max-width: 100px; max-height:100px;display:inline' src=\"data:image/png;base64,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\"></td><td style='text-align:center;vertical-align:middle; margin: 0.5em;border:1px #90999f solid;border-collapse:collapse'><img style='max-width: 100px; max-height:100px;display:inline' src=\"data:image/png;base64,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\"></td><td style='text-align:center;vertical-align:middle; margin: 0.5em;border:1px #90999f solid;border-collapse:collapse'><img style='max-width: 100px; max-height:100px;display:inline' src=\"data:image/png;base64,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\"></td><td style='text-align:center;vertical-align:middle; margin: 0.5em;border:1px #90999f solid;border-collapse:collapse'><img style='max-width: 100px; max-height:100px;display:inline' src=\"data:image/png;base64,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\"></td><td style='text-align:center;vertical-align:middle; margin: 0.5em;border:1px #90999f solid;border-collapse:collapse'><img style='max-width: 100px; max-height:100px;display:inline' src=\"data:image/png;base64,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\"></td><td style='text-align:center;vertical-align:middle; margin: 0.5em;border:1px #90999f solid;border-collapse:collapse'><img style='max-width: 100px; max-height:100px;display:inline' src=\"data:image/png;base64,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\"></td></tr><tr><td style='text-align:center;vertical-align:middle; margin: 0.5em;border:1px #90999f solid;border-collapse:collapse'><img style='max-width: 100px; max-height:100px;display:inline' src=\"data:image/png;base64,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\"></td><td style='text-align:center;vertical-align:middle; margin: 0.5em;border:1px #90999f solid;border-collapse:collapse'><img style='max-width: 100px; max-height:100px;display:inline' src=\"data:image/png;base64,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\"></td><td style='text-align:center;vertical-align:middle; margin: 0.5em;border:1px #90999f solid;border-collapse:collapse'><img style='max-width: 100px; max-height:100px;display:inline' src=\"data:image/png;base64,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\"></td><td style='text-align:center;vertical-align:middle; margin: 0.5em;border:1px #90999f solid;border-collapse:collapse'><img style='max-width: 100px; max-height:100px;display:inline' src=\"data:image/png;base64,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\"></td><td style='text-align:center;vertical-align:middle; margin: 0.5em;border:1px #90999f solid;border-collapse:collapse'><img style='max-width: 100px; max-height:100px;display:inline' src=\"data:image/png;base64,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\"></td><td style='text-align:center;vertical-align:middle; margin: 0.5em;border:1px #90999f solid;border-collapse:collapse'><img style='max-width: 100px; max-height:100px;display:inline' src=\"data:image/png;base64,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\"></td><td style='text-align:center;vertical-align:middle; margin: 0.5em;border:1px #90999f solid;border-collapse:collapse'><img style='max-width: 100px; max-height:100px;display:inline' src=\"data:image/png;base64,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\"></td></tr><tr><td style='text-align:center;vertical-align:middle; margin: 0.5em;border:1px #90999f solid;border-collapse:collapse'><img style='max-width: 100px; max-height:100px;display:inline' src=\"data:image/png;base64,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\"></td><td style='text-align:center;vertical-align:middle; margin: 0.5em;border:1px #90999f solid;border-collapse:collapse'><img style='max-width: 100px; max-height:100px;display:inline' src=\"data:image/png;base64,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\"></td><td style='text-align:center;vertical-align:middle; margin: 0.5em;border:1px #90999f solid;border-collapse:collapse'><img style='max-width: 100px; max-height:100px;display:inline' src=\"data:image/png;base64,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\"></td><td style='text-align:center;vertical-align:middle; margin: 0.5em;border:1px #90999f solid;border-collapse:collapse'><img style='max-width: 100px; max-height:100px;display:inline' src=\"data:image/png;base64,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\"></td><td style='text-align:center;vertical-align:middle; margin: 0.5em;border:1px #90999f solid;border-collapse:collapse'><img style='max-width: 100px; max-height:100px;display:inline' src=\"data:image/png;base64,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\"></td><td style='text-align:center;vertical-align:middle; margin: 0.5em;border:1px #90999f solid;border-collapse:collapse'><img style='max-width: 100px; max-height:100px;display:inline' src=\"data:image/png;base64,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\"></td><td style='text-align:center;vertical-align:middle; margin: 0.5em;border:1px #90999f solid;border-collapse:collapse'><img style='max-width: 100px; max-height:100px;display:inline' src=\"data:image/png;base64,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\"></td></tr></tbody></table>"
      ],
      "text/plain": [
       "7×3 Array{Array{ColorTypes.Gray{FixedPointNumbers.Normed{UInt8,8}},2},2}:\n",
       " ColorTypes.Gray{FixedPointNumbers.Normed{UInt8,8}}[Gray{N0f8}(0.0) Gray{N0f8}(0.0) … Gray{N0f8}(0.0) Gray{N0f8}(0.0); Gray{N0f8}(0.0) Gray{N0f8}(0.0) … Gray{N0f8}(0.0) Gray{N0f8}(0.0); … ; Gray{N0f8}(0.0) Gray{N0f8}(0.0) … Gray{N0f8}(0.0) Gray{N0f8}(0.0); Gray{N0f8}(0.0) Gray{N0f8}(0.0) … Gray{N0f8}(0.0) Gray{N0f8}(0.0)]  …  ColorTypes.Gray{FixedPointNumbers.Normed{UInt8,8}}[Gray{N0f8}(0.0) Gray{N0f8}(0.0) … Gray{N0f8}(0.0) Gray{N0f8}(0.0); Gray{N0f8}(0.0) Gray{N0f8}(0.0) … Gray{N0f8}(0.0) Gray{N0f8}(0.0); … ; Gray{N0f8}(0.0) Gray{N0f8}(0.0) … Gray{N0f8}(0.0) Gray{N0f8}(0.0); Gray{N0f8}(0.0) Gray{N0f8}(0.0) … Gray{N0f8}(0.0) Gray{N0f8}(0.0)]\n",
       " ColorTypes.Gray{FixedPointNumbers.Normed{UInt8,8}}[Gray{N0f8}(0.0) Gray{N0f8}(0.0) … Gray{N0f8}(0.0) Gray{N0f8}(0.0); Gray{N0f8}(0.0) Gray{N0f8}(0.0) … Gray{N0f8}(0.0) Gray{N0f8}(0.0); … ; Gray{N0f8}(0.0) Gray{N0f8}(0.0) … Gray{N0f8}(0.0) Gray{N0f8}(0.0); Gray{N0f8}(0.0) Gray{N0f8}(0.0) … Gray{N0f8}(0.0) Gray{N0f8}(0.0)]     ColorTypes.Gray{FixedPointNumbers.Normed{UInt8,8}}[Gray{N0f8}(0.0) Gray{N0f8}(0.0) … Gray{N0f8}(0.0) Gray{N0f8}(0.0); Gray{N0f8}(0.0) Gray{N0f8}(0.0) … Gray{N0f8}(0.0) Gray{N0f8}(0.0); … ; Gray{N0f8}(0.0) Gray{N0f8}(0.0) … Gray{N0f8}(0.0) Gray{N0f8}(0.0); Gray{N0f8}(0.0) Gray{N0f8}(0.0) … Gray{N0f8}(0.0) Gray{N0f8}(0.0)]\n",
       " ColorTypes.Gray{FixedPointNumbers.Normed{UInt8,8}}[Gray{N0f8}(0.0) Gray{N0f8}(0.0) … Gray{N0f8}(0.0) Gray{N0f8}(0.0); Gray{N0f8}(0.0) Gray{N0f8}(0.0) … Gray{N0f8}(0.0) Gray{N0f8}(0.0); … ; Gray{N0f8}(0.0) Gray{N0f8}(0.0) … Gray{N0f8}(0.0) Gray{N0f8}(0.0); Gray{N0f8}(0.0) Gray{N0f8}(0.0) … Gray{N0f8}(0.0) Gray{N0f8}(0.0)]     ColorTypes.Gray{FixedPointNumbers.Normed{UInt8,8}}[Gray{N0f8}(0.0) Gray{N0f8}(0.0) … Gray{N0f8}(0.0) Gray{N0f8}(0.0); Gray{N0f8}(0.0) Gray{N0f8}(0.0) … Gray{N0f8}(0.0) Gray{N0f8}(0.0); … ; Gray{N0f8}(0.0) Gray{N0f8}(0.0) … Gray{N0f8}(0.0) Gray{N0f8}(0.0); Gray{N0f8}(0.0) Gray{N0f8}(0.0) … Gray{N0f8}(0.0) Gray{N0f8}(0.0)]\n",
       " ColorTypes.Gray{FixedPointNumbers.Normed{UInt8,8}}[Gray{N0f8}(0.0) Gray{N0f8}(0.0) … Gray{N0f8}(0.0) Gray{N0f8}(0.0); Gray{N0f8}(0.0) Gray{N0f8}(0.0) … Gray{N0f8}(0.0) Gray{N0f8}(0.0); … ; Gray{N0f8}(0.0) Gray{N0f8}(0.0) … Gray{N0f8}(0.0) Gray{N0f8}(0.0); Gray{N0f8}(0.0) Gray{N0f8}(0.0) … Gray{N0f8}(0.0) Gray{N0f8}(0.0)]     ColorTypes.Gray{FixedPointNumbers.Normed{UInt8,8}}[Gray{N0f8}(0.0) Gray{N0f8}(0.0) … Gray{N0f8}(0.0) Gray{N0f8}(0.0); Gray{N0f8}(0.0) Gray{N0f8}(0.0) … Gray{N0f8}(0.0) Gray{N0f8}(0.0); … ; Gray{N0f8}(0.0) Gray{N0f8}(0.0) … Gray{N0f8}(0.0) Gray{N0f8}(0.0); Gray{N0f8}(0.0) Gray{N0f8}(0.0) … Gray{N0f8}(0.0) Gray{N0f8}(0.0)]\n",
       " ColorTypes.Gray{FixedPointNumbers.Normed{UInt8,8}}[Gray{N0f8}(0.0) Gray{N0f8}(0.0) … Gray{N0f8}(0.0) Gray{N0f8}(0.0); Gray{N0f8}(0.0) Gray{N0f8}(0.0) … Gray{N0f8}(0.0) Gray{N0f8}(0.0); … ; Gray{N0f8}(0.0) Gray{N0f8}(0.0) … Gray{N0f8}(0.0) Gray{N0f8}(0.0); Gray{N0f8}(0.0) Gray{N0f8}(0.0) … Gray{N0f8}(0.0) Gray{N0f8}(0.0)]     ColorTypes.Gray{FixedPointNumbers.Normed{UInt8,8}}[Gray{N0f8}(0.0) Gray{N0f8}(0.0) … Gray{N0f8}(0.0) Gray{N0f8}(0.0); Gray{N0f8}(0.0) Gray{N0f8}(0.0) … Gray{N0f8}(0.0) Gray{N0f8}(0.0); … ; Gray{N0f8}(0.0) Gray{N0f8}(0.0) … Gray{N0f8}(0.0) Gray{N0f8}(0.0); Gray{N0f8}(0.0) Gray{N0f8}(0.0) … Gray{N0f8}(0.0) Gray{N0f8}(0.0)]\n",
       " ColorTypes.Gray{FixedPointNumbers.Normed{UInt8,8}}[Gray{N0f8}(0.0) Gray{N0f8}(0.0) … Gray{N0f8}(0.0) Gray{N0f8}(0.0); Gray{N0f8}(0.0) Gray{N0f8}(0.0) … Gray{N0f8}(0.0) Gray{N0f8}(0.0); … ; Gray{N0f8}(0.0) Gray{N0f8}(0.0) … Gray{N0f8}(0.0) Gray{N0f8}(0.0); Gray{N0f8}(0.0) Gray{N0f8}(0.0) … Gray{N0f8}(0.0) Gray{N0f8}(0.0)]  …  ColorTypes.Gray{FixedPointNumbers.Normed{UInt8,8}}[Gray{N0f8}(0.0) Gray{N0f8}(0.0) … Gray{N0f8}(0.0) Gray{N0f8}(0.0); Gray{N0f8}(0.0) Gray{N0f8}(0.0) … Gray{N0f8}(0.0) Gray{N0f8}(0.0); … ; Gray{N0f8}(0.0) Gray{N0f8}(0.0) … Gray{N0f8}(0.0) Gray{N0f8}(0.0); Gray{N0f8}(0.0) Gray{N0f8}(0.0) … Gray{N0f8}(0.0) Gray{N0f8}(0.0)]\n",
       " ColorTypes.Gray{FixedPointNumbers.Normed{UInt8,8}}[Gray{N0f8}(0.0) Gray{N0f8}(0.0) … Gray{N0f8}(0.0) Gray{N0f8}(0.0); Gray{N0f8}(0.0) Gray{N0f8}(0.0) … Gray{N0f8}(0.0) Gray{N0f8}(0.0); … ; Gray{N0f8}(0.0) Gray{N0f8}(0.0) … Gray{N0f8}(0.0) Gray{N0f8}(0.0); Gray{N0f8}(0.0) Gray{N0f8}(0.0) … Gray{N0f8}(0.0) Gray{N0f8}(0.0)]     ColorTypes.Gray{FixedPointNumbers.Normed{UInt8,8}}[Gray{N0f8}(0.0) Gray{N0f8}(0.0) … Gray{N0f8}(0.0) Gray{N0f8}(0.0); Gray{N0f8}(0.0) Gray{N0f8}(0.0) … Gray{N0f8}(0.0) Gray{N0f8}(0.0); … ; Gray{N0f8}(0.0) Gray{N0f8}(0.0) … Gray{N0f8}(0.0) Gray{N0f8}(0.0); Gray{N0f8}(0.0) Gray{N0f8}(0.0) … Gray{N0f8}(0.0) Gray{N0f8}(0.0)]"
      ]
     },
     "execution_count": 13,
     "metadata": {},
     "output_type": "execute_result"
    }
   ],
   "source": [
    "reshape(imgs[1:21],7,3)  # Not sure why this is 7x3 and not 3x7, but whatever"
   ]
  },
  {
   "cell_type": "markdown",
   "metadata": {},
   "source": [
    "Here are the numerical labels of the same data"
   ]
  },
  {
   "cell_type": "code",
   "execution_count": 14,
   "metadata": {},
   "outputs": [
    {
     "data": {
      "text/plain": [
       "1×21 RowVector{Int64,Array{Int64,1}}:\n",
       " 5  0  4  1  9  2  1  3  1  4  3  5  3  6  1  7  2  8  6  9  4"
      ]
     },
     "execution_count": 14,
     "metadata": {},
     "output_type": "execute_result"
    }
   ],
   "source": [
    "labels[1:21]'"
   ]
  },
  {
   "cell_type": "code",
   "execution_count": null,
   "metadata": {
    "collapsed": true
   },
   "outputs": [],
   "source": [
    "size(imgs[1]) # Each image is a 28x28=784  matrix of \"gray scale\" numbers from 0 to 1"
   ]
  },
  {
   "cell_type": "markdown",
   "metadata": {},
   "source": [
    "Reorganize the data as one big 784x60000 matrix labeled D.\n",
    "Each column is a 28x28 image flattened, and we have 60000 images."
   ]
  },
  {
   "cell_type": "code",
   "execution_count": null,
   "metadata": {
    "collapsed": true
   },
   "outputs": [],
   "source": [
    "D =  hcat([vec(Float64.(i)) for i in imgs]...) \n",
    "size(D)"
   ]
  },
  {
   "cell_type": "markdown",
   "metadata": {},
   "source": [
    "For each of the digits 1,2,...,9,0 we find 500 images to train with.  (500 is arbitrary) <br>\n",
    "Each training set becomes a 784x500 matrix.  training_data is a vector of ten such matrices."
   ]
  },
  {
   "cell_type": "code",
   "execution_count": null,
   "metadata": {
    "collapsed": true
   },
   "outputs": [],
   "source": [
    "training_size = 500\n",
    "training_data = [ D[:,find(labels.== (i%10))[1:training_size]] for i=1:10]; # Find training images for each digit\n",
    "size(training_data[1])"
   ]
  },
  {
   "cell_type": "markdown",
   "metadata": {},
   "source": [
    "We compute the $U$ in the SVD of each of the above ten matrices of size 784 x 500, and\n",
    "take the first 50 columns as the basis of a subspace to project onto. u is a vector of ten matrices $U$\n",
    "one for each digit. (50 is arbitrary).  (This could have been a 784x500x3 array, but a 10 vector of 784x500\n",
    "matrices seemed more convenient.)"
   ]
  },
  {
   "cell_type": "code",
   "execution_count": null,
   "metadata": {
    "collapsed": true
   },
   "outputs": [],
   "source": [
    "singular_vec_size  =  50\n",
    "u = [svdfact(training_data[i])[:U][:,1:singular_vec_size] for i=1:10];"
   ]
  },
  {
   "cell_type": "markdown",
   "metadata": {},
   "source": [
    "Now we use each of the 10 U's to get 10 xhats, and see which has the greatest norm.  That is how we will recognize digits.  Note that having the largest xhat means, the smallest error. (Think ‖b‖² = ‖p‖² + ‖e‖² )"
   ]
  },
  {
   "cell_type": "code",
   "execution_count": null,
   "metadata": {
    "collapsed": true
   },
   "outputs": [],
   "source": [
    "results = zeros(60000)\n",
    "for j = 1:60000\n",
    "   xhats = [ norm(u[i]'D[:,j]) for i=1:10]\n",
    "   results[j] = rem(findmax(xhats)[2],10)\n",
    "end\n"
   ]
  },
  {
   "cell_type": "markdown",
   "metadata": {},
   "source": [
    "How well does this work?  nearly a 95% success rate!  Pretty cool huh?  "
   ]
  },
  {
   "cell_type": "code",
   "execution_count": 15,
   "metadata": {},
   "outputs": [
    {
     "data": {
      "text/plain": [
       "0.9463166666666667"
      ]
     },
     "execution_count": 15,
     "metadata": {},
     "output_type": "execute_result"
    }
   ],
   "source": [
    "mean( results .== labels)"
   ]
  },
  {
   "cell_type": "markdown",
   "metadata": {},
   "source": [
    "Write in your own words an explanation of what we just did in terms of projecting onto ten data defined subspaces."
   ]
  },
  {
   "cell_type": "code",
   "execution_count": null,
   "metadata": {
    "collapsed": true
   },
   "outputs": [],
   "source": []
  },
  {
   "cell_type": "markdown",
   "metadata": {},
   "source": [
    "Problem 7. In the above the columns of u[1] is a basis for the the ones digit, and the columns of u[2] is a basis for the twos digit.  Are the column spaces of u[1] and u[2] orthogonal subspaces? You can use Julia to test."
   ]
  },
  {
   "cell_type": "code",
   "execution_count": null,
   "metadata": {
    "collapsed": true
   },
   "outputs": [],
   "source": []
  },
  {
   "cell_type": "markdown",
   "metadata": {},
   "source": [
    "Problem 8.  GS p. 231.\n",
    "\n",
    "What condition on ($t_1,b_1$),($t_2,b_2$),($t_3,b_3$) puts three points on  a straight line?  A column space answer has $(b_1,b_2,b_3)$ being a linear combination of $(1,1,1)$ and $(t_1,t_2,t_3)$.  How simple an answer can you get?"
   ]
  },
  {
   "cell_type": "code",
   "execution_count": null,
   "metadata": {
    "collapsed": true
   },
   "outputs": [],
   "source": []
  },
  {
   "cell_type": "code",
   "execution_count": null,
   "metadata": {
    "collapsed": true
   },
   "outputs": [],
   "source": []
  },
  {
   "cell_type": "code",
   "execution_count": null,
   "metadata": {
    "collapsed": true
   },
   "outputs": [],
   "source": [
    "? \\"
   ]
  },
  {
   "cell_type": "code",
   "execution_count": null,
   "metadata": {
    "collapsed": true
   },
   "outputs": [],
   "source": []
  }
 ],
 "metadata": {
  "kernelspec": {
   "display_name": "Julia 0.6.0",
   "language": "julia",
   "name": "julia-0.6"
  },
  "language_info": {
   "file_extension": ".jl",
   "mimetype": "application/julia",
   "name": "julia",
   "version": "0.6.0"
  }
 },
 "nbformat": 4,
 "nbformat_minor": 2
}
