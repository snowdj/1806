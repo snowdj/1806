{
 "cells": [
  {
   "cell_type": "markdown",
   "metadata": {},
   "source": [
    "# 18.06 pset 1 solutions"
   ]
  },
  {
   "cell_type": "markdown",
   "metadata": {},
   "source": [
    "## Problem 1 (10 points)\n",
    "\n",
    "In linear algebra, it is critically important to **think about the shapes** (size) of matrices and vectors, and whether operations make sense.   You can multiply $AB$ if $A$ is $m \\times n$ ($m$ rows and $n$ columns) and $B$ is $n \\times p$ — the \"middle\" dimensions need to match up.  You can also add matrices of *equal* sizes, or multiply them by scalars.  Multiplying $Ax$, an $m \\times n$ matrix $A$ by an $n$-component vector, can be thought of as a special case of this rule if you think of $x$ as an $n \\times 1$ \"matrix\".  On exams, it is common for people to panic and start writing down nonsense, and an easy way to catch this is to make sure that the operations you are writing down **have the correct shapes**.\n",
    "\n",
    "**(a)**\n",
    "\n",
    "If $A$ is a $3\\times 4$ matrix, $B$ is $4\\times 5$, $x$ is $4 \\times 1$ (a 4-component column vector) and $r$ is $1 \\times 3$ (a 3-component [row vector](https://en.wikipedia.org/wiki/Row_and_column_vectors)), **which of the following make sense** and (for those that make sense) **what is the shape of the result**?\n",
    "\n",
    "1. $A^2 = AA$, $AB$, and/or $BA$?\n",
    "2. $3x + A$ and/or $3x + x$?\n",
    "3. $Ax$, $Bx$, $Ar$, $Br$, $xA$, $xB$, $rA$, and/or $rB$?\n",
    "4. $xx$, $xr$, $rx$\n",
    "\n",
    "**Check your answers** in Julia with some random matrices and vectors.  (Julia should give the expected shape for operations that make sense, or print an error for operations that don't.)"
   ]
  },
  {
   "cell_type": "markdown",
   "metadata": {},
   "source": [
    "## Solution \n",
    "\n",
    "1. $A^2$ is the product of two $(3\\times 4)$ matrices, which doesn't make sense because the middle dimensions (4 and 3) don't match. $AB$ is the product of $(3\\times4)$ and $(4\\times5)$ matrices, which makes sense because the middle dimensions (4) match, and so the result is a $3\\times5$ matrix. $BA$ is the product of a $(4\\times 5)$ and $(3\\times4)$ matrix, which doesn't make sense because the middle dimensions (5 and 3) don't match.\n",
    "2. $3x+A$ doesn't make sense. $3x$ is a $4\\times1$ matrix, while $A$ is a $3\\times 4$ matrix. They cannot be added. $3x+x$ makes sense. $3x$ and $x$ are both $4\\times1$ matrices, so the result is a $4\\times1$ matrix. ($3x+x=4x$).\n",
    "3. $Ax$ makes sense. It is a $3\\times1$ matrix (3 component column vector). $rA$ also makes sense. It is a $1\\times4$ matrix (4 component row vector). $Bx, Ar, Br, xA, xB, rB$ do not make sense.\n",
    "4. $xx$ and $rx$ do not make sense. However, $xr$ makes sense. It is a $4\\times 3$ matrix.\n",
    "\n",
    "Here are some of the results of these operations in Julia for some random matrices of the specified sizes.  Notice that the **operations that don't make sense produce an error message**, and the **other operations produce the expected shapes**.\n",
    "    "
   ]
  },
  {
   "cell_type": "code",
   "execution_count": 1,
   "metadata": {},
   "outputs": [],
   "source": [
    "A = rand(3,4);\n",
    "B = rand(4,5);\n",
    "x = rand(4,1);\n",
    "r = rand(1,3); # "
   ]
  },
  {
   "cell_type": "code",
   "execution_count": 2,
   "metadata": {},
   "outputs": [
    {
     "ename": "LoadError",
     "evalue": "\u001b[91mDimensionMismatch(\"A has dimensions (3,4) but B has dimensions (3,4)\")\u001b[39m",
     "output_type": "error",
     "traceback": [
      "\u001b[91mDimensionMismatch(\"A has dimensions (3,4) but B has dimensions (3,4)\")\u001b[39m",
      "",
      "Stacktrace:",
      " [1] \u001b[1mgemm_wrapper!\u001b[22m\u001b[22m\u001b[1m(\u001b[22m\u001b[22m::Array{Float64,2}, ::Char, ::Char, ::Array{Float64,2}, ::Array{Float64,2}\u001b[1m)\u001b[22m\u001b[22m at \u001b[1m./linalg/matmul.jl:345\u001b[22m\u001b[22m",
      " [2] \u001b[1mpower_by_squaring\u001b[22m\u001b[22m\u001b[1m(\u001b[22m\u001b[22m::Array{Float64,2}, ::Int64\u001b[1m)\u001b[22m\u001b[22m at \u001b[1m./intfuncs.jl:169\u001b[22m\u001b[22m",
      " [3] \u001b[1m^\u001b[22m\u001b[22m at \u001b[1m./linalg/dense.jl:332\u001b[22m\u001b[22m [inlined]",
      " [4] \u001b[1mliteral_pow\u001b[22m\u001b[22m\u001b[1m(\u001b[22m\u001b[22m::Base.#^, ::Array{Float64,2}, ::Type{Val{2}}\u001b[1m)\u001b[22m\u001b[22m at \u001b[1m./intfuncs.jl:208\u001b[22m\u001b[22m"
     ]
    }
   ],
   "source": [
    "A^2"
   ]
  },
  {
   "cell_type": "code",
   "execution_count": 3,
   "metadata": {},
   "outputs": [
    {
     "data": {
      "text/plain": [
       "3×5 Array{Float64,2}:\n",
       " 0.989144  0.913517  0.730817  1.06519   0.694219\n",
       " 0.721819  0.673202  0.700648  0.887384  0.446857\n",
       " 1.51989   1.05441   1.24618   0.927179  0.93389 "
      ]
     },
     "execution_count": 3,
     "metadata": {},
     "output_type": "execute_result"
    }
   ],
   "source": [
    "A*B"
   ]
  },
  {
   "cell_type": "code",
   "execution_count": 4,
   "metadata": {},
   "outputs": [
    {
     "ename": "LoadError",
     "evalue": "\u001b[91mDimensionMismatch(\"A has dimensions (4,5) but B has dimensions (3,4)\")\u001b[39m",
     "output_type": "error",
     "traceback": [
      "\u001b[91mDimensionMismatch(\"A has dimensions (4,5) but B has dimensions (3,4)\")\u001b[39m",
      "",
      "Stacktrace:",
      " [1] \u001b[1mgemm_wrapper!\u001b[22m\u001b[22m\u001b[1m(\u001b[22m\u001b[22m::Array{Float64,2}, ::Char, ::Char, ::Array{Float64,2}, ::Array{Float64,2}\u001b[1m)\u001b[22m\u001b[22m at \u001b[1m./linalg/matmul.jl:345\u001b[22m\u001b[22m",
      " [2] \u001b[1m*\u001b[22m\u001b[22m\u001b[1m(\u001b[22m\u001b[22m::Array{Float64,2}, ::Array{Float64,2}\u001b[1m)\u001b[22m\u001b[22m at \u001b[1m./linalg/matmul.jl:146\u001b[22m\u001b[22m"
     ]
    }
   ],
   "source": [
    "B*A"
   ]
  },
  {
   "cell_type": "code",
   "execution_count": 5,
   "metadata": {},
   "outputs": [
    {
     "ename": "LoadError",
     "evalue": "\u001b[91mDimensionMismatch(\"dimensions must match\")\u001b[39m",
     "output_type": "error",
     "traceback": [
      "\u001b[91mDimensionMismatch(\"dimensions must match\")\u001b[39m",
      "",
      "Stacktrace:",
      " [1] \u001b[1mpromote_shape\u001b[22m\u001b[22m\u001b[1m(\u001b[22m\u001b[22m::Tuple{Base.OneTo{Int64},Base.OneTo{Int64}}, ::Tuple{Base.OneTo{Int64},Base.OneTo{Int64}}\u001b[1m)\u001b[22m\u001b[22m at \u001b[1m./indices.jl:79\u001b[22m\u001b[22m",
      " [2] \u001b[1m+\u001b[22m\u001b[22m\u001b[1m(\u001b[22m\u001b[22m::Array{Float64,2}, ::Array{Float64,2}\u001b[1m)\u001b[22m\u001b[22m at \u001b[1m./arraymath.jl:38\u001b[22m\u001b[22m"
     ]
    }
   ],
   "source": [
    "3*x+A"
   ]
  },
  {
   "cell_type": "code",
   "execution_count": 6,
   "metadata": {},
   "outputs": [
    {
     "data": {
      "text/plain": [
       "4×1 Array{Float64,2}:\n",
       " 3.04997 \n",
       " 1.39693 \n",
       " 0.349336\n",
       " 1.66889 "
      ]
     },
     "execution_count": 6,
     "metadata": {},
     "output_type": "execute_result"
    }
   ],
   "source": [
    "3*x+x"
   ]
  },
  {
   "cell_type": "code",
   "execution_count": 7,
   "metadata": {},
   "outputs": [
    {
     "data": {
      "text/plain": [
       "3×1 Array{Float64,2}:\n",
       " 0.691722\n",
       " 0.633115\n",
       " 0.57986 "
      ]
     },
     "execution_count": 7,
     "metadata": {},
     "output_type": "execute_result"
    }
   ],
   "source": [
    "A*x"
   ]
  },
  {
   "cell_type": "code",
   "execution_count": 8,
   "metadata": {},
   "outputs": [
    {
     "ename": "LoadError",
     "evalue": "\u001b[91mDimensionMismatch(\"A has dimensions (4,5) but B has dimensions (4,1)\")\u001b[39m",
     "output_type": "error",
     "traceback": [
      "\u001b[91mDimensionMismatch(\"A has dimensions (4,5) but B has dimensions (4,1)\")\u001b[39m",
      "",
      "Stacktrace:",
      " [1] \u001b[1mgemm_wrapper!\u001b[22m\u001b[22m\u001b[1m(\u001b[22m\u001b[22m::Array{Float64,2}, ::Char, ::Char, ::Array{Float64,2}, ::Array{Float64,2}\u001b[1m)\u001b[22m\u001b[22m at \u001b[1m./linalg/matmul.jl:345\u001b[22m\u001b[22m",
      " [2] \u001b[1m*\u001b[22m\u001b[22m\u001b[1m(\u001b[22m\u001b[22m::Array{Float64,2}, ::Array{Float64,2}\u001b[1m)\u001b[22m\u001b[22m at \u001b[1m./linalg/matmul.jl:146\u001b[22m\u001b[22m"
     ]
    }
   ],
   "source": [
    "B*x"
   ]
  },
  {
   "cell_type": "code",
   "execution_count": 9,
   "metadata": {},
   "outputs": [
    {
     "ename": "LoadError",
     "evalue": "\u001b[91mDimensionMismatch(\"A has dimensions (3,4) but B has dimensions (1,3)\")\u001b[39m",
     "output_type": "error",
     "traceback": [
      "\u001b[91mDimensionMismatch(\"A has dimensions (3,4) but B has dimensions (1,3)\")\u001b[39m",
      "",
      "Stacktrace:",
      " [1] \u001b[1mgemm_wrapper!\u001b[22m\u001b[22m\u001b[1m(\u001b[22m\u001b[22m::Array{Float64,2}, ::Char, ::Char, ::Array{Float64,2}, ::Array{Float64,2}\u001b[1m)\u001b[22m\u001b[22m at \u001b[1m./linalg/matmul.jl:345\u001b[22m\u001b[22m",
      " [2] \u001b[1m*\u001b[22m\u001b[22m\u001b[1m(\u001b[22m\u001b[22m::Array{Float64,2}, ::Array{Float64,2}\u001b[1m)\u001b[22m\u001b[22m at \u001b[1m./linalg/matmul.jl:146\u001b[22m\u001b[22m"
     ]
    }
   ],
   "source": [
    "A*r"
   ]
  },
  {
   "cell_type": "code",
   "execution_count": 10,
   "metadata": {},
   "outputs": [
    {
     "ename": "LoadError",
     "evalue": "\u001b[91mDimensionMismatch(\"A has dimensions (4,5) but B has dimensions (1,3)\")\u001b[39m",
     "output_type": "error",
     "traceback": [
      "\u001b[91mDimensionMismatch(\"A has dimensions (4,5) but B has dimensions (1,3)\")\u001b[39m",
      "",
      "Stacktrace:",
      " [1] \u001b[1mgemm_wrapper!\u001b[22m\u001b[22m\u001b[1m(\u001b[22m\u001b[22m::Array{Float64,2}, ::Char, ::Char, ::Array{Float64,2}, ::Array{Float64,2}\u001b[1m)\u001b[22m\u001b[22m at \u001b[1m./linalg/matmul.jl:345\u001b[22m\u001b[22m",
      " [2] \u001b[1m*\u001b[22m\u001b[22m\u001b[1m(\u001b[22m\u001b[22m::Array{Float64,2}, ::Array{Float64,2}\u001b[1m)\u001b[22m\u001b[22m at \u001b[1m./linalg/matmul.jl:146\u001b[22m\u001b[22m"
     ]
    }
   ],
   "source": [
    "B*r"
   ]
  },
  {
   "cell_type": "code",
   "execution_count": 11,
   "metadata": {},
   "outputs": [
    {
     "ename": "LoadError",
     "evalue": "\u001b[91mDimensionMismatch(\"A has dimensions (4,1) but B has dimensions (3,4)\")\u001b[39m",
     "output_type": "error",
     "traceback": [
      "\u001b[91mDimensionMismatch(\"A has dimensions (4,1) but B has dimensions (3,4)\")\u001b[39m",
      "",
      "Stacktrace:",
      " [1] \u001b[1mgemm_wrapper!\u001b[22m\u001b[22m\u001b[1m(\u001b[22m\u001b[22m::Array{Float64,2}, ::Char, ::Char, ::Array{Float64,2}, ::Array{Float64,2}\u001b[1m)\u001b[22m\u001b[22m at \u001b[1m./linalg/matmul.jl:345\u001b[22m\u001b[22m",
      " [2] \u001b[1m*\u001b[22m\u001b[22m\u001b[1m(\u001b[22m\u001b[22m::Array{Float64,2}, ::Array{Float64,2}\u001b[1m)\u001b[22m\u001b[22m at \u001b[1m./linalg/matmul.jl:146\u001b[22m\u001b[22m"
     ]
    }
   ],
   "source": [
    "x*A"
   ]
  },
  {
   "cell_type": "code",
   "execution_count": 12,
   "metadata": {},
   "outputs": [
    {
     "ename": "LoadError",
     "evalue": "\u001b[91mDimensionMismatch(\"A has dimensions (4,1) but B has dimensions (4,5)\")\u001b[39m",
     "output_type": "error",
     "traceback": [
      "\u001b[91mDimensionMismatch(\"A has dimensions (4,1) but B has dimensions (4,5)\")\u001b[39m",
      "",
      "Stacktrace:",
      " [1] \u001b[1mgemm_wrapper!\u001b[22m\u001b[22m\u001b[1m(\u001b[22m\u001b[22m::Array{Float64,2}, ::Char, ::Char, ::Array{Float64,2}, ::Array{Float64,2}\u001b[1m)\u001b[22m\u001b[22m at \u001b[1m./linalg/matmul.jl:345\u001b[22m\u001b[22m",
      " [2] \u001b[1m*\u001b[22m\u001b[22m\u001b[1m(\u001b[22m\u001b[22m::Array{Float64,2}, ::Array{Float64,2}\u001b[1m)\u001b[22m\u001b[22m at \u001b[1m./linalg/matmul.jl:146\u001b[22m\u001b[22m"
     ]
    }
   ],
   "source": [
    "x*B"
   ]
  },
  {
   "cell_type": "code",
   "execution_count": 13,
   "metadata": {},
   "outputs": [
    {
     "data": {
      "text/plain": [
       "1×4 Array{Float64,2}:\n",
       " 0.405276  0.69771  0.537122  0.376162"
      ]
     },
     "execution_count": 13,
     "metadata": {},
     "output_type": "execute_result"
    }
   ],
   "source": [
    "r*A"
   ]
  },
  {
   "cell_type": "code",
   "execution_count": 14,
   "metadata": {},
   "outputs": [
    {
     "ename": "LoadError",
     "evalue": "\u001b[91mDimensionMismatch(\"A has dimensions (1,3) but B has dimensions (4,5)\")\u001b[39m",
     "output_type": "error",
     "traceback": [
      "\u001b[91mDimensionMismatch(\"A has dimensions (1,3) but B has dimensions (4,5)\")\u001b[39m",
      "",
      "Stacktrace:",
      " [1] \u001b[1mgemm_wrapper!\u001b[22m\u001b[22m\u001b[1m(\u001b[22m\u001b[22m::Array{Float64,2}, ::Char, ::Char, ::Array{Float64,2}, ::Array{Float64,2}\u001b[1m)\u001b[22m\u001b[22m at \u001b[1m./linalg/matmul.jl:345\u001b[22m\u001b[22m",
      " [2] \u001b[1m*\u001b[22m\u001b[22m\u001b[1m(\u001b[22m\u001b[22m::Array{Float64,2}, ::Array{Float64,2}\u001b[1m)\u001b[22m\u001b[22m at \u001b[1m./linalg/matmul.jl:146\u001b[22m\u001b[22m"
     ]
    }
   ],
   "source": [
    "r*B"
   ]
  },
  {
   "cell_type": "code",
   "execution_count": 15,
   "metadata": {},
   "outputs": [
    {
     "ename": "LoadError",
     "evalue": "\u001b[91mDimensionMismatch(\"A has dimensions (4,1) but B has dimensions (4,1)\")\u001b[39m",
     "output_type": "error",
     "traceback": [
      "\u001b[91mDimensionMismatch(\"A has dimensions (4,1) but B has dimensions (4,1)\")\u001b[39m",
      "",
      "Stacktrace:",
      " [1] \u001b[1mgemm_wrapper!\u001b[22m\u001b[22m\u001b[1m(\u001b[22m\u001b[22m::Array{Float64,2}, ::Char, ::Char, ::Array{Float64,2}, ::Array{Float64,2}\u001b[1m)\u001b[22m\u001b[22m at \u001b[1m./linalg/matmul.jl:345\u001b[22m\u001b[22m",
      " [2] \u001b[1m*\u001b[22m\u001b[22m\u001b[1m(\u001b[22m\u001b[22m::Array{Float64,2}, ::Array{Float64,2}\u001b[1m)\u001b[22m\u001b[22m at \u001b[1m./linalg/matmul.jl:146\u001b[22m\u001b[22m"
     ]
    }
   ],
   "source": [
    "x*x"
   ]
  },
  {
   "cell_type": "code",
   "execution_count": 16,
   "metadata": {},
   "outputs": [
    {
     "data": {
      "text/plain": [
       "4×3 Array{Float64,2}:\n",
       " 0.573176   0.187251   0.106616 \n",
       " 0.262524   0.085764   0.0488321\n",
       " 0.0656502  0.0214473  0.0122116\n",
       " 0.313632   0.10246    0.0583387"
      ]
     },
     "execution_count": 16,
     "metadata": {},
     "output_type": "execute_result"
    }
   ],
   "source": [
    "x*r"
   ]
  },
  {
   "cell_type": "code",
   "execution_count": 17,
   "metadata": {},
   "outputs": [
    {
     "ename": "LoadError",
     "evalue": "\u001b[91mDimensionMismatch(\"A has dimensions (1,3) but B has dimensions (4,1)\")\u001b[39m",
     "output_type": "error",
     "traceback": [
      "\u001b[91mDimensionMismatch(\"A has dimensions (1,3) but B has dimensions (4,1)\")\u001b[39m",
      "",
      "Stacktrace:",
      " [1] \u001b[1mgemm_wrapper!\u001b[22m\u001b[22m\u001b[1m(\u001b[22m\u001b[22m::Array{Float64,2}, ::Char, ::Char, ::Array{Float64,2}, ::Array{Float64,2}\u001b[1m)\u001b[22m\u001b[22m at \u001b[1m./linalg/matmul.jl:345\u001b[22m\u001b[22m",
      " [2] \u001b[1m*\u001b[22m\u001b[22m\u001b[1m(\u001b[22m\u001b[22m::Array{Float64,2}, ::Array{Float64,2}\u001b[1m)\u001b[22m\u001b[22m at \u001b[1m./linalg/matmul.jl:146\u001b[22m\u001b[22m"
     ]
    }
   ],
   "source": [
    "r*x"
   ]
  },
  {
   "cell_type": "markdown",
   "metadata": {},
   "source": [
    "**(b)**\n",
    "\n",
    "Later in the class, we will spend a lot of time on the [transpose Aᵀ](https://en.wikipedia.org/wiki/Transpose) of a matrix A, but for now you can think of it as just *swapping rows and columns*: if A is $m \\times n$, then Aᵀ is $n \\times m$, and if $x$ is an $m$-component column vector (or an $m \\times 1$ matrix then $x^T$ is a $1\\times m$ row vector.\n",
    "\n",
    "So, for the examples above, $A^T$ is $4 \\times 3$, $x^T$ is $1\\times 4$, and $r^T$ is $3\\times 1$.\n",
    "\n",
    "For these matrides, which of the following make sense, and (for those that make sense) what is the shape of the result?\n",
    "\n",
    "1. $A^T A$ and/or $AA^T$\n",
    "2. $x^T x$ and/or $x x^T$\n",
    "\n",
    "**Check your answers** by trying them out in Julia.  For real matrices and vectors, $A^T$ is written `A'` in Julia and $x^T$ is written `x'`, for example:"
   ]
  },
  {
   "cell_type": "markdown",
   "metadata": {},
   "source": [
    "### Solution \n",
    "\n",
    "1. These both make sense. $A^T A$ is a $4\\times4$ matrix, while $AA^T$ is a $3\\times3$ matrix (note that these are both square matrices).\n",
    "2. These both make sense. $x^T x$ is a $1\\times1$ matrix. $xx^T$ is a $4\\times4$ matrix.\n",
    "\n",
    "These are the results of these operations in Julia:"
   ]
  },
  {
   "cell_type": "code",
   "execution_count": 18,
   "metadata": {},
   "outputs": [
    {
     "data": {
      "text/plain": [
       "4×4 Array{Float64,2}:\n",
       " 0.280945  0.504378  0.411894  0.331684\n",
       " 0.504378  1.00248   0.583885  0.508483\n",
       " 0.411894  0.583885  1.06925   0.891146\n",
       " 0.331684  0.508483  0.891146  0.795849"
      ]
     },
     "execution_count": 18,
     "metadata": {},
     "output_type": "execute_result"
    }
   ],
   "source": [
    "A'*A"
   ]
  },
  {
   "cell_type": "code",
   "execution_count": 19,
   "metadata": {},
   "outputs": [
    {
     "data": {
      "text/plain": [
       "3×3 Array{Float64,2}:\n",
       " 0.901894  0.792469  0.769983\n",
       " 0.792469  0.787165  0.59628 \n",
       " 0.769983  0.59628   1.45946 "
      ]
     },
     "execution_count": 19,
     "metadata": {},
     "output_type": "execute_result"
    }
   ],
   "source": [
    "A*A'"
   ]
  },
  {
   "cell_type": "code",
   "execution_count": 20,
   "metadata": {},
   "outputs": [
    {
     "data": {
      "text/plain": [
       "1×1 Array{Float64,2}:\n",
       " 0.88506"
      ]
     },
     "execution_count": 20,
     "metadata": {},
     "output_type": "execute_result"
    }
   ],
   "source": [
    "x'*x"
   ]
  },
  {
   "cell_type": "code",
   "execution_count": 21,
   "metadata": {},
   "outputs": [
    {
     "data": {
      "text/plain": [
       "4×4 Array{Float64,2}:\n",
       " 0.581394   0.266288  0.0665915   0.318129 \n",
       " 0.266288   0.121964  0.0305      0.145708 \n",
       " 0.0665915  0.0305    0.00762724  0.0364377\n",
       " 0.318129   0.145708  0.0364377   0.174074 "
      ]
     },
     "execution_count": 21,
     "metadata": {},
     "output_type": "execute_result"
    }
   ],
   "source": [
    "x*x'"
   ]
  },
  {
   "cell_type": "markdown",
   "metadata": {},
   "source": [
    "## Problem 2 (10 points)\n",
    "\n",
    "**(a)** Give an exact count (a formula in terms of $m,n,p$) of the number of scalar multiplications required to compute the matrix product $AB$, where $A$ is an $m \\times n$ matrix ($m$ rows and $n$ columns) and $B$ is an $n \\times p$ matrix ($n$ rows and $p$ columns).\n",
    "\n",
    "**(b)** Give an exact count (a formula in terms of $m$) of the number of scalar multiplications required to compute the matrix product $Ax$, where $A$ is an $m \\times m$ matrix and $x$ is an $m$-component vector.   Explain how this is equivalent to your answer from part (a) in the special case …………………?\n",
    "\n",
    "**(c)** Computing $ABx$ can be done by $(AB)x$ (first multiplying $AB$ and then multiplying by $x$) or by $A(Bx)$ (first multiplying $Bx$), because matrix multiplication is [associative](https://en.wikipedia.org/wiki/Associative_property).  If $A$ and $B$ are $1000 \\times 1000$ matrices and $x$ is a 1000-component vector, explain why your answers from (a) and (b) imply that *one* of these ways of computing $ABx$ is *much* faster than the other way.\n",
    "\n",
    "Try it out in Julia with some random matrices and compare the results to your prediction based on (a) and (b):"
   ]
  },
  {
   "cell_type": "markdown",
   "metadata": {},
   "source": [
    "### Solution \n",
    "\n",
    "**(a)** If $A$ is an $m \\times n$ matrix and $B$ is an $n \\times p$ matrix, then $AB$ is an $m\\times p$ matrix. Each entry of $AB$ is obtained as a product of a $1\\times n$ row vector from $A$ by a $n\\times1$ column vector from $B$, so will require $n$ scalar multiplications. The total number of scalar multiplications reqired to compute $AB$ will then be the number of entries in $AB$ (which is $mp$) multiplied by $n$. So the total number of scalar multiplications is $mpn$.\n",
    "\n",
    "**(b)** If $A$ is an $m\\times m$ matrix and $x$ is an $m$-component column vector, then $Ax$ will be an $m$-component column vector. Each entry in this column vector is obtained by taking the product of a $1*m$ row vector from $A$ with the $m\\times1$ column vector $x$, which requires $m$ scalar multiplications. Therefore the total number of scalar multiplications required to compute $Ax$ is $m^2$. Note this is a special case of **(a)** in the case where $m=n$ and $p=1$. \n",
    "\n",
    "**(c)** From part **(a)**, we know that the muliplication $AB$ will require $1000^3$ scalar multiplications, and then the multiplication $(AB)x$ will require $1000^2$ scalar multiplications. Alternatively, the muliplications $Bx$ and $A(Bx)$ will both require $1000^2$ scalar multiplications. Calculating $ABx$ by $(AB)x$ (first multiplying $AB$ and then multiplying by $x$) will require $10^9+10^6$ scalar muliplications, whilst calculating $ABx$ by $A(Bx)$ (first multiplying $Bx$) will require $2*10^6$ scalar muliplications. We therefore expect $A(Bx)$ to be faster.\n",
    "\n",
    "We can check this using Julia:"
   ]
  },
  {
   "cell_type": "code",
   "execution_count": 29,
   "metadata": {},
   "outputs": [],
   "source": [
    "A = rand(1000,1000)  # random 1000×1000 matrix (entries in [0,1))\n",
    "B = rand(1000,1000)\n",
    "x = rand(1000);       # random 1000-component vector"
   ]
  },
  {
   "cell_type": "code",
   "execution_count": 30,
   "metadata": {},
   "outputs": [
    {
     "name": "stdout",
     "output_type": "stream",
     "text": [
      "timing (A*B)*x:\n",
      "  0.071565 seconds (7 allocations: 7.637 MiB)\n",
      "  0.092033 seconds (7 allocations: 7.637 MiB, 18.99% gc time)\n",
      "  0.070474 seconds (7 allocations: 7.637 MiB)\n",
      "timing A*(B*x):\n",
      "  0.001242 seconds (6 allocations: 16.031 KiB)\n",
      "  0.000905 seconds (6 allocations: 16.031 KiB)\n",
      "  0.000681 seconds (6 allocations: 16.031 KiB)\n"
     ]
    }
   ],
   "source": [
    "# technicality: turn off multi-threading to make it a bit\n",
    "# easier to interpret benchmark timings:\n",
    "BLAS.set_num_threads(1)\n",
    "\n",
    "# time each way 3 times, and look at the smallest times to reduce noise\n",
    "println(\"timing (A*B)*x:\")\n",
    "@time (A*B)*x\n",
    "@time (A*B)*x\n",
    "@time (A*B)*x\n",
    "println(\"timing A*(B*x):\")\n",
    "@time A*(B*x)\n",
    "@time A*(B*x)\n",
    "@time A*(B*x);"
   ]
  },
  {
   "cell_type": "markdown",
   "metadata": {},
   "source": [
    "As expected, $A(Bx)$ is faster than $(AB)x$. However, although $A(Bx)$ is indeed faster, it is not faster by the factor of ~500 that you might naively expect from counting arithmetic operations; in fact, the speedup is only about a factor of 60. Computers are complicated, and things like memory access have a big impact on performance. Understanding precisely what is going on here would be the subject of a computer-architecture course, but basically a matrix-matrix multiplication like $AB$ can use memory much more efficiently than a matrix-vector multiplication, which makes up some of the difference (but not enough to make it faster)."
   ]
  },
  {
   "cell_type": "markdown",
   "metadata": {},
   "source": [
    "## Problem 3 (10 points)\n",
    "\n",
    "(From Strang, section 2.2, problem 14.) Consider Gaussian elimination on the following system of equations:\n",
    "\n",
    "$$\n",
    "2x + 5y + z = 0 \\\\\n",
    "4x + dy + z = 2 \\\\\n",
    "y - z = 3\n",
    "$$\n",
    "\n",
    "(Write your solution in matrix form.)\n",
    "\n",
    "* What number $d$ forces you to do a row exchange during elimination, and what (non-singular) triangular system do you obtain for that $d$?\n",
    "* What value of $d$ would make this system singular (no third pivot, i.e. no way to get a triangular system with 3 nonzero values on the diagonal)?"
   ]
  },
  {
   "cell_type": "markdown",
   "metadata": {},
   "source": [
    "### Solution\n",
    "\n",
    "In matrix form, the system of equations is: $$\\begin{pmatrix} 2 & 5 & 1 \\\\ 4 & d & 1 \\\\ 0 & 1 & -1\\end{pmatrix}\\begin{pmatrix} x \\\\ y \\\\ z\\end{pmatrix} = \\begin{pmatrix} 0 \\\\ 2 \\\\ 3\\end{pmatrix}.$$  Now consider performing Gaussian elimination on the associated augmented $3 \\times 4$ matrix:\n",
    "$$\\left(\\begin{array}{ccc|c}  \n",
    " 2 & 5 & 1 & 0\\\\\n",
    " 4 & d & 1 & 2\\\\\n",
    " 0 & 1 & -1 & 3\n",
    "\\end{array}\\right).\n",
    "$$\n",
    "Subtracting twice the first row from the second to eliminate the (2,1) entry gives:\n",
    "$$\\left(\\begin{array}{ccc|c}  \n",
    " 2 & 5 & 1 & 0\\\\\n",
    " 0 & d - 10 & -1 & 2\\\\\n",
    " 0 & 1 & -1 & 3\n",
    "\\end{array}\\right).\n",
    "$$\n",
    "\n",
    "**(i)** We need to do a row exchange (of the second and third rows) if the (2,2) entry is 0, i.e $d - 10 = 0$, i.e. $d = 10$.  \n",
    "\n",
    "When $d = 10$, we have the augmented matrix:\n",
    "$$\\left(\\begin{array}{ccc|c}  \n",
    " 2 & 5 & 1 & 0\\\\\n",
    " 0 & 0 & -1 & 2\\\\\n",
    " 0 & 1 & -1 & 3\n",
    "\\end{array}\\right).\n",
    "$$  Exchanging the second and third rows gives:\n",
    "$$\\left(\\begin{array}{ccc|c}  \n",
    " 2 & 5 & 1 & 0\\\\\n",
    " 0 & 1 & -1 & 3 \\\\\n",
    " 0 & 0 & -1 & 2\n",
    "\\end{array}\\right),\n",
    "$$ a nonsingular triangular system corresponding to the system of linear equations\n",
    "$$\n",
    "2x + 5y + z = 0 \\\\\n",
    "y - z = 3 \\\\\n",
    "-z = 2.\n",
    "$$\n",
    "\n",
    "**(ii)** The system will be singular when there is no way to get a third pivot. This occurs exactly when the second and third rows of the $3 \\times 3$ matrix above (ignoring the constants on the right) are scalar multiplies of one another; as the (2,3) and (3,3) entries both equal -1, this happens exactly when $d - 10 = 1$, i.e. when $d = 11$."
   ]
  },
  {
   "cell_type": "markdown",
   "metadata": {},
   "source": [
    "## Problem 4 (10 points)\n",
    "\n",
    "(From Strang, section 2.2, problem 11.)\n",
    "\n",
    "A system of linear equations Ax=b cannot have *exactly two* solutions. An easy way to see why: if two vectors x and y≠x are two solutions (i.e. Ax=b and Ay=b), what is another solution? (Hint: x+y is almost right.)"
   ]
  },
  {
   "cell_type": "markdown",
   "metadata": {},
   "source": [
    "### Solution\n",
    "\n",
    "$Ax=b$ and $Ay=b$, so $A(x+y)=Ax+Ay=2b$.  [The key property that $A(x+y)=Ax+Ay$ is called *linearity*, and is what makes matrix multiplication a part of *linear* algebra.]   But we want $b$ on the right-hand side, so we can just divide both sides by 2: $A((x+y)/2) = b$, so $(x+y)/2$ is a solution.  (Since $x \\ne y$, this is a *new* solution, halfway between $x$ and $y$.)\n",
    "\n",
    "In fact, there are infinitely many solutions: anything on the line connecting $x$ and $y$.   Let z = tx + (1-t)y for any number t.  Then $z$ lies on the line connecting $x$ and $y$, and in fact as $t$ varies over all real numbers $t$ the vector $z$ traverses this entire line (check this on paper with your favorite vectors $x$ and $y$ in the plane!).  Then $z$ is another solution, again thanks to linearity: $$Az = A(tx + (1-t)y) = tAx + (1 - t)Ay = tb + (1 - t)b = b.$$"
   ]
  },
  {
   "cell_type": "markdown",
   "metadata": {},
   "source": [
    "## Problem 5 (15 points)\n",
    "\n",
    "Suppose we want to solve $Ax=b$ for **more than one right-hand side** $b$.  For example, suppose\n",
    "$$\n",
    "A = \\begin{pmatrix} 1 & 6 & -3 \\\\ -2 & 3 & 4 \\\\ 1 & 0 & -2 \\end{pmatrix}\n",
    "$$\n",
    "and want to solve *both* $Ax_1 = b_1$ and $Ax_2 = b_2$ for the right-hand sides:\n",
    "$$\n",
    "b_1 = \\begin{pmatrix} 7 \\\\ 3 \\\\ 0 \\end{pmatrix} \\; b_2 = \\begin{pmatrix} 0 \\\\ -2 \\\\ 1 \\end{pmatrix}\n",
    "$$\n",
    "\n",
    "**(a)**\n",
    "\n",
    "Show that solving *both* $Ax_1 = b_1$ and $Ax_2 = b_2$ is equivalent to solving $AX = B$ where $X$ is an unknown matrix (of what shape?) and B is a given matrix on the right-hand-side.   Give $B$ explicitly, and relate $X$ to your desired solutions $x_1$ and $x_2$.\n",
    "\n",
    "(Hint: think about the \"matrix × columns\" viewpoint of matrix multiplication.)\n",
    "\n",
    "**(b)**\n",
    "\n",
    "Solve your $AX=B$ equation by forming the augmented matrix $\\begin{pmatrix} A & B\\end{pmatrix}$, reducing it to upper-triangular form (once), and doing backsubstition (twice) to obtain $X$ and hence $x_1$ and $x_2$.\n",
    "\n",
    "**(c)**\n",
    "\n",
    "You can solve $AX = B$ in Julia by the code `X = A \\ B`.  The matrix $A$ is given below in Julia.   Enter the matrix $B$, compute `X = A \\ B`, and verify that it matches the answer you computed by hand in (b)."
   ]
  },
  {
   "cell_type": "markdown",
   "metadata": {},
   "source": [
    "### Solution\n",
    "\n",
    "**(a)** Consider the matrix product $AX$, where $A$ is a $3\\times 3$ matrix, and $X$ is a $3\\times 2$ matrix, results in a $3\\times 2$ matrix. Recall from lecture 2 that the first column of $AX$ is obtained by taking the product $A$(first column of $X$), while the second column of $AX$ is obtained by taking the product $A$(second column of $X$).\n",
    "\n",
    "Solving $Ax_1 = b_1$ and $Ax_2 = b_2$ is therefore equivalent to solving $AX=B$, where the columns of $B$ are $b_1$ and $b_2$: $$B = \\begin{pmatrix} 7 & 0 \\\\ 3 & -2 \\\\ 0 & 1 \\end{pmatrix},$$ and $$X = \\begin{pmatrix} x_{11} & x_{12} \\\\ x_{21} & x_{22} \\\\ x_{31} & x_{32} \\end{pmatrix},$$ where we have defined $$ x_1 = \\begin{pmatrix} x_{11}  \\\\ x_{21} \\\\ x_{31}  \\end{pmatrix}, \\; x_2 = \\begin{pmatrix} x_{12}  \\\\ x_{22} \\\\ x_{32}  \\end{pmatrix}$$.\n",
    "\n",
    "**(b)** We can form the augmented matrix $\\begin{pmatrix} A & B\\end{pmatrix}$:\n",
    "$$ \\left(\\begin{array}{ccc|cc}  \n",
    " 1 & 6 & -3 & 7 & 0\\\\\n",
    " -2 & 3 & 4 & 3 & -2\\\\\n",
    " 1 & 0 & -2 & 0 & 1\n",
    "\\end{array}\\right).\n",
    "$$\n",
    "We can then add $2$ times the first row to the second row, and subtract the first row from the third row, to yield:\n",
    "$$ \\left(\\begin{array}{ccc|cc}  \n",
    " 1 & 6 & -3 & 7 & 0\\\\\n",
    " 0 & 15 & -2 & 17 & -2\\\\\n",
    " 0 & -6 & 1 & -7 & 1\n",
    "\\end{array}\\right).\n",
    "$$\n",
    "and then we can add $2/5$ times the second row to the third row to yield:\n",
    "$$ \\left(\\begin{array}{ccc|cc}  \n",
    " 1 & 6 & -3 & 7 & 0\\\\\n",
    " 0 & 15 & -2 & 17 & -2\\\\\n",
    " 0 & 0 & 1/5 & -1/5 & 1/5\n",
    "\\end{array}\\right).\n",
    "$$\n",
    "This gives us two triangular systems that we can solve by back susbstitution. The first is\n",
    "$$\n",
    "x_{11} + 6x_{21} -3x_{31} = 7\\\\\n",
    "15x_{21} - 2x_{31} = 17\\\\\n",
    "1/5 x_{31} = -1/5.\n",
    "$$\n",
    "which has the solution $x_{11} = -2, x_{21} = 1, x_{31} = -1$. The second is \n",
    "$$\n",
    "x_{12} + 6x_{22} -3x_{32} = 0\\\\\n",
    "15x_{22} - 2x_{32} = -2\\\\\n",
    "1/5 x_{32} = 1/5.\n",
    "$$\n",
    "which has the solution $ x_{12} = 3, x_{22} = 0, x_{32} = 1$. \n",
    "\n",
    "Therefore, the solution of $AX =B$ is \n",
    "$$X = \\begin{pmatrix} -2 & 3 \\\\ 1 & 0 \\\\ -1 & 1 \\end{pmatrix},$$\n",
    "or equivalently\n",
    "$$ x_1 = \\begin{pmatrix} -2  \\\\ 1 \\\\ -1 \\end{pmatrix}, \\; x_2 = \\begin{pmatrix} 3  \\\\ 0 \\\\ 1  \\end{pmatrix}$$\n",
    "\n",
    "**(c)** We can also solve $AX = B$ in Julia, as is shown belown"
   ]
  },
  {
   "cell_type": "code",
   "execution_count": 27,
   "metadata": {},
   "outputs": [],
   "source": [
    "A =  [ 1  6 -3\n",
    "     -2  3  4\n",
    "      1  0 -2 ];\n",
    "B = [ 7 0 \n",
    "      3 -2\n",
    "      0 1 ];"
   ]
  },
  {
   "cell_type": "code",
   "execution_count": 28,
   "metadata": {},
   "outputs": [
    {
     "data": {
      "text/plain": [
       "3×2 Array{Float64,2}:\n",
       " -2.0  3.0\n",
       "  1.0  0.0\n",
       " -1.0  1.0"
      ]
     },
     "execution_count": 28,
     "metadata": {},
     "output_type": "execute_result"
    }
   ],
   "source": [
    "X = A \\ B   # solve AX = B for X"
   ]
  },
  {
   "cell_type": "markdown",
   "metadata": {},
   "source": [
    "which is exactly what we found in part **(b)**. "
   ]
  }
 ],
 "metadata": {
  "kernelspec": {
   "display_name": "Julia 0.6.3",
   "language": "julia",
   "name": "julia-0.6"
  },
  "language_info": {
   "file_extension": ".jl",
   "mimetype": "application/julia",
   "name": "julia",
   "version": "0.6.3"
  }
 },
 "nbformat": 4,
 "nbformat_minor": 2
}
