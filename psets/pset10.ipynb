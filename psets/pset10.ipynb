{
 "cells": [
  {
   "cell_type": "markdown",
   "metadata": {},
   "source": [
    "# 18.06 pset 10\n",
    "\n",
    "Due Wed. Nov. 14 at 10:55am."
   ]
  },
  {
   "cell_type": "markdown",
   "metadata": {},
   "source": [
    "## Problem 1 (5+5)\n",
    "\n",
    "**(a)** Suppose that we compute the QR factorization $A = QR$ of an $m\\times m$ matrix $A$.  Show that the matrix $B = RQ$ has the same eigenvalues as $A$ ($B$ is ........ to $A$).\n",
    "\n",
    "**(b)** Start with a random $5\\times 5$ symmetric matrix $A = A^T$ and repeatedly perform the $QR \\rightarrow RQ$ transformation using the code below.  What does it look like the result is converging to?  Any relationship to the eigenvalues of $A$?"
   ]
  },
  {
   "cell_type": "code",
   "execution_count": null,
   "metadata": {},
   "outputs": [],
   "source": [
    "A = randn(5,5)\n",
    "A = A + A' # make it symmetric\n",
    "eigvals(A)"
   ]
  },
  {
   "cell_type": "code",
   "execution_count": null,
   "metadata": {},
   "outputs": [],
   "source": [
    "B = A\n",
    "for i = 1:100\n",
    "    Q, R = qr(B)\n",
    "    B = R * Q\n",
    "    if i % 10 == 0\n",
    "        display(B) # print B every 10 iterations\n",
    "    end\n",
    "end"
   ]
  },
  {
   "cell_type": "markdown",
   "metadata": {},
   "source": [
    "## Problem 2 (10+10)\n",
    "\n",
    "Suppose that $A$ is a diagonalizable matrix with eigenvalues $|\\lambda_1| > |\\lambda_2| > \\cdots$ and real eigenvectors $x_1, x_2, \\ldots$.\n",
    "\n",
    "If we apply the power method starting with a random $x$ (repeatedly replacing $x$ by $Ax / \\Vert Ax \\Vert$), we saw in class that this would converge to an eigenvector $x_1$ (with $\\Vert x_1 \\Vert = 1$) corresponding to $\\lambda_1$ (the largest-magnitude eigenvalue).\n",
    "\n",
    "Suppose that, after finding $x_1$ (and $\\lambda_1$) in this way, we now perform a modified power method: start with a random $y$, and repeatedly replace $y$ with $(I - x_1 x_1^T) Ay / \\Vert (I - x_1 x_1^T) Ay \\Vert$.  That is, we multiply by $A$, **project orthogonal** to $x_1$, and then normalize. \n",
    "\n",
    "**(a)** Write an equation for what $y$ converges to in terms of the eigenvectors $x_1, x_2, \\ldots$ of $A$.\n",
    "\n",
    "(Hint: imagine the initial $y$ is written in the basis of the eigenvectors, and work out what each iteration does in this basis.)\n",
    "\n",
    "**(b)** If $Q = \\begin{pmatrix} x_1 & y \\end{pmatrix}$ (which has 2 orthonormal columns), then express the $2\\times 2$ matrix $B = Q^T A Q$ have in terms of the eigenvalues and eigenvectors of $A$.  In particular, once you compute $B$, what do you learn about the eigenvalues of $A$?\n",
    "\n",
    "Check your answer in Julia for a  $5 \\times 5$ matrix with eigenvalues $\\lambda = 5,4,3,2,1$ and randomly chosen eigenvectors:"
   ]
  },
  {
   "cell_type": "code",
   "execution_count": null,
   "metadata": {},
   "outputs": [],
   "source": [
    "X = mapslices(normalize, randn(5,5), 1) # random eigenvectors (normalized)\n",
    "A = X * Diagonal([5,4,3,2,1]) / X\n",
    "\n",
    "# first power iteration\n",
    "x₁ = randn(5)\n",
    "for i = 1:1000 # plenty of iterations\n",
    "    x₁ = normalize(A*x₁)\n",
    "end\n",
    "\n",
    "# modified power iteration\n",
    "y = randn(5)\n",
    "for i = 1:1000 # plenty of iterations\n",
    "    y = A*y\n",
    "    y = normalize(y - x₁*(x₁'y)) # normalized ⟂ projection\n",
    "end\n",
    "\n",
    "Q = [x₁ y]\n",
    "B = Q'*A*Q"
   ]
  },
  {
   "cell_type": "markdown",
   "metadata": {},
   "source": [
    "## Problem 3 (5+5+10+10+5 points)\n",
    "\n",
    "Suppose that we have a second-order system of ODEs, of the form:\n",
    "$$\n",
    "\\ddot{x} = \\frac{d^2 x}{dt^2} = A x\n",
    "$$\n",
    "\n",
    "where $A$ is an $m \\times m$ matrix and we use $\\dot{x}$ to denote $dx/dt$ and $\\ddot{x}$ to denote $d^2 x/dt^2$.\n",
    "\n",
    "If $A=a$ and $x$ are scalars, this becomes the scalar ODE $\\frac{d^2 x}{dt^2} = a x$.  If we let $\\kappa = \\sqrt{a}$, then it is easy to check that the solutions (assuming $a \\ne 0$) are of the form $x(t) = c e^{+\\kappa t} + d e^{-\\kappa t}$ where $c$ and $d$ are determined by initial conditions $x(0)$ and $\\dot{x}(0)$.\n",
    "\n",
    "**(a)** For the scalar case, show that the same solution can also be written $x(t) = \\alpha \\cosh(\\kappa t) + \\beta \\sinh(\\kappa t)$ in terms of the [hyperbolic functions](https://en.wikipedia.org/wiki/Hyperbolic_function) cosh and sinh.  What are $\\alpha$ and $\\beta$ in terms of $c$ and $d$ from the solution above?  What are $\\alpha$ and $\\beta$ in terms of $x(0)$ and $\\dot{x}(0)$?\n",
    "\n",
    "**(b)** For the scalar case, if $a < 0$ then we have a purely imaginary $\\sqrt{a} = \\kappa = i\\omega$ for a real $\\omega$.   Using your answers from the previous part, write $x(t)$ as a purely real function (for real initial conditions) in terms of $\\cos(\\omega t)$ and $\\sin(\\omega t)$.   Note that $\\cosh(iy) = \\cos(y)$ and $\\sinh(iy) = i\\sin(y)$.\n",
    "\n",
    "**(c)** If $v$ is an eigenvector of $A$ with eigenvalue $\\lambda$, find a solution $x(t)$ of $\\ddot{x} = A x$ given by $v$ multiplied by some scalar function $f(t)$.   (Hint: for $v$, remember that $A$ acts like a scalar.  Your function can be written in terms of $\\cosh$ and $\\sinh$ of ...?)\n",
    "\n",
    "**(d)** Suppose $A$ is diagonalizable, with a basis eigenvectors $v_1, \\ldots, v_m$ and eigenvalues $\\lambda_1, \\ldots, \\lambda_m$.   Expand your solution $x(t)$ in the basis of these eigenvectors by adding up your answers from (c).   If we write the initial conditions in the basis of the eigenvectors, $x(0) = \\sum_k c_k v_k$ and $\\dot{x}(0) = \\sum_k d_k v_k$ for coefficients c and d, you should be able to give an **explicit formula for x(t)** in terms of the $c_k$, $d_k$, $v_k$, and $\\lambda_k$.\n",
    "\n",
    "**(e)** You will get *sinusoidally oscillating* (not growing or decaying) solutions if all of the eigenvalues of A are .........?"
   ]
  },
  {
   "cell_type": "markdown",
   "metadata": {},
   "source": [
    "## Problem 4 (8+8)\n",
    "\n",
    "In chemistry, the [stoichiometry matrix](https://en.wikipedia.org/wiki/Stoichiometry#Stoichiometry_matrix) is often used to describe a set of $m$ reactions among $n$ different chemical \"species\" (e.g. H₂O, C₈H₁₀N₄O₂, and so on).\n",
    "\n",
    "For example, consider the following 3 (fictitious) chemical reactions among 4 species, labeled $x_1, x_2, x_3, x_4$:\n",
    "\n",
    "$$\n",
    "x_1 + 2x_2 \\longleftrightarrow 3 x_2 + 2x_4 \\\\\n",
    "2x_2 + 4x_3 \\longleftrightarrow x_1 + x_4 \\\\\n",
    "x_1 + 4x_3 \\longleftrightarrow 5x_4\n",
    "$$\n",
    "\n",
    "which would be represented by the stoichiometry matrix\n",
    "\n",
    "$$\n",
    "S = \\begin{pmatrix} -1 & 3-2 & 0 & 2 \\\\\n",
    "1 & -2 & -4 & 1 \\\\\n",
    "-1 & 0 & -4 & 5 \\end{pmatrix}\n",
    "$$\n",
    "\n",
    "whose rows are the reactions and whose columns are the species.  (Some authors use the transpose of this matrix instead.)\n",
    "\n",
    "If we use a vector $\\vec{x} \\in \\mathbb{R}^4$ to represent the *concentrations* of each of these four species, and a vector $\\vec{r} \\in \\mathbb{R}^3$ to represent the *rates* of each reaction, then the rate of change of the concentrations is given by the system of ordinary differential equations (ODEs):\n",
    "\n",
    "$$\n",
    "\\frac{d\\vec{x}}{dt} = S^T \\vec{r}\n",
    "$$\n",
    "\n",
    "(where the rates $\\vec{r}$ are *not* generally constant: they may depend on the concentrations $\\vec{x}$ in a complicated way … so you *can't* solve this just by multiplying the right-hand side by $t$).\n",
    "\n",
    "**(a)** Describe (find a basis for) *all* possible reaction rates $\\vec{r}$ for which $\\frac{d\\vec{x}}{dt} = 0$ (the system is in *steady state*).\n",
    "\n",
    "**(b)** Certain linear combinations of the concentrations are *conserved*: there are some (time-independent) vectors $\\vec{v} \\in \\mathbb{R}^4$ for which $\\frac{d(\\vec{v}^T \\vec{x})}{dt} = 0$ for *all* possible rate vectors $\\vec{r}$.   If $\\vec{v}$ doesn't depend on $t$, then $\\frac{d(\\vec{v}^T \\vec{x})}{dt}$ is `______` times $\\frac{d\\vec{x}}{dt}$. These vectors $\\vec{v}$ all lie within the `___`-dimensional `___________` space of $S$.  Why?"
   ]
  }
 ],
 "metadata": {
  "kernelspec": {
   "display_name": "Julia 0.6.2",
   "language": "julia",
   "name": "julia-0.6"
  },
  "language_info": {
   "file_extension": ".jl",
   "mimetype": "application/julia",
   "name": "julia",
   "version": "0.6.2"
  }
 },
 "nbformat": 4,
 "nbformat_minor": 2
}
