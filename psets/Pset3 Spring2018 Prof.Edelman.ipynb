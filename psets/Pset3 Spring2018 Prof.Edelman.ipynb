{
 "cells": [
  {
   "cell_type": "markdown",
   "metadata": {},
   "source": [
    "## Problem Set 3 \n",
    "is due 10:55am Wednesday February 28."
   ]
  },
  {
   "cell_type": "markdown",
   "metadata": {},
   "source": [
    "## Problem 1\n",
    "\n",
    "Find a set of vectors in $R^2$ such that \n",
    "\n",
    "a) If x is in the set and y is in the set, then x+y and x-y\n",
    "are in the set, but the set is NOT a vector space.\n",
    "\n",
    "<br>\n",
    "b) If x is in the set, then c*x is in the set for every real number c, but the set is NOT a vector space."
   ]
  },
  {
   "cell_type": "markdown",
   "metadata": {},
   "source": [
    "## Problem 2\n",
    "  The union of two subspaces consists of the vectors that are at least in one subspace. \n",
    "The intersection of two subspaces, are the vectors that are in both subspaces.\n",
    "<br>\n",
    "\n",
    "Is the union of two subspaces necessarily a subspace?  Explain briefly why yes, or give a counterexample.\n",
    "<br>\n",
    "\n",
    "Is the intersection of two subspaces necessarily a subspace?  Explain briefly why yes, or give a counterexample."
   ]
  },
  {
   "cell_type": "markdown",
   "metadata": {},
   "source": [
    "## Problem 3\n",
    "\n",
    "Give an example of matrices A and B where the column space of\n",
    "AB is exactly the same as the column space of A.\n",
    "<br> <br>\n",
    "Give an example of matrices A and B where the column space of\n",
    "AB is not the same as the column space of A."
   ]
  },
  {
   "cell_type": "markdown",
   "metadata": {},
   "source": [
    "## Problem 4\n",
    "\n",
    "\n",
    "Suppose column 1 + column 3 + column 5 = 0 in a 4 by 5 matrix with four pivots. \n",
    "Which column is sure to have no pivot? \n",
    "<br> <br><br><br><br>\n",
    "Which variable is free? \n",
    "<br> <br><br><br><br>\n",
    "Suppose column 1 + column 3 + column 5 = 0 in a 4 by 5 matrix with four pivots. What are the special solutions? \n"
   ]
  },
  {
   "cell_type": "markdown",
   "metadata": {},
   "source": [
    "## Problem 5\n",
    "The reduced form R of a 3 by 3 matrix with randomly chosen entries is almost sure to be_______________\n",
    "\n",
    "<br>  <br> \n",
    "The reduced form R of a 4 by 3 matrix with randomly chosen entries is almost sure to be__. \n",
    "\n"
   ]
  },
  {
   "cell_type": "markdown",
   "metadata": {},
   "source": [
    "## Problem 6\n",
    "Find the reduced echelon form R for the matrix A and each of the block matrices B and C:\n",
    "\n",
    "$A= \\begin{pmatrix}0 & 0 & 0 \\\\ 0 & 0 & 3 \\\\ 2 & 4 & 6 \\end{pmatrix} \\hspace{.3in}$ \n",
    "$B= \\begin{pmatrix} A & A \\end{pmatrix} \\hspace{.3in}$ \n",
    "$C= \\begin{pmatrix} A & A \\\\ A & 0 \\end{pmatrix}$ <br> <br>\n",
    "<br> <br> <br>"
   ]
  },
  {
   "cell_type": "markdown",
   "metadata": {},
   "source": [
    "## Problem 7"
   ]
  },
  {
   "cell_type": "markdown",
   "metadata": {},
   "source": [
    "What subspace of 3x3 matrices is spanned by the following sets.  (Note that if the set is already a subspace, the span is the set itself.)  (Hint: some of these take some real thought.)\n",
    "\n",
    "<br>\n",
    "a. The symmetric matrices <br>\n",
    "b. The six permutation matrices <br>\n",
    "c. The identity matrix <br>\n",
    "d. The invertible matrices <br>\n",
    "e. The singular matrices <br>\n",
    "f. The diagonal matrices"
   ]
  },
  {
   "cell_type": "markdown",
   "metadata": {},
   "source": [
    "## Problem 8"
   ]
  },
  {
   "cell_type": "markdown",
   "metadata": {},
   "source": [
    "For the matrix \n",
    "$A=\\begin{pmatrix}\n",
    "1 & 2 & 2 & 4 & 6 \\\\\n",
    "1 & 2 & 3 & 6 & 9 \\\\\n",
    "0 & 0 & 1 & 2 & 3\n",
    "\\end{pmatrix}$\n",
    " find a special solution for every free variable. \n",
    "(Set one free variable to 1. Set the other free variables to zero.)"
   ]
  },
  {
   "cell_type": "markdown",
   "metadata": {},
   "source": [
    "For the matrix\n",
    "$B=\\begin{pmatrix}\n",
    "2 & 4 & 4 \\\\\n",
    "0 & 4  & 4\\\\\n",
    "0 & 8 & 8\n",
    "\\end{pmatrix}\n",
    "$\n",
    "find a special solution for every free variable. (Set one free variable to 1. Set the other free variables to zero.)"
   ]
  },
  {
   "cell_type": "markdown",
   "metadata": {},
   "source": [
    "Find the reduced row echelon form $R_B$ of\n",
    "$B=\\begin{pmatrix}\n",
    "2 & 4 & 4 \\\\\n",
    "0 & 4  & 4\\\\\n",
    "0 & 8 & 8\n",
    "\\end{pmatrix}\n",
    "$"
   ]
  },
  {
   "cell_type": "markdown",
   "metadata": {},
   "source": [
    "Find the reduced row echelon form $R_A$ of\n",
    "$A=\\begin{pmatrix}\n",
    "1 & 2 & 2 & 4 & 6 \\\\\n",
    "1 & 2 & 3 & 6 & 9 \\\\\n",
    "0 & 0 & 1 & 2 & 3\n",
    "\\end{pmatrix}\n",
    "$"
   ]
  },
  {
   "cell_type": "code",
   "execution_count": null,
   "metadata": {},
   "outputs": [],
   "source": []
  }
 ],
 "metadata": {
  "kernelspec": {
   "display_name": "Julia 0.6.0",
   "language": "julia",
   "name": "julia-0.6"
  },
  "language_info": {
   "file_extension": ".jl",
   "mimetype": "application/julia",
   "name": "julia",
   "version": "0.6.0"
  }
 },
 "nbformat": 4,
 "nbformat_minor": 2
}
