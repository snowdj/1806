{
 "cells": [
  {
   "cell_type": "markdown",
   "metadata": {},
   "source": [
    "Problem 1. GS p.407, problem 3:"
   ]
  },
  {
   "cell_type": "markdown",
   "metadata": {},
   "source": [
    "Which of these transformations are not linear?  The input is  $v=(v_1,v_2)$: <br>\n",
    "\n",
    "(a) $T(v)=(v_1,v_2)$ <br>\n",
    "(b) $T(v)=(v_1,v_1)$ <br>\n",
    "(c) $T(v)=(0,v_1)$ <br>\n",
    "(d) $T(v)=(0,1)$ <br>\n",
    "(e) $T(v)=v_1-v_2$ \n"
   ]
  },
  {
   "cell_type": "markdown",
   "metadata": {},
   "source": [
    "Problem 2. GS p. 409, problem 17:"
   ]
  },
  {
   "cell_type": "markdown",
   "metadata": {},
   "source": [
    "The transformation that transposes every 2x2 matrix is definitely linear.  Which of these extra properties are true? <br>\n",
    "(a) $T^2$ = identity transformation <br>\n",
    "(b) The kernel of T is the zero matrix <br>\n",
    "(c) Every 2 by 2 matrix is in the range of $T$ <br>\n",
    "(d) T(M)=-M is impossible."
   ]
  },
  {
   "cell_type": "markdown",
   "metadata": {},
   "source": [
    "Problem 3. GS p. 420, problem 26\n",
    "\n",
    "Suppose $v_1,v_2,v_3$ are eigenvectors for $T$.  This means $T(v_i)=\\lambda_i v_i$ for $i=1,2,3$.  What is the matrix for $T$ when the input and output bases are the v's?"
   ]
  },
  {
   "cell_type": "markdown",
   "metadata": {},
   "source": [
    "Problem 4.\n",
    "\n",
    "Suppose $V$ is an orthogonal n x n matrix, $U$ is an orthogonal m x m matrix, and $\\Sigma$ is m x n matrix with non-negative numbers on the diagonal.  What is the matrix of the transformation $Tx=Ax$ when the input basis is the columns of $V$ and the output basis is the columns of $U$?"
   ]
  },
  {
   "cell_type": "markdown",
   "metadata": {},
   "source": [
    "Problem 5. GS p. 420 problem 28"
   ]
  },
  {
   "cell_type": "markdown",
   "metadata": {},
   "source": [
    "Using $v_1=w_1$ and $v_2=w_2$ find the standard matrix for these T's: <br>\n",
    "\n",
    "(a) $T(v_1)=0$ and $T(v_2)=3v_1$ <br>\n",
    "(b) $T(v_1)=v_1$ and $T(v_1+v_2)=v_1.$"
   ]
  },
  {
   "cell_type": "markdown",
   "metadata": {},
   "source": [
    "Problem 6:  Write down $T(f(x)) = \\frac{d}{dx}f(x)$ in the monomial basis $1,x,x^2,x^3$ for cubics."
   ]
  },
  {
   "cell_type": "markdown",
   "metadata": {},
   "source": [
    "Problem 7:  Write down $T(f(x))=f(x+1)$ in the monomial basis $1,x,x^2,x^3$ for cubics."
   ]
  },
  {
   "cell_type": "markdown",
   "metadata": {},
   "source": [
    "Problem 8: Which transformations satisfy T(cv)=cT(v). The input is $v=(v_1 ,v_2 ,v_3 )$\n",
    "\n",
    "\n",
    "1. T(v)=v/$\\|v\\|$ <br>\n",
    "2. T(v)=v$_1$+v$_2$+v$_3$ <br>\n",
    "3. T(v)=(v$_1$,2v$_2$,3v$_3$) <br>\n",
    "4. T(v) = largest component of v"
   ]
  },
  {
   "cell_type": "markdown",
   "metadata": {},
   "source": [
    "Note: largest means the same as maximum, that is any positive is larger than any negative. (no absolute value)"
   ]
  },
  {
   "cell_type": "code",
   "execution_count": null,
   "metadata": {},
   "outputs": [],
   "source": []
  }
 ],
 "metadata": {
  "kernelspec": {
   "display_name": "Julia 0.6.2",
   "language": "julia",
   "name": "julia-0.6"
  },
  "language_info": {
   "file_extension": ".jl",
   "mimetype": "application/julia",
   "name": "julia",
   "version": "0.6.2"
  }
 },
 "nbformat": 4,
 "nbformat_minor": 2
}
