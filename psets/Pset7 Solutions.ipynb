{
 "cells": [
  {
   "cell_type": "markdown",
   "metadata": {},
   "source": [
    "**Problem 1.**  Suppose Q is m x m  orthogonal (meaning square with orthonormal columns) and A is m x n. What are the possible determinants |QA| in terms of |A|?"
   ]
  },
  {
   "cell_type": "markdown",
   "metadata": {},
   "source": [
    "**Solution:** Since $Q$ is orthogonal, it is square and we have that $Q^T Q = I$. Taking determinants, we have that $1 = \\det(I) = \\det(Q^T)\\det(Q) = \\det(Q)^2$, since the determinant of a matrix is preserved under taking transposes. This implies that $\\det(Q) = \\pm 1$. Therefore, $\\det (QA) = \\det (Q) \\det (A) = \\pm \\det (A)$. "
   ]
  },
  {
   "cell_type": "markdown",
   "metadata": {},
   "source": [
    "**Problem 2.** Suppose Q and A are as in problem 1.  What are the possible sum of squares of all elements of QA in terms of the sum of squares of all elements in A."
   ]
  },
  {
   "cell_type": "markdown",
   "metadata": {},
   "source": [
    "**Solution:** The sums of squares of the matrix $A$ is equal to the sum of the lengths squared of the columns that make up $A$. We can write $A = \\begin{bmatrix} A_1 & \\cdots & A_n\\end{bmatrix}$, where $A_i$ are the columns of $A$. Then, the sums of squares of the entries of $A$ is $$\\|A_1\\|^2 + \\ldots + \\|A_n\\|^2.$$\n",
    "We also have that $QA = \\begin{bmatrix} QA_1 & \\cdots & QA_m\\end{bmatrix}$, and so the sums of the squares of the entries of $QA$ is $$\\|QA_1\\|^2 + \\ldots + \\|QA_n\\|^2 = \\|A_1\\|^2 + \\ldots + \\|A_n\\|^2,$$ since the orthogonality of $Q$ implies that $\\|Q\\mathbf{v}\\| = \\|\\mathbf{v}\\|$ for any vector $\\mathbf{v}$. This means that the sums of squares of the elements of $QA$ equals the sums of squares of the elements of $A$. "
   ]
  },
  {
   "cell_type": "markdown",
   "metadata": {},
   "source": [
    "**Problem 3.** Let A=UΣVᵀ be an SVD of a square matrix A.  What is the product of the diagonal elements of Σ in terms of A?"
   ]
  },
  {
   "cell_type": "markdown",
   "metadata": {},
   "source": [
    "**Solution:** Since $\\Sigma$ is a diagonal matrix, the product of the diagonal entries of $\\Sigma$ is equal to $\\det(\\Sigma)$. Since $A$ is a square matrix, we have that $U, \\Sigma, V^T$ are all square, and therefore, $$\\det(A) = \\det(U) \\det(\\Sigma)\\det(V^T).$$ Now, since $U^TU = I$ and $V^TV = I$, and both these matrices are square, it follows that $U$ and $V$ are orthogonal matrices and therefore have determinant $\\pm 1$. From our determinant equality, we then have that the product of the diagonal entries of $\\Sigma$ is equal to $| \\det (A)|$. "
   ]
  },
  {
   "cell_type": "markdown",
   "metadata": {},
   "source": [
    "**Problem 4.**  Let A be as in Problem 3, what is the sum of squares of the singular values in terms of A?"
   ]
  },
  {
   "cell_type": "markdown",
   "metadata": {},
   "source": [
    "**Solution:** We notice that the sum of the squares of the singular values of $A$ is equal to the sum of squares of the entries of $\\Sigma$. By problem 2, we know that the sum of squares of the entries of $\\Sigma$ is equal to the sum of squares of $U\\Sigma$, which is also equal to the sum of the squares of the entries of $U \\Sigma V^T$, since $U$ and $V^T$ are orthogonal matrices. But $U\\Sigma V^T = A$, so the sum of squares of the singular values of $A$ is equal to the sum of squares of the entries of $A$. "
   ]
  },
  {
   "cell_type": "markdown",
   "metadata": {},
   "source": [
    "**Problem 5.**  Let A be m x n (need not be square).  What is the sum of the diagonal elements of AᵀA in terms of the singular values?  What about the sum of the diagonal elements of AAᵀ?"
   ]
  },
  {
   "cell_type": "markdown",
   "metadata": {},
   "source": [
    "**Solution:** \n",
    "\n",
    "The diagonal elements of AᵀA (or AAᵀ) are the sums of squares of corresponding columns (or rows).  Therefore the sum of the diagonal entries is the sum of the squares of the entries of A, which we have seen is the sum of the squares of the singular values in Problem 4.\n",
    "\n",
    " "
   ]
  },
  {
   "cell_type": "markdown",
   "metadata": {},
   "source": [
    "**Problem 6.**  A Hadamard matrix H is a matrix with entries ±1 and orthogonal columns. What is the determinant of H as a function of n?"
   ]
  },
  {
   "cell_type": "markdown",
   "metadata": {},
   "source": [
    "**Solution:** Since $H$ has orthogonal columns, the matrix $H^T H$ is a diagonal matrix. Furthermore, since the entries of each column are all $\\pm 1$, we know that the diagonal entries of $H^T H$ are each $n$, which is the norm squared of any length $n$ vector with entries all $\\pm 1$. Therefore, we have that $$H^T H = n I.$$ Taking determinants of both sides, we have that $$n^n = \\det (nI) = \\det(H^T)\\det(H) = \\det(H)^2,$$ and so $\\det(H) = \\pm n^{n/2}$. "
   ]
  },
  {
   "cell_type": "markdown",
   "metadata": {},
   "source": [
    "**Problem 7.**  Consider the vectors x such that w ⋅ x = 0.  These vectors are in the left nullspace of w thought of as an n x 1 matrix.  Describe all vectors perpendicular to such x.  Let b be any scalar, find the distance from the hyperplane (not throught the origin)  w ⋅ x = b to the hyperplane (not through the origin) w ⋅ x = - b. (This distance is used in the terribly named and I believe hardly used machine learning approach known as Support Vector Machines.)"
   ]
  },
  {
   "cell_type": "markdown",
   "metadata": {},
   "source": [
    "**Solution:** \n",
    "\n",
    "\n",
    "<br>\n",
    "Linear Algebra:  Let $P=\\frac{ww^T}{w^T w}$ be the projection onto the line in the direction of $w$.\n",
    "Every $x_+$ in the first hyperplane satisfies $Px_+=(w ⋅ x_+)/(w^T w) = bw/(w^T w)$.\n",
    "Similarly $x_-$ satisfies $Px_-= - bw/(w^T w)$, so we have\n",
    "$$P(x_+ - x_-) = 2 bw/(w^T w),$$\n",
    "    which immediately gives $$\\|x_+ - x_-\\| \\ge  2b \\|w \\|/(w^T w) =2b/\\|w\\|.$$ <br>\n",
    "    Setting $x_+ = -x_- = bw/(w^T w)$ shows that the minimum distance is achieved.\n",
    "\n",
    "<br> <br>\n",
    "\n",
    "Geometry:\n",
    "If $\\mathbf{w}$ is a length $n$ vector in $\\mathbb{R}^n$, then the set of $\\mathbf{x}$ for with $\\mathbf{w}\\cdot \\mathbf{x} = 0$ is an $(n-1)$-dimensional subspace of $\\mathbb{R}^n$ orthogonal to $\\mathbf{w}$. The set of all vectors perpendicular to this subspace of $\\mathbf{x}$s is then the $1$ dimensional subspace of $\\mathbb{R}^n$ spanned by $\\mathbf{w}$, or $\\text{span}(\\mathbf{w})$. \n",
    "\n",
    "Moving on to the second question, we want to find the distance between the two ($(n-1)$-dimensional) hyperplanes   given by $\\mathbf{w} \\cdot \\mathbf{x} = b$ and $\\mathbf{w} \\cdot \\mathbf{x} = -b$. We first notice that these two hyperplanes are parallel with a common normal vector of $\\mathbf{w}$. \n",
    "\n",
    "The distance is then twice the distance from the origin to $x=b\\mathbf{w}/\\|\\mathbf{w}\\|^2$\n",
    "or  $$\\frac{2b}{\\|\\mathbf{w}\\|}.$$"
   ]
  },
  {
   "cell_type": "markdown",
   "metadata": {},
   "source": [
    "**Problem 8.** If P is a projection matrix.  What are the possible values of |P|?"
   ]
  },
  {
   "cell_type": "markdown",
   "metadata": {},
   "source": [
    "**Solution:** If $P$ is an $n\\times n$ matrix and is a projection onto all of $\\mathbb{R}^n$, then it is the identity matrix and therefore has determinant $1$. If it is a projection onto a smaller subspace of dimension $m < n$, then the matrix has rank $m < n$ and is therefore singular. The determinant of $P$ is then $0$. Thus, the only possible values of $\\det(P)$ are $0$ and $1$. "
   ]
  },
  {
   "cell_type": "markdown",
   "metadata": {},
   "source": [
    "**Problem 9.** Find a 3x3 matrix with entries 0 and 1 with determinant  -2,-1,0, and 1,2. (Okay to use rand(0:1,3,3) if it helps)"
   ]
  },
  {
   "cell_type": "markdown",
   "metadata": {},
   "source": [
    "**Solution:** We have that \n",
    "$\\det \\begin{bmatrix} 0 & 1 & 1 \\\\ 1 & 1 & 0 \\\\ 1 & 0 & 1 \\end{bmatrix} = -2,$\n",
    "$\\det \\begin{bmatrix} 0 & 0 & 1 \\\\ 0 & 1 & 0 \\\\ 1 & 0 & 0 \\end{bmatrix} = -1,$\n",
    "$\\det \\begin{bmatrix} 0 & 0 & 0 \\\\ 0 & 0 & 0 \\\\ 0 & 0 & 0 \\end{bmatrix} = 0,$\n",
    "$\\det \\begin{bmatrix} 1 & 0 & 0 \\\\ 0 & 1 & 0 \\\\ 0 & 0 & 1 \\end{bmatrix} = 1,$\n",
    "$\\det \\begin{bmatrix} 1 & 1 & 0 \\\\ 0 & 1 & 1 \\\\ 1 & 0 & 1 \\end{bmatrix} = 2.$"
   ]
  },
  {
   "cell_type": "markdown",
   "metadata": {},
   "source": [
    "**Problem 10.** If A is 3x3 with entries 0 and 1, if A is nonsingular, and you perform row eliminations what are the possible entries of U in PA=LU? Why can't |A| be greater than 2?"
   ]
  },
  {
   "cell_type": "markdown",
   "metadata": {},
   "source": [
    "**Solution:**\n",
    "\n",
    "Quick Solution: <br>\n",
    "Eliminating the first column subtracts a 0 or 1 from a 0 or 1 giving an entry of absolute value of most 1.\n",
    "The last elimination which creates the (3,3) entry of U subtracts two numbers of absolute value at most 1\n",
    "giving an entry of absolute value of most 2.  Multiplying the diagonals therefore has absolute value at most 2.\n",
    "\n",
    "\n",
    "<br><br>\n",
    "Detailed Solution: <br>\n",
    "We can get the $U$ matrix of the $PA = LU$ decomposition by performing row reductions on the $PA$ matrix until we are left with an upper triangular matrix. We assume that $PA$ is already in a form for which we will not have to do any row swaps when we do the reduction. Then, the $1,1$ entry of $PA$ must be a $1$, since it has to be a pivot. The $1,2$ and $1,3$ entries can be either $0$ or $1$. These are then also the possible entries for the first row of $U$. \n",
    "\n",
    "In the next row of $PA$, we can either start with a $0$ in the $2,1$ entry, in which case the $2,2$ entry must be a $1$ to be a pivot and the $2,3$ entry can be either $0$ or $1$. Or we could start with a $1$ in the $2,1$ entry, in which case we will do a row reduction and subtract the first row from the second. This will give us a $0$ in the $2,1$ entry of $U$, a $1$ or $-1$ in the $2,2$ entry, and a $-1,0,$ or $1$ in the $2,3$ entry. \n",
    "\n",
    "The third row of $U$ will have a $0$ in the first two entries and a nonzero number in the third. The possible row reductions that we could do to get the third row of $U$ are (1) to subtract row 1 of U from row 3 of PA and (2) to add or subtract row 2 of U from row 3 of PA. The first operation, if we perform it, takes the $3,3$ entry of PA and either keeps it the same or subtracts one from it. The second opertion, if we perform it, takes that modified $3,3$ entry and adds $1,0,$ or $-1$ to it. In total, we have taken the original $3,3$ entry of PA and added $-2,-1,0,$ or $1$ to it. \n",
    "\n",
    "Summarizing what we have done, the below matrix shows what each entry of $U$ can be: \n",
    "$$\\begin{bmatrix} \\{1\\} & \\{1,0\\} & \\{1,0\\} \\\\ \\{0\\} & \\{1,-1\\} & \\{1,0,-1\\} \\\\ \\{0\\} & \\{0\\} & \\{1,0,-1,-2\\} \\end{bmatrix}.$$\n",
    "\n",
    "The determinant of $U$ is the product of the diagonal entries, and can be $-2,-1,1,$ or $2$ (since $A$ is nonsingular and $A = LU$, then $U$ must also be nonsingular). The matrix $L$ is lower triangular and has $1$s down the diagonal and therefore has determinant $1$. Then, $\\det (A) = \\det (L) \\det (U) = \\det(U)$, and so $|\\det(A)| \\leq 2$. \n"
   ]
  },
  {
   "cell_type": "markdown",
   "metadata": {},
   "source": [
    "**Problem 11.**  What is the pattern in the formula for the determinant of S(n) given by the Julia code below? You may see it by inspecting, but ultimately you should figure it out by math. (Based on GS Problem 21 on p. 269.)"
   ]
  },
  {
   "cell_type": "code",
   "execution_count": 42,
   "metadata": {},
   "outputs": [
    {
     "data": {
      "text/plain": [
       "S (generic function with 1 method)"
      ]
     },
     "execution_count": 42,
     "metadata": {},
     "output_type": "execute_result"
    }
   ],
   "source": [
    "S(n) = SymTridiagonal( 3*ones(Int,n), ones(Int,n-1))"
   ]
  },
  {
   "cell_type": "code",
   "execution_count": 43,
   "metadata": {},
   "outputs": [
    {
     "data": {
      "text/plain": [
       "5×5 SymTridiagonal{Int64}:\n",
       " 3  1  ⋅  ⋅  ⋅\n",
       " 1  3  1  ⋅  ⋅\n",
       " ⋅  1  3  1  ⋅\n",
       " ⋅  ⋅  1  3  1\n",
       " ⋅  ⋅  ⋅  1  3"
      ]
     },
     "execution_count": 43,
     "metadata": {},
     "output_type": "execute_result"
    }
   ],
   "source": [
    "S(5)"
   ]
  },
  {
   "cell_type": "code",
   "execution_count": 44,
   "metadata": {
    "scrolled": true
   },
   "outputs": [
    {
     "data": {
      "text/plain": [
       "6-element Array{Int64,1}:\n",
       "   3\n",
       "   8\n",
       "  21\n",
       "  55\n",
       " 144\n",
       " 377"
      ]
     },
     "execution_count": 44,
     "metadata": {},
     "output_type": "execute_result"
    }
   ],
   "source": [
    "[det(S(n)) for n=1:6]"
   ]
  },
  {
   "cell_type": "markdown",
   "metadata": {},
   "source": [
    "**Solution:** Let us compute the determinant of $S(4)$ as an example. We have that $$S(4) = \\begin{bmatrix} 3 & 1 & 0 & 0 \\\\ 1 & 3 & 1 & 0 \\\\ 0 & 1 & 3 & 1 \\\\ 0 & 0 & 1 & 3 \\end{bmatrix}.$$\n",
    "Then, by expanding along the first row, we have that \n",
    "$$\\det (S(4)) = 3 \\det \\begin{bmatrix} 3 & 1 & 0 \\\\ 1 & 3 & 1 \\\\ 0 & 1 & 3 \\end{bmatrix} - 1 \\det \\begin{bmatrix} 1 & 1 & 0 \\\\ 0 & 3 & 1 \\\\ 0 & 1 & 3 \\end{bmatrix} = 3 \\det \\begin{bmatrix} 3 & 1 & 0 \\\\ 1 & 3 & 1 \\\\ 0 & 1 & 3 \\end{bmatrix} -  \\det \\begin{bmatrix} 3 & 1 \\\\ 1 & 3 \\end{bmatrix},$$\n",
    "by expanding the second determinant along the first row. \n",
    "This is equal to $3\\det(S(3)) - \\det(S(2))$. In general, by similar reasoning we can see that we have the recursion relation $$\\det (S(n)) = 3 \\det (S(n-1)) - \\det (S(n-2)),$$ with initial conditions $\\det(S(1)) = 3, \\det(S(2)) = 8$. \n",
    "\n",
    "We can also show that $\\det (S(n)) = F_{2n+2}$, where $F_i$ denotes the $i$th Fibonacci number in the Fibonacci sequence $1,1,2,3,5,8,\\ldots$. To check this, it suffices to check that the squence $\\{F_{2n+2}\\}$ has the same recursion relation that we found earlier, with the same initial conditions. The Fibonacci recursion relation is that $F_{i} = F_{i-1} + F_{i-2}$. Therefore, $$F_{2n+2} = F_{2n+1} + F_{2n} = (F_{2n} + F_{2n-1}) + F_{2n} = 2F_{2n} + F_{2n-1} = 2F_{2n} + (F_{2n} - F_{2n-2}) = 3F_{2n} - F_{2n-2}.$$\n",
    "This is exactly the recursion relation for $\\det(S(n))$. We can also check that $F_{2n+2}$ is equal to $3$ for $n=1$ and to $8$ for $n=2$. Thus, since $\\{F_{2n+2}\\}$ satisfies the same recursion relation and initial conditions as $\\{\\det(S(n))\\}$, we have that $\\det(S(n)) = F_{2n+2}$. "
   ]
  },
  {
   "cell_type": "markdown",
   "metadata": {},
   "source": [
    "GS p257, Challenge Problem 39. <br>\n",
    "**Problem 12.** If you know all 16 cofactors of a 4x4 invertible matrix A, how would you find A?"
   ]
  },
  {
   "cell_type": "markdown",
   "metadata": {},
   "source": [
    "**Solution:** Let us assume that we know the cofactor matrix $C$ of the $4\\times 4$ invertible matrix $A$. Then, we have that $$C^TA = \\det(A)I.$$\n",
    "Taking the determinants of both sides, we get that $\\det(C^T) \\det(A) = \\det(A)^4 \\det(I)$, and simplifying gives us that $\\det(C) = \\det(A)^3$. Therefore, we have that $$\\det(A) = \\sqrt[3]{\\det(C)}.$$ From this, we get that \n",
    "$$A = \\det(A)(C^T)^{-1} I = \\sqrt[3]{\\det(C)} (C^T)^{-1}.$$"
   ]
  },
  {
   "cell_type": "markdown",
   "metadata": {},
   "source": [
    "**Problem 13.**  Explain the pattern for det(M(n)) (the determinant of a cycle) given by the Julia Code Below.\n",
    "What is M(n)^n?"
   ]
  },
  {
   "cell_type": "code",
   "execution_count": 102,
   "metadata": {},
   "outputs": [
    {
     "data": {
      "text/plain": [
       "M (generic function with 1 method)"
      ]
     },
     "execution_count": 102,
     "metadata": {},
     "output_type": "execute_result"
    }
   ],
   "source": [
    "M(n) = eye(Int,n)[:,[2:n;1]]"
   ]
  },
  {
   "cell_type": "code",
   "execution_count": 104,
   "metadata": {},
   "outputs": [
    {
     "data": {
      "text/plain": [
       "3×3 Array{Int64,2}:\n",
       " 0  0  1\n",
       " 1  0  0\n",
       " 0  1  0"
      ]
     },
     "execution_count": 104,
     "metadata": {},
     "output_type": "execute_result"
    }
   ],
   "source": [
    "M(3)"
   ]
  },
  {
   "cell_type": "code",
   "execution_count": 105,
   "metadata": {},
   "outputs": [
    {
     "data": {
      "text/plain": [
       "4×4 Array{Int64,2}:\n",
       " 0  0  0  1\n",
       " 1  0  0  0\n",
       " 0  1  0  0\n",
       " 0  0  1  0"
      ]
     },
     "execution_count": 105,
     "metadata": {},
     "output_type": "execute_result"
    }
   ],
   "source": [
    "M(4)"
   ]
  },
  {
   "cell_type": "code",
   "execution_count": 106,
   "metadata": {
    "scrolled": true
   },
   "outputs": [
    {
     "data": {
      "text/plain": [
       "5-element Array{Float64,1}:\n",
       "  1.0\n",
       " -1.0\n",
       "  1.0\n",
       " -1.0\n",
       "  1.0"
      ]
     },
     "execution_count": 106,
     "metadata": {},
     "output_type": "execute_result"
    }
   ],
   "source": [
    "[det(M(n)) for n=1:5]"
   ]
  },
  {
   "cell_type": "markdown",
   "metadata": {},
   "source": [
    "**Solution:** $M(n)$ is an $n \\times n$ matrix representing an $n$-cycle. We can row reduce $M(n)$ to the identity by performing $n-1$ row swaps (we first swap rows $1$ and $2$, then $2$ and $3$, and continue until we swap rows $n-1$ and $n$). So the determinant of $M(n)$ is $(-1)^{n-1} \\det(I) = (-1)^{n-1}$. This means that $\\det(M(n))$ is $1$ for odd values of $n$ and $-1$ for even values of $n$. \n",
    "\n",
    "We claim also that $M(n)^n = I$. This is because $M(n)$ is a permutation matrix that is a cycle on $n$ elements. That is, if $M(n)$ is applied to a vector $\\mathbf{v} = \\begin{bmatrix} v_1 & v_2 & \\cdots v_{n-1} & v_n\\end{bmatrix}^T$, it would return $\\begin{bmatrix} v_{n} & v_1 & \\cdots v_{n-2} & v_{n-1}\\end{bmatrix}^T$, where the indicies are cyclically permuted by one entry. Applying the $M(n)$ matrix $n$ times then cyclically permutes the original elements $n$ times, which returns them back to where they were originally. This shows that $M(n)^n\\mathbf{v} = \\mathbf{v}$ for every vector $\\mathbf{v}$, and so $M(n)^n = I$, the identity matrix. . "
   ]
  }
 ],
 "metadata": {
  "kernelspec": {
   "display_name": "Julia 0.6.0",
   "language": "julia",
   "name": "julia-0.6"
  },
  "language_info": {
   "file_extension": ".jl",
   "mimetype": "application/julia",
   "name": "julia",
   "version": "0.6.0"
  }
 },
 "nbformat": 4,
 "nbformat_minor": 2
}
