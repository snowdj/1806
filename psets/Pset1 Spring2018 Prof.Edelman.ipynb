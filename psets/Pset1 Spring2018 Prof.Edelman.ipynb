{
 "cells": [
  {
   "cell_type": "markdown",
   "metadata": {},
   "source": [
    "# 18.06 Fall 2018 pset 1 \n",
    "## (due Wednesday 2/14 at 10:55am by submitting pdf through [Stellar](https://stellar.mit.edu/S/course/18/sp18/18.06/) )\n",
    "\n",
    "This problem set is in the form of a [Julia](http://julialang.org/) *notebook* (using the [Jupyter](http://jupyter.org/)/[IJulia](https://github.com/JuliaLang/IJulia.jl) browser-based interface to interactive programming).  We will be using the Julia language throughout the term for simple computational explorations — practical linear algebra is not about hand computations!\n",
    "\n",
    "You can run this without installing anything by logging in at [JuliaBox](https://juliabox.com/).  Just download the notebook file (a `.ipynb` file) by clicking the download icon at the upper right, then drag it onto the JuliaBox dashboard to upload it there. It is best if you use an 0.6 version of Julia, such as 0.6.2.\n",
    "(Some students report having to change the extension to .ipynb, this seems like it shouldn't be necessary\n",
    "but it's not too much of a nuisance.)\n",
    "\n",
    "Some of the problems are pencil-and-paper (we just happen to use the notebook to describe them), and some of them require you to run the code in the notebook to see what happens and then explain it.  To **run the code** in an input cell, **just click on the cell and then type shift-return**; see also the \"Help\" menu in the notebook.  When you submit your pset, you may handwrite or type, but please look over and submit one clearly labeled pdf.  You may find\n",
    "that the Jupyter Download-as-PDF or PrintPreview followed by the Browser Print button is cleaner."
   ]
  },
  {
   "cell_type": "markdown",
   "metadata": {},
   "source": [
    "## Problem 1\n",
    "\n",
    "Which of these matrix functions  make sense (assume $m \\ne n$)?\n",
    "1. f(x) = W * x      (where W is an m x n matrix, x is a length n vector)\n",
    "1. f(x) = W * x + b   (where W is an m x n matrix, x is a length n vector, b is a length n vector)\n",
    "1. f(x) = W \\* W * x (where W is an m x n matrix, x is a length n vector)\n",
    "1. f(x) = W * x  + b (where W is an m x n matrix, x is a length n vector, b is a length m vector)\n",
    "1. f(x) = x * W     (where W is an m x n matrix, x is a length n vector)\n",
    "1. f(x) = sin.(W \\* x) (where W is an m x n matrix, x is a length n vector and the \".\" means take the sine of element of the vector W*x)\n",
    "1. f(x) = sin.(W) \\* x  (where W is an m x n matrix, x is a length n vector)\n",
    "1. f(x) = σ.(x) where (where σ is the [sigmoid](https://en.wikipedia.org/wiki/Sigmoid_function) function σ(t) = 1/(1+e^(-t)))\n",
    "\n",
    "<br>\n",
    "The \".\" is usually pronounced \"dot\" but if one thinks \"point\" one might remember it is a \"pointwise\" operation, i.e. applies seperately to every element.\n",
    "<br><br><br><br><br><br><br>\n",
    "Execute the commands in Julia to check your work.  While there will not be any computers on the exams, in the real world people check themselves all the time with a computer. (Shift + **enter** executes and moves to the next cell.)\n",
    "\n"
   ]
  },
  {
   "cell_type": "code",
   "execution_count": null,
   "metadata": {
    "collapsed": true
   },
   "outputs": [],
   "source": [
    "m = 2\n",
    "n = 4\n",
    "W = rand(m,n)\n",
    "x = rand(n)\n",
    "bm = rand(m)\n",
    "bn = rand(n); # final semicolon suppresses printing of output"
   ]
  },
  {
   "cell_type": "code",
   "execution_count": null,
   "metadata": {
    "collapsed": true
   },
   "outputs": [],
   "source": [
    "W"
   ]
  },
  {
   "cell_type": "markdown",
   "metadata": {},
   "source": [
    "Notice W is a 2x4 arrray whose elements are Float64 (they have decimals) and it is a \"2\" dimensional **matrix**."
   ]
  },
  {
   "cell_type": "code",
   "execution_count": null,
   "metadata": {
    "collapsed": true
   },
   "outputs": [],
   "source": [
    "x"
   ]
  },
  {
   "cell_type": "markdown",
   "metadata": {},
   "source": [
    "Notice x is a length 4 vector of Float64's and it is a \"1\" dimensional matrix. Humans often conflate a 4 vector with a 4x1 matrix.  Sometimes this is highly productive.  Julia usually makes the distinction between a 4 vector and a 4x1 matrix."
   ]
  },
  {
   "cell_type": "code",
   "execution_count": null,
   "metadata": {
    "collapsed": true
   },
   "outputs": [],
   "source": [
    "W*x"
   ]
  },
  {
   "cell_type": "code",
   "execution_count": null,
   "metadata": {
    "collapsed": true
   },
   "outputs": [],
   "source": [
    "W*x + bn"
   ]
  },
  {
   "cell_type": "code",
   "execution_count": null,
   "metadata": {
    "collapsed": true
   },
   "outputs": [],
   "source": [
    "W*W*x"
   ]
  },
  {
   "cell_type": "code",
   "execution_count": null,
   "metadata": {
    "collapsed": true
   },
   "outputs": [],
   "source": [
    "W*x + bm"
   ]
  },
  {
   "cell_type": "code",
   "execution_count": null,
   "metadata": {
    "collapsed": true
   },
   "outputs": [],
   "source": [
    "x * W  "
   ]
  },
  {
   "cell_type": "code",
   "execution_count": null,
   "metadata": {
    "collapsed": true
   },
   "outputs": [],
   "source": [
    "sin.(W*x)"
   ]
  },
  {
   "cell_type": "code",
   "execution_count": null,
   "metadata": {
    "collapsed": true
   },
   "outputs": [],
   "source": [
    "sin.(W) * x"
   ]
  },
  {
   "cell_type": "markdown",
   "metadata": {},
   "source": [
    "Packages are software libraries that one tends to add on an \"as-needed\" basis so not to take up too much room on your computer.\n",
    "\n",
    "Very likely you will need the Flux package for σ to be defined.\n",
    "\n",
    "On your own computer you should uncomment out the Pkg.add line once.  It will load Flux on your computer.\n",
    "You will still need the using line for each session.\n",
    "\n",
    "If you are using Juliabox, Flux should be preinstalled."
   ]
  },
  {
   "cell_type": "code",
   "execution_count": 14,
   "metadata": {
    "collapsed": true
   },
   "outputs": [],
   "source": [
    "# Pkg.add(\"Flux\")\n",
    "using Flux   ### Let's load the Flux package which contains σ, "
   ]
  },
  {
   "cell_type": "code",
   "execution_count": null,
   "metadata": {
    "collapsed": true
   },
   "outputs": [],
   "source": [
    "## if the above Using Flux command takes you more than 2 minutes\n",
    "## forget about it and just uncomment out the line below\n",
    "## to define the sigmoid\n",
    "\n",
    "# σ(x) = 1/(1+e^(-x))"
   ]
  },
  {
   "cell_type": "code",
   "execution_count": null,
   "metadata": {
    "collapsed": true
   },
   "outputs": [],
   "source": [
    "σ.(W*x) # You can type \\sigma+<tab> to get the greek letter sigma"
   ]
  },
  {
   "cell_type": "markdown",
   "metadata": {},
   "source": [
    "σ goes from 0 to 1.  It is known as an activation function in machine learning.\n",
    "You can get help by typing question mark and a function name"
   ]
  },
  {
   "cell_type": "code",
   "execution_count": null,
   "metadata": {
    "collapsed": true
   },
   "outputs": [],
   "source": [
    "? σ"
   ]
  },
  {
   "cell_type": "markdown",
   "metadata": {},
   "source": [
    "## Problem 2 ( A little complexity)"
   ]
  },
  {
   "cell_type": "markdown",
   "metadata": {},
   "source": [
    "Suppose W is nxn,  x is a vector of length n, b is a vector of length n.\n",
    "\n",
    "1. What do you expect is the comparison between the time spent computing W*x when n is 10000 vs n is 20000?\n",
    "1. What do you expect is the comparison between the time spent computing W*x+b when n is 10000 vs n is 20000?\n",
    "1. What do you expect is the comparison between the time spent computing σ.(W*x+b) when n is 10000 vs n is 20000?\n",
    "    \n",
    "    <br><br><br><br><br><br><br>\n",
    "    \n",
    "    You can use the code in Julia below to verify or help with your answer.\n",
    "    (If you don't observe what you expect, know that sometimes machines share resources, you can just\n",
    "    write what you expected, or you can interpret what my machine (iMAC 3.4 GHz Intel Core i7) observed)"
   ]
  },
  {
   "cell_type": "code",
   "execution_count": 1,
   "metadata": {
    "collapsed": true
   },
   "outputs": [],
   "source": [
    "#add BenchmarkTools\n",
    "using BenchmarkTools"
   ]
  },
  {
   "cell_type": "code",
   "execution_count": 343,
   "metadata": {},
   "outputs": [
    {
     "data": {
      "text/plain": [
       "BenchmarkTools.Trial: \n",
       "  memory estimate:  78.20 KiB\n",
       "  allocs estimate:  2\n",
       "  --------------\n",
       "  minimum time:     38.377 ms (0.00% GC)\n",
       "  median time:      43.237 ms (0.00% GC)\n",
       "  mean time:        42.787 ms (0.00% GC)\n",
       "  maximum time:     50.994 ms (0.00% GC)\n",
       "  --------------\n",
       "  samples:          117\n",
       "  evals/sample:     1"
      ]
     },
     "execution_count": 343,
     "metadata": {},
     "output_type": "execute_result"
    }
   ],
   "source": [
    "n1=10000\n",
    "n2=20000\n",
    "W1 = rand(n1,n1); x1=rand(n1); b1 = rand(n1)\n",
    "W2 = rand(n2,n2); x2=rand(n2); b2 = rand(n2)\n",
    "f1(x) = W1*x\n",
    "f2(x) = W2*x\n",
    "@benchmark f1(x1)"
   ]
  },
  {
   "cell_type": "code",
   "execution_count": 344,
   "metadata": {},
   "outputs": [
    {
     "data": {
      "text/plain": [
       "BenchmarkTools.Trial: \n",
       "  memory estimate:  156.33 KiB\n",
       "  allocs estimate:  2\n",
       "  --------------\n",
       "  minimum time:     155.662 ms (0.00% GC)\n",
       "  median time:      158.921 ms (0.00% GC)\n",
       "  mean time:        159.271 ms (0.00% GC)\n",
       "  maximum time:     166.472 ms (0.00% GC)\n",
       "  --------------\n",
       "  samples:          32\n",
       "  evals/sample:     1"
      ]
     },
     "execution_count": 344,
     "metadata": {},
     "output_type": "execute_result"
    }
   ],
   "source": [
    "@benchmark f2(x2)"
   ]
  },
  {
   "cell_type": "code",
   "execution_count": 345,
   "metadata": {},
   "outputs": [
    {
     "data": {
      "text/plain": [
       "BenchmarkTools.Trial: \n",
       "  memory estimate:  156.41 KiB\n",
       "  allocs estimate:  4\n",
       "  --------------\n",
       "  minimum time:     38.411 ms (0.00% GC)\n",
       "  median time:      41.028 ms (0.00% GC)\n",
       "  mean time:        41.081 ms (0.00% GC)\n",
       "  maximum time:     45.856 ms (0.00% GC)\n",
       "  --------------\n",
       "  samples:          122\n",
       "  evals/sample:     1"
      ]
     },
     "execution_count": 345,
     "metadata": {},
     "output_type": "execute_result"
    }
   ],
   "source": [
    "f3(x) = W1*x + b1\n",
    "f4(x) = W2*x + b2\n",
    "@benchmark f3(x1)"
   ]
  },
  {
   "cell_type": "code",
   "execution_count": 346,
   "metadata": {},
   "outputs": [
    {
     "data": {
      "text/plain": [
       "BenchmarkTools.Trial: \n",
       "  memory estimate:  312.66 KiB\n",
       "  allocs estimate:  4\n",
       "  --------------\n",
       "  minimum time:     156.135 ms (0.00% GC)\n",
       "  median time:      167.118 ms (0.00% GC)\n",
       "  mean time:        166.686 ms (0.00% GC)\n",
       "  maximum time:     179.177 ms (0.00% GC)\n",
       "  --------------\n",
       "  samples:          31\n",
       "  evals/sample:     1"
      ]
     },
     "execution_count": 346,
     "metadata": {},
     "output_type": "execute_result"
    }
   ],
   "source": [
    "@benchmark f4(x2)"
   ]
  },
  {
   "cell_type": "code",
   "execution_count": 350,
   "metadata": {},
   "outputs": [
    {
     "data": {
      "text/plain": [
       "BenchmarkTools.Trial: \n",
       "  memory estimate:  235.63 KiB\n",
       "  allocs estimate:  29\n",
       "  --------------\n",
       "  minimum time:     38.432 ms (0.00% GC)\n",
       "  median time:      39.452 ms (0.00% GC)\n",
       "  mean time:        40.615 ms (0.03% GC)\n",
       "  maximum time:     45.882 ms (0.00% GC)\n",
       "  --------------\n",
       "  samples:          124\n",
       "  evals/sample:     1"
      ]
     },
     "execution_count": 350,
     "metadata": {},
     "output_type": "execute_result"
    }
   ],
   "source": [
    "f5(x) = σ.(W1*x + b1)\n",
    "f6(x) = σ.(W2*x + b2)\n",
    "@benchmark f5(x1)"
   ]
  },
  {
   "cell_type": "code",
   "execution_count": 351,
   "metadata": {},
   "outputs": [
    {
     "data": {
      "text/plain": [
       "BenchmarkTools.Trial: \n",
       "  memory estimate:  470.00 KiB\n",
       "  allocs estimate:  29\n",
       "  --------------\n",
       "  minimum time:     156.662 ms (0.00% GC)\n",
       "  median time:      159.783 ms (0.00% GC)\n",
       "  mean time:        162.444 ms (0.00% GC)\n",
       "  maximum time:     171.731 ms (0.00% GC)\n",
       "  --------------\n",
       "  samples:          31\n",
       "  evals/sample:     1"
      ]
     },
     "execution_count": 351,
     "metadata": {},
     "output_type": "execute_result"
    }
   ],
   "source": [
    "@benchmark f6(x2)"
   ]
  },
  {
   "cell_type": "markdown",
   "metadata": {},
   "source": [
    "## Problem 3 Vectors\n",
    "\n",
    "\n",
    "(a)  SUM OF VECTORS: What is the sum V of the twelve unit vectors that go from the center of a clock to the hours 1:00, 2:00, ..., 12:00?\n",
    "\n",
    "<br><br><br><br><br><br>\n",
    "<img src=\"http://2.bp.blogspot.com/-Y5mnXTd33z0/VDGXB-3qE3I/AAAAAAAASl0/mD1sb0gaLtU/s1600/clock-face-time4.jpg\" size=10>\n",
    "(b)  (SUBTRACTING VECTORS) In the sum of vectors above, if the 2:00 vector is removed, you can show that the remaining vectors add to 8:00. This is because subtracting a vector is the same as adding \n",
    "<span style=\"border-bottom: 1px solid black; padding-left: 200px\">&nbsp;</span> ? <br>\n",
    "Write your answer as a number from 1 through 4 below:<br>\n",
    "1. An Opposite Vector\n",
    "2. An Orthogonal Vector\n",
    "3. A Parallel Vector\n",
    "4. Zero"
   ]
  },
  {
   "cell_type": "markdown",
   "metadata": {},
   "source": [
    "## Problem 4  Elimination sometimes breaks down\n",
    "We would like you to use elimination to solve the following linear system of two equations:\n",
    "\n",
    "$ax + 3y = −3$\n",
    "\n",
    "$4x + 6y = 6$\n"
   ]
  },
  {
   "cell_type": "markdown",
   "metadata": {},
   "source": [
    "If the above does not format correctly, say in the notebook viewer, NBViewer,\n",
    "please let me know.  So you are not stuck, the two equations are simply\n",
    "    \n",
    "    ax + 3y = -3\n",
    "    4x + 6y = 6"
   ]
  },
  {
   "cell_type": "markdown",
   "metadata": {},
   "source": [
    "For which number $a$ does elimination break down permanently? <br><br><br>"
   ]
  },
  {
   "cell_type": "markdown",
   "metadata": {},
   "source": [
    "For which number $a$ does elimination break down temporarily?<br><br><br>"
   ]
  },
  {
   "cell_type": "markdown",
   "metadata": {},
   "source": [
    "SOLVING THE NON-SINGULAR SYSTEM"
   ]
  },
  {
   "cell_type": "markdown",
   "metadata": {},
   "source": [
    "Fix the temporary breakdown above by a row exchange and then solve.\n",
    "\n",
    "Enter the value of $x$: <br>"
   ]
  },
  {
   "cell_type": "markdown",
   "metadata": {},
   "source": [
    "Enter the value of  y:"
   ]
  },
  {
   "cell_type": "markdown",
   "metadata": {},
   "source": [
    "## Problem 5  Plot Solutions of Linear Systems"
   ]
  },
  {
   "cell_type": "markdown",
   "metadata": {},
   "source": [
    " Consider the linear system for various values of p and q that you can manipulate\n",
    "\n",
    "\n",
    "$x + y = p$\n",
    "\n",
    "$-x + 3y = q$\n",
    "    "
   ]
  },
  {
   "cell_type": "markdown",
   "metadata": {},
   "source": [
    "Where is the solution when $p=7$ and $q=1$?  Draw the graph and give the solution. <br><br>"
   ]
  },
  {
   "cell_type": "code",
   "execution_count": 5,
   "metadata": {},
   "outputs": [
    {
     "data": {
      "text/html": [
       "<div id=\"interact-js-shim\">\n",
       "    <script charset=\"utf-8\">\n",
       "(function (IPython, $, _, MathJax) {\n",
       "    $.event.special.destroyed = {\n",
       "\tremove: function(o) {\n",
       "\t    if (o.handler) {\n",
       "\t\to.handler.apply(this, arguments)\n",
       "\t    }\n",
       "\t}\n",
       "    }\n",
       "\n",
       "    var OutputArea = IPython.version >= \"4.0.0\" ? require(\"notebook/js/outputarea\").OutputArea : IPython.OutputArea;\n",
       "\n",
       "    var redrawValue = function (container, type, val) {\n",
       "\tvar selector = $(\"<div/>\");\n",
       "\tvar oa = new OutputArea(_.extend(selector, {\n",
       "\t    selector: selector,\n",
       "\t    prompt_area: true,\n",
       "\t    events: IPython.events,\n",
       "\t    keyboard_manager: IPython.keyboard_manager\n",
       "\t})); // Hack to work with IPython 2.1.0\n",
       "\n",
       "\tswitch (type) {\n",
       "\tcase \"image/png\":\n",
       "            var _src = 'data:' + type + ';base64,' + val;\n",
       "\t    $(container).find(\"img\").attr('src', _src);\n",
       "\t    break;\n",
       "\tcase \"text/latex\":\n",
       "\t\tif (MathJax){\n",
       "\t\t\tvar math = MathJax.Hub.getAllJax(container)[0];\n",
       "\t\t\tMathJax.Hub.Queue([\"Text\", math, val.replace(/^\\${1,2}|\\${1,2}$/g, '')]);\n",
       "\t\t\tbreak;\n",
       "\t\t}\n",
       "\tdefault:\n",
       "\t    var toinsert = OutputArea.append_map[type].apply(\n",
       "\t\toa, [val, {}, selector]\n",
       "\t    );\n",
       "\t    $(container).empty().append(toinsert.contents());\n",
       "\t    selector.remove();\n",
       "\t}\n",
       "    }\n",
       "\n",
       "\n",
       "    $(document).ready(function() {\n",
       "\tfunction initComm(evt, data) {\n",
       "\t    var comm_manager = data.kernel.comm_manager;\n",
       "        //_.extend(comm_manager.targets, require(\"widgets/js/widget\"))\n",
       "\t    comm_manager.register_target(\"Signal\", function (comm) {\n",
       "            comm.on_msg(function (msg) {\n",
       "                var val = msg.content.data.value;\n",
       "                $(\".signal-\" + comm.comm_id).each(function() {\n",
       "                var type = $(this).data(\"type\");\n",
       "                if (typeof(val[type]) !== \"undefined\" && val[type] !== null) {\n",
       "                    redrawValue(this, type, val[type], type);\n",
       "                }\n",
       "                });\n",
       "                delete val;\n",
       "                delete msg.content.data.value;\n",
       "            });\n",
       "\t    });\n",
       "\n",
       "\t    // coordingate with Comm and redraw Signals\n",
       "\t    // XXX: Test using Reactive here to improve performance\n",
       "\t    $([IPython.events]).on(\n",
       "\t\t'output_appended.OutputArea', function (event, type, value, md, toinsert) {\n",
       "\t\t    if (md && md.reactive) {\n",
       "                // console.log(md.comm_id);\n",
       "                toinsert.addClass(\"signal-\" + md.comm_id);\n",
       "                toinsert.data(\"type\", type);\n",
       "                // Signal back indicating the mimetype required\n",
       "                var comm_manager = IPython.notebook.kernel.comm_manager;\n",
       "                var comm = comm_manager.comms[md.comm_id];\n",
       "                comm.then(function (c) {\n",
       "                    c.send({action: \"subscribe_mime\",\n",
       "                       mime: type});\n",
       "                    toinsert.bind(\"destroyed\", function() {\n",
       "                        c.send({action: \"unsubscribe_mime\",\n",
       "                               mime: type});\n",
       "                    });\n",
       "                })\n",
       "\t\t    }\n",
       "\t    });\n",
       "\t}\n",
       "\n",
       "\ttry {\n",
       "\t    // try to initialize right away. otherwise, wait on the status_started event.\n",
       "\t    initComm(undefined, IPython.notebook);\n",
       "\t} catch (e) {\n",
       "\t    $([IPython.events]).on('kernel_created.Kernel kernel_created.Session', initComm);\n",
       "\t}\n",
       "    });\n",
       "})(IPython, jQuery, _, MathJax);\n",
       "</script>\n",
       "    <script>\n",
       "        window.interactLoadedFlag = true\n",
       "       $(\"#interact-js-shim\").bind(\"destroyed\", function () {\n",
       "           if (window.interactLoadedFlag) {\n",
       "               console.warn(\"JavaScript required by Interact will be removed if you remove this cell or run using Interact more than once.\")\n",
       "           }\n",
       "       })\n",
       "       $([IPython.events]).on(\"kernel_starting.Kernel kernel_restarting.Kernel\", function () { window.interactLoadedFlag = false })\n",
       "   </script>\n",
       "</div>"
      ]
     },
     "metadata": {},
     "output_type": "display_data"
    }
   ],
   "source": [
    "# Pkg.add PyPlot\n",
    "# Pkg.add Interact\n",
    "using PyPlot, Interact"
   ]
  },
  {
   "cell_type": "code",
   "execution_count": 6,
   "metadata": {},
   "outputs": [
    {
     "data": {
      "text/html": [],
      "text/plain": [
       "Interact.Options{:SelectionSlider,Any}(1: \"input\" = 7.0 Any , \"p\", 7.0, \"7.0\", 15, Interact.OptionDict(DataStructures.OrderedDict{Any,Any}(\"0.0\"=>0.0,\"0.5\"=>0.5,\"1.0\"=>1.0,\"1.5\"=>1.5,\"2.0\"=>2.0,\"2.5\"=>2.5,\"3.0\"=>3.0,\"3.5\"=>3.5,\"4.0\"=>4.0,\"4.5\"=>4.5…), Dict{Any,Any}(Pair{Any,Any}(5.5, \"5.5\"),Pair{Any,Any}(6.5, \"6.5\"),Pair{Any,Any}(2.0, \"2.0\"),Pair{Any,Any}(1.5, \"1.5\"),Pair{Any,Any}(10.5, \"10.5\"),Pair{Any,Any}(4.5, \"4.5\"),Pair{Any,Any}(11.0, \"11.0\"),Pair{Any,Any}(0.0, \"0.0\"),Pair{Any,Any}(7.0, \"7.0\"),Pair{Any,Any}(8.5, \"8.5\")…)), Any[], Any[], true, \"horizontal\")"
      ]
     },
     "metadata": {},
     "output_type": "display_data"
    },
    {
     "data": {
      "text/html": [],
      "text/plain": [
       "Interact.Options{:SelectionSlider,Any}(3: \"input-2\" = 7.0 Any , \"q\", 7.0, \"7.0\", 15, Interact.OptionDict(DataStructures.OrderedDict{Any,Any}(\"0.0\"=>0.0,\"0.5\"=>0.5,\"1.0\"=>1.0,\"1.5\"=>1.5,\"2.0\"=>2.0,\"2.5\"=>2.5,\"3.0\"=>3.0,\"3.5\"=>3.5,\"4.0\"=>4.0,\"4.5\"=>4.5…), Dict{Any,Any}(Pair{Any,Any}(5.5, \"5.5\"),Pair{Any,Any}(6.5, \"6.5\"),Pair{Any,Any}(2.0, \"2.0\"),Pair{Any,Any}(1.5, \"1.5\"),Pair{Any,Any}(10.5, \"10.5\"),Pair{Any,Any}(4.5, \"4.5\"),Pair{Any,Any}(11.0, \"11.0\"),Pair{Any,Any}(0.0, \"0.0\"),Pair{Any,Any}(7.0, \"7.0\"),Pair{Any,Any}(8.5, \"8.5\")…)), Any[], Any[], true, \"horizontal\")"
      ]
     },
     "metadata": {},
     "output_type": "display_data"
    },
    {
     "data": {
      "image/png": "[encoded data removed]",
      "text/plain": [
       "PyPlot.Figure(PyObject <matplotlib.figure.Figure object at 0x135be33d0>)"
      ]
     },
     "execution_count": 6,
     "metadata": {
      "comm_id": "6fcd796b-22b0-43a0-85eb-8444b935f798",
      "reactive": true
     },
     "output_type": "execute_result"
    }
   ],
   "source": [
    "# Execute the code below\n",
    "f=figure()\n",
    "x=-3:7:20\n",
    "@manipulate for p=0:.5:14,q=0:.5:14; withfig(f) do\n",
    "        plot(x,p-x)\n",
    "        plot(x,(q+x)/3)\n",
    "        plot((3*p-q)/4,  (p+q)/4, \"o\")\n",
    "        title(\"p=$p q=$q\")\n",
    "   end\n",
    "end"
   ]
  },
  {
   "cell_type": "markdown",
   "metadata": {},
   "source": [
    "## Problem 6  (GS problem 11 on p. 54)\n",
    "\n",
    "A system of linear equations can't have exactly two solutions. Why?\n",
    "\n",
    "(a) If (x,y,z) and (X,Y,Z) are two solutions, what is another solution?\n",
    "\n",
    "(b) If 25 planes meet at two points, where else do they meet?"
   ]
  },
  {
   "cell_type": "markdown",
   "metadata": {},
   "source": [
    "<br><br><br><br><br><br><br><br><br><br><br><br><br>"
   ]
  },
  {
   "cell_type": "markdown",
   "metadata": {},
   "source": [
    "## Problem 7 (GS Problem 18 on p. 55)"
   ]
  },
  {
   "cell_type": "markdown",
   "metadata": {},
   "source": [
    "Construct a 3 by 3 example that has 9 different coefficients on the left side, but rows 2 and 3 become zero in elimination.  How many solutions to your system with b=(1,10,100) and how many with b=(0,0,0)?\n",
    "<br><br><br><br><br><br><br><br><br><br><br><br><br>"
   ]
  },
  {
   "cell_type": "markdown",
   "metadata": {},
   "source": [
    "## Problem 8 (GS Problem 27 on p. 56)\n",
    "\n",
    "Elimination in the usual order gives what matrix U and what\n",
    "solution to this \"lower triangular\" system? We are really solving by\n",
    "*forward* substitution:\n",
    "\n",
    "$$\\begin{matrix}\n",
    "3x &  &   &   &   & = & 3 \\\\\n",
    "6x & + & 2y &   &   & = & 8 \\\\\n",
    "9x & - & 2y & + & z & = & 9\n",
    "\\end{matrix}\n",
    "$$"
   ]
  },
  {
   "cell_type": "markdown",
   "metadata": {},
   "source": [
    "Unformatted in case the above does not work:\n",
    "\n",
    "3x=3 <br>\n",
    "6x+2y=8 <br>\n",
    "9x-2y+z=9"
   ]
  },
  {
   "cell_type": "markdown",
   "metadata": {},
   "source": [
    "<br><br><br><br><br><br><br><br><br><br><br><br><br>"
   ]
  },
  {
   "cell_type": "markdown",
   "metadata": {},
   "source": [
    "## Problem 9 (GS Problem 1 on p. 66)\n",
    "\n",
    "Write down the 3x3 matrices that produce these elimination steps:\n",
    "\n",
    "(a) $E_{21}$ subtracts 5 times row 1 from row 2\n",
    "\n",
    "(b) $E_{32}$ subtracts -7 times row 2 from row 3\n",
    "\n",
    "(c) $P$ exchanges rows 1 and 2, then rows 2 and 3."
   ]
  },
  {
   "cell_type": "markdown",
   "metadata": {},
   "source": [
    "<br><br><br><br><br><br><br><br><br><br><br><br><br>"
   ]
  },
  {
   "cell_type": "markdown",
   "metadata": {},
   "source": [
    "## Problem 10: (GS Problem 35 on p. 45)\n",
    "\n",
    "A 9x9 **Sudoku** matrix $S$ has the numbers 1,...,9 in every row and every column, and in every 3x3 block.  For the all=ones vector $x=(1,\\ldots,1)$, what is $Sx$?\n",
    "\n",
    "A better question is: **Which row exchanges will produce another Sudoku matrix?** Also, which exchanges of block rows give another Sudoku matrix?"
   ]
  },
  {
   "cell_type": "code",
   "execution_count": null,
   "metadata": {
    "collapsed": true
   },
   "outputs": [],
   "source": []
  },
  {
   "cell_type": "code",
   "execution_count": null,
   "metadata": {
    "collapsed": true
   },
   "outputs": [],
   "source": []
  },
  {
   "cell_type": "code",
   "execution_count": null,
   "metadata": {
    "collapsed": true
   },
   "outputs": [],
   "source": []
  }
 ],
 "metadata": {
  "kernelspec": {
   "display_name": "Julia 0.6.0",
   "language": "julia",
   "name": "julia-0.6"
  },
  "language_info": {
   "file_extension": ".jl",
   "mimetype": "application/julia",
   "name": "julia",
   "version": "0.6.0"
  }
 },
 "nbformat": 4,
 "nbformat_minor": 2
}
