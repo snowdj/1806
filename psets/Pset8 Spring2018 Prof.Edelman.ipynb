{
 "cells": [
  {
   "cell_type": "markdown",
   "metadata": {},
   "source": [
    "1) Use eigenvalues to compute a formula for\n",
    "    \n",
    "$A= \\begin{pmatrix}2 & 1 \\\\ 1 & 2 \\end{pmatrix}^k \\hspace{.3in}$ "
   ]
  },
  {
   "cell_type": "markdown",
   "metadata": {},
   "source": [
    "2) The Tribonacci numbers are defined in analogy to the Fibonacci numbers:<br>\n",
    "$T_1=T_2=0$,  $\\ T_3=1$, <br> $T_n=T_{n-1}+T_{n-2}+T_{n-3}$ (for $n>3$)"
   ]
  },
  {
   "cell_type": "code",
   "execution_count": 45,
   "metadata": {},
   "outputs": [
    {
     "data": {
      "text/plain": [
       "1×15 RowVector{Int64,Array{Int64,1}}:\n",
       " 0  0  1  1  2  4  7  13  24  44  81  149  274  504  927"
      ]
     },
     "execution_count": 45,
     "metadata": {},
     "output_type": "execute_result"
    }
   ],
   "source": [
    "# Inefficient but straightforward computation\n",
    "T(n) = n>3 ? T(n-1)+T(n-2)+T(n-3) : n==3 ? 1 : 0\n",
    "[T(n) for n=1:15]'"
   ]
  },
  {
   "cell_type": "markdown",
   "metadata": {},
   "source": [
    "Let $u_k = \\begin{pmatrix} T_{k+2} \\\\ T_{k+1} \\\\ T_k \\end{pmatrix}$.\n",
    "Find a matrix A that relates $u_{k+1}$ to $u_k$"
   ]
  },
  {
   "cell_type": "code",
   "execution_count": null,
   "metadata": {},
   "outputs": [],
   "source": [
    "M = [ 1 2 3; 4 5 6; 7 8 9] # Template for a 3x3 matrix\n",
    "A =                        # Write the correct numbers"
   ]
  },
  {
   "cell_type": "markdown",
   "metadata": {},
   "source": [
    "Verify numerically that the largest eigenvalue of $A$ is "
   ]
  },
  {
   "cell_type": "code",
   "execution_count": 114,
   "metadata": {},
   "outputs": [
    {
     "data": {
      "text/plain": [
       "1.8392867552141612"
      ]
     },
     "execution_count": 114,
     "metadata": {},
     "output_type": "execute_result"
    }
   ],
   "source": [
    "ϕ = (1+∛(19+3*√33)+∛(19-3*√33))/3"
   ]
  },
  {
   "cell_type": "markdown",
   "metadata": {},
   "source": [
    "and the other two eigenvalues have absolute value less than 1."
   ]
  },
  {
   "cell_type": "code",
   "execution_count": 82,
   "metadata": {},
   "outputs": [
    {
     "data": {
      "text/plain": [
       "3-element Array{Float64,1}:\n",
       " 1.83929 \n",
       " 0.737353\n",
       " 0.737353"
      ]
     },
     "execution_count": 82,
     "metadata": {},
     "output_type": "execute_result"
    }
   ],
   "source": [
    "abs.(eigvals(A))"
   ]
  },
  {
   "cell_type": "markdown",
   "metadata": {},
   "source": [
    "Explain why T(31)/T(30) should be about ϕ"
   ]
  },
  {
   "cell_type": "code",
   "execution_count": 3,
   "metadata": {},
   "outputs": [
    {
     "data": {
      "text/plain": [
       "1.839286755221798"
      ]
     },
     "execution_count": 3,
     "metadata": {},
     "output_type": "execute_result"
    }
   ],
   "source": [
    "T(31)/T(30)"
   ]
  },
  {
   "cell_type": "markdown",
   "metadata": {},
   "source": [
    "Using Julia, expand u₁ in an eigenvector basis obtaining the coefficients c. <br>\n",
    "(Two of which are complex, and one may have roundoff as an imaginary part.)"
   ]
  },
  {
   "cell_type": "code",
   "execution_count": 102,
   "metadata": {},
   "outputs": [
    {
     "data": {
      "text/plain": [
       "3-element Array{Complex{Float64},1}:\n",
       " -0.727262+2.44804e-17im\n",
       " -0.123959+0.46185im    \n",
       " -0.123959-0.46185im    "
      ]
     },
     "execution_count": 102,
     "metadata": {},
     "output_type": "execute_result"
    }
   ],
   "source": [
    "Λ,X = eig(A) # Λ is a vector of eigenvalues in Julia for efficiency\n",
    "c = X\\[1,0,0]"
   ]
  },
  {
   "cell_type": "code",
   "execution_count": 103,
   "metadata": {},
   "outputs": [
    {
     "data": {
      "text/plain": [
       "(5767.998305699344, 5768)"
      ]
     },
     "execution_count": 103,
     "metadata": {},
     "output_type": "execute_result"
    }
   ],
   "source": [
    "real(c[1]*X[1,1]*ϕ^15),T(18)"
   ]
  },
  {
   "cell_type": "markdown",
   "metadata": {},
   "source": [
    "A student wishes to approximate the 18th Tribonacci number. <br>\n",
    "Explain why the above expression is correct, including the role played by c[1], X[1,1], 15, and 18.  "
   ]
  },
  {
   "cell_type": "code",
   "execution_count": 108,
   "metadata": {},
   "outputs": [
    {
     "data": {
      "text/plain": [
       "0.0016943006557994522"
      ]
     },
     "execution_count": 108,
     "metadata": {},
     "output_type": "execute_result"
    }
   ],
   "source": [
    "T(18) - real(c[1]*X[1,1]*ϕ^15)"
   ]
  },
  {
   "cell_type": "code",
   "execution_count": 107,
   "metadata": {},
   "outputs": [
    {
     "data": {
      "text/plain": [
       "0.0016943006593527162"
      ]
     },
     "execution_count": 107,
     "metadata": {},
     "output_type": "execute_result"
    }
   ],
   "source": [
    "2 * real(c[2]*X[1,2]*Λ[2]^15 ) "
   ]
  },
  {
   "cell_type": "markdown",
   "metadata": {},
   "source": [
    "The above formula is the exact error to the student's approximation. Explain."
   ]
  },
  {
   "cell_type": "markdown",
   "metadata": {},
   "source": [
    "3) For a square nxn matrix A, one variation of the singular value decomposition has  $A=U\\Sigma V^T$, with all matrices square nxn,\n",
    "and $\\Sigma$ is diagonal with $\\sigma_1 \\ge \\sigma_2 \\ge ... \\ge \\sigma_n \\ge 0.$  (The number of 0 singular values is n-r.) <br>\n",
    "\n",
    "What is the relationship between the product of the eigenvalues and the product of these n singular values of $A$?"
   ]
  },
  {
   "cell_type": "markdown",
   "metadata": {},
   "source": [
    "4) If a matrix has eigenvalue 1, must it have singular value 1?  If a matrix has eigenvalue 0, must it have singular value 0? "
   ]
  },
  {
   "cell_type": "markdown",
   "metadata": {},
   "source": [
    "5) Supose rank(A) = n-1 and x is an eigenvector with eigenvalue 0.  How might the information in x find itself inside the SVD? "
   ]
  },
  {
   "cell_type": "markdown",
   "metadata": {},
   "source": [
    "6) Construct for every n=2,3,...  a non-zero matrix A that has all eigenvalues 0, but has (n-1) singular values 1. Is A diagonalizible?"
   ]
  },
  {
   "cell_type": "markdown",
   "metadata": {},
   "source": [
    "7) Write an expression for $A^TA$ in terms of the svd of A.  Use this to relate the singular values of $A$ to the eigenvalues of $A^TA$. Do the same for $AA^T$.  "
   ]
  },
  {
   "cell_type": "code",
   "execution_count": null,
   "metadata": {
    "collapsed": true
   },
   "outputs": [],
   "source": [
    " Aᵏu₀"
   ]
  }
 ],
 "metadata": {
  "kernelspec": {
   "display_name": "Julia 0.6.0",
   "language": "julia",
   "name": "julia-0.6"
  },
  "language_info": {
   "file_extension": ".jl",
   "mimetype": "application/julia",
   "name": "julia",
   "version": "0.6.0"
  }
 },
 "nbformat": 4,
 "nbformat_minor": 2
}
